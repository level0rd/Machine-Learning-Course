{
 "cells": [
  {
   "cell_type": "code",
   "execution_count": 1,
   "metadata": {},
   "outputs": [
    {
     "name": "stderr",
     "output_type": "stream",
     "text": [
      "Using TensorFlow backend.\n"
     ]
    }
   ],
   "source": [
    "from tensorflow.keras import models\n",
    "from tensorflow.keras.models import Model\n",
    "from tensorflow.keras import layers\n",
    "from tensorflow.keras.layers import Input, Flatten, Reshape\n",
    "from tensorflow.keras import utils\n",
    "from tensorflow.keras.utils import to_categorical\n",
    "from tensorflow.keras.utils import plot_model\n",
    "from tensorflow.keras.datasets import mnist\n",
    "import matplotlib.pyplot as plt\n",
    "from keras.utils import np_utils\n",
    "import numpy as np\n",
    "\n",
    "(x_train,y_train),(x_test,y_test)=mnist.load_data()\n",
    "\n",
    "x_train=x_train.reshape(len(x_train),28,28,1)\n",
    "x_train=x_train.astype('float32')\n",
    "x_train/=255\n",
    "x_train=np.array(x_train)\n",
    "\n",
    "x_test=x_test.reshape(len(x_test),28,28,1)\n",
    "x_test=x_test.astype('float32')\n",
    "x_test/=255\n",
    "x_test=np.array(x_test)\n"
   ]
  },
  {
   "cell_type": "code",
   "execution_count": 2,
   "metadata": {},
   "outputs": [],
   "source": [
    "def create_dense_ae():\n",
    "    input_img=Input(shape=(28,28,1))\n",
    "    flat_img = Flatten()(input_img)\n",
    "    encoding_dim=49\n",
    "    encoded=layers.Dense(encoding_dim,activation='relu')(flat_img)\n",
    "    input_encoded=Input(shape=(encoding_dim,))\n",
    "    flat_decoded=layers.Dense(28*28,activation='sigmoid')(input_encoded)\n",
    "    decoded=Reshape((28,28,1))(flat_decoded)\n",
    "    encoder= Model(input_img,encoded,name=\"encoder\")\n",
    "    decoder= Model(input_encoded,decoded,name=\"decoder\")\n",
    "    autoencoder=Model(input_img,decoder(encoder(input_img)))\n",
    "    return encoder, decoder, autoencoder"
   ]
  },
  {
   "cell_type": "code",
   "execution_count": 3,
   "metadata": {},
   "outputs": [
    {
     "name": "stdout",
     "output_type": "stream",
     "text": [
      "Model: \"model\"\n",
      "_________________________________________________________________\n",
      "Layer (type)                 Output Shape              Param #   \n",
      "=================================================================\n",
      "input_1 (InputLayer)         [(None, 28, 28, 1)]       0         \n",
      "_________________________________________________________________\n",
      "encoder (Model)              (None, 49)                38465     \n",
      "_________________________________________________________________\n",
      "decoder (Model)              (None, 28, 28, 1)         39200     \n",
      "=================================================================\n",
      "Total params: 77,665\n",
      "Trainable params: 77,665\n",
      "Non-trainable params: 0\n",
      "_________________________________________________________________\n",
      "None\n"
     ]
    }
   ],
   "source": [
    "e,d,a=create_dense_ae()\n",
    "a.compile(optimizer='adam',loss='binary_crossentropy')\n",
    "\n",
    "print(a.summary())"
   ]
  },
  {
   "cell_type": "code",
   "execution_count": 4,
   "metadata": {},
   "outputs": [
    {
     "name": "stdout",
     "output_type": "stream",
     "text": [
      "Train on 60000 samples, validate on 10000 samples\n",
      "Epoch 1/20\n",
      "60000/60000 [==============================] - 3s 56us/sample - loss: 0.2082 - val_loss: 0.1414\n",
      "Epoch 2/20\n",
      "60000/60000 [==============================] - 3s 54us/sample - loss: 0.1251 - val_loss: 0.1102\n",
      "Epoch 3/20\n",
      "60000/60000 [==============================] - 3s 56us/sample - loss: 0.1036 - val_loss: 0.0956\n",
      "Epoch 4/20\n",
      "60000/60000 [==============================] - 4s 61us/sample - loss: 0.0925 - val_loss: 0.0879\n",
      "Epoch 5/20\n",
      "60000/60000 [==============================] - 4s 62us/sample - loss: 0.0865 - val_loss: 0.0836\n",
      "Epoch 6/20\n",
      "60000/60000 [==============================] - 3s 57us/sample - loss: 0.0833 - val_loss: 0.0814\n",
      "Epoch 7/20\n",
      "60000/60000 [==============================] - 4s 59us/sample - loss: 0.0817 - val_loss: 0.0802\n",
      "Epoch 8/20\n",
      "60000/60000 [==============================] - 3s 58us/sample - loss: 0.0809 - val_loss: 0.0797\n",
      "Epoch 9/20\n",
      "60000/60000 [==============================] - 3s 55us/sample - loss: 0.0803 - val_loss: 0.0793\n",
      "Epoch 10/20\n",
      "60000/60000 [==============================] - 4s 60us/sample - loss: 0.0800 - val_loss: 0.0790\n",
      "Epoch 11/20\n",
      "60000/60000 [==============================] - 4s 66us/sample - loss: 0.0798 - val_loss: 0.0787\n",
      "Epoch 12/20\n",
      "60000/60000 [==============================] - 4s 61us/sample - loss: 0.0796 - val_loss: 0.0786\n",
      "Epoch 13/20\n",
      "60000/60000 [==============================] - 3s 58us/sample - loss: 0.0795 - val_loss: 0.0785\n",
      "Epoch 14/20\n",
      "60000/60000 [==============================] - 4s 60us/sample - loss: 0.0793 - val_loss: 0.0785\n",
      "Epoch 15/20\n",
      "60000/60000 [==============================] - 3s 51us/sample - loss: 0.0792 - val_loss: 0.0783\n",
      "Epoch 16/20\n",
      "60000/60000 [==============================] - 3s 56us/sample - loss: 0.0792 - val_loss: 0.0783\n",
      "Epoch 17/20\n",
      "60000/60000 [==============================] - 4s 60us/sample - loss: 0.0791 - val_loss: 0.0782\n",
      "Epoch 18/20\n",
      "60000/60000 [==============================] - 3s 56us/sample - loss: 0.0790 - val_loss: 0.0782\n",
      "Epoch 19/20\n",
      "60000/60000 [==============================] - 4s 58us/sample - loss: 0.0790 - val_loss: 0.0782\n",
      "Epoch 20/20\n",
      "60000/60000 [==============================] - 4s 61us/sample - loss: 0.0789 - val_loss: 0.0782\n"
     ]
    }
   ],
   "source": [
    "history = a.fit(x_train, x_train,batch_size=128, epochs=20,shuffle=True,validation_data=(x_test, x_test))"
   ]
  },
  {
   "cell_type": "code",
   "execution_count": 5,
   "metadata": {},
   "outputs": [],
   "source": [
    "imgs=x_test[:10]\n",
    "enc_img=e.predict(imgs,batch_size=10)\n",
    "enc_img[0]\n",
    "dec_img=d.predict(enc_img,batch_size=10)"
   ]
  },
  {
   "cell_type": "code",
   "execution_count": 8,
   "metadata": {},
   "outputs": [
    {
     "data": {
      "image/png": "[encoded data removed]",
      "text/plain": [
       "<Figure size 432x288 with 10 Axes>"
      ]
     },
     "metadata": {
      "needs_background": "light"
     },
     "output_type": "display_data"
    }
   ],
   "source": [
    "from tensorflow.keras.datasets import mnist\n",
    "import matplotlib.pyplot as plt\n",
    "from keras.utils import np_utils\n",
    "(x_train,y_train),(x_test,y_test)=mnist.load_data()\n",
    "\n",
    "import numpy as np\n",
    "import pandas as pd\n",
    "import matplotlib.pyplot as plt\n",
    "\n",
    "\n",
    "fig = plt.figure()\n",
    "\n",
    "for i in range(10):\n",
    "    num=i+1    \n",
    "    ax = fig.add_subplot(2,5,num)\n",
    "    ax.imshow(x_test[i], cmap=plt.get_cmap('gray'))\n",
    "    ax.set_title(i)\n",
    "\n",
    "plt.tight_layout()\n",
    "plt.show()"
   ]
  },
  {
   "cell_type": "code",
   "execution_count": 7,
   "metadata": {},
   "outputs": [
    {
     "data": {
      "image/png": "[encoded data removed]",
      "text/plain": [
       "<Figure size 432x288 with 10 Axes>"
      ]
     },
     "metadata": {
      "needs_background": "light"
     },
     "output_type": "display_data"
    }
   ],
   "source": [
    "from tensorflow.keras.datasets import mnist\n",
    "import matplotlib.pyplot as plt\n",
    "from keras.utils import np_utils\n",
    "(x_train,y_train),(x_test,y_test)=mnist.load_data()\n",
    "\n",
    "import numpy as np\n",
    "import pandas as pd\n",
    "import matplotlib.pyplot as plt\n",
    "\n",
    "\n",
    "fig = plt.figure()\n",
    "\n",
    "for i in range(10):\n",
    "    num=i+1    \n",
    "    ax = fig.add_subplot(2,5,num)\n",
    "    ax.imshow(dec_img[i].reshape(28,28), cmap=plt.get_cmap('gray'))\n",
    "    ax.set_title(i)\n",
    "\n",
    "plt.tight_layout()\n",
    "plt.show()"
   ]
  },
  {
   "cell_type": "code",
   "execution_count": null,
   "metadata": {},
   "outputs": [],
   "source": []
  },
  {
   "cell_type": "code",
   "execution_count": null,
   "metadata": {},
   "outputs": [],
   "source": []
  },
  {
   "cell_type": "code",
   "execution_count": null,
   "metadata": {},
   "outputs": [],
   "source": []
  },
  {
   "cell_type": "code",
   "execution_count": null,
   "metadata": {},
   "outputs": [],
   "source": []
  },
  {
   "cell_type": "markdown",
   "metadata": {},
   "source": [
    "#### Отчет по теме: \"Изучение работы сверточных нейронных сетей на основе MNIST \""
   ]
  },
  {
   "cell_type": "code",
   "execution_count": 9,
   "metadata": {},
   "outputs": [],
   "source": [
    "from tensorflow.keras import models\n",
    "from tensorflow.keras.models import Model\n",
    "from tensorflow.keras import layers\n",
    "from tensorflow.keras.layers import Input, Flatten, Reshape\n",
    "from tensorflow.keras import utils\n",
    "from tensorflow.keras.utils import to_categorical\n",
    "from tensorflow.keras.utils import plot_model\n",
    "from tensorflow.keras.datasets import mnist\n",
    "import matplotlib.pyplot as plt\n",
    "from keras.utils import np_utils\n",
    "import numpy as np\n",
    "\n",
    "(x_train,y_train),(x_test,y_test)=mnist.load_data()\n",
    "\n",
    "x_train=x_train.reshape(len(x_train),28,28,1)\n",
    "x_train=x_train.astype('float32')\n",
    "x_train/=255\n",
    "x_train=np.array(x_train)\n",
    "\n",
    "x_test=x_test.reshape(len(x_test),28,28,1)\n",
    "x_test=x_test.astype('float32')\n",
    "x_test/=255\n",
    "x_test=np.array(x_test)\n"
   ]
  },
  {
   "cell_type": "markdown",
   "metadata": {},
   "source": [
    "##### Создаем функцию глубого автоэнкодера"
   ]
  },
  {
   "cell_type": "code",
   "execution_count": 12,
   "metadata": {},
   "outputs": [],
   "source": [
    "def deep_aenc():\n",
    "    input_img = Input(shape = (28,28,1)) # Глубина цвета 1\n",
    "    flat_img = Flatten()(input_img)\n",
    "    dim = 49\n",
    "    x = layers.Dense(dim*3, activation = 'relu')(flat_img)\n",
    "    x = layers.Dense(dim*2, activation = 'relu')(x)\n",
    "    encoded = layers.Dense(dim, activation = 'linear')(x)\n",
    "    input_enc=Input(shape=(dim,))\n",
    "    x = layers.Dense(dim*2, )(input_enc)\n",
    "    x = layers.Dense(dim*3, )(x)\n",
    "    flat_dec=layers.Dense(28*28,activation=\"sigmoid\")(x)\n",
    "    decoded=Reshape((28,28,1))(flat_dec)\n",
    "    encoder= Model(input_img,encoded,name=\"encoder\")\n",
    "    decoder= Model(input_enc,decoded,name=\"decoder\")\n",
    "    autoencoder=Model(input_img,decoder(encoder(input_img)))\n",
    "    return encoder, decoder, autoencoder"
   ]
  },
  {
   "cell_type": "code",
   "execution_count": 11,
   "metadata": {},
   "outputs": [
    {
     "name": "stdout",
     "output_type": "stream",
     "text": [
      "Model: \"model_1\"\n",
      "_________________________________________________________________\n",
      "Layer (type)                 Output Shape              Param #   \n",
      "=================================================================\n",
      "input_3 (InputLayer)         [(None, 28, 28, 1)]       0         \n",
      "_________________________________________________________________\n",
      "encoder (Model)              (None, 49)                134750    \n",
      "_________________________________________________________________\n",
      "decoder (Model)              (None, 28, 28, 1)         135485    \n",
      "=================================================================\n",
      "Total params: 270,235\n",
      "Trainable params: 270,235\n",
      "Non-trainable params: 0\n",
      "_________________________________________________________________\n",
      "None\n"
     ]
    }
   ],
   "source": [
    "e,d,a=deep_aenc()\n",
    "a.compile(optimizer='adam',loss='binary_crossentropy')\n",
    "\n",
    "print(a.summary())"
   ]
  },
  {
   "cell_type": "code",
   "execution_count": 13,
   "metadata": {},
   "outputs": [
    {
     "name": "stdout",
     "output_type": "stream",
     "text": [
      "Train on 60000 samples, validate on 10000 samples\n",
      "Epoch 1/10\n",
      "60000/60000 [==============================] - 6s 98us/sample - loss: 0.1680 - val_loss: 0.1176\n",
      "Epoch 2/10\n",
      "60000/60000 [==============================] - 5s 76us/sample - loss: 0.1097 - val_loss: 0.1008\n",
      "Epoch 3/10\n",
      "60000/60000 [==============================] - 5s 82us/sample - loss: 0.0978 - val_loss: 0.0933\n",
      "Epoch 4/10\n",
      "60000/60000 [==============================] - 4s 73us/sample - loss: 0.0924 - val_loss: 0.0891\n",
      "Epoch 5/10\n",
      "60000/60000 [==============================] - 5s 81us/sample - loss: 0.0888 - val_loss: 0.0864\n",
      "Epoch 6/10\n",
      "60000/60000 [==============================] - 5s 78us/sample - loss: 0.0863 - val_loss: 0.0843\n",
      "Epoch 7/10\n",
      "60000/60000 [==============================] - 5s 85us/sample - loss: 0.0844 - val_loss: 0.0827\n",
      "Epoch 8/10\n",
      "60000/60000 [==============================] - 5s 78us/sample - loss: 0.0829 - val_loss: 0.0815\n",
      "Epoch 9/10\n",
      "60000/60000 [==============================] - 5s 85us/sample - loss: 0.0817 - val_loss: 0.0801\n",
      "Epoch 10/10\n",
      "60000/60000 [==============================] - 5s 84us/sample - loss: 0.0806 - val_loss: 0.0795\n"
     ]
    }
   ],
   "source": [
    "history = a.fit(x_train, x_train,batch_size=128, epochs=10,shuffle=True,validation_data=(x_test, x_test))"
   ]
  },
  {
   "cell_type": "code",
   "execution_count": 14,
   "metadata": {},
   "outputs": [],
   "source": [
    "imgs=x_test[:10]\n",
    "enc_img=e.predict(imgs,batch_size=10)\n",
    "enc_img[0]\n",
    "dec_img=d.predict(enc_img,batch_size=10)"
   ]
  },
  {
   "cell_type": "markdown",
   "metadata": {},
   "source": [
    "##### Выводим изображения до и после прохождения массива изображений через сверточную нейросеть"
   ]
  },
  {
   "cell_type": "code",
   "execution_count": 15,
   "metadata": {},
   "outputs": [
    {
     "data": {
      "image/png": "[encoded data removed]",
      "text/plain": [
       "<Figure size 432x288 with 10 Axes>"
      ]
     },
     "metadata": {
      "needs_background": "light"
     },
     "output_type": "display_data"
    }
   ],
   "source": [
    "import numpy as np\n",
    "import pandas as pd\n",
    "import matplotlib.pyplot as plt\n",
    "\n",
    "\n",
    "fig = plt.figure()\n",
    "\n",
    "for i in range(10):\n",
    "    num=i+1    \n",
    "    ax = fig.add_subplot(2,5,num)\n",
    "    ax.imshow(dec_img[i].reshape(28,28), cmap=plt.get_cmap('gray'))\n",
    "    ax.set_title(i)\n",
    "\n",
    "plt.tight_layout()\n",
    "plt.show()"
   ]
  },
  {
   "cell_type": "code",
   "execution_count": 16,
   "metadata": {},
   "outputs": [
    {
     "data": {
      "image/png": "[encoded data removed]",
      "text/plain": [
       "<Figure size 432x288 with 10 Axes>"
      ]
     },
     "metadata": {
      "needs_background": "light"
     },
     "output_type": "display_data"
    }
   ],
   "source": [
    "from tensorflow.keras.datasets import mnist\n",
    "import matplotlib.pyplot as plt\n",
    "from keras.utils import np_utils\n",
    "(x_train,y_train),(x_test,y_test)=mnist.load_data()\n",
    "\n",
    "import numpy as np\n",
    "import pandas as pd\n",
    "import matplotlib.pyplot as plt\n",
    "\n",
    "\n",
    "fig = plt.figure()\n",
    "\n",
    "for i in range(10):\n",
    "    num=i+1    \n",
    "    ax = fig.add_subplot(2,5,num)\n",
    "    ax.imshow(x_test[i], cmap=plt.get_cmap('gray'))\n",
    "    ax.set_title(i)\n",
    "\n",
    "plt.tight_layout()\n",
    "plt.show()"
   ]
  },
  {
   "cell_type": "code",
   "execution_count": null,
   "metadata": {},
   "outputs": [],
   "source": []
  },
  {
   "cell_type": "code",
   "execution_count": null,
   "metadata": {},
   "outputs": [],
   "source": []
  },
  {
   "cell_type": "code",
   "execution_count": null,
   "metadata": {},
   "outputs": [],
   "source": []
  },
  {
   "cell_type": "code",
   "execution_count": null,
   "metadata": {},
   "outputs": [],
   "source": []
  },
  {
   "cell_type": "markdown",
   "metadata": {},
   "source": [
    "##### Создаем функции по зашумлению и очистке изображений"
   ]
  },
  {
   "cell_type": "code",
   "execution_count": 17,
   "metadata": {},
   "outputs": [],
   "source": [
    "import tensorflow.keras.backend as k\n",
    "\n",
    "def noise_f(x):\n",
    "    noise = 0.5\n",
    "    x= x+k.random_normal(x.get_shape(),0.5,noise)\n",
    "    x=k.clip(x,0.,1.)\n",
    "    return x\n",
    "\n",
    "from tensorflow.keras.layers import Lambda\n",
    "def noise_dec(deep_aenc):\n",
    "    input_img = Input(batch_shape=(16,28,28,1))\n",
    "    noise_img = Lambda(noise_f)(input_img)\n",
    "    noises = Model(input_img ,noise_img, name=\"noise\")\n",
    "    denoises = Model(input_img, deep_aenc(noises(input_img)) )\n",
    "    return noises,denoises\n",
    "\n",
    "no,deno = noise_dec(a)"
   ]
  },
  {
   "cell_type": "code",
   "execution_count": 18,
   "metadata": {},
   "outputs": [
    {
     "name": "stdout",
     "output_type": "stream",
     "text": [
      "Model: \"model_2\"\n",
      "_________________________________________________________________\n",
      "Layer (type)                 Output Shape              Param #   \n",
      "=================================================================\n",
      "input_5 (InputLayer)         [(16, 28, 28, 1)]         0         \n",
      "_________________________________________________________________\n",
      "noise (Model)                (16, 28, 28, 1)           0         \n",
      "_________________________________________________________________\n",
      "model_1 (Model)              multiple                  270235    \n",
      "=================================================================\n",
      "Total params: 270,235\n",
      "Trainable params: 270,235\n",
      "Non-trainable params: 0\n",
      "_________________________________________________________________\n",
      "None\n"
     ]
    }
   ],
   "source": [
    "deno.compile(optimizer='adam',loss='binary_crossentropy')\n",
    "\n",
    "print(deno.summary())"
   ]
  },
  {
   "cell_type": "code",
   "execution_count": 24,
   "metadata": {},
   "outputs": [
    {
     "name": "stdout",
     "output_type": "stream",
     "text": [
      "Train on 60000 samples, validate on 10000 samples\n",
      "Epoch 1/10\n",
      "60000/60000 [==============================] - 19s 311us/sample - loss: 0.1255 - val_loss: 0.1240\n",
      "Epoch 2/10\n",
      "60000/60000 [==============================] - 18s 299us/sample - loss: 0.1250 - val_loss: 0.1237\n",
      "Epoch 3/10\n",
      "60000/60000 [==============================] - 18s 292us/sample - loss: 0.1246 - val_loss: 0.1236\n",
      "Epoch 4/10\n",
      "60000/60000 [==============================] - 18s 299us/sample - loss: 0.1243 - val_loss: 0.1218\n",
      "Epoch 5/10\n",
      "60000/60000 [==============================] - 18s 296us/sample - loss: 0.1239 - val_loss: 0.1221\n",
      "Epoch 6/10\n",
      "60000/60000 [==============================] - 18s 305us/sample - loss: 0.1236 - val_loss: 0.1220\n",
      "Epoch 7/10\n",
      "60000/60000 [==============================] - 19s 313us/sample - loss: 0.1232 - val_loss: 0.1215\n",
      "Epoch 8/10\n",
      "60000/60000 [==============================] - 17s 291us/sample - loss: 0.1231 - val_loss: 0.1210\n",
      "Epoch 9/10\n",
      "60000/60000 [==============================] - 19s 317us/sample - loss: 0.1229 - val_loss: 0.1211\n",
      "Epoch 10/10\n",
      "60000/60000 [==============================] - 18s 300us/sample - loss: 0.1226 - val_loss: 0.1204\n"
     ]
    }
   ],
   "source": [
    "from tensorflow.keras import models\n",
    "from tensorflow.keras.models import Model\n",
    "from tensorflow.keras import layers\n",
    "from tensorflow.keras.layers import Input, Flatten, Reshape\n",
    "from tensorflow.keras import utils\n",
    "from tensorflow.keras.utils import to_categorical\n",
    "from tensorflow.keras.utils import plot_model\n",
    "from tensorflow.keras.datasets import mnist\n",
    "import matplotlib.pyplot as plt\n",
    "from keras.utils import np_utils\n",
    "import numpy as np\n",
    "\n",
    "(x_train,y_train),(x_test,y_test)=mnist.load_data()\n",
    "\n",
    "x_train=x_train.reshape(len(x_train),28,28,1)\n",
    "x_train=x_train.astype('float32')\n",
    "x_train/=255\n",
    "x_train=np.array(x_train)\n",
    "\n",
    "x_test=x_test.reshape(len(x_test),28,28,1)\n",
    "x_test=x_test.astype('float32')\n",
    "x_test/=255\n",
    "x_test=np.array(x_test)\n",
    "\n",
    "history = deno.fit(x_train, x_train,batch_size=16, epochs=10,shuffle=True,validation_data=(x_test, x_test))"
   ]
  },
  {
   "cell_type": "code",
   "execution_count": 25,
   "metadata": {},
   "outputs": [],
   "source": [
    "n = 10\n",
    "batch_size = 16\n",
    "imgs = x_test[:batch_size]\n",
    "noised_imgs = no.predict(imgs, batch_size=batch_size)\n",
    "encoded_imgs = e.predict(noised_imgs[:n], batch_size=n)\n",
    "decoded_imgs = d.predict(encoded_imgs[:n], batch_size=n)"
   ]
  },
  {
   "cell_type": "markdown",
   "metadata": {},
   "source": [
    "##### Создаем функцию по выводу получившихся изображений."
   ]
  },
  {
   "cell_type": "code",
   "execution_count": 31,
   "metadata": {},
   "outputs": [],
   "source": [
    "def plot_digits(*args):\n",
    "    args = [x.squeeze() for x in args]\n",
    "    n = min([x.shape[0] for x in args])\n",
    "\n",
    "    plt.figure(figsize=(2*n, 2*len(args)))\n",
    "    for j in range(n):\n",
    "        for i in range(len(args)):\n",
    "            ax = plt.subplot(len(args), n, i*n + j + 1)\n",
    "            plt.imshow(args[i][j])\n",
    "            plt.gray()\n",
    "            ax.get_xaxis().set_visible(False)\n",
    "            ax.get_yaxis().set_visible(False)\n",
    "    plt.show()        "
   ]
  },
  {
   "cell_type": "markdown",
   "metadata": {},
   "source": [
    "##### Выводим изображения  по типу: начальные, с шумом, очищенные от шума."
   ]
  },
  {
   "cell_type": "code",
   "execution_count": 32,
   "metadata": {},
   "outputs": [
    {
     "data": {
      "image/png": "[encoded data removed]",
      "text/plain": [
       "<Figure size 1440x432 with 30 Axes>"
      ]
     },
     "metadata": {
      "needs_background": "light"
     },
     "output_type": "display_data"
    }
   ],
   "source": [
    "plot_digits(imgs[:n], noised_imgs, decoded_imgs)"
   ]
  },
  {
   "cell_type": "code",
   "execution_count": null,
   "metadata": {},
   "outputs": [],
   "source": []
  }
 ],
 "metadata": {
  "kernelspec": {
   "display_name": "Python 3",
   "language": "python",
   "name": "python3"
  },
  "language_info": {
   "codemirror_mode": {
    "name": "ipython",
    "version": 3
   },
   "file_extension": ".py",
   "mimetype": "text/x-python",
   "name": "python",
   "nbconvert_exporter": "python",
   "pygments_lexer": "ipython3",
   "version": "3.6.8"
  }
 },
 "nbformat": 4,
 "nbformat_minor": 2
}
