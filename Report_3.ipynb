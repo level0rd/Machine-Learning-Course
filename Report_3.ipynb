{
 "cells": [
  {
   "cell_type": "markdown",
   "metadata": {},
   "source": [
    "#### Отчет по теме: \"Изучение работы нейронных сетей на основе MNIST со своим приером\"\n",
    "\n",
    "##### Вывод своих картинок из массива \"X_real\""
   ]
  },
  {
   "cell_type": "code",
   "execution_count": 4,
   "metadata": {},
   "outputs": [],
   "source": [
    "from tensorflow.keras import models\n",
    "from tensorflow.keras import layers\n",
    "from tensorflow.keras import utils\n",
    "from tensorflow.keras.utils import to_categorical\n",
    "from tensorflow.keras.utils import plot_model\n",
    "from tensorflow.keras.datasets import mnist\n",
    "import matplotlib.pyplot as plt\n",
    "from keras.utils import np_utils\n",
    "import numpy as np\n",
    "import glob\n",
    "import random\n",
    "from PIL import Image\n",
    "\n",
    "\n",
    "filelist = glob.glob('NumL/*.bmp')\n",
    "\n",
    "x_real = np.array([]).astype(np.ndarray)\n",
    "y_real = np.array([]).astype(np.ndarray)\n",
    "\n",
    "##\n",
    "x_real = np.array([np.asarray(Image.open(fname)) for fname in filelist])\n",
    "\n",
    "y_real = np.array([1,0,2,8,9,3,7,6,4,5])\n",
    "\n",
    "(x_train,y_train),(x_test,y_test)=mnist.load_data()\n",
    "\n"
   ]
  },
  {
   "cell_type": "markdown",
   "metadata": {},
   "source": [
    "##### Обучение нейросети на тренировочных данных из MNIST и собственныз тетсовых данных."
   ]
  },
  {
   "cell_type": "code",
   "execution_count": 2,
   "metadata": {},
   "outputs": [
    {
     "name": "stdout",
     "output_type": "stream",
     "text": [
      "Train on 10 samples, validate on 10000 samples\n",
      "Epoch 1/30\n",
      "10/10 [==============================] - 1s 72ms/sample - loss: 2.3028 - accuracy: 0.1000 - val_loss: 2.3564 - val_accuracy: 0.1077\n",
      "Epoch 2/30\n",
      "10/10 [==============================] - 0s 14ms/sample - loss: 2.3026 - accuracy: 0.1000 - val_loss: 2.3577 - val_accuracy: 0.1022\n",
      "Epoch 3/30\n",
      "10/10 [==============================] - 0s 15ms/sample - loss: 2.3024 - accuracy: 0.1000 - val_loss: 2.3595 - val_accuracy: 0.0974\n",
      "Epoch 4/30\n",
      "10/10 [==============================] - 0s 18ms/sample - loss: 2.3021 - accuracy: 0.1000 - val_loss: 2.3621 - val_accuracy: 0.0936\n",
      "Epoch 5/30\n",
      "10/10 [==============================] - 0s 17ms/sample - loss: 2.3019 - accuracy: 0.2000 - val_loss: 2.3657 - val_accuracy: 0.0900\n",
      "Epoch 6/30\n",
      "10/10 [==============================] - 0s 15ms/sample - loss: 2.3017 - accuracy: 0.1000 - val_loss: 2.3703 - val_accuracy: 0.0874\n",
      "Epoch 7/30\n",
      "10/10 [==============================] - 0s 15ms/sample - loss: 2.3015 - accuracy: 0.1000 - val_loss: 2.3757 - val_accuracy: 0.0838\n",
      "Epoch 8/30\n",
      "10/10 [==============================] - 0s 16ms/sample - loss: 2.3012 - accuracy: 0.2000 - val_loss: 2.3817 - val_accuracy: 0.0808\n",
      "Epoch 9/30\n",
      "10/10 [==============================] - 0s 15ms/sample - loss: 2.3010 - accuracy: 0.3000 - val_loss: 2.3881 - val_accuracy: 0.0769\n",
      "Epoch 10/30\n",
      "10/10 [==============================] - 0s 17ms/sample - loss: 2.3008 - accuracy: 0.3000 - val_loss: 2.3948 - val_accuracy: 0.0739\n",
      "Epoch 11/30\n",
      "10/10 [==============================] - 0s 15ms/sample - loss: 2.3006 - accuracy: 0.3000 - val_loss: 2.4016 - val_accuracy: 0.0722\n",
      "Epoch 12/30\n",
      "10/10 [==============================] - 0s 14ms/sample - loss: 2.3003 - accuracy: 0.3000 - val_loss: 2.4084 - val_accuracy: 0.0713\n",
      "Epoch 13/30\n",
      "10/10 [==============================] - 0s 15ms/sample - loss: 2.3001 - accuracy: 0.6000 - val_loss: 2.4150 - val_accuracy: 0.0692\n",
      "Epoch 14/30\n",
      "10/10 [==============================] - 0s 15ms/sample - loss: 2.2999 - accuracy: 0.6000 - val_loss: 2.4214 - val_accuracy: 0.0670\n",
      "Epoch 15/30\n",
      "10/10 [==============================] - 0s 15ms/sample - loss: 2.2997 - accuracy: 0.6000 - val_loss: 2.4275 - val_accuracy: 0.0654\n",
      "Epoch 16/30\n",
      "10/10 [==============================] - 0s 17ms/sample - loss: 2.2994 - accuracy: 0.6000 - val_loss: 2.4333 - val_accuracy: 0.0632\n",
      "Epoch 17/30\n",
      "10/10 [==============================] - 0s 16ms/sample - loss: 2.2992 - accuracy: 0.7000 - val_loss: 2.4390 - val_accuracy: 0.0620\n",
      "Epoch 18/30\n",
      "10/10 [==============================] - 0s 16ms/sample - loss: 2.2990 - accuracy: 0.7000 - val_loss: 2.4445 - val_accuracy: 0.0603\n",
      "Epoch 19/30\n",
      "10/10 [==============================] - 0s 17ms/sample - loss: 2.2988 - accuracy: 0.7000 - val_loss: 2.4501 - val_accuracy: 0.0596\n",
      "Epoch 20/30\n",
      "10/10 [==============================] - 0s 16ms/sample - loss: 2.2985 - accuracy: 0.7000 - val_loss: 2.4557 - val_accuracy: 0.0601\n",
      "Epoch 21/30\n",
      "10/10 [==============================] - 0s 18ms/sample - loss: 2.2983 - accuracy: 0.7000 - val_loss: 2.4614 - val_accuracy: 0.0600\n",
      "Epoch 22/30\n",
      "10/10 [==============================] - 0s 16ms/sample - loss: 2.2981 - accuracy: 0.8000 - val_loss: 2.4673 - val_accuracy: 0.0595\n",
      "Epoch 23/30\n",
      "10/10 [==============================] - 0s 16ms/sample - loss: 2.2978 - accuracy: 0.9000 - val_loss: 2.4735 - val_accuracy: 0.0599\n",
      "Epoch 24/30\n",
      "10/10 [==============================] - 0s 15ms/sample - loss: 2.2976 - accuracy: 0.9000 - val_loss: 2.4798 - val_accuracy: 0.0601\n",
      "Epoch 25/30\n",
      "10/10 [==============================] - 0s 16ms/sample - loss: 2.2974 - accuracy: 1.0000 - val_loss: 2.4864 - val_accuracy: 0.0611\n",
      "Epoch 26/30\n",
      "10/10 [==============================] - 0s 17ms/sample - loss: 2.2972 - accuracy: 1.0000 - val_loss: 2.4931 - val_accuracy: 0.0612\n",
      "Epoch 27/30\n",
      "10/10 [==============================] - 0s 15ms/sample - loss: 2.2969 - accuracy: 1.0000 - val_loss: 2.5001 - val_accuracy: 0.0617\n",
      "Epoch 28/30\n",
      "10/10 [==============================] - 0s 17ms/sample - loss: 2.2967 - accuracy: 1.0000 - val_loss: 2.5072 - val_accuracy: 0.0608\n",
      "Epoch 29/30\n",
      "10/10 [==============================] - 0s 15ms/sample - loss: 2.2965 - accuracy: 1.0000 - val_loss: 2.5144 - val_accuracy: 0.0608\n",
      "Epoch 30/30\n",
      "10/10 [==============================] - 0s 16ms/sample - loss: 2.2963 - accuracy: 1.0000 - val_loss: 2.5217 - val_accuracy: 0.0604\n"
     ]
    }
   ],
   "source": [
    "x_real=x_real.reshape(x_real.shape[0],x_real.shape[1]*x_real.shape[2])\n",
    "x_real=x_real.astype('float32')\n",
    "x_real/=255\n",
    "y_real = np_utils.to_categorical(y_real, 10)\n",
    "\n",
    "x_test=x_test.reshape(x_test.shape[0],x_test.shape[1]*x_test.shape[2])\n",
    "x_test=x_test.astype('float32')\n",
    "x_test/=255\n",
    "y_test = np_utils.to_categorical(y_test, 10)\n",
    "\n",
    "\n",
    "model=models.Sequential()\n",
    "\n",
    "model.add(layers.Dense(10,input_shape=(784,),activation='softmax'))\n",
    "\n",
    "model.compile(loss='categorical_crossentropy', metrics=['accuracy'], optimizer='adam')\n",
    "\n",
    "history = model.fit(x_real, y_real,batch_size=128, epochs=30,validation_data=(x_test, y_test))"
   ]
  },
  {
   "cell_type": "code",
   "execution_count": 5,
   "metadata": {},
   "outputs": [
    {
     "data": {
      "image/png": "[encoded data removed]",
      "text/plain": [
       "<Figure size 432x288 with 10 Axes>"
      ]
     },
     "metadata": {
      "needs_background": "light"
     },
     "output_type": "display_data"
    }
   ],
   "source": [
    "fig = plt.figure()\n",
    "\n",
    "for i in range(10):\n",
    "    num=i+1    \n",
    "    ax = fig.add_subplot(2,5,num)\n",
    "    ax.imshow(x_real[i], cmap=plt.get_cmap('gray'))\n",
    "    ax.set_title(i)\n",
    "\n",
    "plt.tight_layout()\n",
    "plt.show()"
   ]
  },
  {
   "cell_type": "code",
   "execution_count": 6,
   "metadata": {},
   "outputs": [
    {
     "name": "stdout",
     "output_type": "stream",
     "text": [
      "[1]\n",
      "[0]\n",
      "[2]\n",
      "[8]\n",
      "[8]\n",
      "[8]\n",
      "[7]\n",
      "[6]\n",
      "[7]\n",
      "[8]\n"
     ]
    }
   ],
   "source": [
    "for i in range(10):\n",
    "    x1 = x_real[i].reshape(1,28*28)\n",
    "    y1 = model.predict(x1)\n",
    "    yo = model.predict_classes(x1)\n",
    "    print(yo)"
   ]
  },
  {
   "cell_type": "markdown",
   "metadata": {},
   "source": [
    "##### Полученные графики точности и потерь."
   ]
  },
  {
   "cell_type": "code",
   "execution_count": 7,
   "metadata": {},
   "outputs": [
    {
     "name": "stdout",
     "output_type": "stream",
     "text": [
      "dict_keys(['loss', 'accuracy', 'val_loss', 'val_accuracy'])\n"
     ]
    },
    {
     "data": {
      "image/png": "[encoded data removed]",
      "text/plain": [
       "<Figure size 432x288 with 1 Axes>"
      ]
     },
     "metadata": {
      "needs_background": "light"
     },
     "output_type": "display_data"
    },
    {
     "data": {
      "image/png": "[encoded data removed]",
      "text/plain": [
       "<Figure size 432x288 with 1 Axes>"
      ]
     },
     "metadata": {
      "needs_background": "light"
     },
     "output_type": "display_data"
    }
   ],
   "source": [
    "print(history.history.keys())\n",
    "\n",
    "import matplotlib.pyplot as plt\n",
    "import numpy as np\n",
    "\n",
    "plt.plot(history.history['accuracy'])\n",
    "plt.plot(history.history['val_accuracy'])\n",
    "plt.title('model accuracy')\n",
    "plt.ylabel('accuracy')\n",
    "plt.xlabel('epoch')\n",
    "plt.legend(['train', 'test'], loc='upper left')\n",
    "plt.show()\n",
    "\n",
    "plt.plot(history.history['loss'])\n",
    "plt.plot(history.history['val_loss'])\n",
    "plt.title('model loss')\n",
    "plt.ylabel('loss')\n",
    "plt.xlabel('epoch')\n",
    "plt.legend(['train', 'test'], loc='upper left')\n",
    "plt.show()"
   ]
  },
  {
   "cell_type": "code",
   "execution_count": 8,
   "metadata": {},
   "outputs": [
    {
     "name": "stdout",
     "output_type": "stream",
     "text": [
      "{'loss': [2.3028383255004883, 2.3026070594787598, 2.3023769855499268, 2.3021492958068848, 2.3019232749938965, 2.301698684692383, 2.30147385597229, 2.301248788833618, 2.30102276802063, 2.3007960319519043, 2.3005688190460205, 2.3003416061401367, 2.300114393234253, 2.2998876571655273, 2.2996609210968018, 2.2994346618652344, 2.299208164215088, 2.298981189727783, 2.2987544536590576, 2.298527956008911, 2.2983009815216064, 2.2980740070343018, 2.297847270965576, 2.2976202964782715, 2.297393798828125, 2.297166585922241, 2.2969393730163574, 2.296712875366211, 2.2964859008789062, 2.2962589263916016], 'accuracy': [0.1, 0.1, 0.1, 0.1, 0.2, 0.1, 0.1, 0.2, 0.3, 0.3, 0.3, 0.3, 0.6, 0.6, 0.6, 0.6, 0.7, 0.7, 0.7, 0.7, 0.7, 0.8, 0.9, 0.9, 1.0, 1.0, 1.0, 1.0, 1.0, 1.0], 'val_loss': [2.3564498710632322, 2.357694242477417, 2.35946849899292, 2.362100086212158, 2.3657302532196045, 2.3703126525878906, 2.375689256286621, 2.3816750122070314, 2.3880945301055907, 2.394786946105957, 2.4015996936798096, 2.4083860771179197, 2.415016431427002, 2.421400176239014, 2.427503365325928, 2.4333481479644776, 2.438998040008545, 2.44453936920166, 2.4500654304504397, 2.455662684249878, 2.4614002880096435, 2.4673252384185793, 2.4734628074645997, 2.479818550491333, 2.486383173751831, 2.4931399139404298, 2.5000703884124755, 2.5071568489074707, 2.514380487823486, 2.521719864654541], 'val_accuracy': [0.1077, 0.1022, 0.0974, 0.0936, 0.09, 0.0874, 0.0838, 0.0808, 0.0769, 0.0739, 0.0722, 0.0713, 0.0692, 0.067, 0.0654, 0.0632, 0.062, 0.0603, 0.0596, 0.0601, 0.06, 0.0595, 0.0599, 0.0601, 0.0611, 0.0612, 0.0617, 0.0608, 0.0608, 0.0604]}\n"
     ]
    }
   ],
   "source": [
    "print(history.history)"
   ]
  },
  {
   "cell_type": "code",
   "execution_count": 9,
   "metadata": {},
   "outputs": [
    {
     "name": "stdout",
     "output_type": "stream",
     "text": [
      "{'batch_size': 128, 'epochs': 30, 'steps': 1, 'samples': 10, 'verbose': 0, 'do_validation': True, 'metrics': ['loss', 'accuracy', 'val_loss', 'val_accuracy']}\n"
     ]
    }
   ],
   "source": [
    "print(history.params)"
   ]
  },
  {
   "cell_type": "markdown",
   "metadata": {},
   "source": [
    "##### Использование сети \"Долгой краткосрочной памяти для обучения функции Sin\"."
   ]
  },
  {
   "cell_type": "code",
   "execution_count": 10,
   "metadata": {},
   "outputs": [
    {
     "name": "stdout",
     "output_type": "stream",
     "text": [
      "X.shape = (3122, 20, 1)\n",
      "y.shape = (3122,)\n",
      "Train on 3122 samples\n",
      "Epoch 1/20\n",
      "3122/3122 [==============================] - 3s 911us/sample - loss: 0.3915\n",
      "Epoch 2/20\n",
      "3122/3122 [==============================] - 1s 429us/sample - loss: 0.0894\n",
      "Epoch 3/20\n",
      "3122/3122 [==============================] - 2s 509us/sample - loss: 0.0129\n",
      "Epoch 4/20\n",
      "3122/3122 [==============================] - 2s 543us/sample - loss: 0.0066\n",
      "Epoch 5/20\n",
      "3122/3122 [==============================] - 2s 544us/sample - loss: 0.0039\n",
      "Epoch 6/20\n",
      "3122/3122 [==============================] - 2s 506us/sample - loss: 0.0025\n",
      "Epoch 7/20\n",
      "3122/3122 [==============================] - 2s 560us/sample - loss: 0.0016\n",
      "Epoch 8/20\n",
      "3122/3122 [==============================] - 2s 577us/sample - loss: 0.0011\n",
      "Epoch 9/20\n",
      "3122/3122 [==============================] - 2s 551us/sample - loss: 7.0081e-04\n",
      "Epoch 10/20\n",
      "3122/3122 [==============================] - 2s 572us/sample - loss: 4.7608e-04\n",
      "Epoch 11/20\n",
      "3122/3122 [==============================] - 2s 603us/sample - loss: 3.3946e-04\n",
      "Epoch 12/20\n",
      "3122/3122 [==============================] - 2s 581us/sample - loss: 2.7105e-04\n",
      "Epoch 13/20\n",
      "3122/3122 [==============================] - 2s 587us/sample - loss: 2.1275e-04\n",
      "Epoch 14/20\n",
      "3122/3122 [==============================] - 2s 604us/sample - loss: 1.7424e-04\n",
      "Epoch 15/20\n",
      "3122/3122 [==============================] - 2s 593us/sample - loss: 1.5265e-04\n",
      "Epoch 16/20\n",
      "3122/3122 [==============================] - 2s 573us/sample - loss: 1.3947e-04\n",
      "Epoch 17/20\n",
      "3122/3122 [==============================] - 2s 554us/sample - loss: 1.2450e-04\n",
      "Epoch 18/20\n",
      "3122/3122 [==============================] - 2s 567us/sample - loss: 1.2601e-04\n",
      "Epoch 19/20\n",
      "3122/3122 [==============================] - 2s 546us/sample - loss: 1.0488e-04\n",
      "Epoch 20/20\n",
      "3122/3122 [==============================] - 2s 606us/sample - loss: 1.4089e-04\n"
     ]
    },
    {
     "data": {
      "image/png": "[encoded data removed]",
      "text/plain": [
       "<Figure size 432x288 with 1 Axes>"
      ]
     },
     "metadata": {
      "needs_background": "light"
     },
     "output_type": "display_data"
    }
   ],
   "source": [
    "import numpy as np\n",
    "from tensorflow.keras.models import Sequential\n",
    "from tensorflow.keras.layers import LSTM\n",
    "from tensorflow.keras.layers import Dense\n",
    "import matplotlib.pyplot as plt\n",
    "import numpy as np\n",
    "\n",
    "\n",
    "\n",
    "model = Sequential()\n",
    "model.add(LSTM(10, activation='tanh'))\n",
    "model.add(Dense(1, activation='tanh'))\n",
    "model.compile(optimizer='adam', loss='mse')\n",
    "\n",
    "\n",
    "def train_function(x):\n",
    "    return np.sin(x)\n",
    "def split_sequence(sequence, n_steps):\n",
    "        X, y = list(), list()\n",
    "        for i in range(len(sequence)):\n",
    "                end_ix = i + n_steps\n",
    "                if end_ix > len(sequence)-1:\n",
    "                        break\n",
    "                seq_x, seq_y = sequence[i:end_ix], sequence[end_ix]\n",
    "                X.append(seq_x)\n",
    "                y.append(seq_y)\n",
    "        return np.array(X), np.array(y)\n",
    "# Задаём нужную последовательность\n",
    "xaxis = np.arange(-50*np.pi, 50*np.pi, 0.1)\n",
    "train_seq = train_function(xaxis)\n",
    "n_steps = 20\n",
    "X, y = split_sequence(train_seq, n_steps)\n",
    "# Изменяем размерность из [samples, timesteps] в [samples, timesteps, features]\n",
    "n_features = 1\n",
    "X = X.reshape((X.shape[0], X.shape[1], n_features))\n",
    "print(\"X.shape = {}\".format(X.shape))\n",
    "print(\"y.shape = {}\".format(y.shape))\n",
    "\n",
    "\n",
    "X.shape = (3122, 20, 1)\n",
    "y.shape = (3122,)\n",
    "\n",
    "history = model.fit(X, y, epochs=20, verbose=1)\n",
    "plt.plot(history.history['loss'], label=\"loss\")\n",
    "plt.legend(loc=\"upper right\")\n",
    "plt.show()"
   ]
  },
  {
   "cell_type": "code",
   "execution_count": 11,
   "metadata": {},
   "outputs": [
    {
     "data": {
      "image/png": "[encoded data removed]",
      "text/plain": [
       "<Figure size 432x288 with 1 Axes>"
      ]
     },
     "metadata": {
      "needs_background": "light"
     },
     "output_type": "display_data"
    }
   ],
   "source": [
    "test_xaxis = np.arange(0, 10*np.pi, 0.1)\n",
    "def test_function(x):\n",
    "    return np.cos(x)\n",
    "calc_y = test_function(test_xaxis)\n",
    "test_y = calc_y[:n_steps]\n",
    "results = []\n",
    "for i in range( len(test_xaxis) - n_steps ):\n",
    "    net_input = test_y[i : i + n_steps]\n",
    "    net_input = net_input.reshape((1, n_steps, n_features))\n",
    "    y = model.predict(net_input, verbose=0)\n",
    "    test_y = np.append(test_y, y)\n",
    "plt.plot(test_xaxis[n_steps:], test_y[n_steps:], label=\"predicitons\",linewidth=5)\n",
    "plt.plot(test_xaxis, calc_y, label=\"ground truth\")\n",
    "plt.plot(test_xaxis[:n_steps], test_y[:n_steps], label=\"initial sequence\", color=\"red\",linewidth=3)\n",
    "plt.legend(loc='upper left')\n",
    "plt.ylim(-2, 2)\n",
    "plt.show()"
   ]
  },
  {
   "cell_type": "markdown",
   "metadata": {},
   "source": [
    "# Литература\n",
    "\n",
    "* [Habrahabr](https://habr.com/ru/company/wunderfund/blog/331310/)"
   ]
  },
  {
   "cell_type": "code",
   "execution_count": null,
   "metadata": {},
   "outputs": [],
   "source": []
  }
 ],
 "metadata": {
  "kernelspec": {
   "display_name": "Python 3",
   "language": "python",
   "name": "python3"
  },
  "language_info": {
   "codemirror_mode": {
    "name": "ipython",
    "version": 3
   },
   "file_extension": ".py",
   "mimetype": "text/x-python",
   "name": "python",
   "nbconvert_exporter": "python",
   "pygments_lexer": "ipython3",
   "version": "3.6.8"
  }
 },
 "nbformat": 4,
 "nbformat_minor": 2
}
