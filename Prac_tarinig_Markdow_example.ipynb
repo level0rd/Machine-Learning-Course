{
 "cells": [
  {
   "cell_type": "markdown",
   "metadata": {},
   "source": [
    "## Практическое занятие 2\n",
    "\n",
    "### 1. Оформление отчетов:\n",
    "   все задания (лабораторные работы) оформляютяся в виде `.jpynb` файла, используя `Markdown Cell`:\n",
    "      ![верхнее меню](Markdown.png).\n",
    "   \n",
    "   Более подробная информация доступна [по ссылке:](https://jupyter-notebook.readthedocs.io/en/stable/examples/Notebook/Working%20With%20Markdown%20Cells.html) и [Makkdown Style](https://daringfireball.net/projects/markdown/syntax#link).\n",
    "   \n",
    " ##### Некоторые полезные элементы\n",
    "  Списки:\n",
    "   * утвреждение 1\n",
    "   * утверсждение 2\n",
    "    - утверждение 2.1 \n",
    "    \n",
    " Например, выше определены заголовки разного уровня, блоки с кодом можно вставить так:\n",
    "```python\n",
    "def myfuction(x)\n",
    "    return (x+2)\n",
    "```\n",
    "Для формул можно исрользовать нотации `TeX/LaTeX`, например, формулы в тексте выделяются знаком `$`:  $e^\\pi=0 $, а для формул на новой строке формулы выделяются знаком `$$`:\n",
    "$$  M[X] =\\frac{1}{N}\\sum_i^N x_i $$\n",
    "После выполнения (`Alt+Enter` или кнопка `Run` верхнего меню) все будет выглядеть так:"
   ]
  },
  {
   "cell_type": "markdown",
   "metadata": {},
   "source": [
    "## Практическое занятие 2\n",
    "\n",
    "### 1. Оформление отчетов:\n",
    "   все задания (лабораторные работы) оформляютяся в виде `.jpynb` файла, используя `Markdown Cell`:\n",
    "      ![верхнее меню](Markdown.png).\n",
    "   \n",
    "   Более подробная информация доступна [по ссылке:](https://jupyter-notebook.readthedocs.io/en/stable/examples/Notebook/Working%20With%20Markdown%20Cells.html) и [Makkdown Style](https://daringfireball.net/projects/markdown/syntax#link).\n",
    "   ##### Некоторые полезные элементы\n",
    "  Списки:\n",
    "   * утвреждение 1\n",
    "   * утверсждение 2\n",
    "    - утверждение 2.1 \n",
    "    Например, выше определены заголовки разного уровня, блоки с кодом можно вставить так:\n",
    "```python\n",
    "def myfuction(x)\n",
    "    return (x+2)\n",
    "```\n",
    "Для формул можно исрользовать нотации `TeX/LaTeX`, например, формулы в тексте выделяются знаком `$`:  $e^\\pi=0 $, а для формул на новой строке формулы выделяются знаком `$$`:\n",
    "$$  M[X] =\\frac{1}{N}\\sum_i^N x_i $$\n",
    "После выполнения (`Alt+Enter` или кнопка `Run` верхнего меню) все будет выглядеть так:\n"
   ]
  },
  {
   "cell_type": "markdown",
   "metadata": {},
   "source": [
    "$$ \\int_0^1 xdx $$"
   ]
  },
  {
   "cell_type": "markdown",
   "metadata": {},
   "source": [
    "Предположим, что $a$ и $b$ --- целые числа. Определим $c$:\n",
    "\\begin{equation}\n",
    "c=a+b\n",
    "\\end{equation}\n",
    "\n",
    "Тогда $c$ тоже является целым числом."
   ]
  }
 ],
 "metadata": {
  "kernelspec": {
   "display_name": "Python 3",
   "language": "python",
   "name": "python3"
  },
  "language_info": {
   "codemirror_mode": {
    "name": "ipython",
    "version": 3
   },
   "file_extension": ".py",
   "mimetype": "text/x-python",
   "name": "python",
   "nbconvert_exporter": "python",
   "pygments_lexer": "ipython3",
   "version": "3.6.6"
  }
 },
 "nbformat": 4,
 "nbformat_minor": 2
}
