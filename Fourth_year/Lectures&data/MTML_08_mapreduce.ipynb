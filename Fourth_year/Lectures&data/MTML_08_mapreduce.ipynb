{
  "nbformat": 4,
  "nbformat_minor": 0,
  "metadata": {
    "colab": {
      "provenance": [],
      "collapsed_sections": [],
      "toc_visible": true
    },
    "kernelspec": {
      "display_name": "Python 3",
      "name": "python3"
    },
    "language_info": {
      "name": "python"
    }
  },
  "cells": [
    {
      "cell_type": "markdown",
      "metadata": {
        "id": "bqq_SSozg73G"
      },
      "source": [
        "# Текстовые данные\n"
      ]
    },
    {
      "cell_type": "markdown",
      "metadata": {
        "id": "ndmD-AJZ3nBv"
      },
      "source": [
        "## Генератор случайного текста"
      ]
    },
    {
      "cell_type": "code",
      "metadata": {
        "id": "aq-h47FMYHku"
      },
      "source": [
        "pip install python-lorem"
      ],
      "execution_count": null,
      "outputs": []
    },
    {
      "cell_type": "code",
      "metadata": {
        "id": "cqz-zosEX_vp"
      },
      "source": [
        "import lorem\n",
        "nonsense = lorem.get_paragraph()\n",
        "nonsense"
      ],
      "execution_count": null,
      "outputs": []
    },
    {
      "cell_type": "markdown",
      "metadata": {
        "id": "5xqEjKhYYfC-"
      },
      "source": [
        "##NLTK: Gutenberg corpus\n",
        "Natural Language ToolKit.\n",
        "\n",
        "Выборка из библиотеки Гутенберга.\n",
        "\n",
        "https://www.nltk.org/book/ch02.html"
      ]
    },
    {
      "cell_type": "code",
      "metadata": {
        "id": "1YYXrp3Jg2He"
      },
      "source": [
        "import nltk\n",
        "nltk.download(['gutenberg', 'punkt'])\n",
        "from nltk.corpus import gutenberg"
      ],
      "execution_count": null,
      "outputs": []
    },
    {
      "cell_type": "code",
      "metadata": {
        "id": "Fws8hG_evZj3"
      },
      "source": [
        "print('\\n'.join(gutenberg.fileids()))"
      ],
      "execution_count": null,
      "outputs": []
    },
    {
      "cell_type": "code",
      "metadata": {
        "id": "M9lA1rT8nyft"
      },
      "source": [
        "print(gutenberg.raw('carroll-alice.txt')[:500])"
      ],
      "execution_count": null,
      "outputs": []
    },
    {
      "cell_type": "markdown",
      "metadata": {
        "id": "BnwN0xN2Yhpt"
      },
      "source": [
        "## Деление текста на предложения\n"
      ]
    },
    {
      "cell_type": "markdown",
      "source": [
        "### Инструменты языкового анализа\n"
      ],
      "metadata": {
        "id": "aMF5XgYIOFKY"
      }
    },
    {
      "cell_type": "code",
      "metadata": {
        "id": "Xxmph7A-YScT"
      },
      "source": [
        "from nltk.tokenize.punkt import PunktSentenceTokenizer\n",
        "sentence_tokenizer = PunktSentenceTokenizer()\n",
        "sentence_tokenizer.tokenize('Hello! World?')"
      ],
      "execution_count": null,
      "outputs": []
    },
    {
      "cell_type": "code",
      "metadata": {
        "id": "zPcj1Ow5YuBe"
      },
      "source": [
        "sentence_tokenizer.tokenize(nonsense)"
      ],
      "execution_count": null,
      "outputs": []
    },
    {
      "cell_type": "markdown",
      "source": [
        "### Информация в первоисточнике"
      ],
      "metadata": {
        "id": "8cpLjad1OI3X"
      }
    },
    {
      "cell_type": "code",
      "metadata": {
        "id": "HE8PhrsGYzUO"
      },
      "source": [
        "[lorem.get_sentence() for _ in range(5)]"
      ],
      "execution_count": null,
      "outputs": []
    },
    {
      "cell_type": "code",
      "source": [
        "gutenberg.sents('carroll-alice.txt')[:2]"
      ],
      "metadata": {
        "id": "ivwCNfD3Nicn"
      },
      "execution_count": null,
      "outputs": []
    },
    {
      "cell_type": "markdown",
      "metadata": {
        "id": "IQtJi0M-Z0Pe"
      },
      "source": [
        "## Деление текста на слова\n"
      ]
    },
    {
      "cell_type": "code",
      "metadata": {
        "id": "J_FvnSN_aBiC"
      },
      "source": [
        "from nltk import word_tokenize, wordpunct_tokenize\n",
        "import re\n",
        "\"hello world\".split(), re.split(\"\\s\", \"hello world\"), word_tokenize(\"hello world\"), wordpunct_tokenize(\"hello world\")"
      ],
      "execution_count": null,
      "outputs": []
    },
    {
      "cell_type": "code",
      "metadata": {
        "id": "POHkTDiOab2H"
      },
      "source": [
        "for f in str.split, re.compile(\"\\s\").split, word_tokenize, wordpunct_tokenize:\n",
        "  print(f(nonsense))"
      ],
      "execution_count": null,
      "outputs": []
    },
    {
      "cell_type": "code",
      "metadata": {
        "id": "5Q3gms-yzT0s"
      },
      "source": [
        "import re\n",
        "word_re = re.compile('\\w+|[^\\w\\s]+')\n",
        "\n",
        "print('source', len(gutenberg.words('carroll-alice.txt')))\n",
        "print('split', len(gutenberg.raw('carroll-alice.txt').split()))\n",
        "print('word_tokenize', len(word_tokenize(gutenberg.raw('carroll-alice.txt'))))\n",
        "print('wordpunkt_tokenize', len(wordpunct_tokenize(gutenberg.raw('carroll-alice.txt'))))\n",
        "print('regular expression', len(word_re.findall(gutenberg.raw('carroll-alice.txt'))))"
      ],
      "execution_count": null,
      "outputs": []
    },
    {
      "cell_type": "code",
      "metadata": {
        "id": "mJvkK1ly77xI"
      },
      "source": [
        "print('source', gutenberg.words('carroll-alice.txt')[:50])\n",
        "print()\n",
        "print('split', gutenberg.raw('carroll-alice.txt').split()[:50])\n",
        "print('word_tokenize', word_tokenize(gutenberg.raw('carroll-alice.txt'))[:50])\n",
        "print('wordpunkt_tokenize', wordpunct_tokenize(gutenberg.raw('carroll-alice.txt'))[:50])\n",
        "print('regular expression', word_re.findall(gutenberg.raw('carroll-alice.txt'))[:50])"
      ],
      "execution_count": null,
      "outputs": []
    },
    {
      "cell_type": "markdown",
      "metadata": {
        "id": "iyUFHHtgs4Ob"
      },
      "source": [
        "# Задача: подсчёт популярности слов\n",
        "Разобъем входные данные на подстроки для обработки по частям."
      ]
    },
    {
      "cell_type": "code",
      "metadata": {
        "id": "116JHoxAt0I6"
      },
      "source": [
        "alice_lines = gutenberg.raw('carroll-alice.txt').splitlines()\n",
        "alice_lines[123]"
      ],
      "execution_count": null,
      "outputs": []
    },
    {
      "cell_type": "markdown",
      "metadata": {
        "id": "U6TTXMiDviJO"
      },
      "source": [
        "## Просто цикл (\"классический\" подход)"
      ]
    },
    {
      "cell_type": "code",
      "metadata": {
        "id": "E_8wJtdetAxJ"
      },
      "source": [
        "counts = {}\n",
        "\n",
        "for line in alice_lines:\n",
        "    words = wordpunct_tokenize(line)\n",
        "\n",
        "    for word in words:\n",
        "        word = word.lower()\n",
        "        counts[word] = counts.get(word, 0) + 1\n",
        "\n",
        "print(counts)\n",
        "print(sum(counts.values()))\n",
        "list(\n",
        "    reversed(\n",
        "        sorted((n, word) for word, n in counts.items())\n",
        "    )\n",
        ")[:10]"
      ],
      "execution_count": null,
      "outputs": []
    },
    {
      "cell_type": "markdown",
      "metadata": {
        "id": "qg39wTYMvrhW"
      },
      "source": [
        "## Идиоматический Питон\n"
      ]
    },
    {
      "cell_type": "code",
      "metadata": {
        "id": "IAKebvCbv8wb"
      },
      "source": [
        "print(alice_lines[0])\n",
        "words = [w for line in alice_lines for w in wordpunct_tokenize(line)]\n",
        "print(words[:50])\n",
        "lower_words = [w.lower() for w in words]\n",
        "print(lower_words[:50])\n",
        "print(len(lower_words))"
      ],
      "execution_count": null,
      "outputs": []
    },
    {
      "cell_type": "code",
      "metadata": {
        "id": "9Sk4fZpLw6E7"
      },
      "source": [
        "from collections import Counter\n",
        "\n",
        "counts = Counter(lower_words)\n",
        "print(sum(counts.values()))\n",
        "counts.most_common(10)\n"
      ],
      "execution_count": null,
      "outputs": []
    },
    {
      "cell_type": "code",
      "metadata": {
        "id": "sryKwRQGxkyM"
      },
      "source": [
        "Counter(w.lower() for line in alice_lines for w in wordpunct_tokenize(line)).most_common(10)"
      ],
      "execution_count": null,
      "outputs": []
    },
    {
      "cell_type": "code",
      "metadata": {
        "id": "YEw1cdn78Xbe"
      },
      "source": [
        "import operator\n",
        "from functools import reduce\n",
        "\n",
        "print(alice_lines[0])\n",
        "words = [[w for w in wordpunct_tokenize(line)] for line in alice_lines]\n",
        "print(words[:4])\n",
        "lower_words = [[w.lower() for w in line] for line in words]\n",
        "print(lower_words[:4])\n",
        "counters = [Counter(line) for line in lower_words]\n",
        "print(counters)\n",
        "reduce(operator.add, counters, Counter()).most_common(10)\n"
      ],
      "execution_count": null,
      "outputs": []
    },
    {
      "cell_type": "markdown",
      "metadata": {
        "id": "SChlcmQXxQjj"
      },
      "source": [
        "## Функциональный подход"
      ]
    },
    {
      "cell_type": "code",
      "metadata": {
        "id": "D1FxpwRwxZ4d"
      },
      "source": [
        "from itertools import chain\n",
        "\n",
        "word_lists = map(wordpunct_tokenize, alice_lines)\n",
        "#print(list(word_lists)[:3])\n",
        "words = chain(*word_lists)\n",
        "#print(list(words)[:20])\n",
        "lower_words = map(str.lower, words)\n",
        "#print(list(lower_words)[:10])\n",
        "Counter(lower_words).most_common(10)"
      ],
      "execution_count": null,
      "outputs": []
    },
    {
      "cell_type": "code",
      "metadata": {
        "id": "kdJMPTv99tgz"
      },
      "source": [
        "word_lists = list(map(wordpunct_tokenize, alice_lines))\n",
        "print(word_lists[:4])\n",
        "lower_words = list(map(\n",
        "    lambda line_words: [w.lower() for w in line_words],\n",
        "    word_lists\n",
        "))\n",
        "print(lower_words[:4])\n",
        "counters = map(Counter, lower_words)\n",
        "reduce(operator.add, counters, Counter()).most_common(10)"
      ],
      "execution_count": null,
      "outputs": []
    },
    {
      "cell_type": "markdown",
      "metadata": {
        "id": "2xTajlJ01IxY"
      },
      "source": [
        "## Удобные свойства map и reduce:"
      ]
    },
    {
      "cell_type": "markdown",
      "metadata": {
        "id": "e5Bcahvb2MLo"
      },
      "source": [
        "Если функция чистая, то мап можно вызывать параллельно"
      ]
    },
    {
      "cell_type": "code",
      "metadata": {
        "id": "b17lim8k1Ibi"
      },
      "source": [
        "from multiprocessing import Pool\n",
        "print(list(map(str, [1, 2, 3, 4, 5, 6])))\n",
        "with Pool() as pool:\n",
        "  print(pool.map(str, [1, 2, 3, 4, 5, 6]))"
      ],
      "execution_count": null,
      "outputs": []
    },
    {
      "cell_type": "markdown",
      "metadata": {
        "id": "9x4mC4701_QS"
      },
      "source": [
        "Если reduce действительно работает как reduce, то его можно вызывать от результата других вызовов reduce"
      ]
    },
    {
      "cell_type": "code",
      "metadata": {
        "id": "qK37oXZ22Zbq"
      },
      "source": [
        "from functools import reduce\n",
        "def add(s, x):\n",
        "  return s + x\n",
        "print(reduce(add, range(10)))\n",
        "print(reduce(add, \n",
        "       [\n",
        "        reduce(add, range(3)), \n",
        "        reduce(add, range(3,6)),\n",
        "        reduce(add, range(6,10))\n",
        "       ]\n",
        "))"
      ],
      "execution_count": null,
      "outputs": []
    },
    {
      "cell_type": "code",
      "metadata": {
        "id": "b4GLmpOT4YeY"
      },
      "source": [
        "def count(s, x):\n",
        "  return s + 1\n",
        "print(reduce(count, range(10)))\n",
        "print(reduce(count, \n",
        "       [\n",
        "        reduce(count, range(3), 0), \n",
        "        reduce(count, range(3,6), 0),\n",
        "        reduce(count, range(6,10), 0)\n",
        "       ]\n",
        "      , 0)\n",
        ")"
      ],
      "execution_count": null,
      "outputs": []
    },
    {
      "cell_type": "markdown",
      "metadata": {
        "id": "A9boXidOWkPW"
      },
      "source": [
        "## Локальный MapReduce\n",
        "https://towardsdatascience.com/a-beginners-introduction-into-mapreduce-2c912bb5e6ac\n",
        "\n",
        "![image.png](data:image/png;base64,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)"
      ]
    },
    {
      "cell_type": "code",
      "metadata": {
        "id": "FT-D1usNO-X0"
      },
      "source": [
        "from typing import List, Iterable\n",
        "def wordcounter(s: str) -> Counter:\n",
        "  return Counter(map(str.lower, wordpunct_tokenize(s)))\n",
        "\n",
        "def reduce_counters(counters: Iterable[Counter]) -> Counter:\n",
        "  return reduce(operator.add, counters, Counter())\n",
        "\n",
        "wordcounter(\"Hello world!\")"
      ],
      "execution_count": null,
      "outputs": []
    },
    {
      "cell_type": "code",
      "metadata": {
        "id": "yuB-k06pHGVE"
      },
      "source": [
        "%time reduce_counters(map(wordcounter, alice_lines)).most_common(10)"
      ],
      "execution_count": null,
      "outputs": []
    },
    {
      "cell_type": "code",
      "metadata": {
        "id": "g35y39TmE5Hy"
      },
      "source": [
        "from multiprocessing import Pool\n",
        "\n",
        "with Pool() as pool:\n",
        "  %time reduce_counters(pool.map(wordcounter, alice_lines)).most_common(10)"
      ],
      "execution_count": null,
      "outputs": []
    },
    {
      "cell_type": "code",
      "metadata": {
        "id": "Baw8OVPhG7IY"
      },
      "source": [
        "def word_counters(s: str) -> List[Counter]:\n",
        "  return [Counter([w.lower()]) for w in wordpunct_tokenize(s)]\n",
        "\n",
        "word_counters(\"Hello world!\")"
      ],
      "execution_count": null,
      "outputs": []
    },
    {
      "cell_type": "code",
      "metadata": {
        "id": "sUqERzW9Hnba"
      },
      "source": [
        "def wordcount_local(texts: Iterable[str]) -> Counter:\n",
        "    return reduce_counters(\n",
        "        map(reduce_counters,\n",
        "            map(word_counters,\n",
        "                texts)\n",
        "        )\n",
        "    )"
      ],
      "execution_count": null,
      "outputs": []
    },
    {
      "cell_type": "code",
      "metadata": {
        "id": "bN3M0pBIC9aS"
      },
      "source": [
        "%time wordcount_local(alice_lines).most_common(10)"
      ],
      "execution_count": null,
      "outputs": []
    },
    {
      "cell_type": "code",
      "metadata": {
        "id": "gvxFN-Ch0RDq"
      },
      "source": [
        "much_nonsense = [lorem.get_paragraph() for _ in range(40)]\n",
        "%timeit wordcount_local(much_nonsense).most_common(10)"
      ],
      "execution_count": null,
      "outputs": []
    },
    {
      "cell_type": "code",
      "metadata": {
        "id": "udEU9fuVI4e_"
      },
      "source": [
        "def wordcount_local_mp(texts: Iterable[str]) -> Counter:\n",
        "  with Pool() as pool:\n",
        "    return reduce_counters(\n",
        "      pool.map(reduce_counters,\n",
        "        pool.map(word_counters,\n",
        "          texts)\n",
        "      )\n",
        "  )"
      ],
      "execution_count": null,
      "outputs": []
    },
    {
      "cell_type": "code",
      "metadata": {
        "id": "NG8_A-nNMJ6l"
      },
      "source": [
        "%timeit wordcount_local_mp(much_nonsense).most_common(10)"
      ],
      "execution_count": null,
      "outputs": []
    },
    {
      "cell_type": "markdown",
      "metadata": {
        "id": "DLh8VgShrOwE"
      },
      "source": [
        "# Простой \"распределенный\" MapReduce\n",
        "\n",
        "https://ru.wikipedia.org/wiki/MapReduce\n",
        "\n",
        "![mapreduce.png](data:image/png;base64,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)"
      ]
    },
    {
      "cell_type": "markdown",
      "metadata": {
        "id": "UVwsQl_HOXaw"
      },
      "source": [
        "Принцип обработки данных\n",
        "```\n",
        "[записи]\n",
        "-> Map ->\n",
        "[(k1, v11), (k2, v21), (k1, v12) ...]\n",
        "-> Shuffle ->\n",
        "{k1: [v11, v12, ...]), k2: [v21, ...], ...}\n",
        "-> Reduce ->\n",
        "{k1: V1, k2: V2, ...}\n",
        "```\n",
        "\n",
        "Действие функций mapper и reducer, решающих задачу:\n",
        "\n",
        "`запись -> mapper -> [(k1, v1), (k2, v2), (k1, v3) ...]`\n",
        "\n",
        "`[v1, v3, ...] -> reducer -> V`"
      ]
    },
    {
      "cell_type": "markdown",
      "metadata": {
        "id": "gl6nT2dbTPYR"
      },
      "source": [
        "## Map"
      ]
    },
    {
      "cell_type": "code",
      "metadata": {
        "id": "pMgKdYEDvifB"
      },
      "source": [
        "from typing import List, Tuple\n",
        "def count_words_mapper(line: str) -> List[Tuple[str, int]]:\n",
        "  return [(w, 1) for w in wordpunct_tokenize(line)]"
      ],
      "execution_count": null,
      "outputs": []
    },
    {
      "cell_type": "code",
      "metadata": {
        "id": "15oIXZRRvo73"
      },
      "source": [
        "count_words_mapper(\"hello world\")"
      ],
      "execution_count": null,
      "outputs": []
    },
    {
      "cell_type": "code",
      "metadata": {
        "id": "chFrmcxPvzYY"
      },
      "source": [
        "list(map(count_words_mapper,\n",
        "         [\"hello world\", \"hello me\"]\n",
        "         ))"
      ],
      "execution_count": null,
      "outputs": []
    },
    {
      "cell_type": "code",
      "metadata": {
        "id": "vR53j_saTXlL"
      },
      "source": [
        "from typing import Callable\n",
        "\n",
        "def map_layer(mapper: Callable) -> Callable:\n",
        "  def inner(records: Iterable) -> List[Tuple]:\n",
        "    return [(k, v) for r in records for k, v in mapper(r)]\n",
        "  return inner\n",
        "\n",
        "word_counters = map_layer(count_words_mapper)"
      ],
      "execution_count": null,
      "outputs": []
    },
    {
      "cell_type": "code",
      "metadata": {
        "id": "6EcDC3OuvWwq"
      },
      "source": [
        "word_counters( [\"hello world\", \"hello me\"])"
      ],
      "execution_count": null,
      "outputs": []
    },
    {
      "cell_type": "code",
      "metadata": {
        "id": "uQhR1wQ38Lq3"
      },
      "source": [
        "list(word_counters(alice_lines))[:20]"
      ],
      "execution_count": null,
      "outputs": []
    },
    {
      "cell_type": "markdown",
      "metadata": {
        "id": "cJBVPw3IJPfV"
      },
      "source": [
        "## Merge by key\n"
      ]
    },
    {
      "cell_type": "code",
      "metadata": {
        "id": "-9BntRMdrQjD"
      },
      "source": [
        "from typing import Dict, Any\n",
        "from collections import defaultdict\n",
        "\n",
        "def merge_layer(pairs: List[Tuple]) -> Dict[Any, List]:\n",
        "  result = defaultdict(list)\n",
        "  for k, v in pairs:\n",
        "    result[k].append(v)\n",
        "  return dict(result)\n",
        "\n",
        "merge_layer([('a', 1), ('b', 2), ('c', 3), ('a', 4), ('a', 5), ('x', 6), ('y', 7)])"
      ],
      "execution_count": null,
      "outputs": []
    },
    {
      "cell_type": "code",
      "metadata": {
        "id": "THqWaKKM3dhC"
      },
      "source": [
        "from itertools import islice\n",
        "merge_layer(word_counters(islice(alice_lines, 20)))"
      ],
      "execution_count": null,
      "outputs": []
    },
    {
      "cell_type": "markdown",
      "metadata": {
        "id": "rXRxssbv-m7b"
      },
      "source": [
        "## Reduce"
      ]
    },
    {
      "cell_type": "markdown",
      "metadata": {
        "id": "giYcMXfK5C1A"
      },
      "source": [
        "`[v1, v3, ...] -> reducer -> V`\n",
        "\n",
        "`{k1: [v11, v12, ...]), k2: [v21, ...], ...} -> Reduce -> {k1: V1, k2: V2, ...}`"
      ]
    },
    {
      "cell_type": "code",
      "metadata": {
        "id": "iXiHRHs3-hXR"
      },
      "source": [
        "from typing import Generator\n",
        "def reduce_layer(reducer: Callable) -> Callable:\n",
        "  def inner(merged: Dict[Any, List]) -> Dict:\n",
        "    return {k: reducer(v) for k, v in merged.items()}\n",
        "  return inner\n",
        "\n",
        "counter_adder = reduce_layer(sum)\n",
        "\n",
        "alice_wordcounts = counter_adder(merge_layer(word_counters(alice_lines)))\n",
        "\n",
        "print(alice_wordcounts)"
      ],
      "execution_count": null,
      "outputs": []
    },
    {
      "cell_type": "code",
      "metadata": {
        "id": "zEuy-geM66CO"
      },
      "source": [
        "sorted(alice_wordcounts.items(), key=lambda pair: -pair[1])[:20]"
      ],
      "execution_count": null,
      "outputs": []
    },
    {
      "cell_type": "markdown",
      "metadata": {
        "id": "0lNMU5rX-NIz"
      },
      "source": [
        "## Собираем"
      ]
    },
    {
      "cell_type": "code",
      "metadata": {
        "id": "Si6fUVav8zn1"
      },
      "source": [
        "import pandas as pd\n",
        "\n",
        "def simple_job(mapper: Callable, reducer:Callable) -> Callable:\n",
        "  m = map_layer(mapper)\n",
        "  r = reduce_layer(reducer)\n",
        "  def inner(records: List) -> Dict:\n",
        "    return dict(r(merge_layer(m(records))))\n",
        "  return inner\n",
        "\n",
        "wordcounter = simple_job(\n",
        "    lambda f: ((token, 1) for token in word_tokenize(f)),\n",
        "    sum)\n",
        "gutenberg_raw = [gutenberg.raw(f) for f in gutenberg.fileids()]\n",
        "\n",
        "%time result = wordcounter(gutenberg_raw)\n",
        "\n",
        "pass\n",
        "sorted(result.items(), key=lambda pair: -pair[1])[:20]\n"
      ],
      "execution_count": null,
      "outputs": []
    },
    {
      "cell_type": "code",
      "metadata": {
        "id": "ko_CrD2KWaJY"
      },
      "source": [
        "import pandas as pd\n",
        "df = pd.DataFrame(result.items(), columns=[\"word\", \"occurences\"])\n",
        "df"
      ],
      "execution_count": null,
      "outputs": []
    },
    {
      "cell_type": "code",
      "metadata": {
        "id": "3syMXTVpWmLR"
      },
      "source": [
        "df[df.occurences>5000].sort_values('occurences').plot(x='word', y='occurences', kind='barh', figsize=(16, 12))"
      ],
      "execution_count": null,
      "outputs": []
    },
    {
      "cell_type": "code",
      "metadata": {
        "id": "KGn6a9DKVqNp"
      },
      "source": [
        "%timeit wordcounter(much_nonsense)"
      ],
      "execution_count": null,
      "outputs": []
    },
    {
      "cell_type": "code",
      "metadata": {
        "id": "PNjL8IAIxw_B"
      },
      "source": [
        "def mapper(numbers: List[int]) -> Tuple[str, int]:\n",
        "  return [('total', sum(numbers)), ('count', len(numbers))]\n",
        "\n",
        "# Иногда логика редюсера должна зависеть от ключа\n",
        "# На этот раз нам повезло\n",
        "def reducer(values: Iterable[int]) -> int:\n",
        "  return sum(values)\n",
        "\n",
        "average =  simple_job(\n",
        "    mapper,\n",
        "    reducer\n",
        ")\n",
        "\n",
        "result = average([[1, 2, 3, 1, 2, 3], [10, -10]])\n",
        "print(result)\n",
        "result['total']/result['count']\n",
        "# Не всегда можно получить ответ за один mapreduce!"
      ],
      "execution_count": null,
      "outputs": []
    },
    {
      "cell_type": "code",
      "metadata": {
        "id": "KinCDG79sdBl"
      },
      "source": [
        "def mapper2(numbers: List[int]) -> Tuple[str, Tuple[int, int]]:\n",
        "  return [('average', (sum(numbers), len(numbers)))]\n",
        "# Почему бы не вернуть в ответе кортеж-пару в качестве значения?\n",
        "\n",
        "def reducer2(values: Iterable[Tuple[int, int]]):\n",
        "  total = sum(pair[0] for pair in values)\n",
        "  count = sum(pair[1] for pair in values)\n",
        "  return total/count\n",
        "\n",
        "average2 = simple_job(\n",
        "    mapper2,\n",
        "    reducer2\n",
        ")\n",
        "\n",
        "average2([[1, 2, 3, 1, 2, 3], [10, -10]])"
      ],
      "execution_count": null,
      "outputs": []
    },
    {
      "cell_type": "markdown",
      "metadata": {
        "id": "bzPWGPLxGSJw"
      },
      "source": [
        "## Задание\n",
        "\n",
        "1. Посчитать суммарное количество слов в `gutenberg_raw` (через `simple_job`)\n",
        "\n",
        "2. Посчитать суммарное количество слов и суммарное количество предложений одним запуском `simple_job(...)(gutenberg_raw)`\n",
        "\n",
        "3. Найти (с помощью `simple_job`) самое длинное предложение в gutenberg_raw\n",
        "\n",
        "4. Посчитать с помощью `simple_job` гистограмму распределения длины предложений (в словах) по датасету `sent_tokenize(gutenberg.raw('carroll-alice.txt'))`. То есть какие предложения в тексте встречаются наиболее часто? \n",
        "\n",
        "  Потом эти данные можно собрать в pandas DataFrame и визуализировать. Как правильно визуализировать заранее просчитанную гистограмму, см. https://matplotlib.org/stable/api/_as_gen/matplotlib.pyplot.hist.html\n",
        "\n",
        "  Подсказка: \n",
        "  - Вариант 1. Ключом может быть номер ячейки гистограммы. Тогда размер ячеек нужно задать заранее.\n",
        "  - Вариант 2. Можно посчитать из каждого предложения целую гистограмму. Параметры гистограммы тоже придётся задавать заранее.\n",
        "  - Вариант 3. Сделать ключом длину предложения. Проще всего с точки зрения map и reduce, но не до конца решает задачу (потребует дополнительной обработки результата).\n"
      ]
    },
    {
      "cell_type": "markdown",
      "metadata": {
        "id": "XIEyHeLm7_Qe"
      },
      "source": [
        "# Hadoop MapReduce"
      ]
    },
    {
      "cell_type": "markdown",
      "metadata": {
        "id": "6uDEhlNtxJre"
      },
      "source": [
        "https://hadoop.apache.org/docs/current/hadoop-mapreduce-client/hadoop-mapreduce-client-core/MapReduceTutorial.html#Job_Configuration\n",
        "\n",
        "- InputFormat\n",
        "- Mapper\n",
        "- combiner (если есть) - локальный пре-Reducer\n",
        "- Partitioner - управляет shuffle\n",
        "- Reducer\n",
        "- OutputFormat\n",
        "\n",
        "![image.png](data:image/png;base64,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)\n",
        "\n",
        "https://highlyscalable.wordpress.com/2012/02/01/mapreduce-patterns/"
      ]
    },
    {
      "cell_type": "markdown",
      "metadata": {
        "id": "KKQYuKf_rTDH"
      },
      "source": [
        "## Input, output\n",
        "\n",
        "```\n",
        "'uri' -> file(s) -> InputSplit\n",
        "InputFormat.createRecordReader(InputSplit) -> RecordReader\n",
        "\n",
        "RecordReader.nextKeyValue()\n",
        "RecordReader.getCurrentKey()\n",
        "RecordReader.getCurrentValue()\n",
        "OutputFormat.getRecordWriter(jobconf) -> OutputWriter\n",
        "```\n",
        "Главное:\n",
        "- работа всегда идёт с парами ключ-значение\n",
        "- и данные и вычисления распределены по кластеру"
      ]
    },
    {
      "cell_type": "code",
      "metadata": {
        "id": "11wXCl2UA6pZ"
      },
      "source": [
        "from nltk.corpus import gutenberg\n",
        "gutenberg_split = [[(f, gutenberg.raw(f))] for f in gutenberg.fileids()]\n",
        "\n",
        "[[(k, len(v)) for k,v in node_records] for node_records in gutenberg_split]"
      ],
      "execution_count": null,
      "outputs": []
    },
    {
      "cell_type": "code",
      "metadata": {
        "id": "0styVRKHpxJE"
      },
      "source": [
        "gutenberg_lines = [list(enumerate(gutenberg.raw(f).splitlines())) for f in gutenberg.fileids()]\n",
        "\n",
        "gutenberg_lines[7][:10]\n"
      ],
      "execution_count": null,
      "outputs": []
    },
    {
      "cell_type": "code",
      "metadata": {
        "id": "-q_gQJs5JCfu"
      },
      "source": [
        "def lorem_texts(nodes:int=4, records:int=4, size:int=3) -> List[List[Tuple[Tuple[int, int], str]]]:\n",
        "  return [[(i*records+j, lorem.get_paragraph(count=size)) for j in range(records)] for i in range(nodes)]\n",
        "\n",
        "lorem_texts()"
      ],
      "execution_count": null,
      "outputs": []
    },
    {
      "cell_type": "markdown",
      "metadata": {
        "id": "m9TdVXtEzU8H"
      },
      "source": [
        "## Mapper\n",
        "`(k,v) -> [(k1, v1), (k2, v2), ...]`"
      ]
    },
    {
      "cell_type": "code",
      "metadata": {
        "id": "-Lpeu5t3HWh_"
      },
      "source": [
        "from typing import TypeVar\n",
        "\n",
        "# ignoring k\n",
        "def word_counts(k:Any, text:str) -> List[Tuple[str, int]]:\n",
        "  return [(word, 1) for word in word_tokenize(text)]\n",
        "\n",
        "T = TypeVar('T')\n",
        "\n",
        "def len_mapper(k: T, text) -> List[Tuple[T, int]]:\n",
        "  return [(k, len(text))]\n",
        "\n",
        "[[len_mapper(k, v) for k, v in local_records] for local_records in gutenberg_split]\n"
      ],
      "execution_count": null,
      "outputs": []
    },
    {
      "cell_type": "code",
      "metadata": {
        "id": "U1Ew2W4qvV02"
      },
      "source": [
        "records = [('a', 1), ('b', 2), ('c', 3)]\n",
        "print(list(zip(*records)))"
      ],
      "execution_count": null,
      "outputs": []
    },
    {
      "cell_type": "code",
      "metadata": {
        "id": "SmgsgQ4MvxnF"
      },
      "source": [
        "list(map(lambda k, v: (k, v), ('a', 'b', 'c'), (1, 2, 3)))"
      ],
      "execution_count": null,
      "outputs": []
    },
    {
      "cell_type": "code",
      "metadata": {
        "id": "Dr0tytBPtVBy"
      },
      "source": [
        "def map_local(mapper: Callable) -> Callable:\n",
        "  def inner(records: Iterable[Tuple]) -> List:\n",
        "    return [pair for k, v in records for pair in mapper(k, v)]\n",
        "  return inner\n",
        "\n",
        "def double(k, v) -> List[Tuple]:\n",
        "  return [(k, v)] * 2\n",
        "\n",
        "print(f\"double('a', 1)=\", double('a', 1))\n",
        "\n",
        "print(records, \" -> map_local(double) -> \", map_local(double)(records))\n"
      ],
      "execution_count": null,
      "outputs": []
    },
    {
      "cell_type": "markdown",
      "metadata": {
        "id": "BJ1ozHCsdJTI"
      },
      "source": [
        "## Merge by key\n"
      ]
    },
    {
      "cell_type": "code",
      "metadata": {
        "id": "puuN_jJmyCOT"
      },
      "source": [
        "K = TypeVar('K')\n",
        "V = TypeVar('V')\n",
        "\n",
        "def merge(pairs: Tuple[K, V]) -> List[Tuple[K, List[V]]]:\n",
        "  result = defaultdict(list)\n",
        "  for k, v in pairs:\n",
        "    result[k] = result[k] + [v]\n",
        "  return list(result.items())\n",
        "\n",
        "records = [('a', 1), ('b', 2), ('c', 3), ('a', 4), ('a', 5), ('x', 6), ('y', 7)]\n",
        "\n",
        "print(f'merge({records}) = ', merge(records))"
      ],
      "execution_count": null,
      "outputs": []
    },
    {
      "cell_type": "code",
      "metadata": {
        "id": "Y4f6pLo6-Ig0"
      },
      "source": [
        "def merge_nodes(pairs_by_node: List[List[Tuple[K, V]]]) -> List[List[Tuple[K, List[V]]]]:\n",
        "  return list(map(merge, pairs_by_node))\n",
        "\n",
        "merge_nodes([[('a', 1), ('b', 2), ('c', 3)],\n",
        "         [('a', 4), ('a', 5)],\n",
        "         [('x', 6), ('y', 7)]])"
      ],
      "execution_count": null,
      "outputs": []
    },
    {
      "cell_type": "markdown",
      "metadata": {
        "id": "LypgQeIGNMQC"
      },
      "source": [
        "## Reducer, Combiner\n",
        "`(k, [v1, v2, v3]) -> [(k1, w1), (k2, w2), ...]`"
      ]
    },
    {
      "cell_type": "code",
      "metadata": {
        "id": "-ro7pkPmJtcX"
      },
      "source": [
        "def summer(k: K, values: List[V]) -> List[Tuple[K, Any]]:\n",
        "  return [(k, sum(values))]\n",
        "\n",
        "summer('x', range(10))"
      ],
      "execution_count": null,
      "outputs": []
    },
    {
      "cell_type": "code",
      "metadata": {
        "id": "KCH-MOfmyS-O"
      },
      "source": [
        "local_data = [('a', [1, 2, 3]), ('b', [2])]\n",
        "\n",
        "print(f\"summer('a', [1,2,3])=\", summer('a', [1,2,3]))\n",
        "\n",
        "print(local_data, \" -> map_local(summer) -> \", map_local(summer)(local_data))\n"
      ],
      "execution_count": null,
      "outputs": []
    },
    {
      "cell_type": "markdown",
      "metadata": {
        "id": "kvPcAoMneRm7"
      },
      "source": [
        "## Partitioner\n",
        "На какой узел направлять данные при shuffle?\n",
        "\n",
        "`(k, v, Np) -> p`"
      ]
    },
    {
      "cell_type": "code",
      "metadata": {
        "id": "dYIgPqO6fFgL"
      },
      "source": [
        "print(hash('a'))\n",
        "print(hash('b'))\n",
        "print(hash(1))"
      ],
      "execution_count": null,
      "outputs": []
    },
    {
      "cell_type": "code",
      "metadata": {
        "id": "SPx66JhyfciL"
      },
      "source": [
        "-123%10"
      ],
      "execution_count": null,
      "outputs": []
    },
    {
      "cell_type": "code",
      "metadata": {
        "id": "QfgLiDjTeQ6P"
      },
      "source": [
        "from typing import Hashable\n",
        "def hash_partitioner(k:Hashable, v:int, N:int) -> int:\n",
        "  return hash(k)%N\n",
        "data = \"Hello World!\"\n",
        "list(zip(data, [hash_partitioner(c, 'whatever', 7) for c in data]))"
      ],
      "execution_count": null,
      "outputs": []
    },
    {
      "cell_type": "markdown",
      "metadata": {
        "id": "mKYOLyeMyAq6"
      },
      "source": [
        "## Shuffle"
      ]
    },
    {
      "cell_type": "code",
      "metadata": {
        "id": "iwBVtW1nMvbg"
      },
      "source": [
        "def shuffle(pairs_by_node: List[List[Tuple[K, V]]], Np: int, partitioner:Callable[[K, int, int], int]=hash_partitioner) -> List[List[Tuple[K, List[V]]]]:\n",
        "  partitions = [defaultdict(list) for _ in range(Np)]\n",
        "  for pairs in pairs_by_node:\n",
        "    for k, v in pairs:\n",
        "      partition = partitions[partitioner(k, v, Np)]\n",
        "      partition[k].append(v)\n",
        "  return [[(k, values) for k, values in d.items()] for d in partitions]\n",
        "\n",
        "shuffle([[('a', 1), ('b', 2), ('c', 3)],\n",
        "         [('a', 4), ('a', 5)],\n",
        "         [('x', 6), ('y', 7)]],\n",
        "        4)"
      ],
      "execution_count": null,
      "outputs": []
    },
    {
      "cell_type": "markdown",
      "metadata": {
        "id": "YlaLixuou24r"
      },
      "source": [
        "## Собираем"
      ]
    },
    {
      "cell_type": "code",
      "metadata": {
        "id": "2Ri4eVGouad5"
      },
      "source": [
        "def describe(name: str, value: Any) -> None:\n",
        "  if hasattr(value, '__len__'):\n",
        "    print(f'{name} is a {type(value).__name__} of length {len(value)}')\n",
        "  else:\n",
        "    print(f'{name} is a {type(value).__name__}')\n",
        "  \n",
        "def debug(name: str, v: List) -> None:\n",
        "  describe(name, v)\n",
        "  for i, u in enumerate(v):\n",
        "    if len(u):\n",
        "      describe(name + f'[{i}]', u)\n",
        "      print(f'{name}[{i}][0] = {str(u[0])[:100]}')\n",
        "      return\n",
        "  i = 0\n",
        "  u = v[0]\n",
        "  describe(name + f'[{i}]', u)\n",
        "  describe(name + f'[{i}][0]', u[0])\n",
        "  print(f'{v}[{i}][0] = {str(u[0])[:100]}')\n",
        "  \n",
        "def hadooplike_job(mapper:Callable, reducer:Callable=None, combiner:Callable=None, to_nodes:int=4) -> Callable:\n",
        "  def inner(input: List[List[Tuple]]) -> List[List[Tuple]]:\n",
        "    debug('input', input)\n",
        "    mapped = list(map(map_local(mapper), input))\n",
        "    debug('mapped', mapped)\n",
        "    if reducer is None:\n",
        "      return mapped\n",
        "\n",
        "    if combiner:\n",
        "      merged = list(map(merge, mapped))\n",
        "      debug('merged', merged)\n",
        "      combined = list(map(map_local(combiner), merged))\n",
        "      debug('combined', combined)\n",
        "\n",
        "    else:\n",
        "      combined = mapped\n",
        "\n",
        "    shuffled = shuffle(combined, to_nodes)\n",
        "    debug('shuffled', shuffled)\n",
        "    reduced = list(map(map_local(reducer), shuffled))\n",
        "    debug('reduced', reduced)\n",
        "    return reduced\n",
        "  return inner\n"
      ],
      "execution_count": null,
      "outputs": []
    },
    {
      "cell_type": "code",
      "metadata": {
        "id": "t3R3prwFu-CU"
      },
      "source": [
        "wordcounter = hadooplike_job(word_counts, summer, summer, 4)\n",
        "\n",
        "result = wordcounter(lorem_texts())\n",
        "pass\n",
        "pd.DataFrame(chain(*result), columns=[\"word\", \"occurences\"]).sort_values(\"occurences\").tail(10)"
      ],
      "execution_count": null,
      "outputs": []
    },
    {
      "cell_type": "code",
      "metadata": {
        "id": "i00Mpum_jMOK"
      },
      "source": [
        "%time result = wordcounter(gutenberg_split)\n",
        "pd.DataFrame(chain(*result), columns=[\"word\", \"occurences\"]).sort_values(\"occurences\").tail(10)"
      ],
      "execution_count": null,
      "outputs": []
    },
    {
      "cell_type": "markdown",
      "metadata": {
        "id": "VzZCsTIk_52Q"
      },
      "source": [
        "## Задание\n",
        "5. Переписать mapper и reducer из заданий 1-4 для hadooplike_job, проверить, что логика их работы такая же. Меняется ли ответ, если использовать редюсер и в качестве комбайнера тоже?"
      ]
    }
  ]
}