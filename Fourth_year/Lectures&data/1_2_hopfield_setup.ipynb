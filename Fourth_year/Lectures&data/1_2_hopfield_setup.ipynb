{
  "nbformat": 4,
  "nbformat_minor": 0,
  "metadata": {
    "colab": {
      "provenance": []
    },
    "kernelspec": {
      "name": "python3",
      "display_name": "Python 3"
    },
    "language_info": {
      "name": "python"
    }
  },
  "cells": [
    {
      "cell_type": "code",
      "execution_count": 4,
      "metadata": {
        "colab": {
          "base_uri": "https://localhost:8080/"
        },
        "id": "_wm0oXXHPz2O",
        "outputId": "198c044b-2b11-4a0c-8c5b-4d8b4b6754d9"
      },
      "outputs": [
        {
          "output_type": "stream",
          "name": "stdout",
          "text": [
            "Cloning into '/content/hopfield-tracking'...\n",
            "remote: Enumerating objects: 1481, done.\u001b[K\n",
            "remote: Counting objects: 100% (1481/1481), done.\u001b[K\n",
            "remote: Compressing objects: 100% (466/466), done.\u001b[K\n",
            "remote: Total 1481 (delta 1015), reused 1461 (delta 998), pack-reused 0\u001b[K\n",
            "Receiving objects: 100% (1481/1481), 16.35 MiB | 15.17 MiB/s, done.\n",
            "Resolving deltas: 100% (1015/1015), done.\n"
          ]
        }
      ],
      "source": [
        "!git clone --branch colab https://github.com/fizmat/hopfield-tracking /content/hopfield-tracking"
      ]
    },
    {
      "cell_type": "code",
      "source": [
        "pip install -r /content/hopfield-tracking/requirements-colab.txt"
      ],
      "metadata": {
        "colab": {
          "base_uri": "https://localhost:8080/"
        },
        "id": "kQaqF3OMQGEY",
        "outputId": "55f533e5-d428-43fa-dcb6-e9b2805fdf38"
      },
      "execution_count": 5,
      "outputs": [
        {
          "output_type": "stream",
          "name": "stdout",
          "text": [
            "Looking in indexes: https://pypi.org/simple, https://us-python.pkg.dev/colab-wheels/public/simple/\n",
            "Collecting trackml\n",
            "  Cloning https://github.com/LAL/trackml-library (to revision master) to /tmp/pip-install-yuwo_jc4/trackml_d39adf21c9334fdc85f1cd278fc00e50\n",
            "  Running command git clone -q https://github.com/LAL/trackml-library /tmp/pip-install-yuwo_jc4/trackml_d39adf21c9334fdc85f1cd278fc00e50\n",
            "Requirement already satisfied: pandas in /usr/local/lib/python3.7/dist-packages (from -r /content/hopfield-tracking/requirements-colab.txt (line 2)) (1.3.5)\n",
            "Requirement already satisfied: numpy in /usr/local/lib/python3.7/dist-packages (from -r /content/hopfield-tracking/requirements-colab.txt (line 3)) (1.21.6)\n",
            "Requirement already satisfied: scipy in /usr/local/lib/python3.7/dist-packages (from -r /content/hopfield-tracking/requirements-colab.txt (line 4)) (1.7.3)\n",
            "Requirement already satisfied: scikit-learn in /usr/local/lib/python3.7/dist-packages (from -r /content/hopfield-tracking/requirements-colab.txt (line 5)) (1.0.2)\n",
            "Requirement already satisfied: networkx in /usr/local/lib/python3.7/dist-packages (from -r /content/hopfield-tracking/requirements-colab.txt (line 6)) (2.6.3)\n",
            "Requirement already satisfied: seaborn in /usr/local/lib/python3.7/dist-packages (from -r /content/hopfield-tracking/requirements-colab.txt (line 13)) (0.11.2)\n",
            "Requirement already satisfied: holoviews in /usr/local/lib/python3.7/dist-packages (from -r /content/hopfield-tracking/requirements-colab.txt (line 14)) (1.14.9)\n",
            "Requirement already satisfied: bokeh in /usr/local/lib/python3.7/dist-packages (from -r /content/hopfield-tracking/requirements-colab.txt (line 15)) (2.3.3)\n",
            "Requirement already satisfied: matplotlib in /usr/local/lib/python3.7/dist-packages (from -r /content/hopfield-tracking/requirements-colab.txt (line 16)) (3.2.2)\n",
            "Requirement already satisfied: plotly in /usr/local/lib/python3.7/dist-packages (from -r /content/hopfield-tracking/requirements-colab.txt (line 17)) (5.5.0)\n",
            "Collecting pytest>=3.9.0\n",
            "  Downloading pytest-7.2.0-py3-none-any.whl (316 kB)\n",
            "\u001b[K     |████████████████████████████████| 316 kB 5.0 MB/s \n",
            "\u001b[?25hRequirement already satisfied: python-dateutil>=2.7.3 in /usr/local/lib/python3.7/dist-packages (from pandas->-r /content/hopfield-tracking/requirements-colab.txt (line 2)) (2.8.2)\n",
            "Requirement already satisfied: pytz>=2017.3 in /usr/local/lib/python3.7/dist-packages (from pandas->-r /content/hopfield-tracking/requirements-colab.txt (line 2)) (2022.6)\n",
            "Requirement already satisfied: tomli>=1.0.0 in /usr/local/lib/python3.7/dist-packages (from pytest>=3.9.0->-r /content/hopfield-tracking/requirements-colab.txt (line 20)) (2.0.1)\n",
            "Collecting exceptiongroup>=1.0.0rc8\n",
            "  Downloading exceptiongroup-1.0.4-py3-none-any.whl (14 kB)\n",
            "Requirement already satisfied: importlib-metadata>=0.12 in /usr/local/lib/python3.7/dist-packages (from pytest>=3.9.0->-r /content/hopfield-tracking/requirements-colab.txt (line 20)) (4.13.0)\n",
            "Requirement already satisfied: packaging in /usr/local/lib/python3.7/dist-packages (from pytest>=3.9.0->-r /content/hopfield-tracking/requirements-colab.txt (line 20)) (21.3)\n",
            "Collecting iniconfig\n",
            "  Downloading iniconfig-1.1.1-py2.py3-none-any.whl (5.0 kB)\n",
            "Collecting pluggy<2.0,>=0.12\n",
            "  Downloading pluggy-1.0.0-py2.py3-none-any.whl (13 kB)\n",
            "Requirement already satisfied: attrs>=19.2.0 in /usr/local/lib/python3.7/dist-packages (from pytest>=3.9.0->-r /content/hopfield-tracking/requirements-colab.txt (line 20)) (22.1.0)\n",
            "Requirement already satisfied: zipp>=0.5 in /usr/local/lib/python3.7/dist-packages (from importlib-metadata>=0.12->pytest>=3.9.0->-r /content/hopfield-tracking/requirements-colab.txt (line 20)) (3.10.0)\n",
            "Requirement already satisfied: typing-extensions>=3.6.4 in /usr/local/lib/python3.7/dist-packages (from importlib-metadata>=0.12->pytest>=3.9.0->-r /content/hopfield-tracking/requirements-colab.txt (line 20)) (4.1.1)\n",
            "Requirement already satisfied: six>=1.5 in /usr/local/lib/python3.7/dist-packages (from python-dateutil>=2.7.3->pandas->-r /content/hopfield-tracking/requirements-colab.txt (line 2)) (1.15.0)\n",
            "Requirement already satisfied: threadpoolctl>=2.0.0 in /usr/local/lib/python3.7/dist-packages (from scikit-learn->-r /content/hopfield-tracking/requirements-colab.txt (line 5)) (3.1.0)\n",
            "Requirement already satisfied: joblib>=0.11 in /usr/local/lib/python3.7/dist-packages (from scikit-learn->-r /content/hopfield-tracking/requirements-colab.txt (line 5)) (1.2.0)\n",
            "Requirement already satisfied: cycler>=0.10 in /usr/local/lib/python3.7/dist-packages (from matplotlib->-r /content/hopfield-tracking/requirements-colab.txt (line 16)) (0.11.0)\n",
            "Requirement already satisfied: kiwisolver>=1.0.1 in /usr/local/lib/python3.7/dist-packages (from matplotlib->-r /content/hopfield-tracking/requirements-colab.txt (line 16)) (1.4.4)\n",
            "Requirement already satisfied: pyparsing!=2.0.4,!=2.1.2,!=2.1.6,>=2.0.1 in /usr/local/lib/python3.7/dist-packages (from matplotlib->-r /content/hopfield-tracking/requirements-colab.txt (line 16)) (3.0.9)\n",
            "Requirement already satisfied: param<2.0,>=1.9.3 in /usr/local/lib/python3.7/dist-packages (from holoviews->-r /content/hopfield-tracking/requirements-colab.txt (line 14)) (1.12.2)\n",
            "Requirement already satisfied: colorcet in /usr/local/lib/python3.7/dist-packages (from holoviews->-r /content/hopfield-tracking/requirements-colab.txt (line 14)) (3.0.1)\n",
            "Requirement already satisfied: pyviz-comms>=0.7.4 in /usr/local/lib/python3.7/dist-packages (from holoviews->-r /content/hopfield-tracking/requirements-colab.txt (line 14)) (2.2.1)\n",
            "Requirement already satisfied: panel>=0.8.0 in /usr/local/lib/python3.7/dist-packages (from holoviews->-r /content/hopfield-tracking/requirements-colab.txt (line 14)) (0.12.1)\n",
            "Requirement already satisfied: tqdm>=4.48.0 in /usr/local/lib/python3.7/dist-packages (from panel>=0.8.0->holoviews->-r /content/hopfield-tracking/requirements-colab.txt (line 14)) (4.64.1)\n",
            "Requirement already satisfied: bleach in /usr/local/lib/python3.7/dist-packages (from panel>=0.8.0->holoviews->-r /content/hopfield-tracking/requirements-colab.txt (line 14)) (5.0.1)\n",
            "Requirement already satisfied: pyct>=0.4.4 in /usr/local/lib/python3.7/dist-packages (from panel>=0.8.0->holoviews->-r /content/hopfield-tracking/requirements-colab.txt (line 14)) (0.4.8)\n",
            "Requirement already satisfied: markdown in /usr/local/lib/python3.7/dist-packages (from panel>=0.8.0->holoviews->-r /content/hopfield-tracking/requirements-colab.txt (line 14)) (3.4.1)\n",
            "Requirement already satisfied: requests in /usr/local/lib/python3.7/dist-packages (from panel>=0.8.0->holoviews->-r /content/hopfield-tracking/requirements-colab.txt (line 14)) (2.23.0)\n",
            "Requirement already satisfied: pillow>=7.1.0 in /usr/local/lib/python3.7/dist-packages (from bokeh->-r /content/hopfield-tracking/requirements-colab.txt (line 15)) (7.1.2)\n",
            "Requirement already satisfied: tornado>=5.1 in /usr/local/lib/python3.7/dist-packages (from bokeh->-r /content/hopfield-tracking/requirements-colab.txt (line 15)) (6.0.4)\n",
            "Requirement already satisfied: Jinja2>=2.9 in /usr/local/lib/python3.7/dist-packages (from bokeh->-r /content/hopfield-tracking/requirements-colab.txt (line 15)) (2.11.3)\n",
            "Requirement already satisfied: PyYAML>=3.10 in /usr/local/lib/python3.7/dist-packages (from bokeh->-r /content/hopfield-tracking/requirements-colab.txt (line 15)) (6.0)\n",
            "Requirement already satisfied: MarkupSafe>=0.23 in /usr/local/lib/python3.7/dist-packages (from Jinja2>=2.9->bokeh->-r /content/hopfield-tracking/requirements-colab.txt (line 15)) (2.0.1)\n",
            "Requirement already satisfied: tenacity>=6.2.0 in /usr/local/lib/python3.7/dist-packages (from plotly->-r /content/hopfield-tracking/requirements-colab.txt (line 17)) (8.1.0)\n",
            "Requirement already satisfied: webencodings in /usr/local/lib/python3.7/dist-packages (from bleach->panel>=0.8.0->holoviews->-r /content/hopfield-tracking/requirements-colab.txt (line 14)) (0.5.1)\n",
            "Requirement already satisfied: urllib3!=1.25.0,!=1.25.1,<1.26,>=1.21.1 in /usr/local/lib/python3.7/dist-packages (from requests->panel>=0.8.0->holoviews->-r /content/hopfield-tracking/requirements-colab.txt (line 14)) (1.24.3)\n",
            "Requirement already satisfied: chardet<4,>=3.0.2 in /usr/local/lib/python3.7/dist-packages (from requests->panel>=0.8.0->holoviews->-r /content/hopfield-tracking/requirements-colab.txt (line 14)) (3.0.4)\n",
            "Requirement already satisfied: certifi>=2017.4.17 in /usr/local/lib/python3.7/dist-packages (from requests->panel>=0.8.0->holoviews->-r /content/hopfield-tracking/requirements-colab.txt (line 14)) (2022.9.24)\n",
            "Requirement already satisfied: idna<3,>=2.5 in /usr/local/lib/python3.7/dist-packages (from requests->panel>=0.8.0->holoviews->-r /content/hopfield-tracking/requirements-colab.txt (line 14)) (2.10)\n",
            "Building wheels for collected packages: trackml\n",
            "  Building wheel for trackml (setup.py) ... \u001b[?25l\u001b[?25hdone\n",
            "  Created wheel for trackml: filename=trackml-3-py2.py3-none-any.whl size=13526 sha256=a63b81290ac11a5494afeb2ea7def13b37be7ed18bdd448cda92829712dbec1e\n",
            "  Stored in directory: /tmp/pip-ephem-wheel-cache-d15c3u4g/wheels/09/fb/6e/3cec5c481377b8ee66727f7390fbf5b7b7102d77ead05a4f10\n",
            "Successfully built trackml\n",
            "Installing collected packages: pluggy, iniconfig, exceptiongroup, trackml, pytest\n",
            "  Attempting uninstall: pluggy\n",
            "    Found existing installation: pluggy 0.7.1\n",
            "    Uninstalling pluggy-0.7.1:\n",
            "      Successfully uninstalled pluggy-0.7.1\n",
            "  Attempting uninstall: pytest\n",
            "    Found existing installation: pytest 3.6.4\n",
            "    Uninstalling pytest-3.6.4:\n",
            "      Successfully uninstalled pytest-3.6.4\n",
            "Successfully installed exceptiongroup-1.0.4 iniconfig-1.1.1 pluggy-1.0.0 pytest-7.2.0 trackml-3\n"
          ]
        }
      ]
    },
    {
      "cell_type": "code",
      "source": [
        "!pytest /content/hopfield-tracking"
      ],
      "metadata": {
        "colab": {
          "base_uri": "https://localhost:8080/"
        },
        "id": "hQrFMVlyQMvv",
        "outputId": "8766f07e-6e74-48b0-fa78-73777a29a2a2"
      },
      "execution_count": 6,
      "outputs": [
        {
          "output_type": "stream",
          "name": "stdout",
          "text": [
            "\u001b[1m============================= test session starts ==============================\u001b[0m\n",
            "platform linux -- Python 3.7.15, pytest-7.2.0, pluggy-1.0.0\n",
            "rootdir: /content/hopfield-tracking, configfile: tox.ini\n",
            "plugins: typeguard-2.7.1\n",
            "collected 62 items / 8 deselected / 54 selected                                \u001b[0m\n",
            "\n",
            "hopfield-tracking/datasets/test_bman.py \u001b[32m.\u001b[0m\u001b[32m.\u001b[0m\u001b[32m.\u001b[0m\u001b[32m                              [  5%]\u001b[0m\n",
            "hopfield-tracking/datasets/test_datasets.py \u001b[32m.\u001b[0m\u001b[32m.\u001b[0m\u001b[32m.\u001b[0m\u001b[32m.\u001b[0m\u001b[32m.\u001b[0m\u001b[32m.\u001b[0m\u001b[32m.\u001b[0m\u001b[32m                      [ 18%]\u001b[0m\n",
            "hopfield-tracking/datasets/test_simple.py \u001b[32m.\u001b[0m\u001b[32m.\u001b[0m\u001b[32m.\u001b[0m\u001b[32m.\u001b[0m\u001b[32m.\u001b[0m\u001b[32m.\u001b[0m\u001b[32m.\u001b[0m\u001b[32m.\u001b[0m\u001b[32m                       [ 33%]\u001b[0m\n",
            "hopfield-tracking/datasets/test_spdsim.py \u001b[32m.\u001b[0m\u001b[32m.\u001b[0m\u001b[32m                             [ 37%]\u001b[0m\n",
            "hopfield-tracking/datasets/test_trackml.py \u001b[32m.\u001b[0m\u001b[32m.\u001b[0m\u001b[32m.\u001b[0m\u001b[32m                           [ 42%]\u001b[0m\n",
            "hopfield-tracking/hopfield/test_iterate.py \u001b[32m.\u001b[0m\u001b[32m.\u001b[0m\u001b[32m.\u001b[0m\u001b[32m                           [ 48%]\u001b[0m\n",
            "hopfield-tracking/hopfield/energy/test_cross.py \u001b[32m.\u001b[0m\u001b[32m.\u001b[0m\u001b[32m.\u001b[0m\u001b[32m.\u001b[0m\u001b[32m.\u001b[0m\u001b[32m                    [ 57%]\u001b[0m\n",
            "hopfield-tracking/hopfield/energy/test_curvature.py \u001b[32m.\u001b[0m\u001b[32m.\u001b[0m\u001b[32m.\u001b[0m\u001b[32m.\u001b[0m\u001b[32m.\u001b[0m\u001b[32m.\u001b[0m\u001b[32m               [ 68%]\u001b[0m\n",
            "hopfield-tracking/hopfield/energy/test_total.py \u001b[32m.\u001b[0m\u001b[32m.\u001b[0m\u001b[32m.\u001b[0m\u001b[32m.\u001b[0m\u001b[32m                     [ 75%]\u001b[0m\n",
            "hopfield-tracking/metrics/test_segments.py \u001b[32m.\u001b[0m\u001b[32m                             [ 77%]\u001b[0m\n",
            "hopfield-tracking/metrics/test_tracks.py \u001b[32m.\u001b[0m\u001b[32m.\u001b[0m\u001b[32m.\u001b[0m\u001b[32m.\u001b[0m\u001b[32m.\u001b[0m\u001b[32m                           [ 87%]\u001b[0m\n",
            "hopfield-tracking/segment/test_candidate.py \u001b[32m.\u001b[0m\u001b[32m.\u001b[0m\u001b[32m.\u001b[0m\u001b[32m                          [ 92%]\u001b[0m\n",
            "hopfield-tracking/segment/test_track.py \u001b[32m.\u001b[0m\u001b[32m.\u001b[0m\u001b[32m                               [ 96%]\u001b[0m\n",
            "hopfield-tracking/tracking/test_hit.py \u001b[32m.\u001b[0m\u001b[32m.\u001b[0m\u001b[32m                                [100%]\u001b[0m\n",
            "\n",
            "\u001b[32m======================= \u001b[32m\u001b[1m54 passed\u001b[0m, \u001b[33m8 deselected\u001b[0m\u001b[32m in 3.75s\u001b[0m\u001b[32m =======================\u001b[0m\n"
          ]
        }
      ]
    },
    {
      "cell_type": "code",
      "source": [
        "!cd /content/hopfield-tracking/data/trackml && wget https://drive.uni-dubna.ru/index.php/s/qFKLz9Z6Yiw9SN3/download/blacklist_training.zip\n",
        "!cd /content/hopfield-tracking/data/trackml && wget https://drive.uni-dubna.ru/index.php/s/JybcAq99pmTGwoG/download/train_sample.zip\n",
        "!cd /content/hopfield-tracking/data/bman && wget https://drive.uni-dubna.ru/index.php/s/zqAcQt8NY35ewdS/download/simdata_ArPb_3.2AGeV_mb_1.zip"
      ],
      "metadata": {
        "colab": {
          "base_uri": "https://localhost:8080/"
        },
        "id": "JD0wfxPgC0ZV",
        "outputId": "5d7894c7-801b-4252-8b59-a2124c76c009"
      },
      "execution_count": 8,
      "outputs": [
        {
          "output_type": "stream",
          "name": "stdout",
          "text": [
            "--2022-11-17 12:45:54--  https://drive.uni-dubna.ru/index.php/s/qFKLz9Z6Yiw9SN3/download/blacklist_training.zip\n",
            "Resolving drive.uni-dubna.ru (drive.uni-dubna.ru)... 159.93.167.201\n",
            "Connecting to drive.uni-dubna.ru (drive.uni-dubna.ru)|159.93.167.201|:443... connected.\n",
            "HTTP request sent, awaiting response... 200 OK\n",
            "Length: 11419812 (11M) [application/zip]\n",
            "Saving to: ‘blacklist_training.zip.1’\n",
            "\n",
            "blacklist_training. 100%[===================>]  10.89M  4.40MB/s    in 2.5s    \n",
            "\n",
            "2022-11-17 12:45:58 (4.40 MB/s) - ‘blacklist_training.zip.1’ saved [11419812/11419812]\n",
            "\n",
            "--2022-11-17 12:45:58--  https://drive.uni-dubna.ru/index.php/s/JybcAq99pmTGwoG/download/train_sample.zip\n",
            "Resolving drive.uni-dubna.ru (drive.uni-dubna.ru)... 159.93.167.201\n",
            "Connecting to drive.uni-dubna.ru (drive.uni-dubna.ru)|159.93.167.201|:443... connected.\n",
            "HTTP request sent, awaiting response... 200 OK\n",
            "Length: 903185165 (861M) [application/zip]\n",
            "Saving to: ‘train_sample.zip.1’\n",
            "\n",
            "train_sample.zip.1  100%[===================>] 861.34M  9.40MB/s    in 1m 55s  \n",
            "\n",
            "2022-11-17 12:47:54 (7.49 MB/s) - ‘train_sample.zip.1’ saved [903185165/903185165]\n",
            "\n",
            "--2022-11-17 12:47:54--  https://drive.uni-dubna.ru/index.php/s/zqAcQt8NY35ewdS/download/simdata_ArPb_3.2AGeV_mb_1.zip\n",
            "Resolving drive.uni-dubna.ru (drive.uni-dubna.ru)... 159.93.167.201\n",
            "Connecting to drive.uni-dubna.ru (drive.uni-dubna.ru)|159.93.167.201|:443... connected.\n",
            "HTTP request sent, awaiting response... 200 OK\n",
            "Length: 204137335 (195M) [application/zip]\n",
            "Saving to: ‘simdata_ArPb_3.2AGeV_mb_1.zip.1’\n",
            "\n",
            "simdata_ArPb_3.2AGe 100%[===================>] 194.68M  9.02MB/s    in 25s     \n",
            "\n",
            "2022-11-17 12:48:19 (7.91 MB/s) - ‘simdata_ArPb_3.2AGeV_mb_1.zip.1’ saved [204137335/204137335]\n",
            "\n"
          ]
        }
      ]
    },
    {
      "cell_type": "code",
      "source": [
        "cd /content/hopfield-tracking"
      ],
      "metadata": {
        "id": "_rw_NnFuQzVr",
        "colab": {
          "base_uri": "https://localhost:8080/"
        },
        "outputId": "b96779b5-7e01-4412-858a-523eaf162ba9"
      },
      "execution_count": 10,
      "outputs": [
        {
          "output_type": "stream",
          "name": "stdout",
          "text": [
            "/content/hopfield-tracking\n"
          ]
        }
      ]
    },
    {
      "cell_type": "code",
      "source": [],
      "metadata": {
        "id": "63w_yosfoxoi"
      },
      "execution_count": null,
      "outputs": []
    }
  ]
}