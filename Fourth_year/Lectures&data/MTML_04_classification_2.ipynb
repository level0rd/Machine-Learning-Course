{
  "cells": [
    {
      "cell_type": "code",
      "execution_count": null,
      "metadata": {
        "id": "P3wsRRfKXA7a"
      },
      "outputs": [],
      "source": [
        "import pandas as pd\n",
        "import numpy as np\n",
        "import seaborn as sns\n",
        "import matplotlib.pyplot as plt"
      ]
    },
    {
      "cell_type": "markdown",
      "metadata": {
        "id": "D1M9mBH7XA7c"
      },
      "source": [
        "# Voting classifier\n",
        "\n",
        "<img src=http://rasbt.github.io/mlxtend/user_guide/classifier/EnsembleVoteClassifier_files/majority_voting.png width=400/>\n",
        "\n",
        "</br>\n",
        "\n",
        "**Метод простого голосования**\n",
        "* $c_1, c_2, ..., c_m$ - обученные алгоритмы  \n",
        "* Классификация: относим $x$ к классу, за который проголосовало *большинство* из $c_1(x), c_2(x), ..., c_m(x)$\n",
        "* Регрессия: ответом является среднее значение $c_1(x), c_2(x), ..., c_m(x)$\n",
        "\n"
      ]
    },
    {
      "cell_type": "code",
      "execution_count": null,
      "metadata": {
        "id": "ezrX5qiHXA7f"
      },
      "outputs": [],
      "source": [
        "from sklearn.datasets import make_blobs\n",
        "X1, y1 = make_blobs(n_samples=1000, centers=[[-2, 1], [0, -2]], cluster_std=1)\n",
        "X2, y2 = make_blobs(n_samples=500, centers=[[3, 0], [1, 3]], cluster_std=1)\n",
        "X = np.concatenate([X1, X2])\n",
        "y = np.concatenate([y1, y2])"
      ]
    },
    {
      "cell_type": "code",
      "execution_count": null,
      "metadata": {
        "id": "uPUEkozZXA7g"
      },
      "outputs": [],
      "source": [
        "def plot_blobs(x, y):\n",
        "\n",
        "    fig, ax = plt.subplots(1, 1, figsize=(15, 10))\n",
        "    reds = y == 0\n",
        "    blues = y == 1\n",
        "    \n",
        "    ax.scatter(x[reds, 0], x[reds, 1], c=\"red\", s=80, edgecolor=\"K\")\n",
        "    ax.scatter(x[blues, 0], x[blues, 1], c=\"blue\", s=80, edgecolor=\"K\")\n",
        "\n",
        "    plt.show()\n",
        "\n",
        "plot_blobs(X, y)"
      ]
    },
    {
      "cell_type": "code",
      "execution_count": null,
      "metadata": {
        "id": "nOjkMPbNXA7i"
      },
      "outputs": [],
      "source": [
        "from sklearn.model_selection import train_test_split\n",
        "\n",
        "X_train, X_test, y_train, y_test = train_test_split(X, y, test_size=0.3)"
      ]
    },
    {
      "cell_type": "code",
      "execution_count": null,
      "metadata": {
        "id": "8Q-SyFzPXA7j"
      },
      "outputs": [],
      "source": [
        "X_train.shape, X_test.shape"
      ]
    },
    {
      "cell_type": "markdown",
      "metadata": {
        "id": "ee24L83VXA7j"
      },
      "source": [
        "## Логистическая регрессия"
      ]
    },
    {
      "cell_type": "code",
      "execution_count": null,
      "metadata": {
        "id": "d8bW1_i5XA7k"
      },
      "outputs": [],
      "source": [
        "from sklearn.linear_model import LogisticRegression\n",
        "\n",
        "lr = LogisticRegression()\n",
        "lr.fit(X_train, y_train)\n",
        "y_pred = lr.predict(X_test)"
      ]
    },
    {
      "cell_type": "code",
      "execution_count": null,
      "metadata": {
        "id": "Gfomgk-IXA7l"
      },
      "outputs": [],
      "source": [
        "from sklearn.metrics import confusion_matrix, ConfusionMatrixDisplay\n",
        "confusion_matrix(y_test, y_pred)"
      ]
    },
    {
      "cell_type": "code",
      "execution_count": null,
      "metadata": {
        "id": "HsdvzD_7XA7m"
      },
      "outputs": [],
      "source": [
        "def plot_confusion(model, X, y, class_names=('red', 'blue')):\n",
        "    ConfusionMatrixDisplay.from_estimator(model, X, y, cmap=plt.cm.Blues, display_labels=class_names, values_format='d')\n",
        "plot_confusion(lr, X_train, y_train)\n",
        "plot_confusion(lr, X_test, y_test)"
      ]
    },
    {
      "cell_type": "code",
      "source": [
        "from matplotlib.colors import ListedColormap, LinearSegmentedColormap\n",
        "def plot_blob_classes(model, X, y):\n",
        "    plt.figure(figsize=(15,8))\n",
        "\n",
        "    eps = 0.1\n",
        "    xx, yy = np.meshgrid(np.linspace(np.min(X[:,0]) - eps, np.max(X[:,0]) + eps, 500),\n",
        "                         np.linspace(np.min(X[:,1]) - eps, np.max(X[:,1]) + eps, 500))\n",
        "\n",
        "    colors = (\"red\", \"blue\")\n",
        "    colored_y = np.zeros(y.size, dtype=str)\n",
        "\n",
        "    for i, cl in enumerate([0,1]):\n",
        "        colored_y[y == cl] = str(colors[i])\n",
        "\n",
        "    Z = model.predict(np.c_[xx.ravel(), yy.ravel()])\n",
        "\n",
        "    Z = Z.reshape(xx.shape)\n",
        "\n",
        "    cmap_light = ListedColormap(['#FFAAAA', 'grey'])\n",
        "    plt.pcolormesh(xx, yy, Z, cmap=cmap_light)\n",
        "    plt.scatter(X[:, 0], X[:, 1], c=colored_y, edgecolors='K')\n",
        "    plt.show()\n",
        "\n",
        "plot_blob_classes(lr, X, y)"
      ],
      "metadata": {
        "id": "gOs5L-SzLVit"
      },
      "execution_count": null,
      "outputs": []
    },
    {
      "cell_type": "code",
      "execution_count": null,
      "metadata": {
        "id": "tb5lkmCIXA7m"
      },
      "outputs": [],
      "source": [
        "lr.score(X_test, y_test)"
      ]
    },
    {
      "cell_type": "markdown",
      "metadata": {
        "id": "Jl0gLXBJXA7n"
      },
      "source": [
        "## Дерево решений"
      ]
    },
    {
      "cell_type": "code",
      "execution_count": null,
      "metadata": {
        "id": "SmzYqzfRXA7o"
      },
      "outputs": [],
      "source": [
        "from sklearn.tree import DecisionTreeClassifier\n",
        "\n",
        "dt = DecisionTreeClassifier(max_depth=2)\n",
        "dt.fit(X_train, y_train)\n",
        "plot_confusion(dt, X_test, y_test)\n",
        "plot_blob_classes(dt, X, y)\n",
        "dt.score(X_test, y_test)"
      ]
    },
    {
      "cell_type": "code",
      "source": [
        "dt3 = DecisionTreeClassifier(max_depth=3)\n",
        "dt3.fit(X_train, y_train)\n",
        "plot_confusion(dt3, X_test, y_test)\n",
        "plot_blob_classes(dt3, X, y)\n",
        "dt3.score(X_test, y_test)"
      ],
      "metadata": {
        "id": "uA576864Otk0"
      },
      "execution_count": null,
      "outputs": []
    },
    {
      "cell_type": "markdown",
      "metadata": {
        "id": "Pk8PtMEKXA7o"
      },
      "source": [
        "## K-NN "
      ]
    },
    {
      "cell_type": "code",
      "execution_count": null,
      "metadata": {
        "id": "M5-mX_rCXA7o"
      },
      "outputs": [],
      "source": [
        "from sklearn.neighbors import KNeighborsClassifier\n",
        "\n",
        "knn = KNeighborsClassifier(n_neighbors=1)\n",
        "knn.fit(X_train, y_train)\n",
        "plot_confusion(knn, X_test, y_test)\n",
        "plot_blob_classes(knn, X, y)\n",
        "\n",
        "knn.score(X_test, y_test)"
      ]
    },
    {
      "cell_type": "markdown",
      "metadata": {
        "id": "lvxG3BH-XA7p"
      },
      "source": [
        "## Наивный байесовский классификатор"
      ]
    },
    {
      "cell_type": "code",
      "execution_count": null,
      "metadata": {
        "id": "dB1jFvP0XA7q"
      },
      "outputs": [],
      "source": [
        "from sklearn.naive_bayes import GaussianNB\n",
        "\n",
        "gnb = GaussianNB()\n",
        "gnb.fit(X_train, y_train)\n",
        "plot_confusion(gnb, X_test, y_test)\n",
        "plot_blob_classes(gnb, X, y)\n",
        "gnb.score(X_test, y_test)"
      ]
    },
    {
      "cell_type": "markdown",
      "metadata": {
        "id": "avAqY-mAXA7q"
      },
      "source": [
        "## Voting classifier"
      ]
    },
    {
      "cell_type": "code",
      "execution_count": null,
      "metadata": {
        "id": "jAioZ6GIXA7q"
      },
      "outputs": [],
      "source": [
        "classifiers = [('lr', lr), ('dt2', dt), ('dt3', dt3), ('knn', knn), ('gnb', gnb)]\n",
        "classifiers"
      ]
    },
    {
      "cell_type": "code",
      "execution_count": null,
      "metadata": {
        "id": "1Ck07NsTXA7q"
      },
      "outputs": [],
      "source": [
        "from sklearn.ensemble import VotingClassifier\n",
        "\n",
        "vc = VotingClassifier(estimators=classifiers, voting='hard')\n",
        "vc.fit(X_train, y_train)\n",
        "plot_confusion(vc, X_test, y_test)\n",
        "plot_blob_classes(vc, X, y)\n",
        "vc.score(X_test, y_test)"
      ]
    },
    {
      "cell_type": "code",
      "execution_count": null,
      "metadata": {
        "id": "G3zXry0CXA7r"
      },
      "outputs": [],
      "source": [
        "params = {'lr__C' : [0.5, 1, 1.5], \n",
        "          'lr__class_weight': [None,'balanced'],\n",
        "          'dt2__max_depth' : np.arange(1, 6),\n",
        "          'dt3__max_depth' : np.arange(1, 6),\n",
        "          'knn__n_neighbors' : np.arange(1, 20),\n",
        "          'voting' : ['hard', 'soft']} \n",
        "np.prod([len(v) for k, v in params.items()])"
      ]
    },
    {
      "cell_type": "code",
      "execution_count": null,
      "metadata": {
        "id": "3_OesEiNXA7s"
      },
      "outputs": [],
      "source": [
        "%%time\n",
        "from sklearn.model_selection import GridSearchCV, RandomizedSearchCV\n",
        "optimal = RandomizedSearchCV(estimator=vc, param_distributions=params, n_iter=500, cv=5, scoring='accuracy', n_jobs=-1).fit(X_train, y_train)"
      ]
    },
    {
      "cell_type": "code",
      "execution_count": null,
      "metadata": {
        "id": "6xuNWRKVXA7s"
      },
      "outputs": [],
      "source": [
        "optimal.best_params_"
      ]
    },
    {
      "cell_type": "code",
      "execution_count": null,
      "metadata": {
        "id": "KGdMiB9QXA7t"
      },
      "outputs": [],
      "source": [
        "plot_confusion(optimal, X_test, y_test)\n",
        "plot_blob_classes(optimal, X, y)\n",
        "optimal.score(X_test, y_test)"
      ]
    },
    {
      "cell_type": "markdown",
      "metadata": {
        "id": "Vv5DaJf4XA7u"
      },
      "source": [
        "# Случайный лес\n",
        "\n",
        "\n",
        "**Бутстрэп**  \n",
        "<img src=https://cdn.analyticsvidhya.com/wp-content/uploads/2020/02/Bagging.png width=700/>\n",
        "\n",
        "</br>\n",
        "\n",
        "<image src=https://всеответы.рф/wp-content/uploads/2020/03/Random-forest.jpg width=800 />"
      ]
    },
    {
      "cell_type": "markdown",
      "source": [
        "## Пятна"
      ],
      "metadata": {
        "id": "yXzT5NlGZjDi"
      }
    },
    {
      "cell_type": "code",
      "source": [
        "from sklearn.ensemble import RandomForestClassifier\n",
        "\n",
        "rf = RandomForestClassifier(min_samples_split=10).fit(X_train, y_train)\n",
        "plot_confusion(rf, X_test, y_test)\n",
        "plot_blob_classes(rf, X, y)\n",
        "rf.score(X_test, y_test)"
      ],
      "metadata": {
        "id": "M41MCyS5TLAE"
      },
      "execution_count": null,
      "outputs": []
    },
    {
      "cell_type": "markdown",
      "source": [
        "## Титаник"
      ],
      "metadata": {
        "id": "rWfd4MWsZrDX"
      }
    },
    {
      "cell_type": "code",
      "execution_count": null,
      "metadata": {
        "id": "wqOXuYfRXA7v"
      },
      "outputs": [],
      "source": [
        "!wget -c https://web.stanford.edu/class/archive/cs/cs109/cs109.1166/stuff/titanic.csv\n",
        "!ls"
      ]
    },
    {
      "cell_type": "code",
      "execution_count": null,
      "metadata": {
        "id": "TDAQYbDhXA7w"
      },
      "outputs": [],
      "source": [
        "df = pd.read_csv('titanic.csv')\n",
        "df"
      ]
    },
    {
      "cell_type": "code",
      "execution_count": null,
      "metadata": {
        "id": "I28qnbHbXA7w"
      },
      "outputs": [],
      "source": [
        "yt = df.Survived.values\n",
        "Xt = df.drop(['Name', 'Survived'], axis=1)\n",
        "Xt.sample(5)"
      ]
    },
    {
      "cell_type": "code",
      "execution_count": null,
      "metadata": {
        "id": "b7WOuKt2XA7w"
      },
      "outputs": [],
      "source": [
        "Xt['Sex'].unique()"
      ]
    },
    {
      "cell_type": "code",
      "execution_count": null,
      "metadata": {
        "id": "uDdy9dOvXA7w"
      },
      "outputs": [],
      "source": [
        "categories = {'female' : 1, 'male' : 0}\n",
        "Xt['Sex'] = Xt['Sex'].map(categories)\n",
        "Xt.sample(5)"
      ]
    },
    {
      "cell_type": "code",
      "execution_count": null,
      "metadata": {
        "id": "4ED1jcUmXA7x"
      },
      "outputs": [],
      "source": [
        "from sklearn.model_selection import train_test_split\n",
        "Xt_train, Xt_test, yt_train, yt_test = train_test_split(Xt, yt, test_size=0.25)"
      ]
    },
    {
      "cell_type": "code",
      "execution_count": null,
      "metadata": {
        "id": "8AdVa4jkXA7x"
      },
      "outputs": [],
      "source": [
        "%%time\n",
        "from sklearn.ensemble import RandomForestClassifier\n",
        "rf = RandomForestClassifier().fit(Xt_train, yt_train)"
      ]
    },
    {
      "cell_type": "code",
      "execution_count": null,
      "metadata": {
        "id": "ivIWh5LtXA7x"
      },
      "outputs": [],
      "source": [
        "plot_confusion(rf, Xt_test, yt_test, class_names=['died', 'survived'])"
      ]
    },
    {
      "cell_type": "code",
      "execution_count": null,
      "metadata": {
        "id": "PzpVqcZfXA7y"
      },
      "outputs": [],
      "source": [
        "rf.score(Xt_test, yt_test)"
      ]
    },
    {
      "cell_type": "code",
      "execution_count": null,
      "metadata": {
        "id": "sD_LateiXA7z"
      },
      "outputs": [],
      "source": [
        "sns.barplot(x=rf.feature_importances_, y=Xt_train.columns)"
      ]
    },
    {
      "cell_type": "markdown",
      "metadata": {
        "id": "DS7DIyo1ToPf"
      },
      "source": [
        "#Boosting\n",
        "<image src=\"https://upload.wikimedia.org/wikipedia/commons/b/b5/Ensemble_Boosting.svg\" alt=\"boosting diagram\" width=800/>"
      ]
    },
    {
      "cell_type": "code",
      "source": [
        "from sklearn.ensemble import AdaBoostClassifier\n",
        "\n",
        "ab = AdaBoostClassifier().fit(X_train, y_train)\n",
        "plot_blob_classes(ab, X, y)\n",
        "ab.score(X_test, y_test)"
      ],
      "metadata": {
        "id": "VNgsrP2Q15ta"
      },
      "execution_count": null,
      "outputs": []
    },
    {
      "cell_type": "code",
      "source": [
        "ab = AdaBoostClassifier().fit(Xt_train, yt_train)\n",
        "sns.barplot(x=ab.feature_importances_, y=Xt_train.columns)\n",
        "ab.score(Xt_test, yt_test)"
      ],
      "metadata": {
        "id": "HZTLIqgT4Esk"
      },
      "execution_count": null,
      "outputs": []
    },
    {
      "cell_type": "code",
      "source": [
        "from sklearn.ensemble import GradientBoostingClassifier\n",
        "\n",
        "gb = GradientBoostingClassifier().fit(X_train, y_train)\n",
        "plot_blob_classes(gb, X, y)\n",
        "gb.score(X_test, y_test)"
      ],
      "metadata": {
        "id": "E_pbjobc167k"
      },
      "execution_count": null,
      "outputs": []
    },
    {
      "cell_type": "code",
      "source": [
        "gb = GradientBoostingClassifier().fit(Xt_train, yt_train)\n",
        "sns.barplot(x=gb.feature_importances_, y=Xt_train.columns)\n",
        "gb.score(Xt_test, yt_test)"
      ],
      "metadata": {
        "id": "dlnZuQxg4Zg5"
      },
      "execution_count": null,
      "outputs": []
    },
    {
      "cell_type": "markdown",
      "metadata": {
        "id": "fkj7wwLIXA72"
      },
      "source": [
        "# Перцептрон"
      ]
    },
    {
      "cell_type": "code",
      "execution_count": null,
      "metadata": {
        "id": "WS2qHqyqXA73"
      },
      "outputs": [],
      "source": [
        "from sklearn.datasets import make_blobs\n",
        "X1, y1 = make_blobs(n_samples=1000, centers=[[-2, 1], [0, -2]], cluster_std=1)\n",
        "X2, y2 = make_blobs(n_samples=500, centers=[[3, 0], [1, 3]], cluster_std=1)\n",
        "X = np.concatenate([X1, X2])\n",
        "y = np.concatenate([y1, y2])\n",
        "plot_blobs(X, y)\n",
        "X_train, X_test, y_train, y_test = train_test_split(X, y, test_size=0.2, random_state=13)\n",
        "\n",
        "X_train.shape, y_train.shape, X_test.shape, y_test.shape"
      ]
    },
    {
      "cell_type": "markdown",
      "metadata": {
        "id": "UiA1JJs7XA73"
      },
      "source": [
        "## Keras\n",
        "\n",
        "[Keras](https://keras.io/) — библиотека, предоставляющая высокоуровневые cтроительные блоки для конструирования моделей глубокого обучения.  \n",
        "\n",
        "|![Keras](https://www.digikey.com/maker-media/6c3d4f5f-98e0-4104-ad8c-fb0b47000109 \"Title\")|\n",
        "|:-------------------------------:|\n",
        "| Source: https://www.digikey.com/maker-media/6c3d4f5f-98e0-4104-ad8c-fb0b47000109 |"
      ]
    },
    {
      "cell_type": "markdown",
      "metadata": {
        "id": "KK8gjnJaXA74"
      },
      "source": [
        "### Определение модели\n",
        "\n",
        "Модель можно определить двумя способами:   \n",
        "1. с использованием класса Sequential (только для линейного стека слоев) \n",
        "2. с помощью функционального API (для ориентированного ациклического графа слоев, позволяющего конструировать произвольные архитектуры). Функциональный API позволяет манипулировать данными в тензорах, которые обрабатывает модель, и применять слои к этим тензорам, как если бы они были функциями."
      ]
    },
    {
      "cell_type": "code",
      "execution_count": null,
      "metadata": {
        "id": "05eTNBpfXA74"
      },
      "outputs": [],
      "source": [
        "from tensorflow.keras import Sequential\n",
        "from tensorflow.keras.layers import Dense, Input\n",
        "from tensorflow.keras.models import Model\n",
        "from tensorflow.keras.optimizers import Adam"
      ]
    },
    {
      "cell_type": "code",
      "execution_count": null,
      "metadata": {
        "id": "KqCfafiCXA74"
      },
      "outputs": [],
      "source": [
        "model = Sequential()\n",
        "model.add(Input(shape=(2,)))\n",
        "model.add(Dense(4, activation='elu'))\n",
        "model.add(Dense(4, activation='elu'))\n",
        "model.add(Dense(1, activation='sigmoid'))\n",
        "\n",
        "model.summary()"
      ]
    },
    {
      "cell_type": "code",
      "execution_count": null,
      "metadata": {
        "id": "sC5Tp6FQXA74"
      },
      "outputs": [],
      "source": [
        "# input_tensor = Input(shape=(2,))\n",
        "# d1 = Dense(4, activation='elu')(input_tensor)\n",
        "# d2 = Dense(4, activation='elu')(d1)\n",
        "# output_tensor = Dense(1, activation='sigmoid')(d2)\n",
        "\n",
        "# model = Model(inputs=input_tensor, outputs=output_tensor)\n",
        "# model.summary()"
      ]
    },
    {
      "cell_type": "code",
      "execution_count": null,
      "metadata": {
        "id": "eb_imexfXA75"
      },
      "outputs": [],
      "source": [
        "model.compile(optimizer='Adam', loss='binary_crossentropy', metrics=['binary_accuracy'])"
      ]
    },
    {
      "cell_type": "markdown",
      "metadata": {
        "id": "A-meS89fXA75"
      },
      "source": [
        "### Обучение модели\n",
        "\n",
        "Процесс обучения состоит в передаче массивов Numpy с входными данными (и соответствующими целевыми данными) в метод fit()\n",
        "\n",
        "Сеть перебирает обучающие данные пакетами по 32 образца. Для каждого пакета сеть вычисляет градиенты весов с учетом потерь в пакете и изменяет значения весов в соответствующем направлении.\n",
        "\n",
        "Можно разделить полный датасет из 1200 объектов на батчи размером 400 объектов. Таким образом, для завершения одной эпохи потребуется 3 итерации.\n"
      ]
    },
    {
      "cell_type": "code",
      "execution_count": null,
      "metadata": {
        "id": "vQdFgOrRXA75"
      },
      "outputs": [],
      "source": [
        "from tensorflow.keras.callbacks import EarlyStopping\n",
        "\n",
        "results = model.fit(X_train, \n",
        "                    y_train,\n",
        "                    batch_size=1200,\n",
        "                    epochs=200000,\n",
        "                    validation_split=0.2,\n",
        "                    shuffle=True,\n",
        "                    callbacks=[EarlyStopping(monitor='val_loss',\n",
        "                                             patience=3,\n",
        "                                             restore_best_weights=True)]\n",
        "                    )"
      ]
    },
    {
      "cell_type": "markdown",
      "metadata": {
        "id": "O0tR59fKXA75"
      },
      "source": [
        "### Объект history\n",
        "\n",
        "Вызов `model.fit()` возвращает объект History. Этот объект имеет поле *history* - словарь со значениями функции потерь и метрики "
      ]
    },
    {
      "cell_type": "code",
      "execution_count": null,
      "metadata": {
        "id": "kyGU-uW4XA76"
      },
      "outputs": [],
      "source": [
        "results"
      ]
    },
    {
      "cell_type": "code",
      "execution_count": null,
      "metadata": {
        "id": "o8HGmI43XA76"
      },
      "outputs": [],
      "source": [
        "results.history.keys()"
      ]
    },
    {
      "cell_type": "code",
      "source": [
        "hist = pd.DataFrame(results.history)\n",
        "hist"
      ],
      "metadata": {
        "id": "MMEiLsRkiVXC"
      },
      "execution_count": null,
      "outputs": []
    },
    {
      "cell_type": "code",
      "execution_count": null,
      "metadata": {
        "id": "u_LHndspXA76"
      },
      "outputs": [],
      "source": [
        "hist[['loss']].plot()\n",
        "hist[['binary_accuracy']].plot()"
      ]
    },
    {
      "cell_type": "code",
      "execution_count": null,
      "metadata": {
        "id": "o6SM4xJuXA76"
      },
      "outputs": [],
      "source": [
        "loss, acc = model.evaluate(X_test, y_test, batch_size=300)\n",
        "print('Test loss:', loss)\n",
        "print('Test accuracy:', acc)"
      ]
    },
    {
      "cell_type": "code",
      "source": [
        "plot_blob_classes(model, X, y)"
      ],
      "metadata": {
        "id": "ZmJXK6tUhzrK"
      },
      "execution_count": null,
      "outputs": []
    },
    {
      "cell_type": "markdown",
      "metadata": {
        "id": "qcXsdnLLXA77"
      },
      "source": [
        "# Задание\n",
        "\n",
        "1. Применить один из бустовых классификаторов к своему датасету, кроссвалидацией оценить accuracy. Как она соотносится с accuracy из задания к семинару 3?\n",
        "2. Визуализировать оценку важности признаков в обученном классификаторе."
      ]
    }
  ],
  "metadata": {
    "colab": {
      "collapsed_sections": [],
      "provenance": [],
      "toc_visible": true
    },
    "kernelspec": {
      "display_name": "Python 3",
      "name": "python3"
    }
  },
  "nbformat": 4,
  "nbformat_minor": 0
}