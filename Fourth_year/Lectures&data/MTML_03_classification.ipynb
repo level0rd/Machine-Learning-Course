{
  "nbformat": 4,
  "nbformat_minor": 0,
  "metadata": {
    "colab": {
      "provenance": [],
      "collapsed_sections": [],
      "toc_visible": true
    },
    "kernelspec": {
      "name": "python3",
      "display_name": "Python 3"
    }
  },
  "cells": [
    {
      "cell_type": "code",
      "metadata": {
        "id": "AVOX_ihRZ1Kx"
      },
      "source": [
        "import pandas as pd\n",
        "import numpy as np\n",
        "import seaborn as sns\n",
        "import matplotlib.pyplot as plt"
      ],
      "execution_count": null,
      "outputs": []
    },
    {
      "cell_type": "markdown",
      "metadata": {
        "id": "PFlIn83LL8xG"
      },
      "source": [
        "# Задача классификации\n"
      ]
    },
    {
      "cell_type": "markdown",
      "metadata": {
        "id": "xMbLA-FZTA_V"
      },
      "source": [
        "\n",
        "## Датасет-пример: пятна"
      ]
    },
    {
      "cell_type": "code",
      "metadata": {
        "id": "ysOcFr_BSLUv"
      },
      "source": [
        "from sklearn.datasets import make_blobs\n",
        "blobs_X, blobs_y = make_blobs(n_samples=1000, centers=[[-2, 2],[1, -1]], cluster_std=1, random_state=13)\n",
        "\n",
        "colors = (\"red\", \"k\")\n",
        "colored_y = np.zeros(blobs_y.size, dtype=str)\n",
        "\n",
        "for i, cl in enumerate([0,1]):\n",
        "    colored_y[blobs_y == cl] = str(colors[i])\n",
        "    \n",
        "plt.figure(figsize=(15,10))\n",
        "plt.scatter(blobs_X[:, 0], blobs_X[:, 1], c=colored_y, edgecolors='K', s=80)\n",
        "plt.legend()\n",
        "plt.show()"
      ],
      "execution_count": null,
      "outputs": []
    },
    {
      "cell_type": "markdown",
      "metadata": {
        "id": "R1cSC9NR9C2s"
      },
      "source": [
        "## Датасет [Титаник](https://web.stanford.edu/class/archive/cs/cs109/cs109.1166/problem12.html)"
      ]
    },
    {
      "cell_type": "code",
      "metadata": {
        "id": "Ze4NmAYLa1NA"
      },
      "source": [
        "!wget -c https://web.stanford.edu/class/archive/cs/cs109/cs109.1166/stuff/titanic.csv"
      ],
      "execution_count": null,
      "outputs": []
    },
    {
      "cell_type": "code",
      "metadata": {
        "id": "mlWdeB_4xK9O"
      },
      "source": [
        "ls "
      ],
      "execution_count": null,
      "outputs": []
    },
    {
      "cell_type": "code",
      "metadata": {
        "id": "7LBdP0DbxK6G"
      },
      "source": [
        "df = pd.read_csv('titanic.csv')"
      ],
      "execution_count": null,
      "outputs": []
    },
    {
      "cell_type": "code",
      "metadata": {
        "id": "pBmQiMLT-ADF"
      },
      "source": [
        "df.shape"
      ],
      "execution_count": null,
      "outputs": []
    },
    {
      "cell_type": "code",
      "metadata": {
        "id": "jvTQI6fA99Z7"
      },
      "source": [
        "df.sample(5)"
      ],
      "execution_count": null,
      "outputs": []
    },
    {
      "cell_type": "code",
      "metadata": {
        "id": "3hPd5tBD-fUP"
      },
      "source": [
        "plt.figure(figsize=(8, 8))\n",
        "df.Survived.value_counts().plot.pie(autopct='%1.1f%%')\n",
        "plt.show()"
      ],
      "execution_count": null,
      "outputs": []
    },
    {
      "cell_type": "code",
      "metadata": {
        "id": "Up7GhZHt-zms"
      },
      "source": [
        "df.isna().sum()"
      ],
      "execution_count": null,
      "outputs": []
    },
    {
      "cell_type": "code",
      "metadata": {
        "id": "07sLXNr-CNrz"
      },
      "source": [
        "features = [\"Pclass\", \"Sex\", \"Siblings/Spouses Aboard\", \"Parents/Children Aboard\"]"
      ],
      "execution_count": null,
      "outputs": []
    },
    {
      "cell_type": "code",
      "metadata": {
        "id": "p2k_6nfFCUCb"
      },
      "source": [
        "df"
      ],
      "execution_count": null,
      "outputs": []
    },
    {
      "cell_type": "code",
      "metadata": {
        "id": "7ige9mPm_G9c"
      },
      "source": [
        "y = df.Survived.values\n",
        "X = df[features]\n",
        "X"
      ],
      "execution_count": null,
      "outputs": []
    },
    {
      "cell_type": "code",
      "metadata": {
        "id": "ztC7z470_yq2"
      },
      "source": [
        "from sklearn.model_selection import train_test_split\n",
        "\n",
        "X_train, X_test, y_train, y_test = train_test_split(X, y, test_size=0.25, random_state=13)"
      ],
      "execution_count": null,
      "outputs": []
    },
    {
      "cell_type": "markdown",
      "metadata": {
        "id": "EQuBiO_ZgqJs"
      },
      "source": [
        "# Деревья решений\n",
        "\n",
        "*   В каждой вершине дерева находится вопрос\n",
        "*   В зависимости от ответа на вопрос, алгоритм направляется в нужную ветвь  дерева\n",
        "*   Листы дерева соответствуют решению алгоритма\n",
        "\n",
        "<img src=https://hsto.org/files/194/9b6/ae9/1949b6ae97ab4fc9b1a37fbf182eda8f.gif width=500/>\n",
        "\n",
        "<img src=https://upload.wikimedia.org/wikipedia/commons/e/eb/Decision_Tree.jpg width=500/>\n",
        "\n",
        "\n",
        "$$\n",
        "\\begin{aligned}\n",
        "\\frac{L}{Q} H(p_{L}) + \\frac{R}{Q} H(p_{R}) \\rightarrow \\min\n",
        "\\end{aligned}\n",
        "$$\n",
        "\n",
        "$ Q - $ число объектов в вершине     \n",
        "$ L - $ количество объектов первого класса   \n",
        "$ R - $ число объектов второго класса  \n",
        "$ p_{L} - $ доля объектов 1-го класса в левой дочерней вершине  \n",
        "$ p_{R} - $ доля объектов 1-го класса в правой дочерней вершине  \n",
        "\n",
        "\n",
        "Энтропия:\n",
        "$$\n",
        "\\begin{aligned}\n",
        "H(q) &= -q \\log q - (1-q) \\log (1 - q)\n",
        "\\end{aligned}\n",
        "$$\n",
        "\n",
        "Индекс Джини:\n",
        "$$\n",
        "\\begin{aligned}\n",
        "H(q) &= 4q(1-q)\n",
        "\\end{aligned}\n",
        "$$"
      ]
    },
    {
      "cell_type": "code",
      "metadata": {
        "id": "F0j4F6Jk_3Lm"
      },
      "source": [
        "from sklearn.tree import DecisionTreeClassifier\n",
        "\n",
        "first_tree = DecisionTreeClassifier(random_state=13, max_depth=2)\n",
        "first_tree"
      ],
      "execution_count": null,
      "outputs": []
    },
    {
      "cell_type": "markdown",
      "metadata": {
        "id": "Thm33m7PiPMJ"
      },
      "source": [
        "## Датасет Титаник"
      ]
    },
    {
      "cell_type": "code",
      "metadata": {
        "id": "Cfs5e4LP_3JV"
      },
      "source": [
        "try:\n",
        "  first_tree.fit(X_train, y_train)\n",
        "except Exception as e:\n",
        "  print(e)"
      ],
      "execution_count": null,
      "outputs": []
    },
    {
      "cell_type": "code",
      "metadata": {
        "id": "DPk23EYWDXqs"
      },
      "source": [
        "df"
      ],
      "execution_count": null,
      "outputs": []
    },
    {
      "cell_type": "code",
      "metadata": {
        "id": "jp8nwNxWDdsa"
      },
      "source": [
        "pd.get_dummies(df['Sex'], prefix=\"Sex\")"
      ],
      "execution_count": null,
      "outputs": []
    },
    {
      "cell_type": "code",
      "metadata": {
        "id": "wX8-ixRdEhbN"
      },
      "source": [
        "df[features]"
      ],
      "execution_count": null,
      "outputs": []
    },
    {
      "cell_type": "code",
      "metadata": {
        "id": "_nEAEFtED2XW"
      },
      "source": [
        "X = pd.concat([df[features], pd.get_dummies(df['Sex'], prefix=\"Sex\")], axis=1).drop(['Sex'], axis=1)\n",
        "X"
      ],
      "execution_count": null,
      "outputs": []
    },
    {
      "cell_type": "code",
      "metadata": {
        "id": "3KNrNARvF-Zv"
      },
      "source": [
        "X_train, X_test, y_train, y_test = train_test_split(X, y, test_size=0.25, random_state=13)"
      ],
      "execution_count": null,
      "outputs": []
    },
    {
      "cell_type": "code",
      "metadata": {
        "id": "uB4ZcdcaF-VK"
      },
      "source": [
        "first_tree.fit(X_train, y_train)"
      ],
      "execution_count": null,
      "outputs": []
    },
    {
      "cell_type": "code",
      "metadata": {
        "id": "t9QHJ07x_3Gp"
      },
      "source": [
        "from sklearn.tree import export_graphviz\n",
        "\n",
        "export_graphviz(first_tree, out_file='first_tree.dot', feature_names=X_train.columns, class_names=['Not survived', 'Survived'], filled=True)"
      ],
      "execution_count": null,
      "outputs": []
    },
    {
      "cell_type": "code",
      "metadata": {
        "id": "duzmu9aSajns"
      },
      "source": [
        "!cat first_tree.dot"
      ],
      "execution_count": null,
      "outputs": []
    },
    {
      "cell_type": "code",
      "metadata": {
        "id": "bq01CU6H_3Dy"
      },
      "source": [
        "import graphviz\n",
        "from IPython.core.display import display\n",
        "\n",
        "with open(\"first_tree.dot\") as f:\n",
        "    dot_graph = f.read()\n",
        "\n",
        "display(graphviz.Source(dot_graph))"
      ],
      "execution_count": null,
      "outputs": []
    },
    {
      "cell_type": "markdown",
      "metadata": {
        "id": "PNGw9xMiSv-v"
      },
      "source": [
        "## Датасет-пример: пятна"
      ]
    },
    {
      "cell_type": "code",
      "metadata": {
        "id": "WQH1DwUUTSjv"
      },
      "source": [
        "from sklearn.tree import export_graphviz\n",
        "\n",
        "blob_tree = DecisionTreeClassifier(random_state=13, max_depth=3)\n",
        "blob_tree.fit(blobs_X, blobs_y)\n",
        "graphviz.Source(export_graphviz(blob_tree, filled=True, class_names=['0', '1']))\n"
      ],
      "execution_count": null,
      "outputs": []
    },
    {
      "cell_type": "code",
      "metadata": {
        "id": "YnrFNCG0SqZy"
      },
      "source": [
        "from matplotlib.colors import ListedColormap, LinearSegmentedColormap\n",
        "\n",
        "plt.figure(figsize=(15,8))\n",
        "\n",
        "eps = 0.1\n",
        "xx, yy = np.meshgrid(np.linspace(np.min(blobs_X[:,0]) - eps, np.max(blobs_X[:,0]) + eps, 500),\n",
        "                     np.linspace(np.min(blobs_X[:,1]) - eps, np.max(blobs_X[:,1]) + eps, 500))\n",
        "\n",
        "Z = blob_tree.predict(np.c_[xx.ravel(), yy.ravel()])\n",
        "\n",
        "Z = Z.reshape(xx.shape)\n",
        "\n",
        "cmap_light = ListedColormap(['#FFAAAA', 'grey'])\n",
        "plt.pcolormesh(xx, yy, Z, cmap=cmap_light)\n",
        "plt.scatter(blobs_X[:, 0], blobs_X[:, 1], c=colored_y, edgecolors='K')\n",
        "plt.show()"
      ],
      "execution_count": null,
      "outputs": []
    },
    {
      "cell_type": "markdown",
      "metadata": {
        "id": "cveGQk2iSnkf"
      },
      "source": [
        "## Оценка точности классификации"
      ]
    },
    {
      "cell_type": "code",
      "metadata": {
        "id": "QUPxoe-u_22S"
      },
      "source": [
        "y_pred = first_tree.predict(X_test)\n",
        "\n",
        "error = 0\n",
        "confusion_matrix = np.zeros([2,2], int)\n",
        "for i in range(X_test.shape[0]):\n",
        "    confusion_matrix[y_test[i], y_pred[i]] += 1\n",
        "    if y_test[i] != y_pred[i]:\n",
        "        error +=1\n",
        "\n",
        "print(\"\\nErrors in validation set: \" ,error)\n",
        "print(\"\\nError Persentage : \" ,(error*100)/y_pred.shape[0])\n",
        "print(\"\\nAccuracy : \" ,100-(error*100)/y_pred.shape[0])\n",
        "print(\"\\nValidation set Shape :\",y_pred.shape[0])"
      ],
      "execution_count": null,
      "outputs": []
    },
    {
      "cell_type": "code",
      "metadata": {
        "id": "r_ncub1fYJ7K"
      },
      "source": [
        "from sklearn.metrics import accuracy_score, balanced_accuracy_score, precision_score, recall_score, f1_score\n",
        "y = [1] * 9 + [0]\n",
        "pred = [1] * 10\n",
        "y, pred\n"
      ],
      "execution_count": null,
      "outputs": []
    },
    {
      "cell_type": "code",
      "metadata": {
        "id": "fqP3k6j6Yo9n"
      },
      "source": [
        "accuracy_score(y, pred), balanced_accuracy_score(y, pred)"
      ],
      "execution_count": null,
      "outputs": []
    },
    {
      "cell_type": "markdown",
      "metadata": {
        "id": "YcroQeRmIrjF"
      },
      "source": [
        "![image.png](data:image/png;base64,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)"
      ]
    },
    {
      "cell_type": "code",
      "metadata": {
        "id": "SxXPk-ddY3Bd"
      },
      "source": [
        "recall_score([1,1,1,0,0,0], [1,1,0,1,0,0]), recall_score([1,1,1,0,0,0], [1,1,1,1,1,1]), recall_score([1,1,1,0,0,0], [1,0,0,0,0,0])"
      ],
      "execution_count": null,
      "outputs": []
    },
    {
      "cell_type": "code",
      "metadata": {
        "id": "za3r3tkFY8k8"
      },
      "source": [
        "precision_score([1,1,1,0,0,0], [1,1,0,1,0,0]), precision_score([1,1,1,0,0,0], [1,1,1,1,1,1]), precision_score([1,1,1,0,0,0], [1,0,0,0,0,0])"
      ],
      "execution_count": null,
      "outputs": []
    },
    {
      "cell_type": "code",
      "metadata": {
        "id": "XNyaXNU6ZCvz"
      },
      "source": [
        "f1_score([1,1,1,0,0,0], [1,1,0,1,0,0]), f1_score([1,1,1,0,0,0], [1,1,1,1,1,1]), f1_score([1,1,1,0,0,0], [1,0,0,0,0,0])"
      ],
      "execution_count": null,
      "outputs": []
    },
    {
      "cell_type": "code",
      "metadata": {
        "id": "XuFWQ0a-_2zC"
      },
      "source": [
        "f = plt.figure(figsize=(10,8.5))\n",
        "f.add_subplot(111)\n",
        "\n",
        "plt.imshow(np.log2(confusion_matrix+1), cmap=\"BuGn\")\n",
        "plt.colorbar()\n",
        "plt.tick_params(size=5,color=\"white\")\n",
        "plt.xticks(np.arange(0,2),np.arange(0,2))\n",
        "plt.yticks(np.arange(0,2),np.arange(0,2))\n",
        "\n",
        "threshold = confusion_matrix.max()/2 \n",
        "\n",
        "for i in range(2):\n",
        "    for j in range(2):\n",
        "        plt.text(j,i,int(confusion_matrix[i,j]),horizontalalignment=\"center\",color=\"white\" if confusion_matrix[i, j] > threshold else \"black\")\n",
        "        \n",
        "plt.xlabel(\"Predicted\")\n",
        "plt.ylabel(\"Actual\")\n",
        "plt.title(\"Confusion Matrix\")\n",
        "plt.show()"
      ],
      "execution_count": null,
      "outputs": []
    },
    {
      "cell_type": "code",
      "metadata": {
        "id": "IsXEx1MLIMXA"
      },
      "source": [
        "sns.heatmap(confusion_matrix, annot=True, fmt=\"d\", square=True)"
      ],
      "execution_count": null,
      "outputs": []
    },
    {
      "cell_type": "markdown",
      "metadata": {
        "id": "siPzE8K4Meid"
      },
      "source": [
        "## Подбор метапараметров"
      ]
    },
    {
      "cell_type": "code",
      "metadata": {
        "id": "9LrFfc-aNRhl"
      },
      "source": [
        "depths = np.arange(1, 21)\n",
        "features = [.25, .5, .7, 1]\n",
        "tree_params = {'max_depth': depths,  'max_features': features}"
      ],
      "execution_count": null,
      "outputs": []
    },
    {
      "cell_type": "code",
      "metadata": {
        "id": "EI0XYHbRM-h0"
      },
      "source": [
        "from sklearn.model_selection import GridSearchCV\n",
        "\n",
        "tree_grid = GridSearchCV(DecisionTreeClassifier(), tree_params, cv=10, n_jobs=-1)"
      ],
      "execution_count": null,
      "outputs": []
    },
    {
      "cell_type": "code",
      "metadata": {
        "id": "TixXg3_ZNUhd"
      },
      "source": [
        "try:\n",
        "  tree_grid.fit(X_train, y_train)\n",
        "  tree_grid.best_score_, tree_grid.best_params_\n",
        "except Exception as e:\n",
        "  print(e)"
      ],
      "execution_count": null,
      "outputs": []
    },
    {
      "cell_type": "code",
      "metadata": {
        "id": "sAHCz9MrNhz9"
      },
      "source": [
        "tree_bp = DecisionTreeClassifier(max_depth=4, max_features=0.25, random_state=13)"
      ],
      "execution_count": null,
      "outputs": []
    },
    {
      "cell_type": "code",
      "metadata": {
        "id": "KfiJtzKBNrqb"
      },
      "source": [
        "tree_bp.fit(X_train, y_train)"
      ],
      "execution_count": null,
      "outputs": []
    },
    {
      "cell_type": "code",
      "metadata": {
        "id": "eAvrk_GiOLTB"
      },
      "source": [
        "export_graphviz(tree_bp, out_file='tree_bp.dot', feature_names=X_train.columns, class_names=['Not survived', 'Survived'], filled=True)\n",
        "\n",
        "with open(\"tree_bp.dot\") as f:\n",
        "    dot_graph = f.read()\n",
        "\n",
        "display(graphviz.Source(dot_graph))"
      ],
      "execution_count": null,
      "outputs": []
    },
    {
      "cell_type": "code",
      "metadata": {
        "id": "ke7n5HGhNrnA"
      },
      "source": [
        "y_pred = tree_bp.predict(X_test)\n",
        "\n",
        "error = 0\n",
        "confusion_matrix = np.zeros([2,2])\n",
        "for i in range(X_test.shape[0]):\n",
        "    confusion_matrix[y_test[i], y_pred[i]] += 1\n",
        "    if y_test[i] != y_pred[i]:\n",
        "        error +=1\n",
        "\n",
        "print(\"\\nErrors in validation set: \" ,error)\n",
        "print(\"\\nError Persentage : \" ,(error*100)/y_pred.shape[0])\n",
        "print(\"\\nAccuracy : \" ,100-(error*100)/y_pred.shape[0])\n",
        "print(\"\\nValidation set Shape :\",y_pred.shape[0])"
      ],
      "execution_count": null,
      "outputs": []
    },
    {
      "cell_type": "code",
      "metadata": {
        "id": "AH_CHD48NrjL"
      },
      "source": [
        "f = plt.figure(figsize=(10,8.5))\n",
        "f.add_subplot(111)\n",
        "\n",
        "plt.imshow(np.log2(confusion_matrix+1), cmap=\"BuGn\")\n",
        "plt.colorbar()\n",
        "plt.tick_params(size=5,color=\"white\")\n",
        "plt.xticks(np.arange(0,2),np.arange(0,2))\n",
        "plt.yticks(np.arange(0,2),np.arange(0,2))\n",
        "\n",
        "threshold = confusion_matrix.max()/2 \n",
        "\n",
        "for i in range(2):\n",
        "    for j in range(2):\n",
        "        plt.text(j,i,int(confusion_matrix[i,j]),horizontalalignment=\"center\",color=\"white\" if confusion_matrix[i, j] > threshold else \"black\")\n",
        "        \n",
        "plt.xlabel(\"Predicted\")\n",
        "plt.ylabel(\"Actual\")\n",
        "plt.title(\"Confusion Matrix\")\n",
        "plt.show()"
      ],
      "execution_count": null,
      "outputs": []
    },
    {
      "cell_type": "markdown",
      "metadata": {
        "id": "Zl5L35vNr2iO"
      },
      "source": [
        "# Метод k-ближайших соседей\n",
        "\n",
        "<img src=\"https://www.kdnuggets.com/wp-content/uploads/popular-knn-metrics-0.png\">"
      ]
    },
    {
      "cell_type": "markdown",
      "metadata": {
        "id": "f3hiMpCSi-Ty"
      },
      "source": [
        "\n",
        "## Датасет-пример: пятна"
      ]
    },
    {
      "cell_type": "code",
      "metadata": {
        "id": "sQIqo3y1i9au"
      },
      "source": [
        "from sklearn.neighbors import KNeighborsClassifier\n",
        "blob_knn = KNeighborsClassifier(n_neighbors=1)\n",
        "blob_knn.fit(blobs_X, blobs_y)\n",
        "\n",
        "plt.figure(figsize=(15,8))\n",
        "\n",
        "eps = 0.1\n",
        "xx, yy = np.meshgrid(np.linspace(np.min(blobs_X[:,0]) - eps, np.max(blobs_X[:,0]) + eps, 500),\n",
        "                     np.linspace(np.min(blobs_X[:,1]) - eps, np.max(blobs_X[:,1]) + eps, 500))\n",
        "\n",
        "Z = blob_knn.predict(np.c_[xx.ravel(), yy.ravel()])\n",
        "\n",
        "Z = Z.reshape(xx.shape)\n",
        "\n",
        "cmap_light = ListedColormap(['#FFAAAA', 'grey'])\n",
        "plt.pcolormesh(xx, yy, Z, cmap=cmap_light)\n",
        "plt.scatter(blobs_X[:, 0], blobs_X[:, 1], c=colored_y, edgecolors='K')\n",
        "plt.show()"
      ],
      "execution_count": null,
      "outputs": []
    },
    {
      "cell_type": "markdown",
      "metadata": {
        "id": "U931sqcdisVL"
      },
      "source": [
        "## Датасет MNIST"
      ]
    },
    {
      "cell_type": "code",
      "metadata": {
        "id": "f1dswvhKd4iK"
      },
      "source": [
        "cat /content/sample_data/README.md"
      ],
      "execution_count": null,
      "outputs": []
    },
    {
      "cell_type": "code",
      "metadata": {
        "id": "B8tRmeprZqRe"
      },
      "source": [
        "mnist_train = pd.read_csv('/content/sample_data/mnist_train_small.csv', header=None)\n",
        "mnist_test = pd.read_csv('/content/sample_data/mnist_test.csv', header=None)"
      ],
      "execution_count": null,
      "outputs": []
    },
    {
      "cell_type": "code",
      "metadata": {
        "id": "n9Kr47LyaMrU"
      },
      "source": [
        "mnist_train.sample(4)"
      ],
      "execution_count": null,
      "outputs": []
    },
    {
      "cell_type": "code",
      "metadata": {
        "id": "hFkRu5R3NlwX"
      },
      "source": [
        "mnist_train.shape"
      ],
      "execution_count": null,
      "outputs": []
    },
    {
      "cell_type": "code",
      "metadata": {
        "id": "vEmCxqC2NrBh"
      },
      "source": [
        "from sklearn import datasets\n",
        "\n",
        "digits = datasets.load_digits()"
      ],
      "execution_count": null,
      "outputs": []
    },
    {
      "cell_type": "code",
      "metadata": {
        "id": "7BRf3WsbNumt"
      },
      "source": [
        "digits"
      ],
      "execution_count": null,
      "outputs": []
    },
    {
      "cell_type": "code",
      "metadata": {
        "id": "HM88idciNukc"
      },
      "source": [
        "digits.keys()"
      ],
      "execution_count": null,
      "outputs": []
    },
    {
      "cell_type": "code",
      "metadata": {
        "id": "fkQ2NaINNuhz"
      },
      "source": [
        "digits.DESCR"
      ],
      "execution_count": null,
      "outputs": []
    },
    {
      "cell_type": "code",
      "metadata": {
        "id": "4a7w6uyiNufd"
      },
      "source": [
        "images = digits.images\n",
        "targets = digits.target\n",
        "\n",
        "images[0].shape"
      ],
      "execution_count": null,
      "outputs": []
    },
    {
      "cell_type": "code",
      "metadata": {
        "id": "5NJswi-uNudL"
      },
      "source": [
        "from tensorflow import keras\n",
        "\n",
        "(x_train, labels_train), (x_test, labels_test) = keras.datasets.mnist.load_data()"
      ],
      "execution_count": null,
      "outputs": []
    },
    {
      "cell_type": "code",
      "metadata": {
        "id": "Q4a89_h3NuaY"
      },
      "source": [
        "print('x_train shape:', x_train.shape)\n",
        "print(x_train.shape[0], 'train samples')\n",
        "print(x_test.shape[0], 'test samples')"
      ],
      "execution_count": null,
      "outputs": []
    },
    {
      "cell_type": "code",
      "metadata": {
        "id": "tJHUZRq6NuYJ"
      },
      "source": [
        "X_train, X_test, y_train, y_test = train_test_split(x_test, labels_test, test_size=0.25, random_state=13)"
      ],
      "execution_count": null,
      "outputs": []
    },
    {
      "cell_type": "code",
      "metadata": {
        "id": "uosVxJMkNuV0"
      },
      "source": [
        "print('x_train shape:', X_train.shape)\n",
        "print(X_train.shape[0], 'train samples')\n",
        "print(X_test.shape[0], 'test samples')"
      ],
      "execution_count": null,
      "outputs": []
    },
    {
      "cell_type": "code",
      "metadata": {
        "id": "Jiu0jHj-OE05"
      },
      "source": [
        "labels_train[0], x_train[0]"
      ],
      "execution_count": null,
      "outputs": []
    },
    {
      "cell_type": "code",
      "metadata": {
        "id": "5keNxdK_OEyy"
      },
      "source": [
        "print(y_train[0])\n",
        "plt.imshow(X_train[0], cmap=\"Greys_r\")\n",
        "plt.show()"
      ],
      "execution_count": null,
      "outputs": []
    },
    {
      "cell_type": "code",
      "metadata": {
        "id": "BfSmans4OEv5"
      },
      "source": [
        "plt.figure(figsize=(12,10))\n",
        "x, y = 10, 4\n",
        "for i in range(40):  \n",
        "    plt.subplot(y, x, i+1)\n",
        "    plt.imshow(X_train[i], cmap=\"Greys_r\")\n",
        "plt.show()"
      ],
      "execution_count": null,
      "outputs": []
    },
    {
      "cell_type": "code",
      "metadata": {
        "id": "0bigOGaPOEtc"
      },
      "source": [
        "sns.countplot(x=y_train)\n",
        "plt.show()"
      ],
      "execution_count": null,
      "outputs": []
    },
    {
      "cell_type": "code",
      "metadata": {
        "id": "Z--A8NJ_OErO"
      },
      "source": [
        "from sklearn.neighbors import KNeighborsClassifier\n",
        "knn = KNeighborsClassifier(n_neighbors=20)"
      ],
      "execution_count": null,
      "outputs": []
    },
    {
      "cell_type": "code",
      "metadata": {
        "id": "HsOFgAIYOEo8"
      },
      "source": [
        "try:\n",
        "  knn.fit(X_train, y_train)\n",
        "except Exception as e:\n",
        "  print(e)"
      ],
      "execution_count": null,
      "outputs": []
    },
    {
      "cell_type": "code",
      "metadata": {
        "id": "BfFdQvEcOEm8"
      },
      "source": [
        "X_train.shape"
      ],
      "execution_count": null,
      "outputs": []
    },
    {
      "cell_type": "code",
      "metadata": {
        "id": "cVOB6btZOEke"
      },
      "source": [
        "y = y_train\n",
        "X = X_train.reshape(-1, 28*28)\n",
        "X.shape"
      ],
      "execution_count": null,
      "outputs": []
    },
    {
      "cell_type": "code",
      "metadata": {
        "id": "8zJU9Q2tOEh0"
      },
      "source": [
        "knn.fit(X, y)"
      ],
      "execution_count": null,
      "outputs": []
    },
    {
      "cell_type": "code",
      "metadata": {
        "id": "yGx1O7Z0OEfe"
      },
      "source": [
        "print(y_test[0])\n",
        "plt.imshow(X_test[0], cmap=\"Greys_r\")\n",
        "plt.show()"
      ],
      "execution_count": null,
      "outputs": []
    },
    {
      "cell_type": "code",
      "metadata": {
        "id": "yIUgu4SUOEdK"
      },
      "source": [
        "knn.predict(np.expand_dims(X_test[0].reshape(28*28), axis=0))"
      ],
      "execution_count": null,
      "outputs": []
    },
    {
      "cell_type": "code",
      "metadata": {
        "id": "w9IHh_8zOEbG"
      },
      "source": [
        "n_x, n_y = 15, 5\n",
        "n = n_x * n_y\n",
        "plt.figure(figsize=(30,12))\n",
        "\n",
        "img_ids = np.random.randint(X_test.shape[0], size=n)\n",
        "\n",
        "for i, id in zip(np.arange(n), img_ids):  \n",
        "    plt.subplot(n_y, n_x, i+1)\n",
        "    plt.imshow(X_test[id], cmap=\"Greys_r\")\n",
        "    y_pred = knn.predict(np.expand_dims(X_test[id].reshape(28*28), axis=0))[0]\n",
        "    plt.subplots_adjust(wspace=0.85)\n",
        "    plt.title(f'ID: {id} \\n Pred label: {y_pred} \\n True label: {y_test[id]}')\n",
        "plt.show()"
      ],
      "execution_count": null,
      "outputs": []
    },
    {
      "cell_type": "code",
      "metadata": {
        "id": "BXUYlEN9OEYX"
      },
      "source": [
        "y_pred = knn.predict(X_test.reshape(-1, 28*28))\n",
        "\n",
        "error = 0\n",
        "confusion_matrix = np.zeros([10,10])\n",
        "for i in range(X_test.shape[0]):\n",
        "    confusion_matrix[y_test[i], y_pred[i]] += 1\n",
        "    if y_test[i] != y_pred[i]:\n",
        "        error +=1\n",
        "\n",
        "print(\"\\nErrors in validation set: \" ,error)\n",
        "print(\"\\nError Persentage : \" ,(error*100)/y_pred.shape[0])\n",
        "print(\"\\nAccuracy : \" ,100-(error*100)/y_pred.shape[0])\n",
        "print(\"\\nValidation set Shape :\",y_pred.shape[0])"
      ],
      "execution_count": null,
      "outputs": []
    },
    {
      "cell_type": "code",
      "metadata": {
        "id": "0s99rytPkOFy"
      },
      "source": [
        "accuracy_score(y_test, y_pred)"
      ],
      "execution_count": null,
      "outputs": []
    },
    {
      "cell_type": "code",
      "metadata": {
        "id": "cQd9w746OEVr"
      },
      "source": [
        "f = plt.figure(figsize=(10,8.5))\n",
        "f.add_subplot(111)\n",
        "\n",
        "plt.imshow(np.log2(confusion_matrix+1),cmap=\"Reds\")\n",
        "plt.colorbar()\n",
        "plt.tick_params(size=5,color=\"white\")\n",
        "plt.xticks(np.arange(0,10),np.arange(0,10))\n",
        "plt.yticks(np.arange(0,10),np.arange(0,10))\n",
        "\n",
        "threshold = confusion_matrix.max()/2 \n",
        "\n",
        "for i in range(10):\n",
        "    for j in range(10):\n",
        "        plt.text(j,i,int(confusion_matrix[i,j]),horizontalalignment=\"center\",color=\"white\" if confusion_matrix[i, j] > threshold else \"black\")\n",
        "        \n",
        "plt.xlabel(\"Predicted\")\n",
        "plt.ylabel(\"Actual\")\n",
        "plt.title(\"Confusion Matrix\")\n",
        "plt.show()"
      ],
      "execution_count": null,
      "outputs": []
    },
    {
      "cell_type": "markdown",
      "metadata": {
        "id": "K8NiRQddOq4R"
      },
      "source": [
        "## Подбор числа соседей"
      ]
    },
    {
      "cell_type": "code",
      "metadata": {
        "id": "hJnWWZxOOqvl"
      },
      "source": [
        "param_grid = {'n_neighbors': np.arange(1, 4)}\n",
        "knn_gscv = GridSearchCV(KNeighborsClassifier(), param_grid, cv=5)\n",
        "knn_gscv.fit(X_train.reshape(-1, 28*28), y_train)"
      ],
      "execution_count": null,
      "outputs": []
    },
    {
      "cell_type": "code",
      "metadata": {
        "id": "JSEweasTOqtL"
      },
      "source": [
        "knn_gscv.best_params_"
      ],
      "execution_count": null,
      "outputs": []
    },
    {
      "cell_type": "code",
      "metadata": {
        "id": "UhMCGmD3Oqq9"
      },
      "source": [
        "knn2 = KNeighborsClassifier(n_neighbors=1)"
      ],
      "execution_count": null,
      "outputs": []
    },
    {
      "cell_type": "code",
      "metadata": {
        "id": "FbKPQi_fOqob"
      },
      "source": [
        "knn2.fit(X, y)"
      ],
      "execution_count": null,
      "outputs": []
    },
    {
      "cell_type": "code",
      "metadata": {
        "id": "l9KPnxZ5OqmD"
      },
      "source": [
        "y_pred = knn2.predict(X_test.reshape(-1, 28*28))\n",
        "\n",
        "error = 0\n",
        "confusion_matrix = np.zeros([10,10])\n",
        "for i in range(X_test.shape[0]):\n",
        "    confusion_matrix[y_test[i], y_pred[i]] += 1\n",
        "    if y_test[i] != y_pred[i]:\n",
        "        error +=1\n",
        "\n",
        "print(\"\\nErrors in validation set: \" ,error)\n",
        "print(\"\\nError Persentage : \" ,(error*100)/y_pred.shape[0])\n",
        "print(\"\\nAccuracy : \" ,100-(error*100)/y_pred.shape[0])\n",
        "print(\"\\nValidation set Shape :\",y_pred.shape[0])"
      ],
      "execution_count": null,
      "outputs": []
    },
    {
      "cell_type": "code",
      "metadata": {
        "id": "fdWcV80iNuTD"
      },
      "source": [
        "f = plt.figure(figsize=(10,8.5))\n",
        "f.add_subplot(111)\n",
        "\n",
        "plt.imshow(np.log2(confusion_matrix+1),cmap=\"Reds\")\n",
        "plt.colorbar()\n",
        "plt.tick_params(size=5,color=\"white\")\n",
        "plt.xticks(np.arange(0,10),np.arange(0,10))\n",
        "plt.yticks(np.arange(0,10),np.arange(0,10))\n",
        "\n",
        "threshold = confusion_matrix.max()/2 \n",
        "\n",
        "for i in range(10):\n",
        "    for j in range(10):\n",
        "        plt.text(j,i,int(confusion_matrix[i,j]),horizontalalignment=\"center\",color=\"white\" if confusion_matrix[i, j] > threshold else \"black\")\n",
        "        \n",
        "plt.xlabel(\"Predicted\")\n",
        "plt.ylabel(\"Actual\")\n",
        "plt.title(\"Confusion Matrix\")\n",
        "plt.show()"
      ],
      "execution_count": null,
      "outputs": []
    },
    {
      "cell_type": "markdown",
      "metadata": {
        "id": "IWoI5QwAvSfN"
      },
      "source": [
        "# Задание\n",
        "\n",
        "1. Применить классификацию деревом решений с заданным max_depth к своему датасету. Построить график зависимости accuracy на тренировочном и тестовом поднаборах от max_depth дерева.\n",
        "2. Найти GridSearchCV оптимальный max_depth."
      ]
    },
    {
      "cell_type": "code",
      "source": [],
      "metadata": {
        "id": "yABIG3VGCefd"
      },
      "execution_count": null,
      "outputs": []
    }
  ]
}