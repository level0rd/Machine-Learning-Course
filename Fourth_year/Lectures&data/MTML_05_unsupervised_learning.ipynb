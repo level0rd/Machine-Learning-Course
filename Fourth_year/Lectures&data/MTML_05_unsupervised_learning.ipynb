{
  "nbformat": 4,
  "nbformat_minor": 0,
  "metadata": {
    "accelerator": "GPU",
    "colab": {
      "provenance": [],
      "collapsed_sections": [
        "qW5l1QUf6tbA"
      ],
      "toc_visible": true
    },
    "kernelspec": {
      "display_name": "Python 3",
      "language": "python",
      "name": "python3"
    },
    "language_info": {
      "codemirror_mode": {
        "name": "ipython",
        "version": 3
      },
      "file_extension": ".py",
      "mimetype": "text/x-python",
      "name": "python",
      "nbconvert_exporter": "python",
      "pygments_lexer": "ipython3",
      "version": "3.7.3"
    },
    "toc": {
      "base_numbering": 1,
      "nav_menu": {},
      "number_sections": false,
      "sideBar": true,
      "skip_h1_title": true,
      "title_cell": "Table of Contents",
      "title_sidebar": "Contents",
      "toc_cell": true,
      "toc_position": {},
      "toc_section_display": true,
      "toc_window_display": true
    }
  },
  "cells": [
    {
      "cell_type": "markdown",
      "metadata": {
        "id": "miDb8IC93t6I"
      },
      "source": [
        "# Обучение без учителя\n",
        "Мы не знаем \"правильный ответ\". Результат очень зависит от конкретного метода."
      ]
    },
    {
      "cell_type": "markdown",
      "metadata": {
        "id": "Dg2tIE7pfbe1"
      },
      "source": [
        "## Кластеризация\n",
        "Поиск групп \"похожих\" объектов. Похожа на классификацию, когда в задаче классы не заданы.\n",
        "![image.png](https://scikit-learn.org/stable/_images/sphx_glr_plot_cluster_comparison_001.png)\n"
      ]
    },
    {
      "cell_type": "markdown",
      "metadata": {
        "id": "kN6rXiKjk1s-"
      },
      "source": [
        "### Искусственный пример - просто двухмерные пятна"
      ]
    },
    {
      "cell_type": "code",
      "metadata": {
        "id": "-ZYIqySAfi5I"
      },
      "source": [
        "import numpy as np\n",
        "import pandas as pd\n",
        "from scipy.stats import multivariate_normal\n",
        "\n",
        "a = pd.DataFrame(multivariate_normal([16, 120], [[1, 0], [0, 20]], seed=1).rvs(100), columns=['x1', 'x2'])\n",
        "b = pd.DataFrame(multivariate_normal([10, 100], [[1, 0], [0, 20]], seed=1).rvs(100), columns=['x1', 'x2'])\n",
        "c = pd.DataFrame(multivariate_normal([1, 150], [[1, 0], [0, 20]], seed=1).rvs(100), columns=['x1', 'x2'])\n",
        "a['class'] = 'a'\n",
        "b['class'] = 'b'\n",
        "c['class'] = 'c'\n",
        "abc = pd.concat([a, b, c])"
      ],
      "execution_count": null,
      "outputs": []
    },
    {
      "cell_type": "code",
      "metadata": {
        "id": "p1wvxjPL4Tv6"
      },
      "source": [
        "Xa = abc.drop(columns=['class'])\n",
        "abc.sample(5)"
      ],
      "execution_count": null,
      "outputs": []
    },
    {
      "cell_type": "markdown",
      "metadata": {
        "id": "i4_uB2NQ1g4x"
      },
      "source": [
        "#### KMeans\n",
        "\n",
        "<img src=\"https://ds055uzetaobb.cloudfront.net/brioche/uploads/y4KGN92h7r-screen-shot-2016-05-05-at-43007-pm.png?width=1200\">"
      ]
    },
    {
      "cell_type": "code",
      "metadata": {
        "id": "8feF3sPCgvkS"
      },
      "source": [
        "import seaborn as sns\n",
        "fg = sns.relplot(x='x1', y='x2', hue='class', data=abc)"
      ],
      "execution_count": null,
      "outputs": []
    },
    {
      "cell_type": "code",
      "metadata": {
        "id": "YPmthLVXnFvA"
      },
      "source": [
        "from sklearn.cluster import KMeans\n",
        "\n",
        "km = KMeans(n_clusters=3, random_state=1)\n",
        "km.fit(Xa)\n",
        "km"
      ],
      "execution_count": null,
      "outputs": []
    },
    {
      "cell_type": "code",
      "metadata": {
        "id": "nrRuq8gTp2ip"
      },
      "source": [
        "km.labels_"
      ],
      "execution_count": null,
      "outputs": []
    },
    {
      "cell_type": "code",
      "metadata": {
        "id": "_TUeaAEGp-PH"
      },
      "source": [
        "abc['cluster'] = km.labels_"
      ],
      "execution_count": null,
      "outputs": []
    },
    {
      "cell_type": "code",
      "metadata": {
        "id": "QThictlwxp3U"
      },
      "source": [
        "import matplotlib.pyplot as plt\n",
        "plt.scatter(x='x1', y='x2', c='cluster', marker='.', data=abc)\n",
        "plt.scatter(km.cluster_centers_[:, 0], km.cluster_centers_[:, 1], c='red', marker='o')"
      ],
      "execution_count": null,
      "outputs": []
    },
    {
      "cell_type": "code",
      "metadata": {
        "id": "byoJDOszxU8a"
      },
      "source": [
        "from sklearn.metrics import pairwise_distances_argmin, silhouette_score\n",
        "\n",
        "n=7\n",
        "fig, plots = plt.subplots(1, n+1, figsize=(4*n, 4), sharex=True, sharey=True)\n",
        "inertia = []\n",
        "score = []\n",
        "initial = np.array([[0, 90], [15, 90], [15, 160]])\n",
        "# initial = 'random'\n",
        "# initial = 'k-means++'\n",
        "\n",
        "plots[0].scatter(initial[:, 0], initial[:, 1], c='red', marker='o')\n",
        "labels0 = pairwise_distances_argmin(abc[['x1', 'x2']].values, initial)\n",
        "plots[0].scatter(x='x1', y='x2', c=labels0, marker='.', data=abc)\n",
        "\n",
        "for i in range(1, n+1):\n",
        "  km = KMeans(n_clusters=3, n_init=1, init=initial, max_iter=i, random_state=5).fit(Xa)\n",
        "  plots[i].scatter(x='x1', y='x2', c=km.labels_, marker='.', data=abc)\n",
        "  plots[i].scatter(km.cluster_centers_[:, 0], km.cluster_centers_[:, 1], c='red', marker='o')\n",
        "  plots[i].set_title(km.n_iter_)\n",
        "  inertia.append(km.inertia_)\n",
        "  score.append(silhouette_score(Xa, km.labels_))"
      ],
      "execution_count": null,
      "outputs": []
    },
    {
      "cell_type": "code",
      "source": [
        "print(inertia)\n",
        "plt.plot(inertia)"
      ],
      "metadata": {
        "id": "GoM4t1qFWwZ-"
      },
      "execution_count": null,
      "outputs": []
    },
    {
      "cell_type": "code",
      "metadata": {
        "id": "EJQDg12F71UO"
      },
      "source": [
        "print(score)\n",
        "plt.plot(score)"
      ],
      "execution_count": null,
      "outputs": []
    },
    {
      "cell_type": "code",
      "metadata": {
        "id": "x9gnKjvpVo9M"
      },
      "source": [
        "from sklearn.metrics import silhouette_score, silhouette_samples\n",
        "abc['score'] = silhouette_samples(Xa, abc.cluster)\n",
        "centers = pd.DataFrame(km.cluster_centers_, columns=['x1', 'x2'])\n",
        "centers['class'] = 'center'\n",
        "centers['cluster'] = 'center'\n",
        "centers\n",
        "sns.relplot(x='x1', y='x2', hue='score', style='cluster', hue_norm=(-1, 1), palette=\"icefire\", data=pd.concat([abc, centers]))"
      ],
      "execution_count": null,
      "outputs": []
    },
    {
      "cell_type": "markdown",
      "metadata": {
        "id": "ow2he7UF1nSv"
      },
      "source": [
        "#### MeanShift\n",
        "\n",
        "<img src=\"https://image.slidesharecdn.com/icdmtrackingandpursuit-140523110059-phpapp02/95/implementing-camshift-on-a-mobile-robot-for-person-tracking-and-pursuiticdm-9-638.jpg?cb=1400843848\">"
      ]
    },
    {
      "cell_type": "code",
      "metadata": {
        "id": "sFMJpvs64VIR"
      },
      "source": [
        "abc.sample(5)"
      ],
      "execution_count": null,
      "outputs": []
    },
    {
      "cell_type": "code",
      "metadata": {
        "id": "Nm_hjBS7mktC"
      },
      "source": [
        "from sklearn.cluster import estimate_bandwidth\n",
        "estimate_bandwidth(Xa)"
      ],
      "execution_count": null,
      "outputs": []
    },
    {
      "cell_type": "code",
      "metadata": {
        "id": "NIxSdefNgpMa"
      },
      "source": [
        "from sklearn.cluster import MeanShift\n",
        "\n",
        "ms = MeanShift()\n",
        "abc['cluster'] = ms.fit_predict(Xa)\n",
        "abc['cluster'].values"
      ],
      "execution_count": null,
      "outputs": []
    },
    {
      "cell_type": "code",
      "metadata": {
        "id": "XpEUkigajkby"
      },
      "source": [
        "ms.cluster_centers_"
      ],
      "execution_count": null,
      "outputs": []
    },
    {
      "cell_type": "code",
      "metadata": {
        "id": "hHLb8SrjoYks"
      },
      "source": [
        "centers = pd.DataFrame(ms.cluster_centers_, columns=['x1', 'x2'])\n",
        "centers['class'] = 'center'\n",
        "centers['cluster'] = 'center'\n",
        "centers"
      ],
      "execution_count": null,
      "outputs": []
    },
    {
      "cell_type": "code",
      "metadata": {
        "id": "cmpfrmPvi7Rb"
      },
      "source": [
        "import seaborn as sns\n",
        "sns.relplot(x='x1', y='x2', hue='cluster', style='class', data=pd.concat([abc, centers]))"
      ],
      "execution_count": null,
      "outputs": []
    },
    {
      "cell_type": "code",
      "metadata": {
        "id": "v4kcap2_CQ5k"
      },
      "source": [
        "n=7\n",
        "fig, plots = plt.subplots(1, n+1, figsize=(4*n, 4), sharex=True, sharey=True)\n",
        "initial = abc[['x1', 'x2']].values\n",
        "\n",
        "for i in range(1, n+1):\n",
        "  ms = MeanShift(max_iter=i-1, bandwidth=4, seeds=initial).fit(Xa)\n",
        "  plots[i].scatter(x='x1', y='x2', c=ms.labels_, marker='.', data=abc)\n",
        "  plots[i].scatter(ms.cluster_centers_[:, 0], ms.cluster_centers_[:, 1], c='red', marker='o')\n",
        "  plots[i].set_title(f\"{ms.n_iter_}, {ms.cluster_centers_.shape}\")"
      ],
      "execution_count": null,
      "outputs": []
    },
    {
      "cell_type": "markdown",
      "source": [
        "**почему так?**"
      ],
      "metadata": {
        "id": "RONUtqWJGZbs"
      }
    },
    {
      "cell_type": "code",
      "metadata": {
        "id": "m_VntvdLgnVj"
      },
      "source": [
        "sns.relplot(x='x1', y='x2', hue='cluster', style='class', data=pd.concat([abc, centers]))\\\n",
        "  .set(xlim=(-20, 60),ylim=(80, 160))\n"
      ],
      "execution_count": null,
      "outputs": []
    },
    {
      "cell_type": "markdown",
      "metadata": {
        "id": "xEMfOdk-11Wo"
      },
      "source": [
        "#### Препроцессинг, pipeline\n",
        "\n",
        "\n"
      ]
    },
    {
      "cell_type": "code",
      "metadata": {
        "id": "BXbZYSqZ4YiL"
      },
      "source": [
        "Xa = abc.drop(columns=['class', 'cluster', 'score'])\n",
        "abc.sample(5)"
      ],
      "execution_count": null,
      "outputs": []
    },
    {
      "cell_type": "code",
      "metadata": {
        "id": "Y9dxEfF-18v1"
      },
      "source": [
        "from sklearn.preprocessing import RobustScaler\n",
        "from sklearn.pipeline import Pipeline\n",
        "\n",
        "nkm = Pipeline([('prep', RobustScaler()), ('clusterer', KMeans(3))])\n",
        "nkm.fit(Xa)"
      ],
      "execution_count": null,
      "outputs": []
    },
    {
      "cell_type": "code",
      "metadata": {
        "id": "YJ1jt2VE3DJb"
      },
      "source": [
        "nkm['prep'].transform(Xa).shape"
      ],
      "execution_count": null,
      "outputs": []
    },
    {
      "cell_type": "code",
      "metadata": {
        "id": "ZHes3Db72kLc"
      },
      "source": [
        "abc['nx1'], abc['nx2'] = nkm['prep'].transform(Xa).transpose()"
      ],
      "execution_count": null,
      "outputs": []
    },
    {
      "cell_type": "code",
      "metadata": {
        "id": "_PteLxPn4ieL"
      },
      "source": [
        "abc['cluster']=nkm['clusterer'].labels_"
      ],
      "execution_count": null,
      "outputs": []
    },
    {
      "cell_type": "code",
      "metadata": {
        "id": "HOs5IWO03dHh"
      },
      "source": [
        "abc.head()"
      ],
      "execution_count": null,
      "outputs": []
    },
    {
      "cell_type": "code",
      "metadata": {
        "id": "nrm8UU8x5ZRf"
      },
      "source": [
        "centers = pd.DataFrame(nkm['clusterer'].cluster_centers_, columns=['nx1', 'nx2'])\n",
        "centers['class'] = 'center'\n",
        "centers['cluster'] = 'center'\n",
        "centers"
      ],
      "execution_count": null,
      "outputs": []
    },
    {
      "cell_type": "code",
      "metadata": {
        "id": "fD5WUq5R2gvG"
      },
      "source": [
        "sns.relplot(x='nx1', y='nx2', hue='cluster', style='class', data=pd.concat([abc, centers]))"
      ],
      "execution_count": null,
      "outputs": []
    },
    {
      "cell_type": "code",
      "metadata": {
        "id": "KqMKiaZdhXlv"
      },
      "source": [
        "nkm.predict(Xa)"
      ],
      "execution_count": null,
      "outputs": []
    },
    {
      "cell_type": "code",
      "metadata": {
        "id": "v4FBdbVR2Pe4"
      },
      "source": [
        "nkm.transform(Xa)"
      ],
      "execution_count": null,
      "outputs": []
    },
    {
      "cell_type": "markdown",
      "metadata": {
        "id": "KpdgfmCq5VyC"
      },
      "source": [
        "### Нелинейный пример"
      ]
    },
    {
      "cell_type": "code",
      "metadata": {
        "id": "Yi6EQ03s5UmD"
      },
      "source": [
        "import numpy as np\n",
        "import pandas as pd\n",
        "from scipy.stats import multivariate_normal\n",
        "\n",
        "Na = 2000\n",
        "Nb = 2000\n",
        "a = pd.DataFrame({'distance': np.random.randn(Na)*10 + 130, 'angle': np.random.rand(Na) * 2*np.pi})\n",
        "b = pd.DataFrame({'distance': np.random.randn(Nb)*10 + 40, 'angle': np.random.rand(Nb) * 2*np.pi})\n",
        "a['class'] = 'a'\n",
        "b['class'] = 'b'\n",
        "ring = pd.concat([a, b])\n",
        "ring['x1'] = ring.distance * np.cos(ring.angle)\n",
        "ring['x2'] = ring.distance * np.sin(ring.angle)\n",
        "Xr = ring[['x1', 'x2']]\n",
        "ring.sample(5)"
      ],
      "execution_count": null,
      "outputs": []
    },
    {
      "cell_type": "code",
      "metadata": {
        "id": "b3jJ-6LO7oZ7"
      },
      "source": [
        "sns.relplot(x='x1', y='x2', hue='class', data=ring)"
      ],
      "execution_count": null,
      "outputs": []
    },
    {
      "cell_type": "code",
      "metadata": {
        "id": "hHYR2hku7kR0"
      },
      "source": [
        "model = KMeans(2)\n",
        "model.fit(Xr)\n",
        "model"
      ],
      "execution_count": null,
      "outputs": []
    },
    {
      "cell_type": "code",
      "metadata": {
        "id": "HPqnEB4S8V4X"
      },
      "source": [
        "ring['cluster']=model.labels_\n",
        "sns.relplot(x='x1', y='x2', hue='cluster', size='class', data=ring)"
      ],
      "execution_count": null,
      "outputs": []
    },
    {
      "cell_type": "markdown",
      "metadata": {
        "id": "qW5l1QUf6tbA"
      },
      "source": [
        "#### Задание\n",
        "1. Применить другую модель, подходящую для кластеризации нелинейного примера."
      ]
    },
    {
      "cell_type": "markdown",
      "metadata": {
        "id": "frtJY55dk7jT"
      },
      "source": [
        "### Mnist\n",
        "На какие кластеры разбивается множество рукописных цифр?"
      ]
    },
    {
      "cell_type": "code",
      "metadata": {
        "id": "IQfkHMu-3u55"
      },
      "source": [
        "import pandas as pd\n",
        "mnist_train = pd.read_csv('/content/sample_data/mnist_train_small.csv', header=None)\n",
        "mnist_test = pd.read_csv('/content/sample_data/mnist_test.csv', header=None)"
      ],
      "execution_count": null,
      "outputs": []
    },
    {
      "cell_type": "code",
      "metadata": {
        "id": "PdvzhquaAo9a"
      },
      "source": [
        "X_mnist = mnist_train.loc[:, 1:]"
      ],
      "execution_count": null,
      "outputs": []
    },
    {
      "cell_type": "code",
      "metadata": {
        "id": "d7SA4GaN_58Q"
      },
      "source": [
        "from sklearn.cluster import MiniBatchKMeans, AgglomerativeClustering\n",
        "mnist_model = MiniBatchKMeans(10)\n",
        "mnist_model.fit(X_mnist)"
      ],
      "execution_count": null,
      "outputs": []
    },
    {
      "cell_type": "code",
      "metadata": {
        "id": "PIN6IwUOBbsC"
      },
      "source": [
        "mnist_cluster = mnist_train[[0]].rename(columns={0: 'target'})\n",
        "mnist_cluster['cluster'] = mnist_model.labels_\n",
        "mnist_cluster"
      ],
      "execution_count": null,
      "outputs": []
    },
    {
      "cell_type": "code",
      "metadata": {
        "id": "b6MAhjZYAh9t"
      },
      "source": [
        "mnist_cluster['number'] = 1\n",
        "mnist_cluster.groupby(['target', 'cluster']).sum()"
      ],
      "execution_count": null,
      "outputs": []
    },
    {
      "cell_type": "code",
      "metadata": {
        "id": "fkPIKI8BDDsA"
      },
      "source": [
        "cluster_counts = mnist_cluster.pivot_table('number', index='target', columns='cluster', aggfunc=np.sum, fill_value=0.)\n",
        "cluster_counts"
      ],
      "execution_count": null,
      "outputs": []
    },
    {
      "cell_type": "code",
      "metadata": {
        "id": "APcS3ub2Ew3N"
      },
      "source": [
        "from matplotlib import pyplot as plt\n",
        "\n",
        "n_ = 10\n",
        "for cluster in range(10):\n",
        "  for target in range(10):\n",
        "    sample = X_mnist[(mnist_cluster.target==target) & (mnist_cluster.cluster==cluster)].iloc[:n_]\n",
        "    if(cluster_counts.loc[target, cluster] > 300):\n",
        "      fig, axes = plt.subplots(1, n_, figsize=(16, 4))\n",
        "      plt.title(f'{target} {cluster} {cluster_counts.loc[target, cluster]}')\n",
        "      for i in range(n_):\n",
        "        img = sample.values[i].reshape((28, 28))\n",
        "        axes[i].imshow(img, cmap='gray')\n"
      ],
      "execution_count": null,
      "outputs": []
    },
    {
      "cell_type": "markdown",
      "metadata": {
        "id": "MNKAu_AkYjjq"
      },
      "source": [
        "## Кластеризация на графах"
      ]
    },
    {
      "cell_type": "markdown",
      "metadata": {
        "id": "UHFDpnzMlCZ0"
      },
      "source": [
        "### Графы с весом на рёбрах (расстоянием)"
      ]
    },
    {
      "cell_type": "code",
      "metadata": {
        "id": "6E7v6lGUYoiu"
      },
      "source": [
        "import networkx as nx\n",
        "g = nx.Graph(directed=False)\n",
        "g.add_edge('A', 'B', weight=0)\n",
        "g.add_edge('B', 'C', weight=1)\n",
        "g.add_edge('C', 'D', weight=1)\n",
        "g.add_edge('A', 'C', weight=3)\n",
        "pos=nx.spring_layout(g)\n",
        "nx.draw_networkx(g, pos)\n",
        "nx.draw_networkx_edge_labels(g, pos)\n",
        "nx.shortest_path(g, 'A', 'D', weight='weight')"
      ],
      "execution_count": null,
      "outputs": []
    },
    {
      "cell_type": "code",
      "metadata": {
        "id": "JVrBRed-cWdH"
      },
      "source": [
        "nx.to_pandas_edgelist(g)"
      ],
      "execution_count": null,
      "outputs": []
    },
    {
      "cell_type": "code",
      "metadata": {
        "id": "0iIuu4o5gMMs"
      },
      "source": [
        "nx.to_scipy_sparse_matrix(g).todense()"
      ],
      "execution_count": null,
      "outputs": []
    },
    {
      "cell_type": "code",
      "metadata": {
        "id": "ceNfPNHreCSz"
      },
      "source": [
        "nx.to_pandas_adjacency(g)"
      ],
      "execution_count": null,
      "outputs": []
    },
    {
      "cell_type": "markdown",
      "metadata": {
        "id": "Vyz0qtXtqsyx"
      },
      "source": [
        "### Кластеры на графе"
      ]
    },
    {
      "cell_type": "code",
      "metadata": {
        "id": "rAptd_i6lbEy"
      },
      "source": [
        "g = nx.from_edgelist([(0, 1, {'d': 1}),\n",
        "                      (0, 2, {'d': 1}),\n",
        "                      (1, 2, {'d': 1}),\n",
        "                      ('A', 'B', {'d': 1}),\n",
        "                      ('A', 'C', {'d': 1}),\n",
        "                      ('B', 'C', {'d': 1}),\n",
        "                      (0, 'A', {'d': 0.1})])\n",
        "pos=nx.spring_layout(g)\n",
        "nx.draw_networkx_edge_labels(g, pos)\n",
        "nx.draw_networkx(g, pos)"
      ],
      "execution_count": null,
      "outputs": []
    },
    {
      "cell_type": "code",
      "metadata": {
        "id": "Bx_WG5-b8wTH"
      },
      "source": [
        "X = nx.to_pandas_adjacency(g, weight='d')\n",
        "X"
      ],
      "execution_count": null,
      "outputs": []
    },
    {
      "cell_type": "code",
      "metadata": {
        "id": "OODomwiTnQ2Z"
      },
      "source": [
        "from sklearn.cluster import AffinityPropagation\n",
        "model = AffinityPropagation(affinity='precomputed')\n",
        "X = nx.to_pandas_adjacency(g, weight='d')\n",
        "model.fit(X)\n",
        "X['cluster'] = model.labels_\n",
        "X"
      ],
      "execution_count": null,
      "outputs": []
    },
    {
      "cell_type": "markdown",
      "metadata": {
        "id": "Ku8v7jQNzOPS"
      },
      "source": [
        "### Кластеризация областей изображения"
      ]
    },
    {
      "cell_type": "code",
      "metadata": {
        "id": "m_gUKF0kpT1m"
      },
      "source": [
        "img = mnist_train.iloc[10, 1:].values.reshape((28, 28))\n",
        "plt.imshow(img, cmap='gray')"
      ],
      "execution_count": null,
      "outputs": []
    },
    {
      "cell_type": "code",
      "metadata": {
        "id": "XGTY7n08uPrS"
      },
      "source": [
        "from sklearn.feature_extraction import img_to_graph, grid_to_graph\n",
        "grid_to_graph(3, 4).toarray()"
      ],
      "execution_count": null,
      "outputs": []
    },
    {
      "cell_type": "code",
      "source": [
        "plt.spy(grid_to_graph(3, 4))"
      ],
      "metadata": {
        "id": "Xe3MLDmnYhMC"
      },
      "execution_count": null,
      "outputs": []
    },
    {
      "cell_type": "code",
      "metadata": {
        "id": "sSDl6_lJtpaR"
      },
      "source": [
        "X = img_to_graph([[0, 0], [0, 0], [11, 12]])\n",
        "pd.DataFrame(X.toarray())"
      ],
      "execution_count": null,
      "outputs": []
    },
    {
      "cell_type": "code",
      "metadata": {
        "id": "15U-AzewVMvN"
      },
      "source": [
        "X"
      ],
      "execution_count": null,
      "outputs": []
    },
    {
      "cell_type": "code",
      "metadata": {
        "id": "vqF7sZUkzbqY"
      },
      "source": [
        "X.data = (12 - X.data)/12\n",
        "pd.DataFrame(X.toarray())"
      ],
      "execution_count": null,
      "outputs": []
    },
    {
      "cell_type": "code",
      "metadata": {
        "id": "GXsO0Uo_qX2A"
      },
      "source": [
        "img_to_graph(img)"
      ],
      "execution_count": null,
      "outputs": []
    },
    {
      "cell_type": "code",
      "metadata": {
        "id": "VjZ7Glvqk-R3"
      },
      "source": [
        "np.std(img_to_graph(img).data)"
      ],
      "execution_count": null,
      "outputs": []
    },
    {
      "cell_type": "code",
      "metadata": {
        "id": "UI15wH08s3He"
      },
      "source": [
        "X = img_to_graph(img)\n",
        "X.data = np.exp(- X.data/50)\n",
        "X.toarray().shape"
      ],
      "execution_count": null,
      "outputs": []
    },
    {
      "cell_type": "code",
      "metadata": {
        "id": "CLxi-SvrjEKW"
      },
      "source": [
        "X.toarray()[:5, :5]"
      ],
      "execution_count": null,
      "outputs": []
    },
    {
      "cell_type": "code",
      "metadata": {
        "id": "5S_ncIX91xgy"
      },
      "source": [
        "plt.imshow(X.toarray()[300:350, 300:350])"
      ],
      "execution_count": null,
      "outputs": []
    },
    {
      "cell_type": "code",
      "metadata": {
        "id": "Tzp5lSWorDjN"
      },
      "source": [
        "from sklearn.cluster import SpectralClustering\n",
        "model = SpectralClustering(4, affinity='precomputed')\n",
        "model.fit(X)\n",
        "plt.imshow(model.labels_.reshape((28, 28)))"
      ],
      "execution_count": null,
      "outputs": []
    },
    {
      "cell_type": "code",
      "metadata": {
        "id": "gbPI-XLY2uSz"
      },
      "source": [
        "from sklearn.cluster import AgglomerativeClustering\n",
        "X = img_to_graph(img)\n",
        "model = AgglomerativeClustering(4, affinity='precomputed', linkage='average', connectivity=grid_to_graph(28, 28))\n",
        "model.fit(X.toarray())\n",
        "plt.imshow(model.labels_.reshape((28, 28)))"
      ],
      "execution_count": null,
      "outputs": []
    },
    {
      "cell_type": "markdown",
      "metadata": {
        "id": "mQAmnYZA4AyJ"
      },
      "source": [
        "## Уменьшение размерности"
      ]
    },
    {
      "cell_type": "markdown",
      "metadata": {
        "id": "eJuL0FNzBBbC"
      },
      "source": [
        "### Простой пример - кошки"
      ]
    },
    {
      "cell_type": "code",
      "metadata": {
        "id": "QM0UvlDqIcqZ"
      },
      "source": [
        "import numpy as np\n",
        "N = 500\n",
        "cats = pd.DataFrame()\n",
        "genes = np.random.rand(N)\n",
        "age = 12 * np.random.rand(N)\n",
        "# luck = np.random.randn(N)\n",
        "luck = np.zeros(N)\n",
        "cats['weight'] =     2 * genes +  2  * age/12 + 0.5 * luck + 0.1 * np.random.randn(N)\n",
        "cats['lives']  = 9 + 2 * genes -  3  * age/12 +       luck + 0.1 * np.random.randn(N)\n",
        "cats['fur']    =     2 * genes + 0.5 * age/12 + 0.2 * luck + 0.1 * np.random.randn(N)"
      ],
      "execution_count": null,
      "outputs": []
    },
    {
      "cell_type": "code",
      "metadata": {
        "id": "xjQfdUz0_Xxp"
      },
      "source": [
        "cats"
      ],
      "execution_count": null,
      "outputs": []
    },
    {
      "cell_type": "code",
      "metadata": {
        "id": "FsCHMcfsRd7b"
      },
      "source": [
        "mid = np.array([2, 8.5, 1.25])\n",
        "dg = np.array([2, 2, 2])\n",
        "da = np.array([2, -3, 0.5])"
      ],
      "execution_count": null,
      "outputs": []
    },
    {
      "cell_type": "code",
      "metadata": {
        "id": "kkj9BKRB5Vo6"
      },
      "source": [
        "import seaborn as sns\n",
        "sns.relplot(x='weight', y='lives', hue='fur', data=cats)"
      ],
      "execution_count": null,
      "outputs": []
    },
    {
      "cell_type": "code",
      "metadata": {
        "id": "K_GecA-_K7Vu"
      },
      "source": [
        "import plotly.graph_objs as go\n",
        "vg = go.Scatter3d( x = [mid[0], (mid+dg)[0]],\n",
        "                       y = [mid[1], (mid+dg)[1]],\n",
        "                       z = [mid[2], (mid+dg)[2]],\n",
        "                       marker = dict( size = 1,\n",
        "                                      color = \"red\"),\n",
        "                       line = dict( color = \"red\",\n",
        "                                    width = 6)\n",
        "                     )\n",
        "va = go.Scatter3d( x = [mid[0], (mid+da)[0]],\n",
        "                       y = [mid[1], (mid+da)[1]],\n",
        "                       z = [mid[2], (mid+da)[2]],\n",
        "                       marker = dict( size = 1,\n",
        "                                      color = \"green\"),\n",
        "                       line = dict( color = \"green\",\n",
        "                                    width = 6)\n",
        "                     )\n"
      ],
      "execution_count": null,
      "outputs": []
    },
    {
      "cell_type": "code",
      "metadata": {
        "id": "OlCYByYzIC9J"
      },
      "source": [
        "import plotly.express as px\n",
        "px.scatter_3d(cats, x='weight', y='lives', z='fur', size=age, color=genes).add_trace(vg).add_trace(va)"
      ],
      "execution_count": null,
      "outputs": []
    },
    {
      "cell_type": "code",
      "metadata": {
        "id": "alcYWDFzOcWb"
      },
      "source": [
        "sns.heatmap(cats.corr(), vmin=-1, vmax=1)\n",
        "cats.corr()"
      ],
      "execution_count": null,
      "outputs": []
    },
    {
      "cell_type": "code",
      "metadata": {
        "id": "y051bP1f5eMY"
      },
      "source": [
        "from sklearn.decomposition import PCA\n",
        "pca_cats = PCA(2)\n",
        "pca_cats.fit(cats)"
      ],
      "execution_count": null,
      "outputs": []
    },
    {
      "cell_type": "code",
      "metadata": {
        "id": "qCRdyqSUp8-m"
      },
      "source": [
        "pca_cats.components_"
      ],
      "execution_count": null,
      "outputs": []
    },
    {
      "cell_type": "code",
      "metadata": {
        "id": "HPCAheziDbHp"
      },
      "source": [
        "pca_cats.explained_variance_ratio_"
      ],
      "execution_count": null,
      "outputs": []
    },
    {
      "cell_type": "code",
      "metadata": {
        "id": "L399LtpOXZHf"
      },
      "source": [
        "c = pca_cats.components_\n",
        "v0 = go.Scatter3d( x = [mid[0], (mid+c[0])[0]],\n",
        "                       y = [mid[1], (mid+c[0])[1]],\n",
        "                       z = [mid[2], (mid+c[0])[2]],\n",
        "                       marker = dict( size = 1,\n",
        "                                      color = \"red\"),\n",
        "                       line = dict( color = \"red\",\n",
        "                                    width = 6)\n",
        "                     )\n",
        "v1 = go.Scatter3d( x = [mid[0], (mid+c[1])[0]],\n",
        "                       y = [mid[1], (mid+c[1])[1]],\n",
        "                       z = [mid[2], (mid+c[1])[2]],\n",
        "                       marker = dict( size = 1,\n",
        "                                      color = \"green\"),\n",
        "                       line = dict( color = \"green\",\n",
        "                                    width = 6)\n",
        "                     )\n",
        "# v2 = go.Scatter3d( x = [mid[0], (mid+c[2])[0]],\n",
        "#                        y = [mid[1], (mid+c[2])[1]],\n",
        "#                        z = [mid[2], (mid+c[2])[2]],\n",
        "#                        marker = dict( size = 1,\n",
        "#                                       color = \"blue\"),\n",
        "#                        line = dict( color = \"blue\",\n",
        "#                                     width = 6)\n",
        "#                      )\n",
        "px.scatter_3d(cats, x='weight', y='lives', z='fur', size=age, color=genes).add_trace(v0).add_trace(v1)#.add_trace(v2)"
      ],
      "execution_count": null,
      "outputs": []
    },
    {
      "cell_type": "code",
      "metadata": {
        "id": "bk7_BNbjJDr1"
      },
      "source": [
        "space = pca_cats.transform(cats)\n",
        "sns.jointplot(space[:, 0], space[:, 1])"
      ],
      "execution_count": null,
      "outputs": []
    },
    {
      "cell_type": "code",
      "metadata": {
        "id": "IfFINQL1Kq2c"
      },
      "source": [
        "reconstructed = pd.DataFrame(pca_cats.inverse_transform(space), columns=['weight', 'lives', 'fur'])\n",
        "reconstructed"
      ],
      "execution_count": null,
      "outputs": []
    },
    {
      "cell_type": "code",
      "metadata": {
        "id": "TFFsqfqGKhEP"
      },
      "source": [
        "px.scatter_3d(reconstructed, x='weight', y='lives', z='fur', size=age, color=genes).add_trace(v0).add_trace(v1)#.add_trace(v2)#.add_trace(v2)"
      ],
      "execution_count": null,
      "outputs": []
    },
    {
      "cell_type": "markdown",
      "metadata": {
        "id": "uHLDlapKBLfK"
      },
      "source": [
        "### Mnist"
      ]
    },
    {
      "cell_type": "code",
      "metadata": {
        "id": "CFHr2ix0Sk5m"
      },
      "source": [
        "Y_mnist = mnist_train.loc[:, 0]\n",
        "print(X_mnist.shape, Y_mnist.shape)"
      ],
      "execution_count": null,
      "outputs": []
    },
    {
      "cell_type": "code",
      "metadata": {
        "id": "J5sfx1xzjLDD"
      },
      "source": [
        "from sklearn.decomposition import PCA\n",
        "model = PCA(200)\n",
        "model.fit(X_mnist)"
      ],
      "execution_count": null,
      "outputs": []
    },
    {
      "cell_type": "code",
      "metadata": {
        "id": "1_tCTwldj_sh"
      },
      "source": [
        "model.transform(X_mnist).shape"
      ],
      "execution_count": null,
      "outputs": []
    },
    {
      "cell_type": "code",
      "metadata": {
        "id": "c-_MljBk0L8G"
      },
      "source": [
        "pc = pd.DataFrame(model.transform(X_mnist), columns=[str(i) for i in range(200)])\n",
        "pc['y']=Y_mnist\n",
        "pc.head()"
      ],
      "execution_count": null,
      "outputs": []
    },
    {
      "cell_type": "code",
      "metadata": {
        "id": "SWgZ6hg3S_UO"
      },
      "source": [
        "from matplotlib import pyplot as plt\n",
        "for i in range(4):\n",
        "  plt.imshow(model.components_[i].reshape((28, 28)), cmap='gray')\n",
        "  plt.figure()"
      ],
      "execution_count": null,
      "outputs": []
    },
    {
      "cell_type": "code",
      "metadata": {
        "id": "xacM1sDCYWov"
      },
      "source": [
        "plt.imshow(model.components_[199].reshape((28, 28)), cmap='gray')"
      ],
      "execution_count": null,
      "outputs": []
    },
    {
      "cell_type": "code",
      "metadata": {
        "id": "A-JDfWl0Yyw5"
      },
      "source": [
        "plt.plot(model.explained_variance_ratio_[:10])"
      ],
      "execution_count": null,
      "outputs": []
    },
    {
      "cell_type": "code",
      "metadata": {
        "id": "ege34agoiNFn"
      },
      "source": [
        "plt.plot(model.explained_variance_ratio_.cumsum()[:30])"
      ],
      "execution_count": null,
      "outputs": []
    },
    {
      "cell_type": "code",
      "metadata": {
        "id": "6vrw_arh_wPc"
      },
      "source": [
        "sns.relplot(data=pc.sample(2000), x='0', y='1', hue='y')"
      ],
      "execution_count": null,
      "outputs": []
    },
    {
      "cell_type": "code",
      "metadata": {
        "id": "OsuEgvTBmjJD"
      },
      "source": [
        "from sklearn.manifold import TSNE\n",
        "sample = mnist_train.sample(5000)\n",
        "embedding = TSNE().fit_transform(sample.loc[:, 1:])\n",
        "embedding.shape"
      ],
      "execution_count": null,
      "outputs": []
    },
    {
      "cell_type": "code",
      "metadata": {
        "id": "_4PNEa6Zp2UJ"
      },
      "source": [
        "sns.relplot(x=embedding[:, 0], y=embedding[:, 1], palette='deep', hue=sample.loc[:, 0])"
      ],
      "execution_count": null,
      "outputs": []
    },
    {
      "cell_type": "markdown",
      "metadata": {
        "id": "8-1TKaTKqjuh"
      },
      "source": [
        "### Autoencoder\n",
        "<img src=\"https://d1m75rqqgidzqn.cloudfront.net/wp-data/2020/04/29201743/Blog_info_29-04-2020-R-01-1024x438.png\" width=750px/>"
      ]
    },
    {
      "cell_type": "code",
      "metadata": {
        "id": "L1Ic_nVvE3qX"
      },
      "source": [
        "import tensorflow as tf\n",
        "from tensorflow.keras import Input\n",
        "from tensorflow.keras.layers import Dense, concatenate\n",
        "\n",
        "def build_autoencoder():\n",
        "  inp = Input(28*28, name='inp')\n",
        "  enc = Dense(128, 'relu', kernel_regularizer='l1', name='enc')(inp)\n",
        "  classes = Dense(10, 'relu', kernel_regularizer='l1', name='classes')(enc)\n",
        "  dec = Dense(128, 'relu', kernel_regularizer='l1', name='dec')(classes)\n",
        "  out = Dense(28*28, 'relu', kernel_regularizer='l1', name='out')(dec)\n",
        "  model = tf.keras.Model(inputs=inp, outputs=out)\n",
        "  encoder = tf.keras.Model(inputs=inp, outputs=classes)\n",
        "  return model, encoder\n"
      ],
      "execution_count": null,
      "outputs": []
    },
    {
      "cell_type": "code",
      "metadata": {
        "id": "qBsXdeteVSbI"
      },
      "source": [
        "from tensorflow.keras.utils import plot_model\n",
        "model, encoder = build_autoencoder()\n",
        "plot_model(model, show_shapes=True)"
      ],
      "execution_count": null,
      "outputs": []
    },
    {
      "cell_type": "code",
      "metadata": {
        "id": "YJoMzmKpryy3"
      },
      "source": [
        "plot_model(encoder, show_shapes=True)"
      ],
      "execution_count": null,
      "outputs": []
    },
    {
      "cell_type": "code",
      "metadata": {
        "id": "0wF4gxUlqm-i"
      },
      "source": [
        "X = mnist_train.loc[:, 1:]"
      ],
      "execution_count": null,
      "outputs": []
    },
    {
      "cell_type": "code",
      "metadata": {
        "id": "t1TV-Yz70uPk"
      },
      "source": [
        "from tensorflow.keras.callbacks import EarlyStopping\n",
        "callbacks = [EarlyStopping(monitor='val_loss', min_delta=0, patience=10, verbose=0, restore_best_weights=True)]\n",
        "model.compile(loss='mean_squared_error')\n",
        "%time history = model.fit(X, X, verbose=0, batch_size=1024, epochs=512, validation_split=0.2, callbacks=callbacks)"
      ],
      "execution_count": null,
      "outputs": []
    },
    {
      "cell_type": "code",
      "metadata": {
        "id": "4jFNleMQGkj0"
      },
      "source": [
        "pd.DataFrame(history.history).plot()"
      ],
      "execution_count": null,
      "outputs": []
    },
    {
      "cell_type": "code",
      "metadata": {
        "id": "7lhAR0AV6qIB"
      },
      "source": [
        "i = 4\n",
        "img = mnist_train.iloc[i, 1:].values.reshape((28, 28))\n",
        "plt.imshow(img, cmap='gray')"
      ],
      "execution_count": null,
      "outputs": []
    },
    {
      "cell_type": "code",
      "metadata": {
        "id": "Rqh3j2q06yhe"
      },
      "source": [
        "result = model.predict(mnist_train.iloc[[i], 1:])\n",
        "result.shape"
      ],
      "execution_count": null,
      "outputs": []
    },
    {
      "cell_type": "code",
      "metadata": {
        "id": "AmJmamtC7Eh3"
      },
      "source": [
        "plt.imshow(result.reshape((28, 28)), cmap='gray')"
      ],
      "execution_count": null,
      "outputs": []
    },
    {
      "cell_type": "code",
      "metadata": {
        "id": "BrOIzr0zsGyu"
      },
      "source": [
        "encoded = encoder.predict(X)\n",
        "encoded.shape"
      ],
      "execution_count": null,
      "outputs": []
    },
    {
      "cell_type": "code",
      "metadata": {
        "id": "61j9k2IJtq-m"
      },
      "source": [
        "sns.relplot(x=encoded[:, 0], y=encoded[:, 1], palette='deep', hue=mnist_train.loc[:, 0])"
      ],
      "execution_count": null,
      "outputs": []
    },
    {
      "cell_type": "code",
      "metadata": {
        "id": "gpfEJTPjskKx"
      },
      "source": [
        "embedding = PCA(4).fit_transform(encoded)"
      ],
      "execution_count": null,
      "outputs": []
    },
    {
      "cell_type": "code",
      "metadata": {
        "id": "cMQrv9qIsl3d"
      },
      "source": [
        "sns.relplot(x=embedding[:, 0], y=embedding[:, 1], palette='deep', hue=mnist_train.loc[:, 0])"
      ],
      "execution_count": null,
      "outputs": []
    },
    {
      "cell_type": "markdown",
      "source": [
        "## Задание\n",
        "1. Кластеризовать свой датасет любой моделью\n",
        "  - скорее всего понадобятся pipeline и scaler\n",
        "2. Визуализировать результаты кластеризации:\n",
        "  - спроецировать датасет на плоскость с помощью TSNE\n",
        "  - раскрасить кластеры"
      ],
      "metadata": {
        "id": "JX9AWmOzaZh9"
      }
    }
  ]
}