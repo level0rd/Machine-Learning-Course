{
  "nbformat": 4,
  "nbformat_minor": 0,
  "metadata": {
    "colab": {
      "provenance": [],
      "collapsed_sections": [],
      "toc_visible": true
    },
    "kernelspec": {
      "display_name": "Python 3",
      "name": "python3"
    },
    "language_info": {
      "name": "python"
    }
  },
  "cells": [
    {
      "cell_type": "code",
      "metadata": {
        "id": "VUwGtjZ9u06F"
      },
      "source": [
        "import math\n",
        "import numpy as np\n",
        "import pandas as pd\n",
        "\n",
        "from matplotlib import pyplot as plt"
      ],
      "execution_count": null,
      "outputs": []
    },
    {
      "cell_type": "markdown",
      "metadata": {
        "id": "aMSbR_LnFWDj"
      },
      "source": [
        "# Функциональное программирование\n",
        "\n",
        "Работа с функциями в математическом смысле слова \"функция\"\n",
        "\n",
        "- В отличие от императивного - \"сделать А, потом Б\". Процедурные и ООП стили всё равно относятся к императивному подходу.\n",
        "- Некоторые принципы функционального подхода помогают разработке архитектуры императивных программ.\n",
        "- В чисто функциональных языках возможны оптимизации с учётом свойств чистых функции.\n",
        "\n"
      ]
    },
    {
      "cell_type": "markdown",
      "metadata": {
        "id": "QmF5AYsgaPcc"
      },
      "source": [
        "## Функции - \"объекты первого класса\"\n",
        "https://en.wikipedia.org/wiki/First-class_citizen"
      ]
    },
    {
      "cell_type": "markdown",
      "metadata": {
        "id": "JR7MZP08r2Oj"
      },
      "source": [
        "В Python функции - это объекты. Их можно присваивать переменным, хранить их в структурах данных, передавать их в качестве аргументов другим функциям и возвращать как результат работы методов и функций.\n",
        "\n"
      ]
    },
    {
      "cell_type": "code",
      "metadata": {
        "id": "pn1Vsbl3Xeq5"
      },
      "source": [
        "def f(x):\n",
        "    return x**2\n",
        "\n",
        "print(f.__name__)\n",
        "print(f.__class__)\n",
        "f"
      ],
      "execution_count": null,
      "outputs": []
    },
    {
      "cell_type": "markdown",
      "metadata": {
        "id": "DUJZiskPt86L"
      },
      "source": [
        "После определения функция существуюет как экземпляр класса function. Имя функции - всего лишь одна из переменных, ссылающихся на неё."
      ]
    },
    {
      "cell_type": "code",
      "metadata": {
        "id": "arS7yM-uZevc"
      },
      "source": [
        "v = f\n",
        "print(v.__name__)\n",
        "v"
      ],
      "execution_count": null,
      "outputs": []
    },
    {
      "cell_type": "code",
      "metadata": {
        "id": "UT_qEgoltXvc"
      },
      "source": [
        "v(2)"
      ],
      "execution_count": null,
      "outputs": []
    },
    {
      "cell_type": "code",
      "metadata": {
        "id": "cZ3dvvKUtgqE"
      },
      "source": [
        "del f"
      ],
      "execution_count": null,
      "outputs": []
    },
    {
      "cell_type": "code",
      "metadata": {
        "id": "QEvqdLbXtzZ9"
      },
      "source": [
        "try:\n",
        "  print(f(2))\n",
        "except Exception as e:\n",
        "  print(e)"
      ],
      "execution_count": null,
      "outputs": []
    },
    {
      "cell_type": "code",
      "metadata": {
        "id": "w-2EDXYSt1gG"
      },
      "source": [
        "v(2)"
      ],
      "execution_count": null,
      "outputs": []
    },
    {
      "cell_type": "code",
      "metadata": {
        "id": "sAmnKewHyIhq"
      },
      "source": [
        "from math import sin as s\n",
        "s.__name__"
      ],
      "execution_count": null,
      "outputs": []
    },
    {
      "cell_type": "markdown",
      "metadata": {
        "id": "k3PZicDQut1E"
      },
      "source": [
        "функции могут храниться в структурах данных"
      ]
    },
    {
      "cell_type": "code",
      "metadata": {
        "id": "QbtPCDjdusiY"
      },
      "source": [
        "funcs = [v, np.sqrt, np.arange]\n",
        "funcs"
      ],
      "execution_count": null,
      "outputs": []
    },
    {
      "cell_type": "code",
      "metadata": {
        "id": "wmg1MBYhusfh"
      },
      "source": [
        "for f in funcs:\n",
        "    print(f, f(2))"
      ],
      "execution_count": null,
      "outputs": []
    },
    {
      "cell_type": "code",
      "metadata": {
        "id": "iQTSU4x6usbe"
      },
      "source": [
        "funcs[1](2)"
      ],
      "execution_count": null,
      "outputs": []
    },
    {
      "cell_type": "markdown",
      "metadata": {
        "id": "JMbFl7xnvell"
      },
      "source": [
        "### Анонимные функции"
      ]
    },
    {
      "cell_type": "code",
      "metadata": {
        "id": "8E_VC4MzZ4HB"
      },
      "source": [
        "L = lambda x: x**2\n",
        "print(L.__name__)\n",
        "L"
      ],
      "execution_count": null,
      "outputs": []
    },
    {
      "cell_type": "code",
      "metadata": {
        "id": "t6V2YLmIZ7WX"
      },
      "source": [
        "3**2, v(3), L(3)"
      ],
      "execution_count": null,
      "outputs": []
    },
    {
      "cell_type": "code",
      "metadata": {
        "id": "noKEjvZdwr9N"
      },
      "source": [
        "(lambda x, y: x + y)(2, 3)"
      ],
      "execution_count": null,
      "outputs": []
    },
    {
      "cell_type": "markdown",
      "metadata": {
        "id": "oj7VjahcMk6J"
      },
      "source": [
        "## Все функции чистые\n",
        "\n",
        "Чистая функция: результат при одинаковых значеиях параметров всегда одинаковый и нет побочных эффектов.\n",
        "\n",
        "Позволяет ввести ещё одно ограничение на синтаксис - переменные без возможности изменения их значения после создания.\n",
        "\n",
        "В чисто функциональных языках - это важное ограничение. В python это не так.\n",
        "\n",
        "Примеры не чистых функций:\n"
      ]
    },
    {
      "cell_type": "code",
      "metadata": {
        "id": "YKszVlDhMk6M"
      },
      "source": [
        "from random import random\n",
        "random()"
      ],
      "execution_count": null,
      "outputs": []
    },
    {
      "cell_type": "code",
      "metadata": {
        "id": "FMx4qvkfMk6Q"
      },
      "source": [
        "from datetime import datetime\n",
        "datetime.now()"
      ],
      "execution_count": null,
      "outputs": []
    },
    {
      "cell_type": "code",
      "metadata": {
        "id": "58zMk-HxMk6S"
      },
      "source": [
        "def dirty_square(x):\n",
        "  print(\"this is a side effect too\")\n",
        "  return x**2\n",
        "a = dirty_square(3)"
      ],
      "execution_count": null,
      "outputs": []
    },
    {
      "cell_type": "code",
      "metadata": {
        "id": "NAP2kHlDMk6U"
      },
      "source": [
        "count = 0\n",
        "def counter(n):\n",
        "  global count\n",
        "  count += n\n",
        "  return count\n",
        "\n",
        "print(counter(2))\n",
        "print(counter(2))"
      ],
      "execution_count": null,
      "outputs": []
    },
    {
      "cell_type": "markdown",
      "metadata": {
        "id": "E197y_xLiA-S"
      },
      "source": [
        "## Рекурсия\n"
      ]
    },
    {
      "cell_type": "code",
      "metadata": {
        "id": "6M1iFudZNXrG"
      },
      "source": [
        "def factorial(n):\n",
        "  if n==0:\n",
        "    return 1\n",
        "  else:\n",
        "    return n * factorial(n - 1)\n",
        "\n",
        "factorial(4)"
      ],
      "execution_count": null,
      "outputs": []
    },
    {
      "cell_type": "code",
      "source": [
        "def factorial_tail(n, current_result=1):\n",
        "  if n==0:\n",
        "    return current_result\n",
        "  else:\n",
        "    return factorial_tail(n - 1, current_result*n)\n",
        "\n",
        "factorial_tail(4)"
      ],
      "metadata": {
        "id": "X784131gcVSo"
      },
      "execution_count": null,
      "outputs": []
    },
    {
      "cell_type": "code",
      "source": [
        "def factorial_loop(n):\n",
        "  f = 1\n",
        "  for i in range(1, n+1):\n",
        "    f *= i\n",
        "  return f\n",
        "factorial_loop(4)"
      ],
      "metadata": {
        "id": "Tujm2QrmfnRm"
      },
      "execution_count": null,
      "outputs": []
    },
    {
      "cell_type": "code",
      "source": [
        "n = 500\n",
        "%timeit factorial(n)\n",
        "%timeit factorial_tail(n)\n",
        "%timeit factorial_loop(n)\n",
        "factorial(n) == factorial_tail(n) == factorial_loop(n)"
      ],
      "metadata": {
        "id": "M22YJcp9dIR1"
      },
      "execution_count": null,
      "outputs": []
    },
    {
      "cell_type": "code",
      "metadata": {
        "id": "S99BIYSFLlf7"
      },
      "source": [
        "# Измерение времени вычисления внутри программы\n",
        "from time import sleep\n",
        "%time sleep(0.1)\n",
        "%timeit sleep(0.1)\n",
        "from timeit import Timer\n",
        "iterations, total = Timer(\"sleep(0.1)\", globals={'sleep': sleep}).autorange()\n",
        "total/iterations"
      ],
      "execution_count": null,
      "outputs": []
    },
    {
      "cell_type": "code",
      "source": [
        "iterations, total = Timer('factorial(500)', globals={'factorial': factorial}).autorange()\n",
        "total/iterations"
      ],
      "metadata": {
        "id": "M3fG5DqxPj2J"
      },
      "execution_count": null,
      "outputs": []
    },
    {
      "cell_type": "markdown",
      "source": [
        "При необходимости, даже обход листа можно записать через рекурсию:"
      ],
      "metadata": {
        "id": "c12ur6DoPY0I"
      }
    },
    {
      "cell_type": "code",
      "metadata": {
        "id": "mnuimZZfkP2q"
      },
      "source": [
        "def recursive_double_list(a):\n",
        "  if len(a) == 0:\n",
        "    return []\n",
        "  else:\n",
        "    return [a[0]*2] + recursive_double_list(a[1:])\n",
        "\n",
        "recursive_double_list([4, 5, 6])"
      ],
      "execution_count": null,
      "outputs": []
    },
    {
      "cell_type": "markdown",
      "metadata": {
        "id": "1KkdkTwSSQRb"
      },
      "source": [
        "## Задание 1\n",
        "\n",
        "1. Напишите \"наивную\" рекуррентную функцию вычисления n-го [числа Фибоначчи](https://ru.wikipedia.org/wiki/%D0%A7%D0%B8%D1%81%D0%BB%D0%B0_%D0%A4%D0%B8%D0%B1%D0%BE%D0%BD%D0%B0%D1%87%D1%87%D0%B8). То есть функция которая для вычисления предыдущих чисел Фибоначчи просто вызывает саму себя.\n",
        "2. Напишите рекуррентную функцию вычисления списка чисел Фибоначчи (от 0-го до n-го) по данному n\n",
        "3. C помощью Timer и matplotlib нарисуйте график роста времени работы этих функций по мере увеличения n.\n"
      ]
    },
    {
      "cell_type": "code",
      "source": [
        "from typing import List\n",
        "\n",
        "def fib(n: int) -> int:\n",
        "  pass\n",
        "\n",
        "# assert fib(10) == 55\n",
        "\n",
        "def fib_list(n: int) -> List[int]:\n",
        "  pass\n",
        "\n",
        "# assert fib_list(10) == [0, 1, 1, 2, 3, 5, 8, 13, 21, 34, 55]"
      ],
      "metadata": {
        "id": "OWx1ZfLu7jPA"
      },
      "execution_count": null,
      "outputs": []
    },
    {
      "cell_type": "markdown",
      "metadata": {
        "id": "hxvroYrraMAD"
      },
      "source": [
        "# Полезное отступление: итераторы, генераторы\n",
        "\n"
      ]
    },
    {
      "cell_type": "markdown",
      "metadata": {
        "id": "cedImSI1tEU5"
      },
      "source": [
        "### Итераторы и итерируемые\n",
        "\n",
        "Итератор - объект с методом `__next__`, выдающим следующее по порядку значение. Функция `next()` вызывает этот метод итератора. Итераторы \"одноразовые\""
      ]
    },
    {
      "cell_type": "code",
      "metadata": {
        "id": "5J6lt8Dh-7Y5"
      },
      "source": [
        "it = iter(['a', 'b', 'c'])\n",
        "try:\n",
        "  print(it.__next__())\n",
        "  print(next(it))\n",
        "  print(next(it))\n",
        "  print(next(it))\n",
        "except Exception as e:\n",
        "  print(repr(e))\n",
        "\n",
        "try:\n",
        "  print(next(it))\n",
        "except Exception as e:\n",
        "  print(repr(e))\n"
      ],
      "execution_count": null,
      "outputs": []
    },
    {
      "cell_type": "code",
      "metadata": {
        "id": "RdPfYC0Er0K-"
      },
      "source": [
        "class MyCountdown:\n",
        "  def __init__(self, n):\n",
        "    self._n = n\n",
        "  \n",
        "  def __next__(self):\n",
        "    self._n -= 1\n",
        "    if self._n < 0:\n",
        "      raise StopIteration()\n",
        "    return self._n"
      ],
      "execution_count": null,
      "outputs": []
    },
    {
      "cell_type": "code",
      "metadata": {
        "id": "SxtH_zmjm9Ag"
      },
      "source": [
        "timer = MyCountdown(5)\n",
        "print(timer.__next__(), next(timer))\n",
        "while True:\n",
        "  try:\n",
        "    print(next(timer))\n",
        "  except StopIteration:\n",
        "    break"
      ],
      "execution_count": null,
      "outputs": []
    },
    {
      "cell_type": "markdown",
      "metadata": {
        "id": "64FiGEQBq8IA"
      },
      "source": [
        "Итерируемое - объект по которому можно создать итератор, вызывая метод `__iter__`.\n",
        "\n",
        "В Питоне много итерируемых объектов. Цикл `for` на самом деле использует итератор!\n",
        "\n",
        "Многие функции которые обычно применяют к списку и кортежу на самом деле могут работать с любым итерируемым объектом.\n",
        "\n",
        "https://docs.python.org/3/library/functions.html#sum\n",
        "\n",
        "другие функции для работы с итераторами в стандартной библиотеке https://docs.python.org/3/library/itertools.html"
      ]
    },
    {
      "cell_type": "code",
      "metadata": {
        "id": "EsuHEM6nmHO0"
      },
      "source": [
        "list.__iter__, range.__iter__, tuple.__iter__, dict.__iter__, np.ndarray.__iter__, pd.DataFrame.__iter__"
      ],
      "execution_count": null,
      "outputs": []
    },
    {
      "cell_type": "code",
      "source": [
        "{}.items().__iter__, pd.DataFrame([]).iterrows().__iter__"
      ],
      "metadata": {
        "id": "FBvv3dKmHKCD"
      },
      "execution_count": null,
      "outputs": []
    },
    {
      "cell_type": "code",
      "metadata": {
        "id": "SCzMfI8jm4T-"
      },
      "source": [
        "class MyTimer:\n",
        "  def __init__(self, n):\n",
        "    self._n = n\n",
        "  \n",
        "  def __iter__(self):\n",
        "    return MyCountdown(self._n)\n",
        "\n",
        "short_timer = MyTimer(3)\n",
        "\n",
        "for t in short_timer:\n",
        "  for t2 in short_timer:\n",
        "    print(t, t2)\n",
        "  print(\"kaboom\")"
      ],
      "execution_count": null,
      "outputs": []
    },
    {
      "cell_type": "code",
      "metadata": {
        "id": "dF0bcx43vaxB"
      },
      "source": [
        "print(list(MyTimer(10)))\n",
        "print(list(range(9, -1, -1)))\n"
      ],
      "execution_count": null,
      "outputs": []
    },
    {
      "cell_type": "markdown",
      "metadata": {
        "id": "LS6JFtQotKFe"
      },
      "source": [
        "### Генераторы\n",
        "\n",
        "Функция, выдающая значения по одному, примерно как итератор. Написать проще, чем целый итерируемый класс."
      ]
    },
    {
      "cell_type": "code",
      "metadata": {
        "id": "QPsOqc9uaNi4"
      },
      "source": [
        "def my_countdown(n, debug=False):\n",
        "  i = n\n",
        "  while i>0:\n",
        "    i -= 1\n",
        "    if debug:\n",
        "      print('generating:', i)\n",
        "    yield i\n",
        "    if debug:\n",
        "      print('generated:', i)\n",
        "    \n",
        "my_countdown"
      ],
      "execution_count": null,
      "outputs": []
    },
    {
      "cell_type": "code",
      "metadata": {
        "id": "vIJmD5OdbG7l"
      },
      "source": [
        "my_countdown(10, True)"
      ],
      "execution_count": null,
      "outputs": []
    },
    {
      "cell_type": "code",
      "metadata": {
        "id": "V8bxjKHaqMWE"
      },
      "source": [
        "print(next(my_countdown(10, True)))\n",
        "print(next(my_countdown(10, True)))"
      ],
      "execution_count": null,
      "outputs": []
    },
    {
      "cell_type": "code",
      "metadata": {
        "id": "p-BCUBIeqjBW"
      },
      "source": [
        "gen_obj = my_countdown(10, True)\n",
        "next(gen_obj)"
      ],
      "execution_count": null,
      "outputs": []
    },
    {
      "cell_type": "code",
      "metadata": {
        "id": "O7ddsQl8qrZz"
      },
      "source": [
        "next(gen_obj)"
      ],
      "execution_count": null,
      "outputs": []
    },
    {
      "cell_type": "code",
      "metadata": {
        "id": "y1IwokhrbVbF"
      },
      "source": [
        "tuple(my_countdown(5))"
      ],
      "execution_count": null,
      "outputs": []
    },
    {
      "cell_type": "markdown",
      "metadata": {
        "id": "1MDqw_lAuVWL"
      },
      "source": [
        "#### zip"
      ]
    },
    {
      "cell_type": "code",
      "metadata": {
        "id": "7J5bPSI5uLba"
      },
      "source": [
        "from itertools import zip_longest\n",
        "\n",
        "merged = list(zip(\n",
        "    MyTimer(9),\n",
        "    my_countdown(9),\n",
        "    range(8, 0, -1),\n",
        "    reversed(range(9))))\n",
        "merged"
      ],
      "execution_count": null,
      "outputs": []
    },
    {
      "cell_type": "code",
      "metadata": {
        "id": "HpHnAq-a0gt_"
      },
      "source": [
        "all([a==b and b==c and c==d for a, b, c, d in merged])"
      ],
      "execution_count": null,
      "outputs": []
    },
    {
      "cell_type": "markdown",
      "metadata": {
        "id": "9h7loAhGrCYP"
      },
      "source": [
        "#### Генераторное выражение (generator expression) и списковое включение (list comprehension)"
      ]
    },
    {
      "cell_type": "code",
      "metadata": {
        "id": "wagDVtgRbW5u"
      },
      "source": [
        "(i**2 for i in (1,2,3))"
      ],
      "execution_count": null,
      "outputs": []
    },
    {
      "cell_type": "code",
      "metadata": {
        "id": "IuwZEa0Fr9bg"
      },
      "source": [
        "listcomp = [i**2 for i in (1,2,3)]\n",
        "genexpr = (i**2 for i in (1,2,3))"
      ],
      "execution_count": null,
      "outputs": []
    },
    {
      "cell_type": "code",
      "metadata": {
        "id": "E8h-EUQ1sSG1"
      },
      "source": [
        "listcomp"
      ],
      "execution_count": null,
      "outputs": []
    },
    {
      "cell_type": "code",
      "metadata": {
        "id": "YFH-GoNCsWIJ"
      },
      "source": [
        "genexpr"
      ],
      "execution_count": null,
      "outputs": []
    },
    {
      "cell_type": "code",
      "metadata": {
        "id": "X2rrOKx-sYiL"
      },
      "source": [
        "next(genexpr), next(genexpr)"
      ],
      "execution_count": null,
      "outputs": []
    },
    {
      "cell_type": "code",
      "metadata": {
        "id": "dfg7ie6I9eIE"
      },
      "source": [
        "list(genexpr)"
      ],
      "execution_count": null,
      "outputs": []
    },
    {
      "cell_type": "markdown",
      "metadata": {
        "id": "X103shaF1lNu"
      },
      "source": [
        "### Генератор бесконечной последовательности"
      ]
    },
    {
      "cell_type": "code",
      "metadata": {
        "id": "awKSOn8DbYt5"
      },
      "source": [
        "def powers_of_2():\n",
        "  x = 1\n",
        "  while True:\n",
        "    yield x\n",
        "    x = 2*x\n",
        "\n",
        "powers_of_2()"
      ],
      "execution_count": null,
      "outputs": []
    },
    {
      "cell_type": "code",
      "metadata": {
        "id": "V6uVxtjN2InV"
      },
      "source": [
        "try:\n",
        "  powers_of_2()[:10]\n",
        "except Exception as e:\n",
        "  print(repr(e))"
      ],
      "execution_count": null,
      "outputs": []
    },
    {
      "cell_type": "code",
      "metadata": {
        "id": "Ovijum8ubsq3"
      },
      "source": [
        "n = 0\n",
        "for f in powers_of_2():\n",
        "  print(n, f)\n",
        "  n += 1\n",
        "  if n>10:\n",
        "    break"
      ],
      "execution_count": null,
      "outputs": []
    },
    {
      "cell_type": "code",
      "metadata": {
        "id": "zYJjDVDqbzfy"
      },
      "source": [
        "for i, f in enumerate(powers_of_2()):\n",
        "  print(i, f)\n",
        "  if i>=10:\n",
        "    break"
      ],
      "execution_count": null,
      "outputs": []
    },
    {
      "cell_type": "code",
      "metadata": {
        "id": "rlkOEBvbKt4A"
      },
      "source": [
        "from itertools import islice\n",
        "print(islice(powers_of_2(), 11))\n",
        "list(islice(powers_of_2(), 11))"
      ],
      "execution_count": null,
      "outputs": []
    },
    {
      "cell_type": "markdown",
      "metadata": {
        "id": "QeljA94RSah0"
      },
      "source": [
        "## Задание 2\n",
        "Напишите генератор бесконечной последовательности чисел Фибоначчи начиная с 0-го."
      ]
    },
    {
      "cell_type": "code",
      "source": [
        "def fib_gen():\n",
        "  pass\n",
        "\n",
        "# assert list(islice(fib_gen(), 11)) == [0, 1, 1, 2, 3, 5, 8, 13, 21, 34, 55]"
      ],
      "metadata": {
        "id": "rlZyzFmF8pXb"
      },
      "execution_count": null,
      "outputs": []
    },
    {
      "cell_type": "markdown",
      "metadata": {
        "id": "UFI8f18HK41y"
      },
      "source": [
        "# Функции высшего порядка\n",
        "\n",
        "Функции, которые в качестве аргументов принимают функции, называются *функциями высшего порядка*"
      ]
    },
    {
      "cell_type": "markdown",
      "metadata": {
        "id": "akp-NG7h5uRQ"
      },
      "source": [
        "## Функции могут принимать на вход функции"
      ]
    },
    {
      "cell_type": "code",
      "metadata": {
        "id": "CtBRBrKSK3_H"
      },
      "source": [
        "def plot(foo):\n",
        "  x_space = np.linspace(0, 1, num=1000)\n",
        "  y = [foo(x) for x in x_space]\n",
        "  plt.plot(x_space, y)\n",
        "\n",
        "my_sin = lambda x: math.sin(x*2*math.pi)\n",
        "plot(my_sin)"
      ],
      "execution_count": null,
      "outputs": []
    },
    {
      "cell_type": "markdown",
      "metadata": {
        "id": "GkTZEIV1A9mB"
      },
      "source": [
        "Почему это спорный пример функционального программирования?"
      ]
    },
    {
      "cell_type": "code",
      "metadata": {
        "id": "qHcuu4yh24eU"
      },
      "source": [
        "def sample_at_good_points(foo):\n",
        "  return foo(0), foo(1/6*1/4), foo(1/4 * 1/4), foo(1/3 * 1/4)\n",
        "print(sample_at_good_points(my_sin))"
      ],
      "execution_count": null,
      "outputs": []
    },
    {
      "cell_type": "code",
      "metadata": {
        "id": "l0oG9xBZ6RCi"
      },
      "source": [
        "# не обязательно принимать одну функцию\n",
        "def compare_on_01(model, candidates):\n",
        "  return [\n",
        "    all(\n",
        "          (model(x) == foo(x) \n",
        "          for x in np.linspace(0, 1, num=1000))\n",
        "        )\n",
        "    for foo in candidates\n",
        "  ]"
      ],
      "execution_count": null,
      "outputs": []
    },
    {
      "cell_type": "code",
      "metadata": {
        "id": "IZ93---N6olV"
      },
      "source": [
        "compare_on_01(math.sin, [my_sin, np.sin])"
      ],
      "execution_count": null,
      "outputs": []
    },
    {
      "cell_type": "markdown",
      "metadata": {
        "id": "BW_cRNPB5lAi"
      },
      "source": [
        "## Функции могут возвращать функции"
      ]
    },
    {
      "cell_type": "code",
      "metadata": {
        "id": "oVH4pSddo4fR"
      },
      "source": [
        "def parabola(a, b, c):\n",
        "  def polynomial(x):\n",
        "    return a * x**2 + b * x + c\n",
        "  return polynomial"
      ],
      "execution_count": null,
      "outputs": []
    },
    {
      "cell_type": "code",
      "metadata": {
        "id": "3kI_OemU4GXw"
      },
      "source": [
        "def parabola2(a, b, c):\n",
        "  return lambda x: a * x**2 + b * x + c"
      ],
      "execution_count": null,
      "outputs": []
    },
    {
      "cell_type": "code",
      "metadata": {
        "id": "LhHLQ2cD71x1"
      },
      "source": [
        "compare_on_01(parabola(1, 2, 3), [parabola2(1, 2, 3)])"
      ],
      "execution_count": null,
      "outputs": []
    },
    {
      "cell_type": "code",
      "metadata": {
        "id": "2SbJEa_t3-wr"
      },
      "source": [
        "try:\n",
        "  polynomial(5)\n",
        "except Exception as e:\n",
        "  print(e)"
      ],
      "execution_count": null,
      "outputs": []
    },
    {
      "cell_type": "code",
      "metadata": {
        "id": "nhq4rE5IDmdq"
      },
      "source": [
        "v = parabola(1, 0, 0)\n",
        "v"
      ],
      "execution_count": null,
      "outputs": []
    },
    {
      "cell_type": "code",
      "metadata": {
        "id": "54ldKO5vo_W7"
      },
      "source": [
        "plot(v)\n",
        "plot(parabola2(-1, 1, 1))"
      ],
      "execution_count": null,
      "outputs": []
    },
    {
      "cell_type": "markdown",
      "source": [
        "## Композиция"
      ],
      "metadata": {
        "id": "vk84n4Ng3nWn"
      }
    },
    {
      "cell_type": "code",
      "source": [
        "X = np.linspace(0, 6, num=1000)\n",
        "plt.plot(X, np.abs(np.sin(X**2)))"
      ],
      "metadata": {
        "id": "9oBMsty33dgj"
      },
      "execution_count": null,
      "outputs": []
    },
    {
      "cell_type": "code",
      "metadata": {
        "id": "RlYhEY4TNj-L"
      },
      "source": [
        "def compose(F, G):\n",
        "  def composition(x):\n",
        "    return F(G(x))\n",
        "  return composition\n",
        "\n",
        "abs_sin_x2 = compose(abs, compose(math.sin, lambda x: x**2))\n",
        "print(type(abs_sin_x2))\n",
        "\n",
        "y = [abs_sin_x2(x) for x in X]\n",
        "plt.plot(X, y)"
      ],
      "execution_count": null,
      "outputs": []
    },
    {
      "cell_type": "markdown",
      "metadata": {
        "id": "7uIiGhH_pWzq"
      },
      "source": [
        "## Декоратор\n",
        "\n",
        "Функция, принимающая на вход одну функцию и возвращающая функцию. Так она \"декорирует\" её работу."
      ]
    },
    {
      "cell_type": "code",
      "metadata": {
        "id": "ABDi7hOm8XKk"
      },
      "source": [
        "def null_decorator(func):\n",
        "  return func\n",
        "\n",
        "def null_decorator2(func):\n",
        "  def wrapper(*args, **kwargs):\n",
        "    return func(*args, **kwargs)\n",
        "  return wrapper\n",
        "\n",
        "def some_f():\n",
        "    return 'some text'\n",
        "\n",
        "some_f()"
      ],
      "execution_count": null,
      "outputs": []
    },
    {
      "cell_type": "code",
      "metadata": {
        "id": "vebOGvfU8XGb"
      },
      "source": [
        "same_f = null_decorator(some_f)\n",
        "\n",
        "same_f(), null_decorator2(some_f)()"
      ],
      "execution_count": null,
      "outputs": []
    },
    {
      "cell_type": "code",
      "metadata": {
        "id": "yEXBjeaa8XAY"
      },
      "source": [
        "@null_decorator\n",
        "def different_f():\n",
        "    return 'different text'\n",
        "different_f()"
      ],
      "execution_count": null,
      "outputs": []
    },
    {
      "cell_type": "code",
      "metadata": {
        "id": "Z2EOPR3p9KCR"
      },
      "source": [
        "def uppercase(func):\n",
        "    def wrapper(*args, **kwargs):\n",
        "        original_result = func(*args, **kwargs)\n",
        "        modified_result = original_result.upper()\n",
        "        return modified_result\n",
        "    return wrapper\n",
        "\n",
        "@uppercase\n",
        "def third_f():\n",
        "    return 'hello world'\n",
        "\n",
        "third_f()"
      ],
      "execution_count": null,
      "outputs": []
    },
    {
      "cell_type": "code",
      "metadata": {
        "id": "Q35lQBNz-m3W"
      },
      "source": [
        "def scale_by_tau(foo):\n",
        "  def wrapped_func(x):\n",
        "    return foo(x*2*math.pi)\n",
        "  return wrapped_func"
      ],
      "execution_count": null,
      "outputs": []
    },
    {
      "cell_type": "code",
      "metadata": {
        "id": "mjw9E-RDCMNa"
      },
      "source": [
        "plot(scale_by_tau(math.sin))\n",
        "plot(scale_by_tau(math.cos))\n"
      ],
      "execution_count": null,
      "outputs": []
    },
    {
      "cell_type": "code",
      "metadata": {
        "id": "1f6j0UmNHYMK"
      },
      "source": [
        "@scale_by_tau\n",
        "def wave(x):\n",
        "  return 0.1*math.cos(10*x) + math.sin(x)\n",
        "plot(wave)"
      ],
      "execution_count": null,
      "outputs": []
    },
    {
      "cell_type": "markdown",
      "metadata": {
        "id": "AtKPl5Ie0CO6"
      },
      "source": [
        "Напоминание синтаксиса Python: `*args` и `**kwargs` позволяют функции принимать необязательные аргументы"
      ]
    },
    {
      "cell_type": "code",
      "metadata": {
        "id": "_Y3ogDsb0Vbt"
      },
      "source": [
        "def foo(required, *args, **kwargs):\n",
        "    print('required arg:', required)\n",
        "    if args:\n",
        "        print('args:', args)\n",
        "    if kwargs:\n",
        "        print('kwargs:', kwargs)"
      ],
      "execution_count": null,
      "outputs": []
    },
    {
      "cell_type": "code",
      "metadata": {
        "id": "K2DF5W-a0VZA"
      },
      "source": [
        "try:\n",
        "  foo()\n",
        "except Exception as e:\n",
        "  print(e)"
      ],
      "execution_count": null,
      "outputs": []
    },
    {
      "cell_type": "code",
      "metadata": {
        "id": "sLgHo7m00VWR"
      },
      "source": [
        "foo('hi')"
      ],
      "execution_count": null,
      "outputs": []
    },
    {
      "cell_type": "code",
      "metadata": {
        "id": "w5Lx-GMv1KzZ"
      },
      "source": [
        "foo('hi', 1, 2, 3)"
      ],
      "execution_count": null,
      "outputs": []
    },
    {
      "cell_type": "code",
      "metadata": {
        "id": "yFtW0XK91eAF"
      },
      "source": [
        "foo('hi', 1, 2, 3, v1=999, v2=None)"
      ],
      "execution_count": null,
      "outputs": []
    },
    {
      "cell_type": "markdown",
      "metadata": {
        "id": "ZhQ4J1wmBl7l"
      },
      "source": [
        "Декораторы часто применяют для уменьшения количества служебного кода. Хотя они являются функциями высшего уровня, они часто используются чтобы добавить к функции побочные эффекты."
      ]
    },
    {
      "cell_type": "code",
      "metadata": {
        "id": "meHskf7Opd35"
      },
      "source": [
        "def logging(foo):\n",
        "  def logging_inner(*args, **kwargs):\n",
        "    arg_str = ', '.join(repr(a) for a in args)\n",
        "    kwarg_str = ', '.join(f\"{k}={v!r}\" for k, v in kwargs.items())\n",
        "    call_str = f\"{foo.__name__}({arg_str}, {kwarg_str})\"\n",
        "    print(f\"Begin {call_str}\")\n",
        "    result = foo(*args, **kwargs)\n",
        "    print(f\"End {call_str}\")\n",
        "    return result\n",
        "  return logging_inner"
      ],
      "execution_count": null,
      "outputs": []
    },
    {
      "cell_type": "code",
      "metadata": {
        "id": "6Ixtvdt_pjd5"
      },
      "source": [
        "@logging\n",
        "def hello(who=\"world\"):\n",
        "  print(f\"Hello {who}!\")"
      ],
      "execution_count": null,
      "outputs": []
    },
    {
      "cell_type": "code",
      "metadata": {
        "id": "2P4_1VfoplxE"
      },
      "source": [
        "hello()"
      ],
      "execution_count": null,
      "outputs": []
    },
    {
      "cell_type": "code",
      "metadata": {
        "id": "PvyLSnFtpnsH"
      },
      "source": [
        "hello(\"students\")"
      ],
      "execution_count": null,
      "outputs": []
    },
    {
      "cell_type": "code",
      "metadata": {
        "id": "uFeSYGIwps6I"
      },
      "source": [
        "hello(who=\"there\")"
      ],
      "execution_count": null,
      "outputs": []
    },
    {
      "cell_type": "code",
      "metadata": {
        "id": "MD34V_VcK0GQ"
      },
      "source": [
        "from functools import lru_cache\n",
        "\n",
        "@logging\n",
        "@lru_cache(None)\n",
        "def factorial(n):\n",
        "  if n==0:\n",
        "    return 1\n",
        "  return n*factorial(n-1)\n",
        "\n",
        "factorial(6)"
      ],
      "execution_count": null,
      "outputs": []
    },
    {
      "cell_type": "code",
      "source": [
        "factorial(8)"
      ],
      "metadata": {
        "id": "XZ5Ifdo-AuuI"
      },
      "execution_count": null,
      "outputs": []
    },
    {
      "cell_type": "code",
      "metadata": {
        "id": "tS0TtGuRykXi"
      },
      "source": [
        "def plot_discrete(foo, values=range(20)):\n",
        "  y = [foo(x) for x in values]\n",
        "  plt.scatter(values, y)\n",
        "  plt.plot(values, y)\n",
        "\n",
        "plot_discrete(lambda n: n%5)"
      ],
      "execution_count": null,
      "outputs": []
    },
    {
      "cell_type": "markdown",
      "metadata": {
        "id": "UuS6jOe2SgNf"
      },
      "source": [
        "## Задание 3\n",
        "\n",
        "1. с помощью Timer напишите функцию высшего порядка `my_timeit(foo)`, результат которой - функция подсчёта времени работы foo для разных входных значений, и которую можно подать на вход `plot_discrete`\n",
        "2. Задекорируйте рекурсивную функцию fib из задания 1.1 для кеширования результатов, сравните как изменилось время работы с помощью `plot_discrete(my_timeit(...)))`"
      ]
    },
    {
      "cell_type": "code",
      "source": [
        "def my_timeit(foo):\n",
        "  pass"
      ],
      "metadata": {
        "id": "E1L3-FTUV1u8"
      },
      "execution_count": null,
      "outputs": []
    },
    {
      "cell_type": "code",
      "source": [
        "# plot_discrete(my_timeit(fib))"
      ],
      "metadata": {
        "id": "OaYzVtLwVY5n"
      },
      "execution_count": null,
      "outputs": []
    },
    {
      "cell_type": "code",
      "source": [
        "def cached_fib(n):\n",
        "  pass\n",
        "\n",
        "# plot_discrete(my_timeit(cached_fib))"
      ],
      "metadata": {
        "id": "DGrpUNAtVuMs"
      },
      "execution_count": null,
      "outputs": []
    },
    {
      "cell_type": "markdown",
      "metadata": {
        "id": "ot1UulM8IqiE"
      },
      "source": [
        "# Некоторые функции высшего порядка"
      ]
    },
    {
      "cell_type": "markdown",
      "metadata": {
        "id": "kyCvJz5ppJnp"
      },
      "source": [
        "## Частичное задание параметров\n",
        "\n",
        "Один из примеров когда используется функция с функцией на входе и на выходе.\n",
        "\n",
        "Модуль `functools` стандартной библиотеки - сборник функций высокого уровня\n",
        "https://docs.python.org/3/library/functools.html"
      ]
    },
    {
      "cell_type": "code",
      "metadata": {
        "id": "9ocIcDhtpQIx"
      },
      "source": [
        "from functools import partial\n",
        "\n",
        "line_through_0 = partial(parabola, 0, c=0)\n",
        "\n",
        "for k in (0.1, 0.4, 0.6, -0.5):\n",
        "  plot(line_through_0(k))"
      ],
      "execution_count": null,
      "outputs": []
    },
    {
      "cell_type": "markdown",
      "metadata": {
        "id": "UQGrxLZApzgC"
      },
      "source": [
        "## Map"
      ]
    },
    {
      "cell_type": "markdown",
      "metadata": {
        "id": "TpGQBjY7B3r-"
      },
      "source": [
        "принимает объект-функцию и итерируемый объект и затем вызывает эту функцию с каждым элементом итерируемого объекта, выдавая результат по мере прохождения итерируемого объекта"
      ]
    },
    {
      "cell_type": "code",
      "metadata": {
        "id": "2xWqQqV-pvB2"
      },
      "source": [
        "map(abs, [1, -2, 3])"
      ],
      "execution_count": null,
      "outputs": []
    },
    {
      "cell_type": "code",
      "metadata": {
        "id": "JFlCLXMF1YH7"
      },
      "source": [
        "map.__iter__"
      ],
      "execution_count": null,
      "outputs": []
    },
    {
      "cell_type": "code",
      "metadata": {
        "id": "xDerL_nXp6AV"
      },
      "source": [
        "list(map(abs, [1, -2, 3]))"
      ],
      "execution_count": null,
      "outputs": []
    },
    {
      "cell_type": "code",
      "metadata": {
        "id": "l7U-hZPQ5RWg"
      },
      "source": [
        "[abs(x) for x in [1, -2, 3]]"
      ],
      "execution_count": null,
      "outputs": []
    },
    {
      "cell_type": "code",
      "metadata": {
        "id": "-rv6AYhrp7oL"
      },
      "source": [
        "\" \".join(\n",
        "    map(\n",
        "        str.capitalize,\n",
        "        ['hello', 'world']\n",
        "    )\n",
        ")"
      ],
      "execution_count": null,
      "outputs": []
    },
    {
      "cell_type": "code",
      "metadata": {
        "id": "20_vsgJGp-Vc"
      },
      "source": [
        "input = [1, 2, 3]\n",
        "foo = lambda x: x**2\n",
        "\n",
        "def map_generator(f, data):\n",
        "  for v in data:\n",
        "    yield f(v)\n",
        "\n",
        "map_generator2 = lambda f, data: (f(v) for v in data)\n",
        "\n",
        "map_list = lambda f, data: [f(v) for v in data]\n",
        "\n",
        "for mapper in (map, map_generator, map_generator2, map_list):\n",
        "  result = mapper(foo, input)\n",
        "  print(type(result))\n",
        "  print(list(result))"
      ],
      "execution_count": null,
      "outputs": []
    },
    {
      "cell_type": "code",
      "metadata": {
        "id": "AfGwcpH2qN6j"
      },
      "source": [
        "list(\n",
        "    islice(\n",
        "        map(\n",
        "            hex,\n",
        "            powers_of_2()\n",
        "        ),\n",
        "    10)\n",
        ")"
      ],
      "execution_count": null,
      "outputs": []
    },
    {
      "cell_type": "markdown",
      "metadata": {
        "id": "Ojfzd8xZ-yFZ"
      },
      "source": [
        "## Filter"
      ]
    },
    {
      "cell_type": "code",
      "metadata": {
        "id": "YN40BKPs-xT6"
      },
      "source": [
        "list(filter(lambda n: n%3==1, range(10)))"
      ],
      "execution_count": null,
      "outputs": []
    },
    {
      "cell_type": "code",
      "metadata": {
        "id": "8nNSIbSc_GT4"
      },
      "source": [
        "[n for n in range(10) if n%3==1]"
      ],
      "execution_count": null,
      "outputs": []
    },
    {
      "cell_type": "markdown",
      "metadata": {
        "id": "pr25FmBlqb0f"
      },
      "source": [
        "## Reduce"
      ]
    },
    {
      "cell_type": "code",
      "metadata": {
        "id": "YexkcpUxqWLA"
      },
      "source": [
        "from functools import reduce\n",
        "reduce(lambda s, x: s + x, [1, 2, 3, 4])"
      ],
      "execution_count": null,
      "outputs": []
    },
    {
      "cell_type": "code",
      "metadata": {
        "id": "glypVTz-4V_r"
      },
      "source": [
        "sum(range(5))"
      ],
      "execution_count": null,
      "outputs": []
    },
    {
      "cell_type": "code",
      "metadata": {
        "id": "YF5lTu-h3VjO"
      },
      "source": [
        "sum((x**2 for x in range(5)))"
      ],
      "execution_count": null,
      "outputs": []
    },
    {
      "cell_type": "code",
      "metadata": {
        "id": "fS0EEejl4f7w"
      },
      "source": [
        "reduce(lambda s, c: s + c,\n",
        "        map(lambda x: x**2, range(5)))"
      ],
      "execution_count": null,
      "outputs": []
    },
    {
      "cell_type": "markdown",
      "metadata": {
        "id": "Gxdp1K02Sj-m"
      },
      "source": [
        "## Задание 4\n",
        "Напишите функцию, производяющую с помощью reduce композицию функций из списка по порядку.\n",
        "С помощью неё создайте функцию [сигмоиды](https://ru.wikipedia.org/wiki/%D0%A1%D0%B8%D0%B3%D0%BC%D0%BE%D0%B8%D0%B4%D0%B0) `1 / (1 + e**(-x))` из \n",
        "`inc`, `reciprocal`, `negate` и `math.exp`"
      ]
    },
    {
      "cell_type": "code",
      "metadata": {
        "id": "5K1jWR2t6nA9"
      },
      "source": [
        "def inc(x):\n",
        "  return x + 1\n",
        "\n",
        "reciprocal = lambda x: 1/x\n",
        "\n",
        "negate = lambda x: -x\n",
        "\n",
        "math.exp.__doc__"
      ],
      "execution_count": null,
      "outputs": []
    },
    {
      "cell_type": "code",
      "source": [
        "from typing import Callable, List\n",
        "\n",
        "def plot_symmetric(foo):\n",
        "  x_space = np.linspace(-10, 10, num=1000)\n",
        "  y = [foo(x) for x in x_space]\n",
        "  plt.plot(x_space, y)\n",
        "\n",
        "\n",
        "def compose_all(functions: List[Callable]) -> Callable:\n",
        "  #TODO: reduce goes here\n",
        "  pass\n",
        "\n",
        "sigmoid = compose_all(['TODO'])\n",
        "\n",
        "# plot_symmetric(sigmoid)"
      ],
      "metadata": {
        "id": "VJ2bculFD8zn"
      },
      "execution_count": null,
      "outputs": []
    }
  ]
}