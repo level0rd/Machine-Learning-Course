{
  "cells": [
    {
      "cell_type": "markdown",
      "metadata": {
        "id": "97EG8qXl6c8P"
      },
      "source": [
        "# Разведочный анализ данных (РАД) | Exploratory Data Analysis (EDA)\n",
        "Разработан в лаборатории Bell Labs Джоном Тьюки (John Tukey), математиком и статистиком, в конце 1970-ых гг. В одной из своих работ сказал: \" Единственный шанс людей сделать что-то **лучше**, чем компьютеры, - это попытаться сделать **меньше**, чем они\".\n",
        "1. **IDA - Initial Data Analysis** позволяет:\n",
        "  * завершить наблюдения или отметить пропущенные случаи с помощью соответствующих признаков;\n",
        "  * преобразовать текстовые или категориальные признаки;\n",
        "  * создавать новые признаки, основываясь на знании предметной области данных;\n",
        "  * получать числовой набор данных, где строки - это наблюдения, а столбцы - признаки (*датафрейм* - фрейм данных).\n",
        "2. **EDA - Exploratory Data Analysis** позволяет:\n",
        "  * описать данные;\n",
        "  * внимательно изучить их распределение;\n",
        "  * понять отношения между признаками;\n",
        "  * обратить внимание на неожиданные значения;\n",
        "  * группировать данные и проводить анализ по группам (обратить внимание на неожиданные значения по группам, на различия в группах)."
      ]
    },
    {
      "cell_type": "markdown",
      "metadata": {
        "id": "ucOGzNWSowao"
      },
      "source": [
        "## Подготовка нужных библиотек python"
      ]
    },
    {
      "cell_type": "code",
      "execution_count": null,
      "metadata": {
        "id": "wUytpeyqNeeH"
      },
      "outputs": [],
      "source": [
        "pip list | grep profiling"
      ]
    },
    {
      "cell_type": "code",
      "execution_count": null,
      "metadata": {
        "id": "IuzThUufo5sK"
      },
      "outputs": [],
      "source": [
        "pip install 'pandas-profiling==3.3.0'"
      ]
    },
    {
      "cell_type": "markdown",
      "metadata": {
        "id": "aahsrtG1o3HF"
      },
      "source": [
        "**Не забудьте сделать Restart runtime!**"
      ]
    },
    {
      "cell_type": "markdown",
      "metadata": {
        "id": "7M3iaS9GUT0-"
      },
      "source": [
        "# Найти и собрать данные\n",
        "\"Data wrangling\" занимает большую часть времени.\n",
        "- Полезно проверять очевидные вещи - данные большие, переделывать обработку несколько раз будет особенно неэффективно\n",
        "- Пригодятся инструменты командной строки для быстрых, одноразовых операций не требовательных к правильности формата"
      ]
    },
    {
      "cell_type": "markdown",
      "metadata": {
        "id": "O7o9GFFRHU-8"
      },
      "source": [
        "## Примеры данных уже в colab"
      ]
    },
    {
      "cell_type": "code",
      "execution_count": null,
      "metadata": {
        "id": "fUSo2VL8Owda"
      },
      "outputs": [],
      "source": [
        "!pwd"
      ]
    },
    {
      "cell_type": "code",
      "source": [
        "cd /content"
      ],
      "metadata": {
        "id": "kvIO4zmiHpTR"
      },
      "execution_count": null,
      "outputs": []
    },
    {
      "cell_type": "code",
      "execution_count": null,
      "metadata": {
        "id": "9BHVSaimD7VK"
      },
      "outputs": [],
      "source": [
        "ls"
      ]
    },
    {
      "cell_type": "code",
      "execution_count": null,
      "metadata": {
        "id": "nQLUS9I6QVTl"
      },
      "outputs": [],
      "source": [
        "cd sample_data"
      ]
    },
    {
      "cell_type": "code",
      "execution_count": null,
      "metadata": {
        "id": "KZKU00dD7PV1"
      },
      "outputs": [],
      "source": [
        "ls -lh"
      ]
    },
    {
      "cell_type": "code",
      "execution_count": null,
      "metadata": {
        "id": "Uflrllaa6QVg"
      },
      "outputs": [],
      "source": [
        "!apt-get install file"
      ]
    },
    {
      "cell_type": "code",
      "execution_count": null,
      "metadata": {
        "id": "IO926Mk2Pd9r"
      },
      "outputs": [],
      "source": [
        "!file *"
      ]
    },
    {
      "cell_type": "code",
      "execution_count": null,
      "metadata": {
        "id": "Kb-2J5Mv7hh1"
      },
      "outputs": [],
      "source": [
        "!wc *"
      ]
    },
    {
      "cell_type": "code",
      "execution_count": null,
      "metadata": {
        "id": "ZS7hp04r_pYo"
      },
      "outputs": [],
      "source": [
        "!head -n 3 /content/sample_data/*"
      ]
    },
    {
      "cell_type": "code",
      "execution_count": null,
      "metadata": {
        "id": "butsPKyx_5aU"
      },
      "outputs": [],
      "source": [
        "cat /content/sample_data/README.md"
      ]
    },
    {
      "cell_type": "markdown",
      "metadata": {
        "id": "6CBWQC8N3u2B"
      },
      "source": [
        "## Snapshot serengeti\n",
        "\n",
        "[Проект на zooniverse](https://www.zooniverse.org/projects/zooniverse/snapshot-serengeti)\n",
        "\n",
        "[Статья в Nature](https://www.nature.com/articles/sdata201526)\n",
        "\n",
        "[Статья по машинному обучению на этих данных](https://medium.com/@neurohiveru/%D1%80%D0%B0%D1%81%D0%BF%D0%BE%D0%B7%D0%BD%D0%B0%D0%B2%D0%B0%D0%BD%D0%B8%D0%B5-%D0%B6%D0%B8%D0%B2%D0%BE%D1%82%D0%BD%D1%8B%D1%85-%D0%B2-%D0%B4%D0%B8%D0%BA%D0%BE%D0%B9-%D0%BF%D1%80%D0%B8%D1%80%D0%BE%D0%B4%D0%B5-5c4ff57e0c7)\n",
        "\n",
        "![snapshot Serengeti image](https://media.springernature.com/lw685/springer-static/image/art%3A10.1038%2Fsdata.2015.26/MediaObjects/41597_2015_Article_BFsdata201526_Fig4_HTML.jpg?as=webp)\n",
        "\n",
        "Опубликованный датасет\n",
        "<http://lila.science/datasets/snapshot-serengeti>\n"
      ]
    },
    {
      "cell_type": "code",
      "execution_count": null,
      "metadata": {
        "id": "XGAI23Rl3u2K"
      },
      "outputs": [],
      "source": [
        "!curl -I https://lilablobssc.blob.core.windows.net/snapshotserengeti-v-2-0/SnapshotSerengetiS01.json.zip\n",
        "!curl -I https://lilablobssc.blob.core.windows.net/snapshotserengeti-v-2-0/SnapshotSerengeti_v2_0.csv.zip\n",
        "!curl -I https://lilablobssc.blob.core.windows.net/snapshotserengeti-v-2-0/SnapshotSerengeti_v2_0.json.zip\n",
        "!curl -I https://lilablobssc.blob.core.windows.net/snapshotserengeti-v-2-0/SnapshotSerengeti_S1-11_v2_1.json.zip"
      ]
    },
    {
      "cell_type": "code",
      "execution_count": null,
      "metadata": {
        "id": "bPniceaAWsbf"
      },
      "outputs": [],
      "source": [
        "mkdir -p /content/serengeti"
      ]
    },
    {
      "cell_type": "code",
      "execution_count": null,
      "metadata": {
        "id": "7ZLtdBZTWjL8"
      },
      "outputs": [],
      "source": [
        "cd /content/serengeti"
      ]
    },
    {
      "cell_type": "code",
      "execution_count": null,
      "metadata": {
        "id": "KqqqSInl0PBa"
      },
      "outputs": [],
      "source": [
        "!wget -c https://lilablobssc.blob.core.windows.net/snapshotserengeti-v-2-0/SnapshotSerengetiS01.json.zip\n",
        "!file *"
      ]
    },
    {
      "cell_type": "code",
      "execution_count": null,
      "metadata": {
        "id": "KV_wHwR-3u2j"
      },
      "outputs": [],
      "source": [
        "!unzip -l SnapshotSerengetiS01.json.zip"
      ]
    },
    {
      "cell_type": "code",
      "execution_count": null,
      "metadata": {
        "id": "K_gk1z2j3u2z"
      },
      "outputs": [],
      "source": [
        "!unzip -n SnapshotSerengetiS01.json.zip\n",
        "!ls -lh"
      ]
    },
    {
      "cell_type": "code",
      "execution_count": null,
      "metadata": {
        "id": "FHgXnks_3u2_"
      },
      "outputs": [],
      "source": [
        "!file *"
      ]
    },
    {
      "cell_type": "code",
      "execution_count": null,
      "metadata": {
        "id": "Yxa5Sawj3u3h"
      },
      "outputs": [],
      "source": [
        "!head -n 20 SnapshotSerengetiS01.json\n",
        "!echo ...\n",
        "!tail -n 20 SnapshotSerengetiS01.json"
      ]
    },
    {
      "cell_type": "markdown",
      "metadata": {
        "id": "p3RSrrDM45qB"
      },
      "source": [
        "### Задание 1\n",
        "1.   Выбрать какой-нибудь набор открытых данных\n",
        "  - государственные источники (Российские и зарубежные)\n",
        "    - климат\n",
        "    - демография\n",
        "    - ковид\n",
        "    - экономика\n",
        "  - открытые научные данные\n",
        "  - соревнования по машинному обучению (kaggle)\n",
        "2. Загрузить и проверить формат данных"
      ]
    },
    {
      "cell_type": "markdown",
      "metadata": {
        "id": "c-WdCPEg3u52"
      },
      "source": [
        "# Чтение и загрузка данных в pandas (python)\n",
        "\n",
        "![Pandas logo](https://pandas.pydata.org/static/img/pandas.svg)"
      ]
    },
    {
      "cell_type": "markdown",
      "metadata": {
        "id": "0xdZ40rRHjB5"
      },
      "source": [
        "## Примеры из colab"
      ]
    },
    {
      "cell_type": "code",
      "execution_count": null,
      "metadata": {
        "id": "ViSYw-TJZbK0"
      },
      "outputs": [],
      "source": [
        "ls -lh /content/sample_data"
      ]
    },
    {
      "cell_type": "code",
      "execution_count": null,
      "metadata": {
        "id": "piQ-yHRlZk53"
      },
      "outputs": [],
      "source": [
        "!head -n2 /content/sample_data/california_housing_*.csv "
      ]
    },
    {
      "cell_type": "code",
      "execution_count": null,
      "metadata": {
        "id": "IQfkHMu-3u55"
      },
      "outputs": [],
      "source": [
        "import pandas as pd\n",
        "housing_train = pd.read_csv('/content/sample_data/california_housing_train.csv')\n",
        "housing_test = pd.read_csv('/content/sample_data/california_housing_test.csv')\n",
        "print(len(housing_train))\n",
        "housing_train.head(2)\n"
      ]
    },
    {
      "cell_type": "code",
      "execution_count": null,
      "metadata": {
        "id": "8dXhquXwKaO9"
      },
      "outputs": [],
      "source": [
        "print(len(housing_test))\n",
        "housing_test.head(2)"
      ]
    },
    {
      "cell_type": "code",
      "execution_count": null,
      "metadata": {
        "id": "nhWzkkInaaNr"
      },
      "outputs": [],
      "source": [
        "help(housing_train)"
      ]
    },
    {
      "cell_type": "markdown",
      "metadata": {
        "id": "vSivXT_1anmE"
      },
      "source": [
        "https://pandas.pydata.org/pandas-docs/stable/reference/frame.html"
      ]
    },
    {
      "cell_type": "markdown",
      "metadata": {
        "id": "ITfhjm7QmUZE"
      },
      "source": [
        "* [Учебник по NumPy](https://pythonworld.ru/numpy/1.html)\n",
        "* [Ускоренный курс по Pandas](https://teletype.in/@python_academy/YzdI5z1NUP)"
      ]
    },
    {
      "cell_type": "code",
      "execution_count": null,
      "metadata": {
        "id": "p0o1ZH5HIh6a"
      },
      "outputs": [],
      "source": [
        "type(housing_train.values)"
      ]
    },
    {
      "cell_type": "code",
      "execution_count": null,
      "metadata": {
        "id": "gImHd0PZIxd2"
      },
      "outputs": [],
      "source": [
        "housing_train.values.shape"
      ]
    },
    {
      "cell_type": "code",
      "execution_count": null,
      "metadata": {
        "id": "Ma2bAXHO6FVG"
      },
      "outputs": [],
      "source": [
        "pd.DataFrame({'a':[1,2,3], 'b': ['x', 'y', 'z']})"
      ]
    },
    {
      "cell_type": "code",
      "execution_count": null,
      "metadata": {
        "id": "kWGjXl4N6Ve2"
      },
      "outputs": [],
      "source": [
        "pd.DataFrame([(1, 'x'), (2, 'y'), (3, 'z')], columns=['a', 'b'])"
      ]
    },
    {
      "cell_type": "code",
      "execution_count": null,
      "metadata": {
        "id": "nl7_2SW16hiC"
      },
      "outputs": [],
      "source": [
        "pd.DataFrame([{'a': 1, 'b': 'x'}, {'a': 2, 'b': 'y'}, {'a': 3, 'b': 'z'}])"
      ]
    },
    {
      "cell_type": "code",
      "execution_count": null,
      "metadata": {
        "id": "SCbrCoQTb4Q_"
      },
      "outputs": [],
      "source": [
        "cat '/content/sample_data/anscombe.json'"
      ]
    },
    {
      "cell_type": "code",
      "execution_count": null,
      "metadata": {
        "id": "-7JwgpFS3u6Y"
      },
      "outputs": [],
      "source": [
        "quartet = pd.read_json('/content/sample_data/anscombe.json')\n",
        "quartet"
      ]
    },
    {
      "cell_type": "markdown",
      "metadata": {
        "id": "K-qZfmYgHvv7"
      },
      "source": [
        "## Snapshot serengeti"
      ]
    },
    {
      "cell_type": "code",
      "execution_count": null,
      "metadata": {
        "id": "WAqAq-T7En8W"
      },
      "outputs": [],
      "source": [
        "# ss = pd.read_json('/content/serengeti/SnapshotSerengetiS01.json')"
      ]
    },
    {
      "cell_type": "code",
      "execution_count": null,
      "metadata": {
        "id": "AmGHREqtFA-t"
      },
      "outputs": [],
      "source": [
        "import json\n",
        "with open('/content/serengeti/SnapshotSerengetiS01.json') as file_in:\n",
        "  raw_s1 = json.load(file_in)"
      ]
    },
    {
      "cell_type": "code",
      "execution_count": null,
      "metadata": {
        "id": "_obGMIIZ3u7G"
      },
      "outputs": [],
      "source": [
        "for k, v in raw_s1.items():\n",
        "    print(f'{k:10}\\t\\t{type(v)}\\t\\t{len(v)}')"
      ]
    },
    {
      "cell_type": "code",
      "execution_count": null,
      "metadata": {
        "id": "erOD9BJo3u7V"
      },
      "outputs": [],
      "source": [
        "raw_s1['info']"
      ]
    },
    {
      "cell_type": "code",
      "execution_count": null,
      "metadata": {
        "id": "zbiL0sj13u7m"
      },
      "outputs": [],
      "source": [
        "raw_s1['categories'][:10]"
      ]
    },
    {
      "cell_type": "code",
      "execution_count": null,
      "metadata": {
        "id": "CZf8NrtY3u7v"
      },
      "outputs": [],
      "source": [
        "raw_s1['images'][:2]"
      ]
    },
    {
      "cell_type": "code",
      "execution_count": null,
      "metadata": {
        "id": "gL05YRsV3u8O"
      },
      "outputs": [],
      "source": [
        "s1_images = pd.DataFrame(raw_s1['images'])\n",
        "s1_images.head(10)"
      ]
    },
    {
      "cell_type": "code",
      "execution_count": null,
      "metadata": {
        "id": "GPO2r2nn3u8T"
      },
      "outputs": [],
      "source": [
        "raw_s1['annotations'][:2]"
      ]
    },
    {
      "cell_type": "code",
      "execution_count": null,
      "metadata": {
        "id": "anrMivUHfvjB"
      },
      "outputs": [],
      "source": [
        "s1_categories = pd.DataFrame(raw_s1['categories'])\n",
        "s1_categories"
      ]
    },
    {
      "cell_type": "code",
      "execution_count": null,
      "metadata": {
        "id": "8l0QCimQ3u8g"
      },
      "outputs": [],
      "source": [
        "s1_annotations = pd.DataFrame(raw_s1['annotations'])\n",
        "s1_annotations.head(10)"
      ]
    },
    {
      "cell_type": "markdown",
      "metadata": {
        "id": "HaltNknSDCTX"
      },
      "source": [
        "### Задание 2\n",
        "\n",
        "1.   Загрузить в DataFrame свой набор данных\n"
      ]
    },
    {
      "cell_type": "markdown",
      "metadata": {
        "id": "Ui0yN1F33u9s"
      },
      "source": [
        "# Data cleaning / preprocessing / profiling / IDA"
      ]
    },
    {
      "cell_type": "markdown",
      "metadata": {
        "id": "oz3C6s7wYfoh"
      },
      "source": [
        "## Data profiling"
      ]
    },
    {
      "cell_type": "code",
      "execution_count": null,
      "metadata": {
        "id": "GP7lFRrP3u9y"
      },
      "outputs": [],
      "source": [
        "quartet.info()"
      ]
    },
    {
      "cell_type": "code",
      "execution_count": null,
      "metadata": {
        "id": "rPgCvv9V3u92"
      },
      "outputs": [],
      "source": [
        "housing_train.info()"
      ]
    },
    {
      "cell_type": "code",
      "execution_count": null,
      "metadata": {
        "id": "eeQyIl3i3u99"
      },
      "outputs": [],
      "source": [
        "housing_train.describe()"
      ]
    },
    {
      "cell_type": "code",
      "execution_count": null,
      "metadata": {
        "id": "pSSvzJbrNB9c"
      },
      "outputs": [],
      "source": [
        "quartet.describe()"
      ]
    },
    {
      "cell_type": "code",
      "execution_count": null,
      "metadata": {
        "id": "OhRdnUU2NIRf"
      },
      "outputs": [],
      "source": [
        "quartet.groupby('Series').describe()"
      ]
    },
    {
      "cell_type": "markdown",
      "metadata": {
        "id": "q87TBSWlWSnE"
      },
      "source": [
        "### pandas-profiling\n",
        "https://pandas-profiling.github.io/pandas-profiling/docs/master/rtd/"
      ]
    },
    {
      "cell_type": "code",
      "execution_count": null,
      "metadata": {
        "id": "aWaFDIEvNk0L"
      },
      "outputs": [],
      "source": [
        "from pandas_profiling import ProfileReport\n",
        "ProfileReport(quartet)"
      ]
    },
    {
      "cell_type": "code",
      "execution_count": null,
      "metadata": {
        "id": "pTU_xC6wPVDc"
      },
      "outputs": [],
      "source": [
        "ProfileReport(housing_train)"
      ]
    },
    {
      "cell_type": "code",
      "execution_count": null,
      "metadata": {
        "id": "9FX87gc8YjM0"
      },
      "outputs": [],
      "source": [
        "ProfileReport(s1_images)"
      ]
    },
    {
      "cell_type": "code",
      "execution_count": null,
      "metadata": {
        "id": "fWJB5YUJcCKm"
      },
      "outputs": [],
      "source": [
        "ProfileReport(s1_annotations)"
      ]
    },
    {
      "cell_type": "markdown",
      "metadata": {
        "id": "sZmDW0AgexPs"
      },
      "source": [
        "### Задание 3\n",
        "\n",
        "1.   Провести профилирование на своих данных"
      ]
    },
    {
      "cell_type": "markdown",
      "metadata": {
        "id": "-XOrqLxv3u-Z"
      },
      "source": [
        "## Data cleaning"
      ]
    },
    {
      "cell_type": "code",
      "execution_count": null,
      "metadata": {
        "id": "cb4qRtbZbFkZ"
      },
      "outputs": [],
      "source": [
        "print(len(s1_images))\n",
        "s1_images.head(2)"
      ]
    },
    {
      "cell_type": "code",
      "execution_count": null,
      "metadata": {
        "id": "MNbL1579XFur"
      },
      "outputs": [],
      "source": [
        "s1_images.isnull().any()"
      ]
    },
    {
      "cell_type": "code",
      "execution_count": null,
      "metadata": {
        "id": "lyxZJhdxXqsl"
      },
      "outputs": [],
      "source": [
        "with_holes = pd.DataFrame({'x': [1, 2, 3, None, 5, 6]})\n",
        "with_holes"
      ]
    },
    {
      "cell_type": "code",
      "execution_count": null,
      "metadata": {
        "id": "xoZHF1_MX1pS"
      },
      "outputs": [],
      "source": [
        "with_holes.fillna(method='pad')"
      ]
    },
    {
      "cell_type": "code",
      "execution_count": null,
      "metadata": {
        "id": "9lsngxo7YgSf"
      },
      "outputs": [],
      "source": [
        "with_holes.dropna()"
      ]
    },
    {
      "cell_type": "code",
      "execution_count": null,
      "metadata": {
        "id": "cg5C-RrpaFTJ"
      },
      "outputs": [],
      "source": [
        "s1_images.datetime[0]"
      ]
    },
    {
      "cell_type": "code",
      "execution_count": null,
      "metadata": {
        "id": "jk4SbBmAX8G5"
      },
      "outputs": [],
      "source": [
        "pd.to_datetime(s1_images.datetime)"
      ]
    },
    {
      "cell_type": "code",
      "execution_count": null,
      "metadata": {
        "id": "TSKoVjq_ZAK6"
      },
      "outputs": [],
      "source": [
        "print(s1_images.corrupt.dtype)\n",
        "s1_images.corrupt.any()"
      ]
    },
    {
      "cell_type": "code",
      "execution_count": null,
      "metadata": {
        "id": "-Ak1NYyxkh4n"
      },
      "outputs": [],
      "source": [
        "len(s1_images), len(s1_images.id.unique()), len(s1_images.seq_id.unique())"
      ]
    },
    {
      "cell_type": "code",
      "execution_count": null,
      "metadata": {
        "id": "4OgyC1JLRiCq"
      },
      "outputs": [],
      "source": [
        "\"abcd.jpg\"[0:-4]"
      ]
    },
    {
      "cell_type": "code",
      "execution_count": null,
      "metadata": {
        "id": "sfksLq6eagSO"
      },
      "outputs": [],
      "source": [
        "(s1_images.id == s1_images.file_name.str.slice(0, -4)).all()"
      ]
    },
    {
      "cell_type": "code",
      "execution_count": null,
      "metadata": {
        "id": "Xv4RFnC4boFh"
      },
      "outputs": [],
      "source": [
        "(s1_images.file_name.str.slice(-4) == '.JPG').all()"
      ]
    },
    {
      "cell_type": "code",
      "execution_count": null,
      "metadata": {
        "id": "aVTiVFOXnK3d"
      },
      "outputs": [],
      "source": [
        "s1_images_clean = s1_images.drop(columns=['file_name', 'corrupt']).set_index('id')\n",
        "s1_images_clean.datetime = pd.to_datetime(s1_images_clean.datetime)\n",
        "s1_images_clean"
      ]
    },
    {
      "cell_type": "code",
      "execution_count": null,
      "metadata": {
        "id": "yIxA5QGuhw0M"
      },
      "outputs": [],
      "source": [
        "s1_annotations.head(2)"
      ]
    },
    {
      "cell_type": "code",
      "execution_count": null,
      "metadata": {
        "id": "9em8Td1PZ7Vd"
      },
      "outputs": [],
      "source": [
        "print(len(s1_annotations), len(s1_annotations.id.unique()), len(s1_annotations.image_id.unique()), len(s1_annotations.seq_id.unique()), len(s1_annotations.subject_id.unique()))\n",
        "s1_annotations.sequence_level_annotation.all()"
      ]
    },
    {
      "cell_type": "code",
      "execution_count": null,
      "metadata": {
        "id": "qUyWrclToUh1"
      },
      "outputs": [],
      "source": [
        "s1_annotations_clean = s1_annotations.drop(columns=['sequence_level_annotation']).set_index('id')\n",
        "s1_annotations_clean.datetime = pd.to_datetime(s1_annotations_clean.datetime)\n",
        "s1_annotations_clean.head()"
      ]
    },
    {
      "cell_type": "code",
      "execution_count": null,
      "metadata": {
        "id": "GSimIvCbkJvs"
      },
      "outputs": [],
      "source": [
        "s1 = s1_annotations_clean.join(s1_images_clean, on='image_id', how='outer', rsuffix='_img')\n",
        "s1"
      ]
    },
    {
      "cell_type": "code",
      "execution_count": null,
      "metadata": {
        "id": "lsgtbG_Clk4j"
      },
      "outputs": [],
      "source": [
        "(s1.seq_id == s1.seq_id_img).all()"
      ]
    },
    {
      "cell_type": "code",
      "execution_count": null,
      "metadata": {
        "id": "fghpavDpT3Xy"
      },
      "outputs": [],
      "source": [
        "s1_clean = s1_annotations_clean"
      ]
    },
    {
      "cell_type": "code",
      "execution_count": null,
      "metadata": {
        "id": "sQFYVKNf0B6q"
      },
      "outputs": [],
      "source": [
        "s1_good = s1_clean[s1_clean.category_id != 0].join(s1_categories.set_index('id'), on='category_id')\n",
        "s1_good"
      ]
    },
    {
      "cell_type": "code",
      "execution_count": null,
      "metadata": {
        "id": "l_ywpzGwUG9r"
      },
      "outputs": [],
      "source": [
        "ProfileReport(s1_good)"
      ]
    },
    {
      "cell_type": "markdown",
      "metadata": {
        "id": "HWuLspi4tyzi"
      },
      "source": [
        "### Задание 4\n",
        "\n",
        "1. Почистить свой набор данных по результатам профилирования\n",
        "2. Провести профилирование очищенных данных"
      ]
    },
    {
      "cell_type": "markdown",
      "metadata": {
        "id": "gkXqwjM53u-4"
      },
      "source": [
        "# Визуализация и EDA\n"
      ]
    },
    {
      "cell_type": "code",
      "execution_count": null,
      "metadata": {
        "id": "U5ADfU4Pbt85"
      },
      "outputs": [],
      "source": [
        "%matplotlib inline\n",
        "from matplotlib import pyplot as plt\n",
        "import numpy as np\n",
        "plt.plot([0, 1, 4, 2])\n",
        "plt.plot(np.random.rand(4))\n"
      ]
    },
    {
      "cell_type": "code",
      "execution_count": null,
      "metadata": {
        "id": "qaaRYDQ7dUzp"
      },
      "outputs": [],
      "source": [
        "plt.plot(quartet.X)\n",
        "plt.plot(quartet.Y)"
      ]
    },
    {
      "cell_type": "code",
      "execution_count": null,
      "metadata": {
        "id": "tVcpT8uProNG"
      },
      "outputs": [],
      "source": [
        "quartet.plot()"
      ]
    },
    {
      "cell_type": "code",
      "execution_count": null,
      "metadata": {
        "id": "n57GZtWTrq6B"
      },
      "outputs": [],
      "source": [
        "quartet.groupby('Series').plot()"
      ]
    },
    {
      "cell_type": "code",
      "execution_count": null,
      "metadata": {
        "id": "OfEz85P-rsxk"
      },
      "outputs": [],
      "source": [
        "quartet.groupby('Series').plot.scatter('X', 'Y')"
      ]
    },
    {
      "cell_type": "code",
      "execution_count": null,
      "metadata": {
        "id": "UrseKN-yrvjm"
      },
      "outputs": [],
      "source": [
        "import seaborn as sns\n",
        "sns.relplot('X', 'Y', hue='Series', data=quartet)"
      ]
    },
    {
      "cell_type": "code",
      "execution_count": null,
      "metadata": {
        "id": "wRaNU87csMyz"
      },
      "outputs": [],
      "source": [
        "housing_train.head(2)"
      ]
    },
    {
      "cell_type": "code",
      "execution_count": null,
      "metadata": {
        "id": "kxxjhfBudRna"
      },
      "outputs": [],
      "source": [
        "housing_train.hist(figsize=(25,25),bins=50)\n",
        "plt.show()"
      ]
    },
    {
      "cell_type": "code",
      "execution_count": null,
      "metadata": {
        "id": "n9fUUArTdWez"
      },
      "outputs": [],
      "source": [
        "housing_train.plot.scatter(x='longitude', y='latitude', c=housing_train.median_house_value)"
      ]
    },
    {
      "cell_type": "code",
      "execution_count": null,
      "metadata": {
        "id": "_YvoRrCasLOP"
      },
      "outputs": [],
      "source": [
        "sns.relplot(x='longitude', y='latitude', hue='median_house_value', size='total_rooms', data=housing_train)"
      ]
    },
    {
      "cell_type": "code",
      "execution_count": null,
      "metadata": {
        "id": "C-oOL6MNszx0"
      },
      "outputs": [],
      "source": [
        "house = housing_train.copy()\n",
        "house['coast_dist'] = house.latitude + house.longitude\n",
        "sns.relplot(x='coast_dist', y='total_rooms', hue='median_house_value', data=house)"
      ]
    },
    {
      "cell_type": "code",
      "execution_count": null,
      "metadata": {
        "id": "pQCcbi5lv5P3"
      },
      "outputs": [],
      "source": [
        "house = housing_train.copy()\n",
        "house['lat'] = (house.latitude * 0.4).round().astype(int)\n",
        "house['long'] = (house.longitude * 0.4).round().astype(int)\n",
        "sns.relplot(x='housing_median_age', y='median_house_value', col='long', row='lat', data=house)"
      ]
    },
    {
      "cell_type": "code",
      "execution_count": null,
      "metadata": {
        "id": "cN5zW34te1eT"
      },
      "outputs": [],
      "source": [
        "sns.catplot(x='name', y='standing', kind='box', data=s1_good[s1_good.category_id<=4])"
      ]
    },
    {
      "cell_type": "code",
      "execution_count": null,
      "metadata": {
        "id": "11Z4z4yhg5nu"
      },
      "outputs": [],
      "source": [
        "sns.relplot(x='resting', y='moving', col='name', data=s1_good[s1_good.category_id<6])"
      ]
    },
    {
      "cell_type": "code",
      "source": [
        "from google.colab import drive\n",
        "drive.mount('/content/drive')"
      ],
      "metadata": {
        "id": "A2pyIDsHoI8f"
      },
      "execution_count": null,
      "outputs": []
    },
    {
      "cell_type": "code",
      "source": [
        "cd /content/drive/MyDrive/trackml"
      ],
      "metadata": {
        "id": "rSwA2_Q90TcM"
      },
      "execution_count": null,
      "outputs": []
    },
    {
      "cell_type": "code",
      "source": [
        "!file *"
      ],
      "metadata": {
        "id": "pFh8kO3g0ddR"
      },
      "execution_count": null,
      "outputs": []
    },
    {
      "cell_type": "code",
      "source": [],
      "metadata": {
        "id": "SRBDlex70eP9"
      },
      "execution_count": null,
      "outputs": []
    }
  ],
  "metadata": {
    "colab": {
      "collapsed_sections": [],
      "provenance": [],
      "toc_visible": true
    },
    "kernelspec": {
      "display_name": "Python 3",
      "language": "python",
      "name": "python3"
    },
    "language_info": {
      "codemirror_mode": {
        "name": "ipython",
        "version": 3
      },
      "file_extension": ".py",
      "mimetype": "text/x-python",
      "name": "python",
      "nbconvert_exporter": "python",
      "pygments_lexer": "ipython3",
      "version": "3.7.3"
    },
    "toc": {
      "base_numbering": 1,
      "nav_menu": {},
      "number_sections": false,
      "sideBar": true,
      "skip_h1_title": true,
      "title_cell": "Table of Contents",
      "title_sidebar": "Contents",
      "toc_cell": true,
      "toc_position": {},
      "toc_section_display": true,
      "toc_window_display": true
    }
  },
  "nbformat": 4,
  "nbformat_minor": 0
}