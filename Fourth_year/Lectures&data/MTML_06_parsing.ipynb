{
  "cells": [
    {
      "cell_type": "markdown",
      "metadata": {
        "id": "ZzDHPgGFuoSi"
      },
      "source": [
        "# Парсинг данных \n",
        "\n",
        "**Web парсинг** -  способ считывания различных данных, расположенных на веб-страницах, для их систематизации и дальнейшего анализа.\n",
        "\n",
        "Открытые данные часто публикуют в форматах (таких как csv, json, xml), уобоных для загрузки в программы анализа, например: https://www.nalog.gov.ru/opendata/\n",
        "\n",
        "Но существуют данные, даже открытые, которые доступны только в виде отдельных веб-страниц. Сбор данных с таких страниц становится отдельной задачей. Например:\n",
        "https://www.gov.uk/find-out-if-a-company-is-in-financial-trouble\n",
        "\n",
        "Процедуру Web парсинга можно разбить на два этапа:\n",
        "\n",
        "1. отправка запроса на web-сайт и загрузка исходного кода страницы;\n",
        "2. извлечение содержимого web-страницы. \n"
      ]
    },
    {
      "cell_type": "markdown",
      "metadata": {
        "id": "yFKGx2i-uoSk"
      },
      "source": [
        "# Библиотека [Beautiful Soup](<https://www.crummy.com/software/BeautifulSoup/bs4/doc/>)\n"
      ]
    },
    {
      "cell_type": "markdown",
      "metadata": {
        "id": "2T0Z7VMWuoSl"
      },
      "source": [
        "## Тестовый HTML\n",
        "Намного проще чем реальные веб-страницы."
      ]
    },
    {
      "cell_type": "code",
      "execution_count": null,
      "metadata": {
        "id": "6sX43Ft2uoSl"
      },
      "outputs": [],
      "source": [
        "test = '''\n",
        "    <html>\n",
        "        <head><title>Some title</title></head>\n",
        "        <body>\n",
        "            <div class=\"content-box\" id=\"main\">\n",
        "                <h2 align='center'> Some text </h2>\n",
        "                <h2 align='left'> Another text </h2>\n",
        "            </div>\n",
        "            <h2> Last <b>text</b> </h2>\n",
        "        </body>\n",
        "    </html>\n",
        "'''"
      ]
    },
    {
      "cell_type": "markdown",
      "metadata": {
        "id": "_CArU6w1uoSn"
      },
      "source": [
        "### Создание объекта `BeautifulSoup`"
      ]
    },
    {
      "cell_type": "code",
      "execution_count": null,
      "metadata": {
        "id": "e60XCa_yuoSo"
      },
      "outputs": [],
      "source": [
        "from bs4 import BeautifulSoup\n",
        "soup = BeautifulSoup(test, 'html.parser')\n",
        "soup"
      ]
    },
    {
      "cell_type": "markdown",
      "metadata": {
        "id": "f_XI6TaWuoSp"
      },
      "source": [
        "### Базовые команды в Beautiful Soup для разбора HTML документа"
      ]
    },
    {
      "cell_type": "code",
      "execution_count": null,
      "metadata": {
        "id": "wcfRhJ58uoSq"
      },
      "outputs": [],
      "source": [
        "# тег как объект\n",
        "print(soup.title)\n",
        "print(type(soup.title))"
      ]
    },
    {
      "cell_type": "code",
      "execution_count": null,
      "metadata": {
        "id": "au5i7kdFuoSt"
      },
      "outputs": [],
      "source": [
        "# str тега - просто напрямую его текст\n",
        "soup.div"
      ]
    },
    {
      "cell_type": "code",
      "execution_count": null,
      "metadata": {
        "id": "HA6Db_VzuoSq"
      },
      "outputs": [],
      "source": [
        "# тег можно спросить - какой тег?\n",
        "soup.title.name"
      ]
    },
    {
      "cell_type": "code",
      "execution_count": null,
      "metadata": {
        "id": "Lyq4yEr5uoSs"
      },
      "outputs": [],
      "source": [
        "# текстовое содержимое тега\n",
        "soup.title.string"
      ]
    },
    {
      "cell_type": "code",
      "source": [
        "soup.h2"
      ],
      "metadata": {
        "id": "2RKS6m82HSbk"
      },
      "execution_count": null,
      "outputs": []
    },
    {
      "cell_type": "code",
      "execution_count": null,
      "metadata": {
        "id": "1EBrV2MguoSt"
      },
      "outputs": [],
      "source": [
        "# родитель тега\n",
        "soup.title.parent"
      ]
    },
    {
      "cell_type": "code",
      "source": [
        "# дети тега\n",
        "print(type(soup.div.children))\n",
        "list(soup.div.children)"
      ],
      "metadata": {
        "id": "yOyJ0ZsgLold"
      },
      "execution_count": null,
      "outputs": []
    },
    {
      "cell_type": "code",
      "source": [
        "type(list(soup.div.children)[0])"
      ],
      "metadata": {
        "id": "BDV0geGJa59q"
      },
      "execution_count": null,
      "outputs": []
    },
    {
      "cell_type": "code",
      "execution_count": null,
      "metadata": {
        "id": "mMA2G5-4uoSt"
      },
      "outputs": [],
      "source": [
        "# аттрибуты тега доступны по имени как по ключу\n",
        "print(soup.div.id)\n",
        "soup.div['id']"
      ]
    },
    {
      "cell_type": "markdown",
      "source": [
        "Что если одинаковых тегов несколько?"
      ],
      "metadata": {
        "id": "YeafaaxuJD2t"
      }
    },
    {
      "cell_type": "code",
      "execution_count": null,
      "metadata": {
        "id": "HB88r3hyuoSv"
      },
      "outputs": [],
      "source": [
        "soup.div.h2"
      ]
    },
    {
      "cell_type": "code",
      "execution_count": null,
      "metadata": {
        "id": "XbAg38NBuoSv"
      },
      "outputs": [],
      "source": [
        "soup.h2"
      ]
    },
    {
      "cell_type": "code",
      "execution_count": null,
      "metadata": {
        "id": "NqSKsF7SuoSw"
      },
      "outputs": [],
      "source": [
        "soup.find_all('h2')"
      ]
    },
    {
      "cell_type": "code",
      "source": [
        "# find_all для удобства можно опостить - просто вызывая тег как функцию\n",
        "soup('h2')"
      ],
      "metadata": {
        "id": "kFHV2tK_auti"
      },
      "execution_count": null,
      "outputs": []
    },
    {
      "cell_type": "code",
      "execution_count": null,
      "metadata": {
        "id": "nNlN_LjuuoSw"
      },
      "outputs": [],
      "source": [
        "# какие объекты есть в BeautifulSoup?\n",
        "type(soup), type(soup.title), type(soup.div.children), type(soup.title.string), type(soup('h2'))"
      ]
    },
    {
      "cell_type": "markdown",
      "metadata": {
        "id": "LGclOCBtuoSx"
      },
      "source": [
        "#### 1. найти h2 теги с атрибутом align равным center"
      ]
    },
    {
      "cell_type": "code",
      "execution_count": null,
      "metadata": {
        "id": "i092vPzSuoSx"
      },
      "outputs": [],
      "source": [
        "soup(\"h2\", align='center')"
      ]
    },
    {
      "cell_type": "markdown",
      "metadata": {
        "id": "8KDVncyXuoSy"
      },
      "source": [
        "#### 2. найти h2 теги у которых есть аттрибут align"
      ]
    },
    {
      "cell_type": "code",
      "execution_count": null,
      "metadata": {
        "id": "LjoWsrlTuoSy"
      },
      "outputs": [],
      "source": [
        "soup('h2', align=True)"
      ]
    },
    {
      "cell_type": "markdown",
      "metadata": {
        "id": "ifMImPbluoSy"
      },
      "source": [
        "#### 3. извлечь текстовое содержимое тега с разметкой внутри"
      ]
    },
    {
      "cell_type": "code",
      "source": [
        "tag = soup('h2')[2]\n",
        "tag"
      ],
      "metadata": {
        "id": "Bbcr9VL0KogL"
      },
      "execution_count": null,
      "outputs": []
    },
    {
      "cell_type": "code",
      "execution_count": null,
      "metadata": {
        "id": "3w3F1tFCuoSz"
      },
      "outputs": [],
      "source": [
        "print(list(tag.children))"
      ]
    },
    {
      "cell_type": "code",
      "source": [
        "print([c.string for c in tag.children])\n",
        "print(''.join([c.string for c in tag.children]))"
      ],
      "metadata": {
        "id": "_3IMDep4ONsO"
      },
      "execution_count": null,
      "outputs": []
    },
    {
      "cell_type": "code",
      "execution_count": null,
      "metadata": {
        "id": "fxcGCFeRuoS0"
      },
      "outputs": [],
      "source": [
        "print(tag.get_text())"
      ]
    },
    {
      "cell_type": "code",
      "source": [
        "soup.body"
      ],
      "metadata": {
        "id": "2nwTM8e2O6K_"
      },
      "execution_count": null,
      "outputs": []
    },
    {
      "cell_type": "code",
      "source": [
        "print([c.string for c in soup.body.children])"
      ],
      "metadata": {
        "id": "OQZiXuSwOqzS"
      },
      "execution_count": null,
      "outputs": []
    },
    {
      "cell_type": "code",
      "source": [
        "print(soup.body.string)"
      ],
      "metadata": {
        "id": "4upjkByHOs1R"
      },
      "execution_count": null,
      "outputs": []
    },
    {
      "cell_type": "code",
      "source": [
        "soup.body.get_text()"
      ],
      "metadata": {
        "id": "oFaQHm7IO_4W"
      },
      "execution_count": null,
      "outputs": []
    },
    {
      "cell_type": "markdown",
      "metadata": {
        "id": "dUpzPPdsuoS1"
      },
      "source": [
        "# Рассмотрим реальный HTML документ\n",
        "В качестве примера возьмем статью из Википедии:  \n",
        "<https://ru.wikipedia.org/wiki/Дубна>"
      ]
    },
    {
      "cell_type": "markdown",
      "metadata": {
        "id": "SmAUWKEguoS1"
      },
      "source": [
        "## Протокол HTTP: библиотека [requests](https://2.python-requests.org/en/latest/)"
      ]
    },
    {
      "cell_type": "markdown",
      "metadata": {
        "id": "W0KARstPuoS1"
      },
      "source": [
        "### Отправляем GET запрос на web-сервер и загружаем HTML"
      ]
    },
    {
      "cell_type": "code",
      "execution_count": null,
      "metadata": {
        "id": "e-sh-4-CuoS1"
      },
      "outputs": [],
      "source": [
        "import requests\n",
        "r = requests.get('https://ru.wikipedia.org/wiki/Дубна')\n",
        "r"
      ]
    },
    {
      "cell_type": "code",
      "execution_count": null,
      "metadata": {
        "id": "AKARqODguoS2"
      },
      "outputs": [],
      "source": [
        "r.status_code"
      ]
    },
    {
      "cell_type": "code",
      "execution_count": null,
      "metadata": {
        "id": "iwC62Pw5uoS2"
      },
      "outputs": [],
      "source": [
        "print(type(r.content))"
      ]
    },
    {
      "cell_type": "code",
      "source": [
        "r.content[:1000]"
      ],
      "metadata": {
        "id": "0HvL3RosP6l5"
      },
      "execution_count": null,
      "outputs": []
    },
    {
      "cell_type": "code",
      "execution_count": null,
      "metadata": {
        "id": "SW_wlLAMuoS2"
      },
      "outputs": [],
      "source": [
        "r.text"
      ]
    },
    {
      "cell_type": "markdown",
      "metadata": {
        "id": "IlYm8rnkuoS2"
      },
      "source": [
        "### Парсим полученный HTML"
      ]
    },
    {
      "cell_type": "code",
      "execution_count": null,
      "metadata": {
        "id": "qsbMN4WLuoS3"
      },
      "outputs": [],
      "source": [
        "dubna = BeautifulSoup(r.content, 'html.parser')"
      ]
    },
    {
      "cell_type": "code",
      "execution_count": null,
      "metadata": {
        "id": "SNpYNxuCuoS3"
      },
      "outputs": [],
      "source": [
        "print(dubna.prettify()[:10000])"
      ]
    },
    {
      "cell_type": "markdown",
      "metadata": {
        "id": "-3Xc2gYIuoS3"
      },
      "source": [
        "#### Рассмотрим верхний уровень структуры реальной страницы"
      ]
    },
    {
      "cell_type": "code",
      "execution_count": null,
      "metadata": {
        "id": "7VfdgoOxuoS4"
      },
      "outputs": [],
      "source": [
        "dubna.children"
      ]
    },
    {
      "cell_type": "code",
      "execution_count": null,
      "metadata": {
        "id": "qHDxDi9luoS4"
      },
      "outputs": [],
      "source": [
        "[type(item) for item in list(dubna.children)]"
      ]
    },
    {
      "cell_type": "code",
      "execution_count": null,
      "metadata": {
        "id": "2G18QCZAuoS6"
      },
      "outputs": [],
      "source": [
        "list(dubna.children)[0]"
      ]
    },
    {
      "cell_type": "code",
      "execution_count": null,
      "metadata": {
        "id": "iXb5ns3muoS6"
      },
      "outputs": [],
      "source": [
        "list(dubna.children)[1]"
      ]
    },
    {
      "cell_type": "markdown",
      "metadata": {
        "id": "05dBQux7uoS6"
      },
      "source": [
        "объект `Doctype` содержит информацию о типе документа\n",
        "\n",
        "объект `NavigableString` - текст, найденный в документе (между doctype и `<html>`\n",
        "\n",
        "объект `Tag` - тег `<html>...</html>`"
      ]
    },
    {
      "cell_type": "code",
      "execution_count": null,
      "metadata": {
        "id": "t5RY_wBnuoS7"
      },
      "outputs": [],
      "source": [
        "html = list(dubna.children)[2]\n",
        "html is dubna.html # то же самое, ведь тег html в документе - один"
      ]
    },
    {
      "cell_type": "code",
      "source": [
        "len(list(dubna.html.children))"
      ],
      "metadata": {
        "id": "RUnr4g78NEX_"
      },
      "execution_count": null,
      "outputs": []
    },
    {
      "cell_type": "code",
      "execution_count": null,
      "metadata": {
        "id": "WK4xXcM1uoS7"
      },
      "outputs": [],
      "source": [
        "from bs4 import NavigableString\n",
        "[\n",
        "    (\n",
        "        type(item),\n",
        "        item if type(item) is NavigableString else item.name\n",
        "    )\n",
        "    for item in list(dubna.html.children)\n",
        "]"
      ]
    },
    {
      "cell_type": "code",
      "execution_count": null,
      "metadata": {
        "id": "x1wA9ZA3uoS7"
      },
      "outputs": [],
      "source": [
        "body = list(html.children)[3]\n",
        "body is html.body  # тот же тег, ведь body в документе один"
      ]
    },
    {
      "cell_type": "code",
      "execution_count": null,
      "metadata": {
        "id": "EibCVfw6uoS7"
      },
      "outputs": [],
      "source": [
        "[\n",
        "    (type(item), item)\n",
        "    if type(item) is NavigableString else \n",
        "    (type(item), item.name, item.get('id'), item.get('class'))\n",
        "    for item in list(dubna.body.children)\n",
        "]"
      ]
    },
    {
      "cell_type": "markdown",
      "metadata": {
        "id": "gfb_hNSjuoS7"
      },
      "source": [
        "#### Извлекаем осноовной текст из статьи"
      ]
    },
    {
      "cell_type": "code",
      "execution_count": null,
      "metadata": {
        "id": "NHh42WQ-uoS8"
      },
      "outputs": [],
      "source": [
        "content = dubna.find(\"div\", id='mw-content-text').find(\"div\", class_='mw-parser-output')\n",
        "print(content.get_text())"
      ]
    },
    {
      "cell_type": "code",
      "execution_count": null,
      "metadata": {
        "id": "z4scv7NXuoS-"
      },
      "outputs": [],
      "source": [
        "first_paragraphs = content('p', recursive=False)[:2]\n",
        "first_paragraphs"
      ]
    },
    {
      "cell_type": "code",
      "execution_count": null,
      "metadata": {
        "id": "gw_BlR2-uoS-"
      },
      "outputs": [],
      "source": [
        "from pprint import pprint\n",
        "main_info_str = '\\n'.join([p.get_text() for p in first_paragraphs])\n",
        "pprint(main_info_str)"
      ]
    },
    {
      "cell_type": "markdown",
      "metadata": {
        "id": "-z8LMcAGuoS-"
      },
      "source": [
        "#### Список районов"
      ]
    },
    {
      "cell_type": "code",
      "execution_count": null,
      "metadata": {
        "id": "TuRoDbIjuoS_"
      },
      "outputs": [],
      "source": [
        "content.find(text=\"Внутреннее деление\")"
      ]
    },
    {
      "cell_type": "code",
      "execution_count": null,
      "metadata": {
        "id": "N4HkuYjYuoS_"
      },
      "outputs": [],
      "source": [
        "content.find(text=\"Внутреннее деление\").parent"
      ]
    },
    {
      "cell_type": "code",
      "source": [
        "cell = content.find(text=\"Внутреннее деление\").parent.find_next_sibling('td')\n",
        "cell"
      ],
      "metadata": {
        "id": "6qnylAPJc_26"
      },
      "execution_count": null,
      "outputs": []
    },
    {
      "cell_type": "code",
      "execution_count": null,
      "metadata": {
        "id": "u0vSEEecuoTA"
      },
      "outputs": [],
      "source": [
        "cell('span')"
      ]
    },
    {
      "cell_type": "code",
      "execution_count": null,
      "metadata": {
        "id": "vKRUKM54uoTA"
      },
      "outputs": [],
      "source": [
        "districts = [s.get_text().strip(',') for s in cell('span')]\n",
        "districts"
      ]
    },
    {
      "cell_type": "markdown",
      "metadata": {
        "id": "wEz_n9vMuoTA"
      },
      "source": [
        "#### Таблица климата"
      ]
    },
    {
      "cell_type": "code",
      "execution_count": null,
      "metadata": {
        "id": "hLfi-OSiuoTB"
      },
      "outputs": [],
      "source": [
        "climate_data = content.find(id='Климат').find_next('table')\n",
        "climate_data"
      ]
    },
    {
      "cell_type": "code",
      "execution_count": null,
      "metadata": {
        "id": "0XSId9f2uoTB"
      },
      "outputs": [],
      "source": [
        "climate_data.tr"
      ]
    },
    {
      "cell_type": "code",
      "execution_count": null,
      "metadata": {
        "id": "j81YZNnwuoTB"
      },
      "outputs": [],
      "source": [
        "columns = [th.get_text().strip() for th in climate_data.tr('th')]\n",
        "columns"
      ]
    },
    {
      "cell_type": "code",
      "execution_count": null,
      "metadata": {
        "id": "6rXLx2t8uoTB"
      },
      "outputs": [],
      "source": [
        "import pandas as pd\n",
        "\n",
        "values = []\n",
        "for tr in climate_data('tr')[1:-1]:\n",
        "    td = tr(['th', 'td'])\n",
        "    row = [tr.text.strip() for tr in td]\n",
        "    values.append(row)\n",
        "\n",
        "climate = pd.DataFrame(values, columns=columns)\n",
        "climate"
      ]
    },
    {
      "cell_type": "code",
      "source": [
        "climate_t = climate.set_index('Показатель').T\n",
        "climate_t.index.name = 'Период'\n",
        "climate_t"
      ],
      "metadata": {
        "id": "3O2VYmgDgKEt"
      },
      "execution_count": null,
      "outputs": []
    },
    {
      "cell_type": "markdown",
      "metadata": {
        "id": "46B13z_3uoTC"
      },
      "source": [
        "#### Изображения"
      ]
    },
    {
      "cell_type": "code",
      "execution_count": null,
      "metadata": {
        "id": "ZCan_g6quoTC"
      },
      "outputs": [],
      "source": [
        "thumbs = dubna('div', class_='thumb')\n",
        "len(thumbs)"
      ]
    },
    {
      "cell_type": "code",
      "execution_count": null,
      "metadata": {
        "id": "o9mGzvuMuoTD"
      },
      "outputs": [],
      "source": [
        "srcs = [div.img['src'] for div in thumbs]\n",
        "srcs"
      ]
    },
    {
      "cell_type": "code",
      "execution_count": null,
      "metadata": {
        "id": "hM9p-aEfuoTD"
      },
      "outputs": [],
      "source": [
        "links = ['https:' + src for src in srcs]\n",
        "links"
      ]
    },
    {
      "cell_type": "code",
      "execution_count": null,
      "metadata": {
        "id": "f7fcnVk-uoTD"
      },
      "outputs": [],
      "source": [
        "fnames = [link.split('/')[-1] for link in links]\n",
        "fnames"
      ]
    },
    {
      "cell_type": "code",
      "execution_count": null,
      "metadata": {
        "id": "G1wpIjGwuoTD"
      },
      "outputs": [],
      "source": [
        "cd /content"
      ]
    },
    {
      "cell_type": "code",
      "execution_count": null,
      "metadata": {
        "id": "cmkrcx-IuoTD"
      },
      "outputs": [],
      "source": [
        "mkdir -p /content/dubna_images"
      ]
    },
    {
      "cell_type": "code",
      "execution_count": null,
      "metadata": {
        "id": "q9GIYoccuoTE"
      },
      "outputs": [],
      "source": [
        "cd dubna_images"
      ]
    },
    {
      "cell_type": "code",
      "execution_count": null,
      "metadata": {
        "id": "wYeIVD_KuoTE"
      },
      "outputs": [],
      "source": [
        "ls"
      ]
    },
    {
      "cell_type": "code",
      "execution_count": null,
      "metadata": {
        "id": "rMpEf4qMuoTE"
      },
      "outputs": [],
      "source": [
        "def dwnld_image(url, save_to):\n",
        "    response = requests.get(url, \n",
        "                            allow_redirects=True,\n",
        "                            headers = \n",
        "                            {'User-Agent': f'StudentCode/0.1 requests/{requests.__version__}'}\n",
        "    )\n",
        "    print(url, response)\n",
        "    if response.status_code != 200:\n",
        "        raise Exception(response.text)\n",
        "        \n",
        "    with open(save_to, 'wb') as f:        \n",
        "        f.write(response.content)"
      ]
    },
    {
      "cell_type": "code",
      "execution_count": null,
      "metadata": {
        "id": "8k1W_fN5uoTF"
      },
      "outputs": [],
      "source": [
        "from time import sleep\n",
        "for l, fn in zip(links, fnames):\n",
        "    dwnld_image(l, '/content/dubna_images/' + fn)\n",
        "    sleep(3)"
      ]
    },
    {
      "cell_type": "code",
      "execution_count": null,
      "metadata": {
        "id": "EFO53ivbuoTG"
      },
      "outputs": [],
      "source": [
        "from IPython.display import Image\n",
        "from pathlib import Path\n",
        "for fname in Path('/content/dubna_images').glob('*'):\n",
        "    print(fname)\n",
        "    display(Image(filename=fname))\n"
      ]
    },
    {
      "cell_type": "code",
      "source": [
        "from skimage.io import imread_collection\n",
        "\n",
        "col = imread_collection('/content/dubna_images/*')"
      ],
      "metadata": {
        "id": "CMJZwTmlmk5L"
      },
      "execution_count": null,
      "outputs": []
    },
    {
      "cell_type": "code",
      "execution_count": null,
      "metadata": {
        "id": "QOm9LfX6uoTG"
      },
      "outputs": [],
      "source": [
        "import matplotlib.pyplot as plt\n",
        "\n",
        "for img in col:\n",
        "    plt.figure()\n",
        "    plt.imshow(img)\n",
        "    plt.show()"
      ]
    },
    {
      "cell_type": "markdown",
      "metadata": {
        "id": "SUHqpTSyuoTH"
      },
      "source": [
        "# Библитотека LXML - еще одна популярная библиотека парсинга HTML, но в первую очередь XML.\n",
        "\n",
        "Документация подробна, но достаточно сложная для понимания. Например\n",
        "есть два варианта парсинга html:\n",
        "*   https://lxml.de/parsing.html#parsing-html\n",
        "*   https://lxml.de/lxmlhtml.html#parsing-html"
      ]
    },
    {
      "cell_type": "code",
      "execution_count": null,
      "metadata": {
        "id": "_8crJFj2uoTH"
      },
      "outputs": [],
      "source": [
        "from lxml import etree\n",
        "xml_tree = etree.HTML(test)\n",
        "xml_tree"
      ]
    },
    {
      "cell_type": "code",
      "execution_count": null,
      "metadata": {
        "id": "e1RxCZ2BuoTI"
      },
      "outputs": [],
      "source": [
        "from lxml.html import fromstring, parse\n",
        "html_tree = fromstring(test)\n",
        "html_tree"
      ]
    },
    {
      "cell_type": "code",
      "execution_count": null,
      "metadata": {
        "id": "X99R4SD_uoTI"
      },
      "outputs": [],
      "source": [
        "type(xml_tree), type(html_tree)"
      ]
    },
    {
      "cell_type": "markdown",
      "metadata": {
        "id": "pY2V5umwuoTJ"
      },
      "source": [
        "lxml.html - методы специфические для html, лучше использовать его."
      ]
    },
    {
      "cell_type": "markdown",
      "metadata": {
        "id": "MD4VWvGnuoTH"
      },
      "source": [
        "# Задание\n",
        "\n",
        "Вместо Beautiful Soup использовать библиотеку [LXML](https://lxml.de/).\n",
        "\n",
        "1. найти h2 теги с атрибутом align равным center\n",
        "2. найти h2 теги у которых есть аттрибут align\n",
        "3. извлечь текстовое содержимое тега с разметкой внутри\n",
        "4. извлечь два первых параграфа с текстом из страницы на Википедии\n",
        "5. извлечь список районов Дубны\n",
        "6. извлечь таблицу климата\n",
        "7. сохранить изображения"
      ]
    }
  ],
  "metadata": {
    "colab": {
      "collapsed_sections": [],
      "provenance": [],
      "toc_visible": true
    },
    "kernelspec": {
      "display_name": "Python 3",
      "name": "python3"
    }
  },
  "nbformat": 4,
  "nbformat_minor": 0
}