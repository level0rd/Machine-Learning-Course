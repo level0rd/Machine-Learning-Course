{
  "nbformat": 4,
  "nbformat_minor": 0,
  "metadata": {
    "colab": {
      "provenance": []
    },
    "kernelspec": {
      "name": "python3",
      "display_name": "Python 3"
    },
    "language_info": {
      "name": "python"
    }
  },
  "cells": [
    {
      "cell_type": "markdown",
      "source": [
        "Вместо Beautiful Soup использовать библиотеку LXML.\n",
        "\n",
        "найти h2 теги с атрибутом align равным center\n",
        "найти h2 теги у которых есть аттрибут align\n",
        "извлечь текстовое содержимое тега с разметкой внутри\n",
        "извлечь два первых параграфа с текстом из страницы на Википедии\n",
        "извлечь список районов Дубны\n",
        "извлечь таблицу климата\n",
        "сохранить изображения"
      ],
      "metadata": {
        "id": "e-SPglcOQSGP"
      }
    },
    {
      "cell_type": "code",
      "execution_count": 2,
      "metadata": {
        "id": "ly9jYRInQROQ"
      },
      "outputs": [],
      "source": [
        "from lxml import etree\n",
        "import requests\n",
        "from lxml import html"
      ]
    },
    {
      "cell_type": "code",
      "source": [
        "url = \"https://ru.wikipedia.org/wiki/Кольчугино\"\n",
        "\n",
        "tree = html.fromstring(requests.get(url).content)"
      ],
      "metadata": {
        "id": "N6GnXj3gQgGb"
      },
      "execution_count": 3,
      "outputs": []
    },
    {
      "cell_type": "code",
      "source": [
        "from lxml import html\n",
        "import requests\n",
        "\n",
        "# URL страницы Википедии\n",
        "url = \"https://ru.wikipedia.org/wiki/Кольчугино\"\n",
        "\n",
        "# Загрузим HTML-код страницы\n",
        "response = requests.get(url)\n",
        "tree = html.fromstring(response.content)\n",
        "\n",
        "# Преобразуем дерево в строку с отступами\n",
        "tree_string = html.tostring(tree, pretty_print=True, encoding=\"utf-8\")\n",
        "\n",
        "# Выведем результат\n",
        "print(f\"Содержание дерева:\\n{tree_string.decode('utf-8')}\")\n"
      ],
      "metadata": {
        "id": "zjXFpz7IyjVh"
      },
      "execution_count": null,
      "outputs": []
    },
    {
      "cell_type": "markdown",
      "source": [
        "# Найти теги h2 с атрибутом выравнивания, равным центру"
      ],
      "metadata": {
        "id": "YgzqI9K8RrH1"
      }
    },
    {
      "cell_type": "code",
      "source": [
        "# Find h2 tags with alignment attribute equal to center\n",
        "h2_align_center_tags = tree.xpath(\"//h2[@align='center']\")\n",
        "for tag in h2_align_center_tags:\n",
        "    print(tag.text)"
      ],
      "metadata": {
        "id": "ufXeG9E6Q0sW"
      },
      "execution_count": 4,
      "outputs": []
    },
    {
      "cell_type": "markdown",
      "source": [
        "# Найти теги h2, которые имеют атрибут выравнивания"
      ],
      "metadata": {
        "id": "uL0eWZy2RxpD"
      }
    },
    {
      "cell_type": "code",
      "source": [
        "# Find h2 tags which have alignment attribute\n",
        "h2_align_tags = tree.xpath('//h2[@align]')\n",
        "for tag in h2_align_tags:\n",
        "    print(tag.text)"
      ],
      "metadata": {
        "id": "CUg64jtpRb78"
      },
      "execution_count": null,
      "outputs": []
    },
    {
      "cell_type": "code",
      "source": [
        "h2_tags = tree.xpath('//h2')\n",
        "for tag in h2_tags:\n",
        "  print(tag.text)"
      ],
      "metadata": {
        "colab": {
          "base_uri": "https://localhost:8080/"
        },
        "id": "3lqkj_wHTMTq",
        "outputId": "319fca8a-99e7-4b22-abf1-7aaa75801649"
      },
      "execution_count": null,
      "outputs": [
        {
          "output_type": "stream",
          "name": "stdout",
          "text": [
            "Содержание\n",
            "None\n",
            "None\n",
            "None\n",
            "None\n",
            "None\n",
            "None\n",
            "None\n",
            "None\n",
            "None\n",
            "None\n",
            "None\n",
            "None\n",
            "None\n",
            "None\n",
            "None\n",
            "None\n",
            "None\n",
            "None\n",
            "Навигация\n"
          ]
        }
      ]
    },
    {
      "cell_type": "markdown",
      "source": [
        "# Извлекаем текстовое содержимое тега с разметкой внутри"
      ],
      "metadata": {
        "id": "9WbF0_1vR7Fg"
      }
    },
    {
      "cell_type": "code",
      "source": [
        "for tag in h2_align_center_tags:\n",
        "    print(tag.text)"
      ],
      "metadata": {
        "id": "ZmoNHpXpR2Vs"
      },
      "execution_count": null,
      "outputs": []
    },
    {
      "cell_type": "code",
      "source": [
        "for tag in h2_align_tags:\n",
        "    print(tag.text)"
      ],
      "metadata": {
        "id": "x8b1Z8iwR9h7"
      },
      "execution_count": null,
      "outputs": []
    },
    {
      "cell_type": "markdown",
      "source": [
        "# Извлекаем два первых параграфа с текстом из страницы на Википедии"
      ],
      "metadata": {
        "id": "E7c8RlDOUM8o"
      }
    },
    {
      "cell_type": "code",
      "source": [
        "# Извлекаем первые два тега <p>\n",
        "paragraphs = tree.xpath('//p')[:2]\n",
        "\n",
        "# Выводим содержимое тегов <p>\n",
        "for paragraph in paragraphs:\n",
        "    print(html.tostring(paragraph, pretty_print=True, encoding='unicode'))"
      ],
      "metadata": {
        "colab": {
          "base_uri": "https://localhost:8080/"
        },
        "id": "OEkUsaWCMK5d",
        "outputId": "46ed7134-90af-4177-ada3-ded57b4207c3"
      },
      "execution_count": null,
      "outputs": [
        {
          "output_type": "stream",
          "name": "stdout",
          "text": [
            "<p><b>Кольчу́гино</b> — <a href=\"/wiki/%D0%93%D0%BE%D1%80%D0%BE%D0%B4\" title=\"Город\">город</a> (с <a href=\"/wiki/1931_%D0%B3%D0%BE%D0%B4\" title=\"1931 год\">1931 года</a><sup id=\"cite_ref-2\" class=\"reference\"><a href=\"#cite_note-2\">[2]</a></sup>) во <a href=\"/wiki/%D0%92%D0%BB%D0%B0%D0%B4%D0%B8%D0%BC%D0%B8%D1%80%D1%81%D0%BA%D0%B0%D1%8F_%D0%BE%D0%B1%D0%BB%D0%B0%D1%81%D1%82%D1%8C\" title=\"Владимирская область\">Владимирской области</a> <a href=\"/wiki/%D0%A0%D0%BE%D1%81%D1%81%D0%B8%D1%8F\" title=\"Россия\">России</a>. Административный центр <a href=\"/wiki/%D0%9A%D0%BE%D0%BB%D1%8C%D1%87%D1%83%D0%B3%D0%B8%D0%BD%D1%81%D0%BA%D0%B8%D0%B9_%D1%80%D0%B0%D0%B9%D0%BE%D0%BD\" title=\"Кольчугинский район\">Кольчугинского района</a>. Образует городское поселение <a href=\"/wiki/%D0%93%D0%BE%D1%80%D0%BE%D0%B4%D1%81%D0%BA%D0%BE%D0%B5_%D0%BF%D0%BE%D1%81%D0%B5%D0%BB%D0%B5%D0%BD%D0%B8%D0%B5_%D0%9A%D0%BE%D0%BB%D1%8C%D1%87%D1%83%D0%B3%D0%B8%D0%BD%D0%BE\" class=\"mw-redirect\" title=\"Городское поселение Кольчугино\">город Кольчугино</a>.\n",
            "</p>\n",
            "\n",
            "\n",
            "<p>Расположен в северо-западной части Владимирской области, на реке <a href=\"/wiki/%D0%9F%D0%B5%D0%BA%D1%88%D0%B0_(%D1%80%D0%B5%D0%BA%D0%B0)\" title=\"Пекша (река)\">Пекше</a> (приток реки <a href=\"/wiki/%D0%9A%D0%BB%D1%8F%D0%B7%D1%8C%D0%BC%D0%B0\" title=\"Клязьма\">Клязьмы</a>), в Юрьевском ополье, на отрогах <a href=\"/wiki/%D0%9C%D0%BE%D1%81%D0%BA%D0%BE%D0%B2%D1%81%D0%BA%D0%B0%D1%8F_%D0%B2%D0%BE%D0%B7%D0%B2%D1%8B%D1%88%D0%B5%D0%BD%D0%BD%D0%BE%D1%81%D1%82%D1%8C\" title=\"Московская возвышенность\">Московской возвышенности</a>, в 74 км от <a href=\"/wiki/%D0%92%D0%BB%D0%B0%D0%B4%D0%B8%D0%BC%D0%B8%D1%80_(%D0%B3%D0%BE%D1%80%D0%BE%D0%B4,_%D0%A0%D0%BE%D1%81%D1%81%D0%B8%D1%8F)\" title=\"Владимир (город, Россия)\">Владимира</a>, в 131 км от <a href=\"/wiki/%D0%9C%D0%BE%D1%81%D0%BA%D0%B2%D0%B0\" title=\"Москва\">Москвы</a> (через <a href=\"/wiki/%D0%9A%D0%B8%D1%80%D0%B6%D0%B0%D1%87\" title=\"Киржач\">Киржач</a>), в 40 км от <a href=\"/wiki/%D0%90%D0%BB%D0%B5%D0%BA%D1%81%D0%B0%D0%BD%D0%B4%D1%80%D0%BE%D0%B2_(%D0%B3%D0%BE%D1%80%D0%BE%D0%B4)\" title=\"Александров (город)\">Александрова</a>, в 30 км от <a href=\"/wiki/%D0%AE%D1%80%D1%8C%D0%B5%D0%B2-%D0%9F%D0%BE%D0%BB%D1%8C%D1%81%D0%BA%D0%B8%D0%B9\" title=\"Юрьев-Польский\">Юрьева-Польского</a>. Входит в Северо-Западный внутриобластной экономический район.\n",
            "</p>\n",
            "\n",
            "\n"
          ]
        }
      ]
    },
    {
      "cell_type": "code",
      "source": [
        "import re\n",
        "\n",
        "def remove_html_tags(text):\n",
        "    clean = re.compile('<.*?>')\n",
        "    return re.sub(clean, '', text)\n",
        "\n",
        "for paragraph in paragraphs:\n",
        "    text_content = html.tostring(paragraph, method='text', encoding='unicode')\n",
        "    clean_text = remove_html_tags(text_content)\n",
        "    print(clean_text)"
      ],
      "metadata": {
        "colab": {
          "base_uri": "https://localhost:8080/"
        },
        "id": "hpwWwXLqVDYW",
        "outputId": "b056bd1e-1589-468e-d383-d1cffa27913e"
      },
      "execution_count": null,
      "outputs": [
        {
          "output_type": "stream",
          "name": "stdout",
          "text": [
            "Кольчу́гино — город (с 1931 года[2]) во Владимирской области России. Административный центр Кольчугинского района. Образует городское поселение город Кольчугино.\n",
            "\n",
            "\n",
            "Расположен в северо-западной части Владимирской области, на реке Пекше (приток реки Клязьмы), в Юрьевском ополье, на отрогах Московской возвышенности, в 74 км от Владимира, в 131 км от Москвы (через Киржач), в 40 км от Александрова, в 30 км от Юрьева-Польского. Входит в Северо-Западный внутриобластной экономический район.\n",
            "\n",
            "\n"
          ]
        }
      ]
    },
    {
      "cell_type": "markdown",
      "source": [
        "# Извлекаем мэра"
      ],
      "metadata": {
        "id": "3Tq0FwK6U86_"
      }
    },
    {
      "cell_type": "code",
      "source": [
        "table = tree.xpath(\"//tr/td/span/text()\")[0]\n",
        "print(\"Мэр:\", table)"
      ],
      "metadata": {
        "colab": {
          "base_uri": "https://localhost:8080/"
        },
        "id": "jNd3Oe9Kbe6V",
        "outputId": "604a1ed8-6555-469b-ecf8-6ee6241b7c08"
      },
      "execution_count": 5,
      "outputs": [
        {
          "output_type": "stream",
          "name": "stdout",
          "text": [
            "Мэр: Савельев Олег Викторович\n"
          ]
        }
      ]
    },
    {
      "cell_type": "markdown",
      "source": [
        "# Извлекаем таблицу численности населения"
      ],
      "metadata": {
        "id": "12fiSXbDVfxB"
      }
    },
    {
      "cell_type": "code",
      "source": [
        "table_title = \"Численность населения\"\n",
        "table = tree.xpath('//table[.//caption[contains(., \"%s\")]]' % table_title)[0]\n",
        "\n",
        "# Вытягиваем строки\n",
        "header = table.xpath('.//tr[1]/*')\n",
        "hrows = table.xpath('.//tr[position() > 1]//th')\n",
        "rows = table.xpath('.//tr[position() > 1]//td')\n",
        "hr = []\n",
        "h = []\n",
        "r = []\n",
        "for i in range(len(hrows)):\n",
        "  hr.append(hrows[i].text_content().replace(\"\\n\",\"\"))\n",
        "print(hr)\n",
        "for i in range(len(header)):\n",
        "  h.append(header[i].text_content().replace(\"\\n\",\"\"))\n",
        "print(h)\n",
        "for i in range(len(rows)-1):\n",
        "  r.append(rows[i].text_content().replace(\"\\n\",\"\"))\n",
        "print(r)"
      ],
      "metadata": {
        "colab": {
          "base_uri": "https://localhost:8080/"
        },
        "id": "9H9dPiXvVShr",
        "outputId": "8bfee2fe-5e47-426f-99a3-de72b907dbfa"
      },
      "execution_count": null,
      "outputs": [
        {
          "output_type": "stream",
          "name": "stdout",
          "text": [
            "['1996', '1998[11]', '2000[11]', '2001[11]', '2002[18]', '2003[11]', '2005[11]', '2006[11]', '2007[11]', '2008[11]', '2009[19]', '2010[20]', '2011[21]', '2012[22]', '2013[23]', '2014[24]', '2015[25]', '2016[26]', '2017[27]', '2018[28]', '2019[29]', '2020[30]', '2021[1]', '', '', '', '', '', '', '', '', '', '']\n",
            "['1897[11]', '1923[12]', '1926[11]', '1931[11]', '1939[13]', '1959[14]', '1967[11]', '1970[15]', '1979[16]', '1989[17]', '1992[11]']\n",
            "['1300', '↗5138', '↗11\\xa0600', '↗22\\xa0900', '↗29\\xa0626', '↗37\\xa0865', '↗40\\xa0000', '↗41\\xa0637', '↗43\\xa0741', '↗45\\xa0601', '↘45\\xa0400', '↗46\\xa0000', '↗46\\xa0200', '→46\\xa0200', '↗46\\xa0300', '↗47\\xa0059', '↗47\\xa0100', '↘46\\xa0500', '↘46\\xa0300', '↘45\\xa0900', '↘45\\xa0700', '↘45\\xa0628', '↗45\\xa0776', '↘45\\xa0653', '↘45\\xa0225', '↘44\\xa0786', '↘44\\xa0405', '↘44\\xa0125', '↘43\\xa0784', '↘43\\xa0543', '↘43\\xa0089', '↘42\\xa0708', '↘41\\xa0953', '↘39\\xa0410', '', '', '', '', '', '', '', '', '']\n"
          ]
        }
      ]
    },
    {
      "cell_type": "code",
      "source": [
        "from lxml import html\n",
        "import requests\n",
        "import pandas as pd\n",
        "\n",
        "url = 'https://ru.wikipedia.org/wiki/Кольчугино'\n",
        "response = requests.get(url)\n",
        "\n",
        "\n",
        "tree = html.fromstring(response.content)\n",
        "\n",
        "\n",
        "table_title = \"Численность населения\"\n",
        "table = tree.xpath('//table[.//caption[contains(., \"%s\")]]' % table_title)[0]\n",
        "\n",
        "#table = tree.xpath('//table[@class=\"standard\"]')[0]\n",
        "\n",
        "rows = table.xpath('.//tr')\n",
        "\n",
        "\n",
        "headers = [th.text_content().strip() for th in table.xpath('.//th')]\n",
        "data = {header: [] for header in headers}\n",
        "\n",
        "print(headers)\n",
        "\n",
        "popilation = []\n",
        "\n",
        "\n",
        "for row in rows:\n",
        "    cells = row.xpath('.//td')\n",
        "    for i, cell in enumerate(cells):\n",
        "        popilation.append(cell.text_content())\n",
        "        data[headers[i]].append(cell.text_content().strip())\n",
        "\n",
        "print(popilation)"
      ],
      "metadata": {
        "colab": {
          "base_uri": "https://localhost:8080/"
        },
        "id": "PKjICEyXcHTJ",
        "outputId": "2b2314a5-d407-46b2-b784-8596f8c5b4ac"
      },
      "execution_count": null,
      "outputs": [
        {
          "output_type": "stream",
          "name": "stdout",
          "text": [
            "['1897[11]', '1923[12]', '1926[11]', '1931[11]', '1939[13]', '1959[14]', '1967[11]', '1970[15]', '1979[16]', '1989[17]', '1992[11]', '1996', '1998[11]', '2000[11]', '2001[11]', '2002[18]', '2003[11]', '2005[11]', '2006[11]', '2007[11]', '2008[11]', '2009[19]', '2010[20]', '2011[21]', '2012[22]', '2013[23]', '2014[24]', '2015[25]', '2016[26]', '2017[27]', '2018[28]', '2019[29]', '2020[30]', '2021[1]', '', '', '', '', '', '', '', '', '', '']\n",
            "['1300', '↗5138', '↗11\\xa0600', '↗22\\xa0900', '↗29\\xa0626', '↗37\\xa0865', '↗40\\xa0000', '↗41\\xa0637', '↗43\\xa0741', '↗45\\xa0601', '↘45\\xa0400', '↗46\\xa0000', '↗46\\xa0200', '→46\\xa0200', '↗46\\xa0300', '↗47\\xa0059', '↗47\\xa0100', '↘46\\xa0500', '↘46\\xa0300', '↘45\\xa0900', '↘45\\xa0700', '↘45\\xa0628', '↗45\\xa0776', '↘45\\xa0653', '↘45\\xa0225', '↘44\\xa0786', '↘44\\xa0405', '↘44\\xa0125', '↘43\\xa0784', '↘43\\xa0543', '↘43\\xa0089', '↘42\\xa0708', '↘41\\xa0953', '↘39\\xa0410', '', '', '', '', '', '', '', '', '', '']\n"
          ]
        }
      ]
    },
    {
      "cell_type": "code",
      "source": [
        "popilation"
      ],
      "metadata": {
        "colab": {
          "base_uri": "https://localhost:8080/"
        },
        "id": "wwsmjUAogQRD",
        "outputId": "e1cf48f8-cdf5-443e-d263-0e1eab90d2c7"
      },
      "execution_count": null,
      "outputs": [
        {
          "output_type": "execute_result",
          "data": {
            "text/plain": [
              "['1300',\n",
              " '↗5138',\n",
              " '↗11\\xa0600',\n",
              " '↗22\\xa0900',\n",
              " '↗29\\xa0626',\n",
              " '↗37\\xa0865',\n",
              " '↗40\\xa0000',\n",
              " '↗41\\xa0637',\n",
              " '↗43\\xa0741',\n",
              " '↗45\\xa0601',\n",
              " '↘45\\xa0400',\n",
              " '↗46\\xa0000',\n",
              " '↗46\\xa0200',\n",
              " '→46\\xa0200',\n",
              " '↗46\\xa0300',\n",
              " '↗47\\xa0059',\n",
              " '↗47\\xa0100',\n",
              " '↘46\\xa0500',\n",
              " '↘46\\xa0300',\n",
              " '↘45\\xa0900',\n",
              " '↘45\\xa0700',\n",
              " '↘45\\xa0628',\n",
              " '↗45\\xa0776',\n",
              " '↘45\\xa0653',\n",
              " '↘45\\xa0225',\n",
              " '↘44\\xa0786',\n",
              " '↘44\\xa0405',\n",
              " '↘44\\xa0125',\n",
              " '↘43\\xa0784',\n",
              " '↘43\\xa0543',\n",
              " '↘43\\xa0089',\n",
              " '↘42\\xa0708',\n",
              " '↘41\\xa0953',\n",
              " '↘39\\xa0410',\n",
              " '',\n",
              " '',\n",
              " '',\n",
              " '',\n",
              " '',\n",
              " '',\n",
              " '',\n",
              " '',\n",
              " '',\n",
              " '']"
            ]
          },
          "metadata": {},
          "execution_count": 122
        }
      ]
    },
    {
      "cell_type": "code",
      "source": [
        "translation_table = str.maketrans({'↗': '', '↘': '', '\\xa0': '', '→': ''})\n",
        "popilation = [item.translate(translation_table) for item in popilation]\n",
        "\n",
        "len(popilation)\n",
        "len(headers)"
      ],
      "metadata": {
        "colab": {
          "base_uri": "https://localhost:8080/"
        },
        "id": "m_Y6cADEglSe",
        "outputId": "b2373108-a95f-4d80-c30b-f0a9f2cd190f"
      },
      "execution_count": null,
      "outputs": [
        {
          "output_type": "execute_result",
          "data": {
            "text/plain": [
              "44"
            ]
          },
          "metadata": {},
          "execution_count": 135
        }
      ]
    },
    {
      "cell_type": "code",
      "source": [
        "# Используем filter для удаления пустых значений\n",
        "headers_clr = list(filter(lambda x: x != '', headers))\n",
        "headers_clr"
      ],
      "metadata": {
        "colab": {
          "base_uri": "https://localhost:8080/"
        },
        "id": "BJyxmqfrhkv_",
        "outputId": "c5cfd7e3-cdaf-4954-dc85-0c368a1e7eff"
      },
      "execution_count": null,
      "outputs": [
        {
          "output_type": "execute_result",
          "data": {
            "text/plain": [
              "['1897[11]',\n",
              " '1923[12]',\n",
              " '1926[11]',\n",
              " '1931[11]',\n",
              " '1939[13]',\n",
              " '1959[14]',\n",
              " '1967[11]',\n",
              " '1970[15]',\n",
              " '1979[16]',\n",
              " '1989[17]',\n",
              " '1992[11]',\n",
              " '1996',\n",
              " '1998[11]',\n",
              " '2000[11]',\n",
              " '2001[11]',\n",
              " '2002[18]',\n",
              " '2003[11]',\n",
              " '2005[11]',\n",
              " '2006[11]',\n",
              " '2007[11]',\n",
              " '2008[11]',\n",
              " '2009[19]',\n",
              " '2010[20]',\n",
              " '2011[21]',\n",
              " '2012[22]',\n",
              " '2013[23]',\n",
              " '2014[24]',\n",
              " '2015[25]',\n",
              " '2016[26]',\n",
              " '2017[27]',\n",
              " '2018[28]',\n",
              " '2019[29]',\n",
              " '2020[30]',\n",
              " '2021[1]']"
            ]
          },
          "metadata": {},
          "execution_count": 137
        }
      ]
    },
    {
      "cell_type": "code",
      "source": [
        "headers_clr = [re.sub(r'\\[.*?\\]', '', item) for item in headers_clr]\n",
        "\n",
        "print(headers_clr)"
      ],
      "metadata": {
        "colab": {
          "base_uri": "https://localhost:8080/"
        },
        "id": "XKe5D7pmiiRs",
        "outputId": "e0477961-c5f6-4197-f89e-1b4c8f1a793a"
      },
      "execution_count": null,
      "outputs": [
        {
          "output_type": "stream",
          "name": "stdout",
          "text": [
            "['1897', '1923', '1926', '1931', '1939', '1959', '1967', '1970', '1979', '1989', '1992', '1996', '1998', '2000', '2001', '2002', '2003', '2005', '2006', '2007', '2008', '2009', '2010', '2011', '2012', '2013', '2014', '2015', '2016', '2017', '2018', '2019', '2020', '2021']\n"
          ]
        }
      ]
    },
    {
      "cell_type": "code",
      "source": [
        "# Используем filter для удаления пустых значений\n",
        "popilation_clr = list(filter(lambda x: x != '', popilation))\n",
        "popilation_clr"
      ],
      "metadata": {
        "colab": {
          "base_uri": "https://localhost:8080/"
        },
        "id": "I5rSusAThvZv",
        "outputId": "d3182a8e-c570-4e22-a826-d343db0c1e70"
      },
      "execution_count": null,
      "outputs": [
        {
          "output_type": "execute_result",
          "data": {
            "text/plain": [
              "['1300',\n",
              " '5138',\n",
              " '11600',\n",
              " '22900',\n",
              " '29626',\n",
              " '37865',\n",
              " '40000',\n",
              " '41637',\n",
              " '43741',\n",
              " '45601',\n",
              " '45400',\n",
              " '46000',\n",
              " '46200',\n",
              " '46200',\n",
              " '46300',\n",
              " '47059',\n",
              " '47100',\n",
              " '46500',\n",
              " '46300',\n",
              " '45900',\n",
              " '45700',\n",
              " '45628',\n",
              " '45776',\n",
              " '45653',\n",
              " '45225',\n",
              " '44786',\n",
              " '44405',\n",
              " '44125',\n",
              " '43784',\n",
              " '43543',\n",
              " '43089',\n",
              " '42708',\n",
              " '41953',\n",
              " '39410']"
            ]
          },
          "metadata": {},
          "execution_count": 136
        }
      ]
    },
    {
      "cell_type": "code",
      "source": [
        "df = pd.DataFrame({'Year': headers_clr, 'Popilation': popilation_clr})\n",
        "df"
      ],
      "metadata": {
        "colab": {
          "base_uri": "https://localhost:8080/",
          "height": 1000
        },
        "id": "MmAPp5Qdi8UJ",
        "outputId": "453eae4d-072d-4007-bb9f-ebc86118113f"
      },
      "execution_count": null,
      "outputs": [
        {
          "output_type": "execute_result",
          "data": {
            "text/plain": [
              "    Year Popilation\n",
              "0   1897       1300\n",
              "1   1923       5138\n",
              "2   1926      11600\n",
              "3   1931      22900\n",
              "4   1939      29626\n",
              "5   1959      37865\n",
              "6   1967      40000\n",
              "7   1970      41637\n",
              "8   1979      43741\n",
              "9   1989      45601\n",
              "10  1992      45400\n",
              "11  1996      46000\n",
              "12  1998      46200\n",
              "13  2000      46200\n",
              "14  2001      46300\n",
              "15  2002      47059\n",
              "16  2003      47100\n",
              "17  2005      46500\n",
              "18  2006      46300\n",
              "19  2007      45900\n",
              "20  2008      45700\n",
              "21  2009      45628\n",
              "22  2010      45776\n",
              "23  2011      45653\n",
              "24  2012      45225\n",
              "25  2013      44786\n",
              "26  2014      44405\n",
              "27  2015      44125\n",
              "28  2016      43784\n",
              "29  2017      43543\n",
              "30  2018      43089\n",
              "31  2019      42708\n",
              "32  2020      41953\n",
              "33  2021      39410"
            ],
            "text/html": [
              "\n",
              "  <div id=\"df-0e1d5311-6993-4d0f-a8d2-8a708422f32c\" class=\"colab-df-container\">\n",
              "    <div>\n",
              "<style scoped>\n",
              "    .dataframe tbody tr th:only-of-type {\n",
              "        vertical-align: middle;\n",
              "    }\n",
              "\n",
              "    .dataframe tbody tr th {\n",
              "        vertical-align: top;\n",
              "    }\n",
              "\n",
              "    .dataframe thead th {\n",
              "        text-align: right;\n",
              "    }\n",
              "</style>\n",
              "<table border=\"1\" class=\"dataframe\">\n",
              "  <thead>\n",
              "    <tr style=\"text-align: right;\">\n",
              "      <th></th>\n",
              "      <th>Year</th>\n",
              "      <th>Popilation</th>\n",
              "    </tr>\n",
              "  </thead>\n",
              "  <tbody>\n",
              "    <tr>\n",
              "      <th>0</th>\n",
              "      <td>1897</td>\n",
              "      <td>1300</td>\n",
              "    </tr>\n",
              "    <tr>\n",
              "      <th>1</th>\n",
              "      <td>1923</td>\n",
              "      <td>5138</td>\n",
              "    </tr>\n",
              "    <tr>\n",
              "      <th>2</th>\n",
              "      <td>1926</td>\n",
              "      <td>11600</td>\n",
              "    </tr>\n",
              "    <tr>\n",
              "      <th>3</th>\n",
              "      <td>1931</td>\n",
              "      <td>22900</td>\n",
              "    </tr>\n",
              "    <tr>\n",
              "      <th>4</th>\n",
              "      <td>1939</td>\n",
              "      <td>29626</td>\n",
              "    </tr>\n",
              "    <tr>\n",
              "      <th>5</th>\n",
              "      <td>1959</td>\n",
              "      <td>37865</td>\n",
              "    </tr>\n",
              "    <tr>\n",
              "      <th>6</th>\n",
              "      <td>1967</td>\n",
              "      <td>40000</td>\n",
              "    </tr>\n",
              "    <tr>\n",
              "      <th>7</th>\n",
              "      <td>1970</td>\n",
              "      <td>41637</td>\n",
              "    </tr>\n",
              "    <tr>\n",
              "      <th>8</th>\n",
              "      <td>1979</td>\n",
              "      <td>43741</td>\n",
              "    </tr>\n",
              "    <tr>\n",
              "      <th>9</th>\n",
              "      <td>1989</td>\n",
              "      <td>45601</td>\n",
              "    </tr>\n",
              "    <tr>\n",
              "      <th>10</th>\n",
              "      <td>1992</td>\n",
              "      <td>45400</td>\n",
              "    </tr>\n",
              "    <tr>\n",
              "      <th>11</th>\n",
              "      <td>1996</td>\n",
              "      <td>46000</td>\n",
              "    </tr>\n",
              "    <tr>\n",
              "      <th>12</th>\n",
              "      <td>1998</td>\n",
              "      <td>46200</td>\n",
              "    </tr>\n",
              "    <tr>\n",
              "      <th>13</th>\n",
              "      <td>2000</td>\n",
              "      <td>46200</td>\n",
              "    </tr>\n",
              "    <tr>\n",
              "      <th>14</th>\n",
              "      <td>2001</td>\n",
              "      <td>46300</td>\n",
              "    </tr>\n",
              "    <tr>\n",
              "      <th>15</th>\n",
              "      <td>2002</td>\n",
              "      <td>47059</td>\n",
              "    </tr>\n",
              "    <tr>\n",
              "      <th>16</th>\n",
              "      <td>2003</td>\n",
              "      <td>47100</td>\n",
              "    </tr>\n",
              "    <tr>\n",
              "      <th>17</th>\n",
              "      <td>2005</td>\n",
              "      <td>46500</td>\n",
              "    </tr>\n",
              "    <tr>\n",
              "      <th>18</th>\n",
              "      <td>2006</td>\n",
              "      <td>46300</td>\n",
              "    </tr>\n",
              "    <tr>\n",
              "      <th>19</th>\n",
              "      <td>2007</td>\n",
              "      <td>45900</td>\n",
              "    </tr>\n",
              "    <tr>\n",
              "      <th>20</th>\n",
              "      <td>2008</td>\n",
              "      <td>45700</td>\n",
              "    </tr>\n",
              "    <tr>\n",
              "      <th>21</th>\n",
              "      <td>2009</td>\n",
              "      <td>45628</td>\n",
              "    </tr>\n",
              "    <tr>\n",
              "      <th>22</th>\n",
              "      <td>2010</td>\n",
              "      <td>45776</td>\n",
              "    </tr>\n",
              "    <tr>\n",
              "      <th>23</th>\n",
              "      <td>2011</td>\n",
              "      <td>45653</td>\n",
              "    </tr>\n",
              "    <tr>\n",
              "      <th>24</th>\n",
              "      <td>2012</td>\n",
              "      <td>45225</td>\n",
              "    </tr>\n",
              "    <tr>\n",
              "      <th>25</th>\n",
              "      <td>2013</td>\n",
              "      <td>44786</td>\n",
              "    </tr>\n",
              "    <tr>\n",
              "      <th>26</th>\n",
              "      <td>2014</td>\n",
              "      <td>44405</td>\n",
              "    </tr>\n",
              "    <tr>\n",
              "      <th>27</th>\n",
              "      <td>2015</td>\n",
              "      <td>44125</td>\n",
              "    </tr>\n",
              "    <tr>\n",
              "      <th>28</th>\n",
              "      <td>2016</td>\n",
              "      <td>43784</td>\n",
              "    </tr>\n",
              "    <tr>\n",
              "      <th>29</th>\n",
              "      <td>2017</td>\n",
              "      <td>43543</td>\n",
              "    </tr>\n",
              "    <tr>\n",
              "      <th>30</th>\n",
              "      <td>2018</td>\n",
              "      <td>43089</td>\n",
              "    </tr>\n",
              "    <tr>\n",
              "      <th>31</th>\n",
              "      <td>2019</td>\n",
              "      <td>42708</td>\n",
              "    </tr>\n",
              "    <tr>\n",
              "      <th>32</th>\n",
              "      <td>2020</td>\n",
              "      <td>41953</td>\n",
              "    </tr>\n",
              "    <tr>\n",
              "      <th>33</th>\n",
              "      <td>2021</td>\n",
              "      <td>39410</td>\n",
              "    </tr>\n",
              "  </tbody>\n",
              "</table>\n",
              "</div>\n",
              "    <div class=\"colab-df-buttons\">\n",
              "\n",
              "  <div class=\"colab-df-container\">\n",
              "    <button class=\"colab-df-convert\" onclick=\"convertToInteractive('df-0e1d5311-6993-4d0f-a8d2-8a708422f32c')\"\n",
              "            title=\"Convert this dataframe to an interactive table.\"\n",
              "            style=\"display:none;\">\n",
              "\n",
              "  <svg xmlns=\"http://www.w3.org/2000/svg\" height=\"24px\" viewBox=\"0 -960 960 960\">\n",
              "    <path d=\"M120-120v-720h720v720H120Zm60-500h600v-160H180v160Zm220 220h160v-160H400v160Zm0 220h160v-160H400v160ZM180-400h160v-160H180v160Zm440 0h160v-160H620v160ZM180-180h160v-160H180v160Zm440 0h160v-160H620v160Z\"/>\n",
              "  </svg>\n",
              "    </button>\n",
              "\n",
              "  <style>\n",
              "    .colab-df-container {\n",
              "      display:flex;\n",
              "      gap: 12px;\n",
              "    }\n",
              "\n",
              "    .colab-df-convert {\n",
              "      background-color: #E8F0FE;\n",
              "      border: none;\n",
              "      border-radius: 50%;\n",
              "      cursor: pointer;\n",
              "      display: none;\n",
              "      fill: #1967D2;\n",
              "      height: 32px;\n",
              "      padding: 0 0 0 0;\n",
              "      width: 32px;\n",
              "    }\n",
              "\n",
              "    .colab-df-convert:hover {\n",
              "      background-color: #E2EBFA;\n",
              "      box-shadow: 0px 1px 2px rgba(60, 64, 67, 0.3), 0px 1px 3px 1px rgba(60, 64, 67, 0.15);\n",
              "      fill: #174EA6;\n",
              "    }\n",
              "\n",
              "    .colab-df-buttons div {\n",
              "      margin-bottom: 4px;\n",
              "    }\n",
              "\n",
              "    [theme=dark] .colab-df-convert {\n",
              "      background-color: #3B4455;\n",
              "      fill: #D2E3FC;\n",
              "    }\n",
              "\n",
              "    [theme=dark] .colab-df-convert:hover {\n",
              "      background-color: #434B5C;\n",
              "      box-shadow: 0px 1px 3px 1px rgba(0, 0, 0, 0.15);\n",
              "      filter: drop-shadow(0px 1px 2px rgba(0, 0, 0, 0.3));\n",
              "      fill: #FFFFFF;\n",
              "    }\n",
              "  </style>\n",
              "\n",
              "    <script>\n",
              "      const buttonEl =\n",
              "        document.querySelector('#df-0e1d5311-6993-4d0f-a8d2-8a708422f32c button.colab-df-convert');\n",
              "      buttonEl.style.display =\n",
              "        google.colab.kernel.accessAllowed ? 'block' : 'none';\n",
              "\n",
              "      async function convertToInteractive(key) {\n",
              "        const element = document.querySelector('#df-0e1d5311-6993-4d0f-a8d2-8a708422f32c');\n",
              "        const dataTable =\n",
              "          await google.colab.kernel.invokeFunction('convertToInteractive',\n",
              "                                                    [key], {});\n",
              "        if (!dataTable) return;\n",
              "\n",
              "        const docLinkHtml = 'Like what you see? Visit the ' +\n",
              "          '<a target=\"_blank\" href=https://colab.research.google.com/notebooks/data_table.ipynb>data table notebook</a>'\n",
              "          + ' to learn more about interactive tables.';\n",
              "        element.innerHTML = '';\n",
              "        dataTable['output_type'] = 'display_data';\n",
              "        await google.colab.output.renderOutput(dataTable, element);\n",
              "        const docLink = document.createElement('div');\n",
              "        docLink.innerHTML = docLinkHtml;\n",
              "        element.appendChild(docLink);\n",
              "      }\n",
              "    </script>\n",
              "  </div>\n",
              "\n",
              "\n",
              "<div id=\"df-a3b16b68-9884-4674-9efd-59e516d0b86d\">\n",
              "  <button class=\"colab-df-quickchart\" onclick=\"quickchart('df-a3b16b68-9884-4674-9efd-59e516d0b86d')\"\n",
              "            title=\"Suggest charts\"\n",
              "            style=\"display:none;\">\n",
              "\n",
              "<svg xmlns=\"http://www.w3.org/2000/svg\" height=\"24px\"viewBox=\"0 0 24 24\"\n",
              "     width=\"24px\">\n",
              "    <g>\n",
              "        <path d=\"M19 3H5c-1.1 0-2 .9-2 2v14c0 1.1.9 2 2 2h14c1.1 0 2-.9 2-2V5c0-1.1-.9-2-2-2zM9 17H7v-7h2v7zm4 0h-2V7h2v10zm4 0h-2v-4h2v4z\"/>\n",
              "    </g>\n",
              "</svg>\n",
              "  </button>\n",
              "\n",
              "<style>\n",
              "  .colab-df-quickchart {\n",
              "      --bg-color: #E8F0FE;\n",
              "      --fill-color: #1967D2;\n",
              "      --hover-bg-color: #E2EBFA;\n",
              "      --hover-fill-color: #174EA6;\n",
              "      --disabled-fill-color: #AAA;\n",
              "      --disabled-bg-color: #DDD;\n",
              "  }\n",
              "\n",
              "  [theme=dark] .colab-df-quickchart {\n",
              "      --bg-color: #3B4455;\n",
              "      --fill-color: #D2E3FC;\n",
              "      --hover-bg-color: #434B5C;\n",
              "      --hover-fill-color: #FFFFFF;\n",
              "      --disabled-bg-color: #3B4455;\n",
              "      --disabled-fill-color: #666;\n",
              "  }\n",
              "\n",
              "  .colab-df-quickchart {\n",
              "    background-color: var(--bg-color);\n",
              "    border: none;\n",
              "    border-radius: 50%;\n",
              "    cursor: pointer;\n",
              "    display: none;\n",
              "    fill: var(--fill-color);\n",
              "    height: 32px;\n",
              "    padding: 0;\n",
              "    width: 32px;\n",
              "  }\n",
              "\n",
              "  .colab-df-quickchart:hover {\n",
              "    background-color: var(--hover-bg-color);\n",
              "    box-shadow: 0 1px 2px rgba(60, 64, 67, 0.3), 0 1px 3px 1px rgba(60, 64, 67, 0.15);\n",
              "    fill: var(--button-hover-fill-color);\n",
              "  }\n",
              "\n",
              "  .colab-df-quickchart-complete:disabled,\n",
              "  .colab-df-quickchart-complete:disabled:hover {\n",
              "    background-color: var(--disabled-bg-color);\n",
              "    fill: var(--disabled-fill-color);\n",
              "    box-shadow: none;\n",
              "  }\n",
              "\n",
              "  .colab-df-spinner {\n",
              "    border: 2px solid var(--fill-color);\n",
              "    border-color: transparent;\n",
              "    border-bottom-color: var(--fill-color);\n",
              "    animation:\n",
              "      spin 1s steps(1) infinite;\n",
              "  }\n",
              "\n",
              "  @keyframes spin {\n",
              "    0% {\n",
              "      border-color: transparent;\n",
              "      border-bottom-color: var(--fill-color);\n",
              "      border-left-color: var(--fill-color);\n",
              "    }\n",
              "    20% {\n",
              "      border-color: transparent;\n",
              "      border-left-color: var(--fill-color);\n",
              "      border-top-color: var(--fill-color);\n",
              "    }\n",
              "    30% {\n",
              "      border-color: transparent;\n",
              "      border-left-color: var(--fill-color);\n",
              "      border-top-color: var(--fill-color);\n",
              "      border-right-color: var(--fill-color);\n",
              "    }\n",
              "    40% {\n",
              "      border-color: transparent;\n",
              "      border-right-color: var(--fill-color);\n",
              "      border-top-color: var(--fill-color);\n",
              "    }\n",
              "    60% {\n",
              "      border-color: transparent;\n",
              "      border-right-color: var(--fill-color);\n",
              "    }\n",
              "    80% {\n",
              "      border-color: transparent;\n",
              "      border-right-color: var(--fill-color);\n",
              "      border-bottom-color: var(--fill-color);\n",
              "    }\n",
              "    90% {\n",
              "      border-color: transparent;\n",
              "      border-bottom-color: var(--fill-color);\n",
              "    }\n",
              "  }\n",
              "</style>\n",
              "\n",
              "  <script>\n",
              "    async function quickchart(key) {\n",
              "      const quickchartButtonEl =\n",
              "        document.querySelector('#' + key + ' button');\n",
              "      quickchartButtonEl.disabled = true;  // To prevent multiple clicks.\n",
              "      quickchartButtonEl.classList.add('colab-df-spinner');\n",
              "      try {\n",
              "        const charts = await google.colab.kernel.invokeFunction(\n",
              "            'suggestCharts', [key], {});\n",
              "      } catch (error) {\n",
              "        console.error('Error during call to suggestCharts:', error);\n",
              "      }\n",
              "      quickchartButtonEl.classList.remove('colab-df-spinner');\n",
              "      quickchartButtonEl.classList.add('colab-df-quickchart-complete');\n",
              "    }\n",
              "    (() => {\n",
              "      let quickchartButtonEl =\n",
              "        document.querySelector('#df-a3b16b68-9884-4674-9efd-59e516d0b86d button');\n",
              "      quickchartButtonEl.style.display =\n",
              "        google.colab.kernel.accessAllowed ? 'block' : 'none';\n",
              "    })();\n",
              "  </script>\n",
              "</div>\n",
              "    </div>\n",
              "  </div>\n"
            ]
          },
          "metadata": {},
          "execution_count": 140
        }
      ]
    },
    {
      "cell_type": "markdown",
      "source": [
        "# Cохраняем изображения"
      ],
      "metadata": {
        "id": "Twj-iw1pVtoP"
      }
    },
    {
      "cell_type": "code",
      "source": [
        "#Находим изображения\n",
        "images = tree.xpath('//div[@class=\"thumb\"]//img')\n",
        "len(images)"
      ],
      "metadata": {
        "colab": {
          "base_uri": "https://localhost:8080/"
        },
        "id": "UyRDA5ouq2r1",
        "outputId": "dd0dc81d-2fa0-44b3-c597-1cc034950294"
      },
      "execution_count": null,
      "outputs": [
        {
          "output_type": "execute_result",
          "data": {
            "text/plain": [
              "8"
            ]
          },
          "metadata": {},
          "execution_count": 171
        }
      ]
    },
    {
      "cell_type": "code",
      "source": [
        "#Получаем ссылки\n",
        "links = []\n",
        "for i in range(len(images)):\n",
        "  links.append(\"https:\" + images[i].get('src'))\n",
        "print(links)"
      ],
      "metadata": {
        "colab": {
          "base_uri": "https://localhost:8080/"
        },
        "id": "Id8C0ikhq-5X",
        "outputId": "9de5cc52-3f9c-46dd-f44f-5b80083b3aca"
      },
      "execution_count": null,
      "outputs": [
        {
          "output_type": "stream",
          "name": "stdout",
          "text": [
            "['https://upload.wikimedia.org/wikipedia/commons/thumb/e/e4/%D0%92%D0%BE%D0%B4%D0%BE%D0%BD%D0%B0%D0%BF%D0%BE%D1%80%D0%BD%D0%B0%D1%8F_%D0%B1%D0%B0%D1%88%D0%BD%D1%8F_%D0%B3.%D0%9A%D0%BE%D0%BB%D1%8C%D1%87%D1%83%D0%B3%D0%B8%D0%BD%D0%BE_%D0%92%D0%BB%D0%B0%D0%B4%D0%B8%D0%BC%D0%B8%D1%80%D1%81%D0%BA%D0%B0%D1%8F_%D0%BE%D0%B1%D0%BB..jpg/76px-%D0%92%D0%BE%D0%B4%D0%BE%D0%BD%D0%B0%D0%BF%D0%BE%D1%80%D0%BD%D0%B0%D1%8F_%D0%B1%D0%B0%D1%88%D0%BD%D1%8F_%D0%B3.%D0%9A%D0%BE%D0%BB%D1%8C%D1%87%D1%83%D0%B3%D0%B8%D0%BD%D0%BE_%D0%92%D0%BB%D0%B0%D0%B4%D0%B8%D0%BC%D0%B8%D1%80%D1%81%D0%BA%D0%B0%D1%8F_%D0%BE%D0%B1%D0%BB..jpg', 'https://upload.wikimedia.org/wikipedia/commons/thumb/0/0e/IQJb382OM48.jpg/120px-IQJb382OM48.jpg', 'https://upload.wikimedia.org/wikipedia/ru/thumb/1/15/Kolchugino-now.jpg/120px-Kolchugino-now.jpg', 'https://upload.wikimedia.org/wikipedia/ru/thumb/8/83/Kolchugino-now2.jpg/120px-Kolchugino-now2.jpg', 'https://upload.wikimedia.org/wikipedia/ru/thumb/e/e3/Kolchugino-now3.jpg/120px-Kolchugino-now3.jpg', 'https://upload.wikimedia.org/wikipedia/ru/thumb/a/a3/Kolchugino-now5.jpg/120px-Kolchugino-now5.jpg', 'https://upload.wikimedia.org/wikipedia/commons/thumb/8/89/Kolchugino-now4.jpg/120px-Kolchugino-now4.jpg', 'https://upload.wikimedia.org/wikipedia/ru/thumb/7/7f/Kolchugino_Massovka.JPG/90px-Kolchugino_Massovka.JPG']\n"
          ]
        }
      ]
    },
    {
      "cell_type": "code",
      "source": [
        "#Получаем названия\n",
        "fnames = [link.split('/')[-1] for link in links]\n",
        "fnames"
      ],
      "metadata": {
        "colab": {
          "base_uri": "https://localhost:8080/"
        },
        "id": "7W85YZuGrBmK",
        "outputId": "6d41ecec-98ad-4287-c001-1801dd277d23"
      },
      "execution_count": null,
      "outputs": [
        {
          "output_type": "execute_result",
          "data": {
            "text/plain": [
              "['76px-%D0%92%D0%BE%D0%B4%D0%BE%D0%BD%D0%B0%D0%BF%D0%BE%D1%80%D0%BD%D0%B0%D1%8F_%D0%B1%D0%B0%D1%88%D0%BD%D1%8F_%D0%B3.%D0%9A%D0%BE%D0%BB%D1%8C%D1%87%D1%83%D0%B3%D0%B8%D0%BD%D0%BE_%D0%92%D0%BB%D0%B0%D0%B4%D0%B8%D0%BC%D0%B8%D1%80%D1%81%D0%BA%D0%B0%D1%8F_%D0%BE%D0%B1%D0%BB..jpg',\n",
              " '120px-IQJb382OM48.jpg',\n",
              " '120px-Kolchugino-now.jpg',\n",
              " '120px-Kolchugino-now2.jpg',\n",
              " '120px-Kolchugino-now3.jpg',\n",
              " '120px-Kolchugino-now5.jpg',\n",
              " '120px-Kolchugino-now4.jpg',\n",
              " '90px-Kolchugino_Massovka.JPG']"
            ]
          },
          "metadata": {},
          "execution_count": 173
        }
      ]
    },
    {
      "cell_type": "code",
      "source": [
        "cd /content"
      ],
      "metadata": {
        "colab": {
          "base_uri": "https://localhost:8080/"
        },
        "id": "IlDlJp4CrFQE",
        "outputId": "a6490e15-fa78-47fd-abc0-f7ec04bbd19e"
      },
      "execution_count": null,
      "outputs": [
        {
          "output_type": "stream",
          "name": "stdout",
          "text": [
            "/content\n"
          ]
        }
      ]
    },
    {
      "cell_type": "code",
      "source": [
        "mkdir -p /content/images"
      ],
      "metadata": {
        "id": "PKbBCs3nrGd8"
      },
      "execution_count": null,
      "outputs": []
    },
    {
      "cell_type": "code",
      "source": [
        "cd images"
      ],
      "metadata": {
        "colab": {
          "base_uri": "https://localhost:8080/"
        },
        "id": "kKavCMyAsLZN",
        "outputId": "6312a6b6-96d5-458a-dd8c-758f70360a3a"
      },
      "execution_count": null,
      "outputs": [
        {
          "output_type": "stream",
          "name": "stdout",
          "text": [
            "/content/images\n"
          ]
        }
      ]
    },
    {
      "cell_type": "code",
      "source": [
        "def dwnld_image(url, save_to):\n",
        "    response = requests.get(url,\n",
        "                            allow_redirects=True,\n",
        "                            headers =\n",
        "                            {'User-Agent': f'StudentCode/0.1 requests/{requests.__version__}'}\n",
        "    )\n",
        "    print(url, response)\n",
        "    if response.status_code != 200:\n",
        "        raise Exception(response.text)\n",
        "\n",
        "    with open(save_to, 'wb') as f:\n",
        "        f.write(response.content)"
      ],
      "metadata": {
        "id": "xJwxcr0DsP0V"
      },
      "execution_count": null,
      "outputs": []
    },
    {
      "cell_type": "code",
      "source": [
        "import hashlib\n",
        "import os\n",
        "\n",
        "def dwnld_image(url, save_to):\n",
        "    response = requests.get(url,\n",
        "                            allow_redirects=True,\n",
        "                            headers={'User-Agent': f'StudentCode/0.1 requests/{requests.__version__}'}\n",
        "    )\n",
        "    print(url, response)\n",
        "    if response.status_code != 200:\n",
        "        raise Exception(response.text)\n",
        "\n",
        "    # Use a hash of the URL as a unique identifier for the filename\n",
        "    file_hash = hashlib.md5(url.encode()).hexdigest()\n",
        "    short_fn = f\"{file_hash[:8]}_{os.path.basename(url)[:50]}\"  # Truncate the original filename\n",
        "\n",
        "    with open('/content/images/' + short_fn, 'wb') as f:\n",
        "        f.write(response.content)\n",
        "\n",
        "# Скачиваем картинки\n",
        "from time import sleep\n",
        "for l, fn in zip(links, fnames):\n",
        "    try:\n",
        "        dwnld_image(l, '/content/images/' + fn)\n",
        "    except Exception as e:\n",
        "        print(f\"Error: {e}\")\n",
        "    sleep(3)"
      ],
      "metadata": {
        "colab": {
          "base_uri": "https://localhost:8080/"
        },
        "id": "8b_2EnfLuTz8",
        "outputId": "225146ec-e467-48c8-f17c-644ccaebcf0e"
      },
      "execution_count": null,
      "outputs": [
        {
          "output_type": "stream",
          "name": "stdout",
          "text": [
            "https://upload.wikimedia.org/wikipedia/commons/thumb/e/e4/%D0%92%D0%BE%D0%B4%D0%BE%D0%BD%D0%B0%D0%BF%D0%BE%D1%80%D0%BD%D0%B0%D1%8F_%D0%B1%D0%B0%D1%88%D0%BD%D1%8F_%D0%B3.%D0%9A%D0%BE%D0%BB%D1%8C%D1%87%D1%83%D0%B3%D0%B8%D0%BD%D0%BE_%D0%92%D0%BB%D0%B0%D0%B4%D0%B8%D0%BC%D0%B8%D1%80%D1%81%D0%BA%D0%B0%D1%8F_%D0%BE%D0%B1%D0%BB..jpg/76px-%D0%92%D0%BE%D0%B4%D0%BE%D0%BD%D0%B0%D0%BF%D0%BE%D1%80%D0%BD%D0%B0%D1%8F_%D0%B1%D0%B0%D1%88%D0%BD%D1%8F_%D0%B3.%D0%9A%D0%BE%D0%BB%D1%8C%D1%87%D1%83%D0%B3%D0%B8%D0%BD%D0%BE_%D0%92%D0%BB%D0%B0%D0%B4%D0%B8%D0%BC%D0%B8%D1%80%D1%81%D0%BA%D0%B0%D1%8F_%D0%BE%D0%B1%D0%BB..jpg <Response [200]>\n",
            "https://upload.wikimedia.org/wikipedia/commons/thumb/0/0e/IQJb382OM48.jpg/120px-IQJb382OM48.jpg <Response [200]>\n",
            "https://upload.wikimedia.org/wikipedia/ru/thumb/1/15/Kolchugino-now.jpg/120px-Kolchugino-now.jpg <Response [200]>\n",
            "https://upload.wikimedia.org/wikipedia/ru/thumb/8/83/Kolchugino-now2.jpg/120px-Kolchugino-now2.jpg <Response [200]>\n",
            "https://upload.wikimedia.org/wikipedia/ru/thumb/e/e3/Kolchugino-now3.jpg/120px-Kolchugino-now3.jpg <Response [200]>\n",
            "https://upload.wikimedia.org/wikipedia/ru/thumb/a/a3/Kolchugino-now5.jpg/120px-Kolchugino-now5.jpg <Response [200]>\n",
            "https://upload.wikimedia.org/wikipedia/commons/thumb/8/89/Kolchugino-now4.jpg/120px-Kolchugino-now4.jpg <Response [200]>\n",
            "https://upload.wikimedia.org/wikipedia/ru/thumb/7/7f/Kolchugino_Massovka.JPG/90px-Kolchugino_Massovka.JPG <Response [200]>\n"
          ]
        }
      ]
    },
    {
      "cell_type": "code",
      "source": [
        "#Просматриваем картинки\n",
        "from IPython.display import Image\n",
        "from pathlib import Path\n",
        "for fname in Path('/content/images').glob('*'):\n",
        "    print(fname)\n",
        "    display(Image(filename=fname))"
      ],
      "metadata": {
        "colab": {
          "base_uri": "https://localhost:8080/",
          "height": 1000
        },
        "id": "5adqtCsBuonb",
        "outputId": "451ec086-1fce-48e5-9476-a341e267734c"
      },
      "execution_count": null,
      "outputs": [
        {
          "output_type": "stream",
          "name": "stdout",
          "text": [
            "/content/images/120px-Kolchugino-now4.jpg\n"
          ]
        },
        {
          "output_type": "display_data",
          "data": {
            "image/jpeg": "[encoded data removed]",
            "text/plain": [
              "<IPython.core.display.Image object>"
            ]
          },
          "metadata": {}
        },
        {
          "output_type": "stream",
          "name": "stdout",
          "text": [
            "/content/images/947ada37_120px-Kolchugino-now2.jpg\n"
          ]
        },
        {
          "output_type": "display_data",
          "data": {
            "image/jpeg": "[encoded data removed]",
            "text/plain": [
              "<IPython.core.display.Image object>"
            ]
          },
          "metadata": {}
        },
        {
          "output_type": "stream",
          "name": "stdout",
          "text": [
            "/content/images/a90c7e61_120px-Kolchugino-now5.jpg\n"
          ]
        },
        {
          "output_type": "display_data",
          "data": {
            "image/jpeg": "[encoded data removed]",
            "text/plain": [
              "<IPython.core.display.Image object>"
            ]
          },
          "metadata": {}
        },
        {
          "output_type": "stream",
          "name": "stdout",
          "text": [
            "/content/images/120px-Kolchugino-now3.jpg\n"
          ]
        },
        {
          "output_type": "display_data",
          "data": {
            "image/jpeg": "[encoded data removed]",
            "text/plain": [
              "<IPython.core.display.Image object>"
            ]
          },
          "metadata": {}
        },
        {
          "output_type": "stream",
          "name": "stdout",
          "text": [
            "/content/images/120px-Kolchugino-now.jpg\n"
          ]
        },
        {
          "output_type": "display_data",
          "data": {
            "image/jpeg": "[encoded data removed]",
            "text/plain": [
              "<IPython.core.display.Image object>"
            ]
          },
          "metadata": {}
        },
        {
          "output_type": "stream",
          "name": "stdout",
          "text": [
            "/content/images/120px-IQJb382OM48.jpg\n"
          ]
        },
        {
          "output_type": "display_data",
          "data": {
            "image/jpeg": "[encoded data removed]",
            "text/plain": [
              "<IPython.core.display.Image object>"
            ]
          },
          "metadata": {}
        },
        {
          "output_type": "stream",
          "name": "stdout",
          "text": [
            "/content/images/83cdfde0_120px-Kolchugino-now.jpg\n"
          ]
        },
        {
          "output_type": "display_data",
          "data": {
            "image/jpeg": "[encoded data removed]",
            "text/plain": [
              "<IPython.core.display.Image object>"
            ]
          },
          "metadata": {}
        },
        {
          "output_type": "stream",
          "name": "stdout",
          "text": [
            "/content/images/e6e69c33_120px-IQJb382OM48.jpg\n"
          ]
        },
        {
          "output_type": "display_data",
          "data": {
            "image/jpeg": "[encoded data removed]",
            "text/plain": [
              "<IPython.core.display.Image object>"
            ]
          },
          "metadata": {}
        },
        {
          "output_type": "stream",
          "name": "stdout",
          "text": [
            "/content/images/120px-Kolchugino-now2.jpg\n"
          ]
        },
        {
          "output_type": "display_data",
          "data": {
            "image/jpeg": "[encoded data removed]",
            "text/plain": [
              "<IPython.core.display.Image object>"
            ]
          },
          "metadata": {}
        },
        {
          "output_type": "stream",
          "name": "stdout",
          "text": [
            "/content/images/fb53128c_90px-Kolchugino_Massovka.JPG\n"
          ]
        },
        {
          "output_type": "display_data",
          "data": {
            "image/jpeg": "[encoded data removed]",
            "text/plain": [
              "<IPython.core.display.Image object>"
            ]
          },
          "metadata": {}
        },
        {
          "output_type": "stream",
          "name": "stdout",
          "text": [
            "/content/images/90px-Kolchugino_Massovka.JPG\n"
          ]
        },
        {
          "output_type": "display_data",
          "data": {
            "image/jpeg": "[encoded data removed]",
            "text/plain": [
              "<IPython.core.display.Image object>"
            ]
          },
          "metadata": {}
        },
        {
          "output_type": "stream",
          "name": "stdout",
          "text": [
            "/content/images/120px-Kolchugino-now5.jpg\n"
          ]
        },
        {
          "output_type": "display_data",
          "data": {
            "image/jpeg": "[encoded data removed]",
            "text/plain": [
              "<IPython.core.display.Image object>"
            ]
          },
          "metadata": {}
        },
        {
          "output_type": "stream",
          "name": "stdout",
          "text": [
            "/content/images/.ipynb_checkpoints\n"
          ]
        },
        {
          "output_type": "error",
          "ename": "ValueError",
          "evalue": "ignored",
          "traceback": [
            "\u001b[0;31m---------------------------------------------------------------------------\u001b[0m",
            "\u001b[0;31mValueError\u001b[0m                                Traceback (most recent call last)",
            "\u001b[0;32m<ipython-input-192-7ec3a59f983e>\u001b[0m in \u001b[0;36m<cell line: 4>\u001b[0;34m()\u001b[0m\n\u001b[1;32m      4\u001b[0m \u001b[0;32mfor\u001b[0m \u001b[0mfname\u001b[0m \u001b[0;32min\u001b[0m \u001b[0mPath\u001b[0m\u001b[0;34m(\u001b[0m\u001b[0;34m'/content/images'\u001b[0m\u001b[0;34m)\u001b[0m\u001b[0;34m.\u001b[0m\u001b[0mglob\u001b[0m\u001b[0;34m(\u001b[0m\u001b[0;34m'*'\u001b[0m\u001b[0;34m)\u001b[0m\u001b[0;34m:\u001b[0m\u001b[0;34m\u001b[0m\u001b[0;34m\u001b[0m\u001b[0m\n\u001b[1;32m      5\u001b[0m     \u001b[0mprint\u001b[0m\u001b[0;34m(\u001b[0m\u001b[0mfname\u001b[0m\u001b[0;34m)\u001b[0m\u001b[0;34m\u001b[0m\u001b[0;34m\u001b[0m\u001b[0m\n\u001b[0;32m----> 6\u001b[0;31m     \u001b[0mdisplay\u001b[0m\u001b[0;34m(\u001b[0m\u001b[0mImage\u001b[0m\u001b[0;34m(\u001b[0m\u001b[0mfilename\u001b[0m\u001b[0;34m=\u001b[0m\u001b[0mfname\u001b[0m\u001b[0;34m)\u001b[0m\u001b[0;34m)\u001b[0m\u001b[0;34m\u001b[0m\u001b[0;34m\u001b[0m\u001b[0m\n\u001b[0m",
            "\u001b[0;32m/usr/local/lib/python3.10/dist-packages/IPython/core/display.py\u001b[0m in \u001b[0;36m__init__\u001b[0;34m(self, data, url, filename, format, embed, width, height, retina, unconfined, metadata)\u001b[0m\n\u001b[1;32m   1221\u001b[0m \u001b[0;34m\u001b[0m\u001b[0m\n\u001b[1;32m   1222\u001b[0m         \u001b[0;32mif\u001b[0m \u001b[0mself\u001b[0m\u001b[0;34m.\u001b[0m\u001b[0membed\u001b[0m \u001b[0;32mand\u001b[0m \u001b[0mself\u001b[0m\u001b[0;34m.\u001b[0m\u001b[0mformat\u001b[0m \u001b[0;32mnot\u001b[0m \u001b[0;32min\u001b[0m \u001b[0mself\u001b[0m\u001b[0;34m.\u001b[0m\u001b[0m_ACCEPTABLE_EMBEDDINGS\u001b[0m\u001b[0;34m:\u001b[0m\u001b[0;34m\u001b[0m\u001b[0;34m\u001b[0m\u001b[0m\n\u001b[0;32m-> 1223\u001b[0;31m             \u001b[0;32mraise\u001b[0m \u001b[0mValueError\u001b[0m\u001b[0;34m(\u001b[0m\u001b[0;34m\"Cannot embed the '%s' image format\"\u001b[0m \u001b[0;34m%\u001b[0m \u001b[0;34m(\u001b[0m\u001b[0mself\u001b[0m\u001b[0;34m.\u001b[0m\u001b[0mformat\u001b[0m\u001b[0;34m)\u001b[0m\u001b[0;34m)\u001b[0m\u001b[0;34m\u001b[0m\u001b[0;34m\u001b[0m\u001b[0m\n\u001b[0m\u001b[1;32m   1224\u001b[0m         \u001b[0;32mif\u001b[0m \u001b[0mself\u001b[0m\u001b[0;34m.\u001b[0m\u001b[0membed\u001b[0m\u001b[0;34m:\u001b[0m\u001b[0;34m\u001b[0m\u001b[0;34m\u001b[0m\u001b[0m\n\u001b[1;32m   1225\u001b[0m             \u001b[0mself\u001b[0m\u001b[0;34m.\u001b[0m\u001b[0m_mimetype\u001b[0m \u001b[0;34m=\u001b[0m \u001b[0mself\u001b[0m\u001b[0;34m.\u001b[0m\u001b[0m_MIMETYPES\u001b[0m\u001b[0;34m.\u001b[0m\u001b[0mget\u001b[0m\u001b[0;34m(\u001b[0m\u001b[0mself\u001b[0m\u001b[0;34m.\u001b[0m\u001b[0mformat\u001b[0m\u001b[0;34m)\u001b[0m\u001b[0;34m\u001b[0m\u001b[0;34m\u001b[0m\u001b[0m\n",
            "\u001b[0;31mValueError\u001b[0m: Cannot embed the '/content/images/.ipynb_checkpoints' image format"
          ]
        }
      ]
    }
  ]
}