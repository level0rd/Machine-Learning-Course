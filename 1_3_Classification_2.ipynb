{
 "cells": [
  {
   "cell_type": "code",
   "execution_count": null,
   "metadata": {},
   "outputs": [],
   "source": [
    "## Отчет по лабораторной работе № 3\n",
    "### Метод к-ближайших соседей\n",
    "    Метод k-ближайших соседей — метрический алгоритм для автоматической классификации объектов. При классификации объект присваивается тому классу, который \n",
    "    является наиболее распространённым среди k соседей данного элемента, классы которых уже известны. Алгоритм может быть применим к выборкам с большим \n",
    "    количеством атрибутов (многомерным). Для этого перед применением нужно определить функцию расстояния; классический вариант такой функции нахождение \n",
    "    эвклидова расстояния.\n",
    "    Евклидово расстояние — расстояние между двумя точками евклидова пространства, вычисляемое по теореме Пифагора. \n",
    "$$\n",
    "d(p,d)=\\sqrt{\\sum_{k = 1}^{n}{(p_{k} - q_{k})}^{2}}\\\n",
    "$$\n",
    "\n",
    "### Наивный байесовский алгоритм\n",
    "    Наивный байесовский алгоритм – это алгоритм классификации, основанный на теореме Байеса с допущением о независимости признаков. \n",
    "$$   \n",
    "P\\left( A \\middle| B \\right) = \\frac{P\\left( B \\middle| A \\right)*P(A)}{P(B)}\n",
    "$$\n",
    "* P(A|B) - вероятность гипотезы А при наступлении события В, т. е. вероятность А, когда В уже верно;\n",
    "* P(B|A) - вероятность наступления события В, если гипотеза А верна;\n",
    "* P(A) - вероятность того, что гипотеза А верна;\n",
    "* P(B) - вероятность наступления события В;\n",
    "\n",
    "    В задачах классификации данная теорема рассматривается следующим образом: В — один набор признаков. А — вероятность того, что набор В принадлежит к \n",
    "    определенному классу. Наивный байесовский алгоритм предполагает, что наличие какого-либо признака в классе не связано с наличием какого-либо другого признака. \n",
    "    \n",
    "### SVM    \n",
    "\n",
    "    SVM отличается от других алгоритмов классификации тем, что он выбирает границу принятия решения , которая максимизирует расстояние от ближайших точек данных \n",
    "    всех классов. SVM не просто находит границу принятия решения; он находит наиболее оптимальную границу принятия решения. Наиболее оптимальной границей \n",
    "    принятия решения является та, которая имеет максимальный запас от ближайших точек всех классов. Ближайшие точки от границы решения, максимизирующие \n",
    "    расстояние между границей решения и точками, называются опорными векторами. Граница принятия решения в случае машин с опорными векторами \n",
    "    называется классификатором максимальной маржи или гиперплоскостью максимальной маржи.\n",
    "### Исходные данные\n",
    "![csv файл](src.jpg)\n",
    "![исходные данные](firm_source.jpg)\n",
    "### Визуализация метода опорных векторов\n",
    "![метод опорных векторов](firm_source_svm.jpg) "
   ]
  },
  {
   "cell_type": "code",
   "execution_count": 1,
   "metadata": {},
   "outputs": [
    {
     "data": {
      "text/plain": [
       "23"
      ]
     },
     "execution_count": 1,
     "metadata": {},
     "output_type": "execute_result"
    }
   ],
   "source": [
    "import numpy as np\n",
    "\n",
    "x1 = np.array([750, 360, 720, 540, 570, 520, 590, 670, 620, 690, 610, 550, 590, 740, 670, 560, 540, 590, 590, 470, 560, 540, 400])\n",
    "x2 = np.array([590, 600, 750, 710, 700, 670, 790, 700, 730, 840, 680, 730, 750, 680, 600, 550, 520, 540, 700, 600, 540, 630, 600])\n",
    "cl = np.array([0,   0,   0,   0,   0,   0,   0,   0,   0,   0,   0,   0,   0,   1,   1,   1,   1,    1,  1,   1,   1,   1,   1])\n",
    "#с1 =\n",
    "#с2 = \n",
    "#0 - не уклоняются\n",
    "#1 - уклоняются\n",
    "len(cl)"
   ]
  },
  {
   "cell_type": "code",
   "execution_count": 2,
   "metadata": {},
   "outputs": [
    {
     "data": {
      "text/html": [
       "<div>\n",
       "<style scoped>\n",
       "    .dataframe tbody tr th:only-of-type {\n",
       "        vertical-align: middle;\n",
       "    }\n",
       "\n",
       "    .dataframe tbody tr th {\n",
       "        vertical-align: top;\n",
       "    }\n",
       "\n",
       "    .dataframe thead th {\n",
       "        text-align: right;\n",
       "    }\n",
       "</style>\n",
       "<table border=\"1\" class=\"dataframe\">\n",
       "  <thead>\n",
       "    <tr style=\"text-align: right;\">\n",
       "      <th></th>\n",
       "      <th>x1</th>\n",
       "      <th>x2</th>\n",
       "      <th>class</th>\n",
       "    </tr>\n",
       "  </thead>\n",
       "  <tbody>\n",
       "    <tr>\n",
       "      <th>0</th>\n",
       "      <td>750</td>\n",
       "      <td>590</td>\n",
       "      <td>0</td>\n",
       "    </tr>\n",
       "    <tr>\n",
       "      <th>1</th>\n",
       "      <td>360</td>\n",
       "      <td>600</td>\n",
       "      <td>0</td>\n",
       "    </tr>\n",
       "    <tr>\n",
       "      <th>2</th>\n",
       "      <td>720</td>\n",
       "      <td>750</td>\n",
       "      <td>0</td>\n",
       "    </tr>\n",
       "    <tr>\n",
       "      <th>3</th>\n",
       "      <td>540</td>\n",
       "      <td>710</td>\n",
       "      <td>0</td>\n",
       "    </tr>\n",
       "    <tr>\n",
       "      <th>4</th>\n",
       "      <td>570</td>\n",
       "      <td>700</td>\n",
       "      <td>0</td>\n",
       "    </tr>\n",
       "    <tr>\n",
       "      <th>5</th>\n",
       "      <td>520</td>\n",
       "      <td>670</td>\n",
       "      <td>0</td>\n",
       "    </tr>\n",
       "    <tr>\n",
       "      <th>6</th>\n",
       "      <td>590</td>\n",
       "      <td>790</td>\n",
       "      <td>0</td>\n",
       "    </tr>\n",
       "    <tr>\n",
       "      <th>7</th>\n",
       "      <td>670</td>\n",
       "      <td>700</td>\n",
       "      <td>0</td>\n",
       "    </tr>\n",
       "    <tr>\n",
       "      <th>8</th>\n",
       "      <td>620</td>\n",
       "      <td>730</td>\n",
       "      <td>0</td>\n",
       "    </tr>\n",
       "    <tr>\n",
       "      <th>9</th>\n",
       "      <td>690</td>\n",
       "      <td>840</td>\n",
       "      <td>0</td>\n",
       "    </tr>\n",
       "    <tr>\n",
       "      <th>10</th>\n",
       "      <td>610</td>\n",
       "      <td>680</td>\n",
       "      <td>0</td>\n",
       "    </tr>\n",
       "    <tr>\n",
       "      <th>11</th>\n",
       "      <td>550</td>\n",
       "      <td>730</td>\n",
       "      <td>0</td>\n",
       "    </tr>\n",
       "    <tr>\n",
       "      <th>12</th>\n",
       "      <td>590</td>\n",
       "      <td>750</td>\n",
       "      <td>0</td>\n",
       "    </tr>\n",
       "    <tr>\n",
       "      <th>13</th>\n",
       "      <td>740</td>\n",
       "      <td>680</td>\n",
       "      <td>1</td>\n",
       "    </tr>\n",
       "    <tr>\n",
       "      <th>14</th>\n",
       "      <td>670</td>\n",
       "      <td>600</td>\n",
       "      <td>1</td>\n",
       "    </tr>\n",
       "    <tr>\n",
       "      <th>15</th>\n",
       "      <td>560</td>\n",
       "      <td>550</td>\n",
       "      <td>1</td>\n",
       "    </tr>\n",
       "    <tr>\n",
       "      <th>16</th>\n",
       "      <td>540</td>\n",
       "      <td>520</td>\n",
       "      <td>1</td>\n",
       "    </tr>\n",
       "    <tr>\n",
       "      <th>17</th>\n",
       "      <td>590</td>\n",
       "      <td>540</td>\n",
       "      <td>1</td>\n",
       "    </tr>\n",
       "    <tr>\n",
       "      <th>18</th>\n",
       "      <td>590</td>\n",
       "      <td>700</td>\n",
       "      <td>1</td>\n",
       "    </tr>\n",
       "    <tr>\n",
       "      <th>19</th>\n",
       "      <td>470</td>\n",
       "      <td>600</td>\n",
       "      <td>1</td>\n",
       "    </tr>\n",
       "    <tr>\n",
       "      <th>20</th>\n",
       "      <td>560</td>\n",
       "      <td>540</td>\n",
       "      <td>1</td>\n",
       "    </tr>\n",
       "    <tr>\n",
       "      <th>21</th>\n",
       "      <td>540</td>\n",
       "      <td>630</td>\n",
       "      <td>1</td>\n",
       "    </tr>\n",
       "    <tr>\n",
       "      <th>22</th>\n",
       "      <td>400</td>\n",
       "      <td>600</td>\n",
       "      <td>1</td>\n",
       "    </tr>\n",
       "  </tbody>\n",
       "</table>\n",
       "</div>"
      ],
      "text/plain": [
       "     x1   x2  class\n",
       "0   750  590      0\n",
       "1   360  600      0\n",
       "2   720  750      0\n",
       "3   540  710      0\n",
       "4   570  700      0\n",
       "5   520  670      0\n",
       "6   590  790      0\n",
       "7   670  700      0\n",
       "8   620  730      0\n",
       "9   690  840      0\n",
       "10  610  680      0\n",
       "11  550  730      0\n",
       "12  590  750      0\n",
       "13  740  680      1\n",
       "14  670  600      1\n",
       "15  560  550      1\n",
       "16  540  520      1\n",
       "17  590  540      1\n",
       "18  590  700      1\n",
       "19  470  600      1\n",
       "20  560  540      1\n",
       "21  540  630      1\n",
       "22  400  600      1"
      ]
     },
     "execution_count": 2,
     "metadata": {},
     "output_type": "execute_result"
    }
   ],
   "source": [
    "import pandas as pd\n",
    "\n",
    "columns = ['x1','x2','class']\n",
    "df = pd.DataFrame(data={\"x1\": x1,'x2': x2, 'class': cl })\n",
    "df.to_csv(r'./firms.csv',sep=',',index=False)\n",
    "df"
   ]
  },
  {
   "cell_type": "code",
   "execution_count": 3,
   "metadata": {},
   "outputs": [
    {
     "data": {
      "text/html": [
       "<div>\n",
       "<style scoped>\n",
       "    .dataframe tbody tr th:only-of-type {\n",
       "        vertical-align: middle;\n",
       "    }\n",
       "\n",
       "    .dataframe tbody tr th {\n",
       "        vertical-align: top;\n",
       "    }\n",
       "\n",
       "    .dataframe thead th {\n",
       "        text-align: right;\n",
       "    }\n",
       "</style>\n",
       "<table border=\"1\" class=\"dataframe\">\n",
       "  <thead>\n",
       "    <tr style=\"text-align: right;\">\n",
       "      <th></th>\n",
       "      <th>x1</th>\n",
       "      <th>x2</th>\n",
       "    </tr>\n",
       "  </thead>\n",
       "  <tbody>\n",
       "    <tr>\n",
       "      <th>0</th>\n",
       "      <td>750</td>\n",
       "      <td>590</td>\n",
       "    </tr>\n",
       "    <tr>\n",
       "      <th>1</th>\n",
       "      <td>360</td>\n",
       "      <td>600</td>\n",
       "    </tr>\n",
       "    <tr>\n",
       "      <th>2</th>\n",
       "      <td>720</td>\n",
       "      <td>750</td>\n",
       "    </tr>\n",
       "    <tr>\n",
       "      <th>3</th>\n",
       "      <td>540</td>\n",
       "      <td>710</td>\n",
       "    </tr>\n",
       "    <tr>\n",
       "      <th>4</th>\n",
       "      <td>570</td>\n",
       "      <td>700</td>\n",
       "    </tr>\n",
       "    <tr>\n",
       "      <th>5</th>\n",
       "      <td>520</td>\n",
       "      <td>670</td>\n",
       "    </tr>\n",
       "    <tr>\n",
       "      <th>6</th>\n",
       "      <td>590</td>\n",
       "      <td>790</td>\n",
       "    </tr>\n",
       "    <tr>\n",
       "      <th>7</th>\n",
       "      <td>670</td>\n",
       "      <td>700</td>\n",
       "    </tr>\n",
       "    <tr>\n",
       "      <th>8</th>\n",
       "      <td>620</td>\n",
       "      <td>730</td>\n",
       "    </tr>\n",
       "    <tr>\n",
       "      <th>9</th>\n",
       "      <td>690</td>\n",
       "      <td>840</td>\n",
       "    </tr>\n",
       "    <tr>\n",
       "      <th>10</th>\n",
       "      <td>610</td>\n",
       "      <td>680</td>\n",
       "    </tr>\n",
       "    <tr>\n",
       "      <th>11</th>\n",
       "      <td>550</td>\n",
       "      <td>730</td>\n",
       "    </tr>\n",
       "    <tr>\n",
       "      <th>12</th>\n",
       "      <td>590</td>\n",
       "      <td>750</td>\n",
       "    </tr>\n",
       "  </tbody>\n",
       "</table>\n",
       "</div>"
      ],
      "text/plain": [
       "     x1   x2\n",
       "0   750  590\n",
       "1   360  600\n",
       "2   720  750\n",
       "3   540  710\n",
       "4   570  700\n",
       "5   520  670\n",
       "6   590  790\n",
       "7   670  700\n",
       "8   620  730\n",
       "9   690  840\n",
       "10  610  680\n",
       "11  550  730\n",
       "12  590  750"
      ]
     },
     "execution_count": 3,
     "metadata": {},
     "output_type": "execute_result"
    }
   ],
   "source": [
    "tax = df[\"class\"] == 0\n",
    "df_tax = df[tax].drop(columns=['class'])\n",
    "df_tax"
   ]
  },
  {
   "cell_type": "code",
   "execution_count": 4,
   "metadata": {},
   "outputs": [
    {
     "data": {
      "text/plain": [
       "[[750, 590],\n",
       " [360, 600],\n",
       " [720, 750],\n",
       " [540, 710],\n",
       " [570, 700],\n",
       " [520, 670],\n",
       " [590, 790],\n",
       " [670, 700],\n",
       " [620, 730],\n",
       " [690, 840],\n",
       " [610, 680],\n",
       " [550, 730],\n",
       " [590, 750]]"
      ]
     },
     "execution_count": 4,
     "metadata": {},
     "output_type": "execute_result"
    }
   ],
   "source": [
    "tax = df_tax.values.tolist()\n",
    "tax"
   ]
  },
  {
   "cell_type": "code",
   "execution_count": 5,
   "metadata": {},
   "outputs": [
    {
     "data": {
      "text/html": [
       "<div>\n",
       "<style scoped>\n",
       "    .dataframe tbody tr th:only-of-type {\n",
       "        vertical-align: middle;\n",
       "    }\n",
       "\n",
       "    .dataframe tbody tr th {\n",
       "        vertical-align: top;\n",
       "    }\n",
       "\n",
       "    .dataframe thead th {\n",
       "        text-align: right;\n",
       "    }\n",
       "</style>\n",
       "<table border=\"1\" class=\"dataframe\">\n",
       "  <thead>\n",
       "    <tr style=\"text-align: right;\">\n",
       "      <th></th>\n",
       "      <th>x1</th>\n",
       "      <th>x2</th>\n",
       "    </tr>\n",
       "  </thead>\n",
       "  <tbody>\n",
       "    <tr>\n",
       "      <th>13</th>\n",
       "      <td>740</td>\n",
       "      <td>680</td>\n",
       "    </tr>\n",
       "    <tr>\n",
       "      <th>14</th>\n",
       "      <td>670</td>\n",
       "      <td>600</td>\n",
       "    </tr>\n",
       "    <tr>\n",
       "      <th>15</th>\n",
       "      <td>560</td>\n",
       "      <td>550</td>\n",
       "    </tr>\n",
       "    <tr>\n",
       "      <th>16</th>\n",
       "      <td>540</td>\n",
       "      <td>520</td>\n",
       "    </tr>\n",
       "    <tr>\n",
       "      <th>17</th>\n",
       "      <td>590</td>\n",
       "      <td>540</td>\n",
       "    </tr>\n",
       "    <tr>\n",
       "      <th>18</th>\n",
       "      <td>590</td>\n",
       "      <td>700</td>\n",
       "    </tr>\n",
       "    <tr>\n",
       "      <th>19</th>\n",
       "      <td>470</td>\n",
       "      <td>600</td>\n",
       "    </tr>\n",
       "    <tr>\n",
       "      <th>20</th>\n",
       "      <td>560</td>\n",
       "      <td>540</td>\n",
       "    </tr>\n",
       "    <tr>\n",
       "      <th>21</th>\n",
       "      <td>540</td>\n",
       "      <td>630</td>\n",
       "    </tr>\n",
       "    <tr>\n",
       "      <th>22</th>\n",
       "      <td>400</td>\n",
       "      <td>600</td>\n",
       "    </tr>\n",
       "  </tbody>\n",
       "</table>\n",
       "</div>"
      ],
      "text/plain": [
       "     x1   x2\n",
       "13  740  680\n",
       "14  670  600\n",
       "15  560  550\n",
       "16  540  520\n",
       "17  590  540\n",
       "18  590  700\n",
       "19  470  600\n",
       "20  560  540\n",
       "21  540  630\n",
       "22  400  600"
      ]
     },
     "execution_count": 5,
     "metadata": {},
     "output_type": "execute_result"
    }
   ],
   "source": [
    "nottax = df[\"class\"] == 1\n",
    "df_nottax = df[nottax].drop(columns=['class'])\n",
    "df_nottax"
   ]
  },
  {
   "cell_type": "code",
   "execution_count": 6,
   "metadata": {},
   "outputs": [
    {
     "data": {
      "text/plain": [
       "[[740, 680],\n",
       " [670, 600],\n",
       " [560, 550],\n",
       " [540, 520],\n",
       " [590, 540],\n",
       " [590, 700],\n",
       " [470, 600],\n",
       " [560, 540],\n",
       " [540, 630],\n",
       " [400, 600]]"
      ]
     },
     "execution_count": 6,
     "metadata": {},
     "output_type": "execute_result"
    }
   ],
   "source": [
    "nottax = df_nottax.values.tolist()\n",
    "nottax"
   ]
  },
  {
   "cell_type": "code",
   "execution_count": 7,
   "metadata": {},
   "outputs": [
    {
     "data": {
      "text/plain": [
       "[710.0, 635.0]"
      ]
     },
     "execution_count": 7,
     "metadata": {},
     "output_type": "execute_result"
    }
   ],
   "source": [
    "Mtax = [np.mean(tax[0]), np.mean(tax[1])]\n",
    "Mnottax = [np.mean(nottax[0]), np.mean(nottax[1])]\n",
    "Mnottax"
   ]
  },
  {
   "cell_type": "code",
   "execution_count": 8,
   "metadata": {},
   "outputs": [
    {
     "data": {
      "text/plain": [
       "30.0"
      ]
     },
     "execution_count": 8,
     "metadata": {},
     "output_type": "execute_result"
    }
   ],
   "source": [
    "stdtax0 = np.std(tax[0])\n",
    "stdtax1 = np.std(tax[1])\n",
    "stdnottax0 = np.std(nottax[0])\n",
    "stdnottax1 = np.std(nottax[1])\n",
    "stdnottax0"
   ]
  },
  {
   "cell_type": "code",
   "execution_count": 10,
   "metadata": {},
   "outputs": [
    {
     "data": {
      "text/plain": [
       "array([[1., 1.],\n",
       "       [1., 1.]])"
      ]
     },
     "execution_count": 10,
     "metadata": {},
     "output_type": "execute_result"
    }
   ],
   "source": [
    "np.corrcoef(tax[0], tax[1])\n",
    "np.corrcoef(nottax[0], nottax[1])"
   ]
  },
  {
   "cell_type": "code",
   "execution_count": 13,
   "metadata": {},
   "outputs": [
    {
     "data": {
      "text/plain": [
       "0.0"
      ]
     },
     "execution_count": 13,
     "metadata": {},
     "output_type": "execute_result"
    }
   ],
   "source": [
    "np.linalg.det(np.corrcoef(tax[0], tax[1]))\n",
    "#np.linalg.det(np.corrcoef(nottax[0], nottax[1]))"
   ]
  },
  {
   "cell_type": "code",
   "execution_count": 16,
   "metadata": {},
   "outputs": [
    {
     "data": {
      "image/png": "[encoded data removed]",
      "text/plain": [
       "<Figure size 432x288 with 1 Axes>"
      ]
     },
     "metadata": {},
     "output_type": "display_data"
    }
   ],
   "source": [
    "import seaborn as sns\n",
    "import matplotlib.pyplot as plt\n",
    "sns.set()\n",
    "\n",
    "classes = ['Не уклоняющиеся фирмы', 'Уклоняющиеся фирмы']\n",
    "scatter = plt.scatter(x1, x2, c=cl, edgecolor=\"red\", s=50, cmap='Greys', label = classes)\n",
    "plt.legend(handles=scatter.legend_elements()[0], labels=classes)\n",
    "plt.scatter(740, 590,s=150, marker='*',color = 'blue')\n",
    "plt.ylabel('$x_{2}$') \n",
    "plt.xlabel('$x_{1}$') \n",
    "plt.title(\"Фирмы\")\n",
    "plt.savefig('firm_source.jpg')\n",
    "plt.show()"
   ]
  },
  {
   "cell_type": "code",
   "execution_count": 5,
   "metadata": {},
   "outputs": [
    {
     "name": "stdout",
     "output_type": "stream",
     "text": [
      "[0]\n"
     ]
    }
   ],
   "source": [
    "from sklearn.naive_bayes import GaussianNB\n",
    "\n",
    "x = np.column_stack((x1,x2))  #np.dstack((x1,x2)) Аналог, объединяем два массива в один попарно элементы\n",
    "y = cl\n",
    "\n",
    "clf = GaussianNB(var_smoothing = 1.1)\n",
    "clf.fit(x, y)\n",
    "print(clf.predict([[740, 590]]))"
   ]
  },
  {
   "cell_type": "code",
   "execution_count": 6,
   "metadata": {},
   "outputs": [
    {
     "name": "stdout",
     "output_type": "stream",
     "text": [
      "[1]\n"
     ]
    }
   ],
   "source": [
    "clf = GaussianNB()\n",
    "clf.fit(x, y)\n",
    "print(clf.predict([[740, 590]]))"
   ]
  },
  {
   "cell_type": "code",
   "execution_count": 14,
   "metadata": {},
   "outputs": [
    {
     "name": "stdout",
     "output_type": "stream",
     "text": [
      "[0]\n"
     ]
    }
   ],
   "source": [
    "from sklearn import svm\n",
    "\n",
    "x = np.column_stack((x1,x2))  #np.dstack((x1,x2)) Аналог, объединяем два массива в один попарно элементы\n",
    "y = cl\n",
    "\n",
    "clf = svm.SVC(gamma='scale')#auto scale C=1.0, degree = 3, max_iter = -1, probability = True\n",
    "clf.fit(x, y)  \n",
    "\n",
    "print(clf.predict([[740, 590]]))"
   ]
  },
  {
   "cell_type": "code",
   "execution_count": 21,
   "metadata": {},
   "outputs": [
    {
     "data": {
      "image/png": "[encoded data removed]",
      "text/plain": [
       "<Figure size 432x288 with 1 Axes>"
      ]
     },
     "metadata": {},
     "output_type": "display_data"
    }
   ],
   "source": [
    "plt.scatter(x1, x2, c=cl, edgecolor=\"red\", s=50, cmap='Greys', label = classes)\n",
    "\n",
    "def plot_svc(model, ax):\n",
    "    xlim = ax.get_xlim()\n",
    "    ylim = ax.get_ylim()\n",
    "\n",
    "# create grid to evaluate model\n",
    "    xx = np.linspace(xlim[0], xlim[1], 30)\n",
    "    yy = np.linspace(ylim[0], ylim[1], 30)\n",
    "    YY, XX = np.meshgrid(yy, xx)\n",
    "    xy = np.vstack([XX.ravel(), YY.ravel()]).T\n",
    "    Z = clf.decision_function(xy).reshape(XX.shape)\n",
    "\n",
    "    # plot decision boundary and margins\n",
    "    ax.contour(XX, YY, Z, colors='k', levels=[-0.9, 0, 0.9], alpha=0.5,\n",
    "               linestyles=['--', '-', '--'])\n",
    "    # plot support vectors\n",
    "    ax.scatter(clf.support_vectors_[:, 0], clf.support_vectors_[:, 1], s=100,\n",
    "               linewidth=1, facecolors='none')#, edgecolors='k'\n",
    "    classes = ['Класс 0', 'Класс 1']\n",
    "    plt.legend(handles=scatter.legend_elements()[0], labels=classes)\n",
    "    plt.ylabel('$x_{2}$') \n",
    "    plt.xlabel('$x_{1}$') \n",
    "    plt.title(\"Фирмы\")\n",
    "    plt.savefig('firm_source_svm.jpg')\n",
    "    plt.show()\n",
    "    \n",
    "plot_svc(clf, plt.gca())"
   ]
  },
  {
   "cell_type": "code",
   "execution_count": 20,
   "metadata": {},
   "outputs": [
    {
     "name": "stdout",
     "output_type": "stream",
     "text": [
      "[0]\n"
     ]
    }
   ],
   "source": [
    "from sklearn.neighbors import KNeighborsClassifier\n",
    "\n",
    "x = np.column_stack((x1,x2))  #np.dstack((x1,x2)) Аналог, объединяем два массива в один попарно элементы\n",
    "y = cl\n",
    "\n",
    "clf = KNeighborsClassifier(n_neighbors=2, weights = 'distance', p = 2) #/uniform  distance/ algorithm{‘auto’, ‘ball_tree’, ‘kd_tree’, ‘brute’}  algorithm = 'brute'\n",
    "clf.fit(x,y)\n",
    "\n",
    "\n",
    "print(clf.predict([[740, 590]]))"
   ]
  },
  {
   "cell_type": "markdown",
   "metadata": {},
   "source": [
    "# Литература\n",
    "* Scikit-learn. Веб-сайт. Classifier implementing the k-nearest neighbors vote. — Режим доступа:[scikit-learn.org](https://scikit-learn.org/stable/modules/generated/sklearn.neighbors.KNeighborsClassifier.html),свободный. — Загл. с экрана.\n",
    "* Scikit-learn. Веб-сайт. Support Vector Machines. — Режим доступа:[scikit-learn.org](https://scikit-learn.org/stable/modules/svm.html),свободный. — Загл. с экрана.\n",
    "* Scikit-learn. Веб-сайт. Naive Bayes. — Режим доступа:[scikit-learn.org](https://scikit-learn.org/stable/modules/naive_bayes.html),свободный. — Загл. с экрана.\n",
    "* Wikipedia. Веб-сайт. Метод k-ближайших соседей. — Режим доступа:[ru.wikipedia.org](https://ru.wikipedia.org/wiki/%D0%9C%D0%B5%D1%82%D0%BE%D0%B4_k-%D0%B1%D0%BB%D0%B8%D0%B6%D0%B0%D0%B9%D1%88%D0%B8%D1%85_%D1%81%D0%BE%D1%81%D0%B5%D0%B4%D0%B5%D0%B9),свободный. — Загл. с экрана.   \n",
    "* Wikipedia. Веб-сайт. Евклидова метрика. — Режим доступа:[ru.wikipedia.org](https://ru.wikipedia.org/wiki/%D0%95%D0%B2%D0%BA%D0%BB%D0%B8%D0%B4%D0%BE%D0%B2%D0%B0_%D0%BC%D0%B5%D1%82%D1%80%D0%B8%D0%BA%D0%B0),свободный. — Загл. с экрана."
   ]
  },
  {
   "cell_type": "code",
   "execution_count": null,
   "metadata": {},
   "outputs": [],
   "source": []
  },
  {
   "cell_type": "code",
   "execution_count": 17,
   "metadata": {},
   "outputs": [
    {
     "name": "stdout",
     "output_type": "stream",
     "text": [
      "GaussianNB()\n",
      "[0]\n"
     ]
    },
    {
     "data": {
      "image/png": "[encoded data removed]",
      "text/plain": [
       "<Figure size 432x288 with 1 Axes>"
      ]
     },
     "metadata": {},
     "output_type": "display_data"
    }
   ],
   "source": [
    "from sklearn.naive_bayes import GaussianNB\n",
    "\n",
    "X1 = np.column_stack((x1,x2))  #np.dstack((x1,x2)) Аналог, объединяем два массива в один попарно элементы\n",
    "Y1 = cl\n",
    "\n",
    "clf = GaussianNB()\n",
    "clf.fit(X1, Y1)\n",
    "print(clf.fit(X1, Y1))\n",
    "\n",
    "#plt.scatter(X1[:,0],X1[:,1], c=Y1, edgecolor=\"grey\", s=50, cmap='coolwarm') # Красные точки - уклоняются от налогов\n",
    "classes = ['Не уклоняющиеся фирмы', 'Уклоняющиеся фирмы']\n",
    "scatter = plt.scatter(x1, x2, c=Y1, edgecolor=\"red\", s=50, cmap='Greys', label = classes)\n",
    "plt.legend(handles=scatter.legend_elements()[0], labels=classes)\n",
    "plt.scatter(740, 590,s=150, marker='*',color = 'blue')\n",
    "plt.plot(740, 590, '*', color='g')\n",
    "plt.ylabel('$x_{2}$') \n",
    "plt.xlabel('$x_{1}$') \n",
    "plt.title(\"Фирмы\")\n",
    "\n",
    "print(clf_pf.predict([[740, 590]]))"
   ]
  },
  {
   "cell_type": "code",
   "execution_count": 10,
   "metadata": {},
   "outputs": [
    {
     "name": "stdout",
     "output_type": "stream",
     "text": [
      "[0]\n"
     ]
    },
    {
     "data": {
      "image/png": "[encoded data removed]",
      "text/plain": [
       "<Figure size 432x288 with 1 Axes>"
      ]
     },
     "metadata": {},
     "output_type": "display_data"
    }
   ],
   "source": [
    "from sklearn import svm\n",
    "\n",
    "X = np.column_stack((x1,x2))  #np.dstack((x1,x2)) Аналог, объединяем два массива в один попарно элементы\n",
    "Y = cl\n",
    "\n",
    "clf = svm.SVC(gamma='scale')\n",
    "clf.fit(X, Y)  \n",
    "\n",
    "plt.scatter(X1[:,0],X1[:,1], c=Y1, edgecolor=\"grey\", s=50, cmap='coolwarm') # Красные точки - уклоняются от налогов\n",
    "#plt.plot(740, 590, '*', color='g')\n",
    "plt.scatter(740, 590,s=150, marker='*',color = 'blue')\n",
    "\n",
    "print(clf.predict([[740, 590]]))"
   ]
  },
  {
   "cell_type": "code",
   "execution_count": 48,
   "metadata": {},
   "outputs": [
    {
     "name": "stdout",
     "output_type": "stream",
     "text": [
      "[0]\n"
     ]
    },
    {
     "data": {
      "image/png": "[encoded data removed]",
      "text/plain": [
       "<Figure size 432x288 with 1 Axes>"
      ]
     },
     "metadata": {},
     "output_type": "display_data"
    }
   ],
   "source": [
    "from sklearn.neighbors import KNeighborsClassifier\n",
    "\n",
    "X = np.column_stack((x1,x2))  #np.dstack((x1,x2)) Аналог, объединяем два массива в один попарно элементы\n",
    "Y = cl\n",
    "\n",
    "clf = KNeighborsClassifier(n_neighbors=2)\n",
    "clf.fit(X,Y)\n",
    "\n",
    "plt.scatter(X1[:,0],X1[:,1], c=Y1, edgecolor=\"grey\", s=50, cmap='coolwarm') # Красные точки - уклоняются от налогов\n",
    "plt.plot(740, 590, '*', color='g')\n",
    "\n",
    "print(clf.predict([[740, 590]]))"
   ]
  },
  {
   "cell_type": "code",
   "execution_count": null,
   "metadata": {},
   "outputs": [],
   "source": []
  },
  {
   "cell_type": "code",
   "execution_count": null,
   "metadata": {},
   "outputs": [],
   "source": []
  },
  {
   "cell_type": "code",
   "execution_count": 5,
   "metadata": {},
   "outputs": [
    {
     "name": "stdout",
     "output_type": "stream",
     "text": [
      "GaussianNB()\n",
      "[1]\n"
     ]
    },
    {
     "data": {
      "image/png": "[encoded data removed]",
      "text/plain": [
       "<Figure size 432x288 with 1 Axes>"
      ]
     },
     "metadata": {},
     "output_type": "display_data"
    }
   ],
   "source": [
    "from sklearn.naive_bayes import GaussianNB\n",
    "\n",
    "X1 = np.column_stack((x1,x2))  #np.dstack((x1,x2)) Аналог, объединяем два массива в один попарно элементы\n",
    "\n",
    "Y1 = cl\n",
    "\n",
    "clf = GaussianNB()\n",
    "clf.fit(X1, Y1)\n",
    "print(clf.fit(X1, Y1))\n",
    "clf_pf = GaussianNB()\n",
    "#clf_pf.partial_fit(X1, Y1, np.unique(Y1))\n",
    "\n",
    "clf_pf.fit(X1, Y1).predict([[740, 590]])\n",
    "print(clf_pf.fit(X1, Y1).predict([[740, 590]]))\n",
    "\n",
    "\n",
    "plt.scatter(X1[:,0],X1[:,1], c=Y1, edgecolor=\"grey\", s=50, cmap='coolwarm') # Красные точки - уклоняются от налогов\n",
    "plt.plot(740, 590, '*', color='g')\n",
    "\n",
    "\n",
    "print(clf_pf.predict([[740, 590]]))"
   ]
  }
 ],
 "metadata": {
  "kernelspec": {
   "display_name": "Python 3",
   "language": "python",
   "name": "python3"
  },
  "language_info": {
   "codemirror_mode": {
    "name": "ipython",
    "version": 3
   },
   "file_extension": ".py",
   "mimetype": "text/x-python",
   "name": "python",
   "nbconvert_exporter": "python",
   "pygments_lexer": "ipython3",
   "version": "3.7.7"
  },
  "toc": {
   "base_numbering": 1,
   "nav_menu": {},
   "number_sections": false,
   "sideBar": false,
   "skip_h1_title": false,
   "title_cell": "Table of Contents",
   "title_sidebar": "Contents",
   "toc_cell": false,
   "toc_position": {},
   "toc_section_display": false,
   "toc_window_display": false
  }
 },
 "nbformat": 4,
 "nbformat_minor": 4
}
