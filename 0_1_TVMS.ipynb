{
 "cells": [
  {
   "cell_type": "markdown",
   "metadata": {},
   "source": [
    "# Костоправов А.А. 2231 Вариант 58"
   ]
  },
  {
   "cell_type": "code",
   "execution_count": 1,
   "metadata": {},
   "outputs": [
    {
     "data": {
      "text/html": [
       "<div>\n",
       "<style scoped>\n",
       "    .dataframe tbody tr th:only-of-type {\n",
       "        vertical-align: middle;\n",
       "    }\n",
       "\n",
       "    .dataframe tbody tr th {\n",
       "        vertical-align: top;\n",
       "    }\n",
       "\n",
       "    .dataframe thead th {\n",
       "        text-align: right;\n",
       "    }\n",
       "</style>\n",
       "<table border=\"1\" class=\"dataframe\">\n",
       "  <thead>\n",
       "    <tr style=\"text-align: right;\">\n",
       "      <th></th>\n",
       "      <th>X</th>\n",
       "      <th>Y</th>\n",
       "    </tr>\n",
       "  </thead>\n",
       "  <tbody>\n",
       "    <tr>\n",
       "      <th>0</th>\n",
       "      <td>7.3</td>\n",
       "      <td>22.1</td>\n",
       "    </tr>\n",
       "    <tr>\n",
       "      <th>1</th>\n",
       "      <td>6.1</td>\n",
       "      <td>23.1</td>\n",
       "    </tr>\n",
       "    <tr>\n",
       "      <th>2</th>\n",
       "      <td>12.6</td>\n",
       "      <td>40.8</td>\n",
       "    </tr>\n",
       "    <tr>\n",
       "      <th>3</th>\n",
       "      <td>5.2</td>\n",
       "      <td>19.1</td>\n",
       "    </tr>\n",
       "    <tr>\n",
       "      <th>4</th>\n",
       "      <td>-1.7</td>\n",
       "      <td>-9.6</td>\n",
       "    </tr>\n",
       "    <tr>\n",
       "      <th>5</th>\n",
       "      <td>11.5</td>\n",
       "      <td>39.6</td>\n",
       "    </tr>\n",
       "    <tr>\n",
       "      <th>6</th>\n",
       "      <td>-9.1</td>\n",
       "      <td>-41.4</td>\n",
       "    </tr>\n",
       "    <tr>\n",
       "      <th>7</th>\n",
       "      <td>-11.7</td>\n",
       "      <td>-62.0</td>\n",
       "    </tr>\n",
       "    <tr>\n",
       "      <th>8</th>\n",
       "      <td>10.6</td>\n",
       "      <td>35.2</td>\n",
       "    </tr>\n",
       "    <tr>\n",
       "      <th>9</th>\n",
       "      <td>-11.1</td>\n",
       "      <td>-57.8</td>\n",
       "    </tr>\n",
       "    <tr>\n",
       "      <th>10</th>\n",
       "      <td>-6.6</td>\n",
       "      <td>-31.9</td>\n",
       "    </tr>\n",
       "    <tr>\n",
       "      <th>11</th>\n",
       "      <td>9.9</td>\n",
       "      <td>33.6</td>\n",
       "    </tr>\n",
       "    <tr>\n",
       "      <th>12</th>\n",
       "      <td>1.4</td>\n",
       "      <td>0.5</td>\n",
       "    </tr>\n",
       "    <tr>\n",
       "      <th>13</th>\n",
       "      <td>-11.4</td>\n",
       "      <td>-51.8</td>\n",
       "    </tr>\n",
       "    <tr>\n",
       "      <th>14</th>\n",
       "      <td>0.8</td>\n",
       "      <td>3.2</td>\n",
       "    </tr>\n",
       "    <tr>\n",
       "      <th>15</th>\n",
       "      <td>1.0</td>\n",
       "      <td>3.3</td>\n",
       "    </tr>\n",
       "    <tr>\n",
       "      <th>16</th>\n",
       "      <td>-2.5</td>\n",
       "      <td>-10.0</td>\n",
       "    </tr>\n",
       "    <tr>\n",
       "      <th>17</th>\n",
       "      <td>-9.7</td>\n",
       "      <td>-47.4</td>\n",
       "    </tr>\n",
       "    <tr>\n",
       "      <th>18</th>\n",
       "      <td>3.1</td>\n",
       "      <td>9.5</td>\n",
       "    </tr>\n",
       "    <tr>\n",
       "      <th>19</th>\n",
       "      <td>1.1</td>\n",
       "      <td>2.4</td>\n",
       "    </tr>\n",
       "  </tbody>\n",
       "</table>\n",
       "</div>"
      ],
      "text/plain": [
       "       X     Y\n",
       "0    7.3  22.1\n",
       "1    6.1  23.1\n",
       "2   12.6  40.8\n",
       "3    5.2  19.1\n",
       "4   -1.7  -9.6\n",
       "5   11.5  39.6\n",
       "6   -9.1 -41.4\n",
       "7  -11.7 -62.0\n",
       "8   10.6  35.2\n",
       "9  -11.1 -57.8\n",
       "10  -6.6 -31.9\n",
       "11   9.9  33.6\n",
       "12   1.4   0.5\n",
       "13 -11.4 -51.8\n",
       "14   0.8   3.2\n",
       "15   1.0   3.3\n",
       "16  -2.5 -10.0\n",
       "17  -9.7 -47.4\n",
       "18   3.1   9.5\n",
       "19   1.1   2.4"
      ]
     },
     "execution_count": 1,
     "metadata": {},
     "output_type": "execute_result"
    }
   ],
   "source": [
    "import pandas as pd\n",
    "import numpy as np\n",
    "data = pd.read_csv('Values.csv')\n",
    "data"
   ]
  },
  {
   "cell_type": "code",
   "execution_count": 2,
   "metadata": {},
   "outputs": [
    {
     "data": {
      "text/plain": [
       "array([[  7.3,   6.1,  12.6,   5.2,  -1.7,  11.5,  -9.1, -11.7,  10.6,\n",
       "        -11.1,  -6.6,   9.9,   1.4, -11.4,   0.8,   1. ,  -2.5,  -9.7,\n",
       "          3.1,   1.1]])"
      ]
     },
     "execution_count": 2,
     "metadata": {},
     "output_type": "execute_result"
    }
   ],
   "source": [
    "X = np.array(data['X'])\n",
    "X[np.newaxis,:]"
   ]
  },
  {
   "cell_type": "code",
   "execution_count": 3,
   "metadata": {},
   "outputs": [
    {
     "data": {
      "text/plain": [
       "array([[ 22.1,  23.1,  40.8,  19.1,  -9.6,  39.6, -41.4, -62. ,  35.2,\n",
       "        -57.8, -31.9,  33.6,   0.5, -51.8,   3.2,   3.3, -10. , -47.4,\n",
       "          9.5,   2.4]])"
      ]
     },
     "execution_count": 3,
     "metadata": {},
     "output_type": "execute_result"
    }
   ],
   "source": [
    "Y = np.array(data['Y'])\n",
    "Y[np.newaxis,:]"
   ]
  },
  {
   "cell_type": "markdown",
   "metadata": {},
   "source": [
    "# Средние"
   ]
  },
  {
   "cell_type": "code",
   "execution_count": 4,
   "metadata": {},
   "outputs": [
    {
     "name": "stdout",
     "output_type": "stream",
     "text": [
      "Среднее по X: 0.34  Среднее по Y: -3.9749999999999988\n"
     ]
    }
   ],
   "source": [
    "Xm = np.mean(X)\n",
    "Ym = np.mean(Y)\n",
    "print(\"Среднее по X:\",Xm,\" Среднее по Y:\",Ym)"
   ]
  },
  {
   "cell_type": "markdown",
   "metadata": {},
   "source": [
    "# Дисперсия"
   ]
  },
  {
   "cell_type": "code",
   "execution_count": 5,
   "metadata": {},
   "outputs": [
    {
     "name": "stdout",
     "output_type": "stream",
     "text": [
      "Дисперсия X: 62.53439999999999  Дисперсия Y: 1091.3788749999999\n"
     ]
    }
   ],
   "source": [
    "Xv = np.var(X)\n",
    "Yv = np.var(Y)\n",
    "print(\"Дисперсия X:\",Xv,\" Дисперсия Y:\",Yv)"
   ]
  },
  {
   "cell_type": "markdown",
   "metadata": {},
   "source": [
    "# Среднеквадратичные отклонения"
   ]
  },
  {
   "cell_type": "code",
   "execution_count": 6,
   "metadata": {},
   "outputs": [
    {
     "name": "stdout",
     "output_type": "stream",
     "text": [
      "Cреднеквадратичные отклонения для X: 7.90786949816447  и для Y: 33.036023898163045\n"
     ]
    }
   ],
   "source": [
    "Xrms = np.sqrt(Xv)\n",
    "Yrms = np.sqrt(Yv)\n",
    "\n",
    "print(\"Cреднеквадратичные отклонения для X:\",Xrms,\" и для Y:\",Yrms)"
   ]
  },
  {
   "cell_type": "markdown",
   "metadata": {},
   "source": [
    "# Ковариация"
   ]
  },
  {
   "cell_type": "code",
   "execution_count": 7,
   "metadata": {},
   "outputs": [
    {
     "name": "stdout",
     "output_type": "stream",
     "text": [
      "Ковариация для X и Y:\n",
      "273.0715789473684\n"
     ]
    }
   ],
   "source": [
    "XYcov = np.cov(X,Y)\n",
    "print(\"Ковариация для X и Y:\")\n",
    "print(XYcov[0,1])"
   ]
  },
  {
   "cell_type": "markdown",
   "metadata": {},
   "source": [
    "# Коэффициенты корреляции"
   ]
  },
  {
   "cell_type": "code",
   "execution_count": 8,
   "metadata": {},
   "outputs": [
    {
     "name": "stdout",
     "output_type": "stream",
     "text": [
      "Коэффициент корреляции для X и Y:\n",
      "0.9930082154250838\n"
     ]
    }
   ],
   "source": [
    "XYcor = np.corrcoef(X,Y)\n",
    "print(\"Коэффициент корреляции для X и Y:\")\n",
    "print(XYcor[0,1])"
   ]
  },
  {
   "cell_type": "code",
   "execution_count": 9,
   "metadata": {},
   "outputs": [
    {
     "name": "stdout",
     "output_type": "stream",
     "text": [
      "[[  7.3]\n",
      " [  6.1]\n",
      " [ 12.6]\n",
      " [  5.2]\n",
      " [ -1.7]\n",
      " [ 11.5]\n",
      " [ -9.1]\n",
      " [-11.7]\n",
      " [ 10.6]\n",
      " [-11.1]\n",
      " [ -6.6]\n",
      " [  9.9]\n",
      " [  1.4]\n",
      " [-11.4]\n",
      " [  0.8]\n",
      " [  1. ]\n",
      " [ -2.5]\n",
      " [ -9.7]\n",
      " [  3.1]\n",
      " [  1.1]]\n",
      "[ 22.1  23.1  40.8  19.1  -9.6  39.6 -41.4 -62.   35.2 -57.8 -31.9  33.6\n",
      "   0.5 -51.8   3.2   3.3 -10.  -47.4   9.5   2.4]\n"
     ]
    }
   ],
   "source": [
    "X=X.reshape(-1,1)\n",
    "print(X)\n",
    "print(Y)"
   ]
  },
  {
   "cell_type": "markdown",
   "metadata": {},
   "source": [
    "# Коэффициенты линейной регрессии"
   ]
  },
  {
   "cell_type": "code",
   "execution_count": 13,
   "metadata": {},
   "outputs": [
    {
     "name": "stdout",
     "output_type": "stream",
     "text": [
      "Коэффициент A [4.14840472]\n",
      "Коэффициент B -5.385457604134683\n"
     ]
    }
   ],
   "source": [
    "from sklearn.linear_model import LinearRegression\n",
    "model = LinearRegression()\n",
    "model.fit(X, Y)\n",
    "print(\"Коэффициент A\",model.coef_)\n",
    "print(\"Коэффициент B\",model.intercept_)\n",
    "YY = model.predict(X)"
   ]
  },
  {
   "cell_type": "markdown",
   "metadata": {},
   "source": [
    "# Метод наименьших квадратов"
   ]
  },
  {
   "cell_type": "code",
   "execution_count": 14,
   "metadata": {},
   "outputs": [
    {
     "data": {
      "image/png": "[encoded data removed]",
      "text/plain": [
       "<Figure size 432x288 with 1 Axes>"
      ]
     },
     "metadata": {
      "needs_background": "light"
     },
     "output_type": "display_data"
    }
   ],
   "source": [
    "import matplotlib.pyplot as plt\n",
    "SomeSubPlot = plt.subplot(111)\n",
    "SomeSubPlot.plot(X,YY,'r', label=' Метод наименьших квадратов')\n",
    "SomeSubPlot.plot(X,Y,'*', label=' Рассеивание')\n",
    "\n",
    "plt.ylabel(u'Y')\n",
    "plt.xlabel(u'X')\n",
    "plt.title(u'МНК метод - встроенные функции')\n",
    "\n",
    "\n",
    "chartBox = SomeSubPlot.get_position()\n",
    "SomeSubPlot.set_position([chartBox.x0, chartBox.y0, chartBox.width, chartBox.height])\n",
    "SomeSubPlot.legend(loc='upper center', bbox_to_anchor=(0.5, -0.2), shadow=True, ncol=1)\n",
    "plt.show()"
   ]
  },
  {
   "cell_type": "markdown",
   "metadata": {},
   "source": [
    "# Значимость выборочного коэффициента корреляции"
   ]
  },
  {
   "cell_type": "code",
   "execution_count": 12,
   "metadata": {},
   "outputs": [
    {
     "name": "stdout",
     "output_type": "stream",
     "text": [
      "   Проверка гипотезы о значимости выборочного коэффициента\n",
      "корреляции при заданном уровне значимости альфа = 0,01\n",
      "T= -35.68950547549748\n",
      "tкр(0,01;18)=2,88\n"
     ]
    }
   ],
   "source": [
    "import math\n",
    "print('''   Проверка гипотезы о значимости выборочного коэффициента\n",
    "корреляции при заданном уровне значимости альфа = 0,01''')\n",
    "k = 20 - 2\n",
    "T = - (XYcor[0,1]*math.sqrt(k)/math.sqrt(1-XYcor[0,1]**2))\n",
    "print(\"T=\",T)\n",
    "print(\"tкр(0,01;18)=2,88\")"
   ]
  }
 ],
 "metadata": {
  "kernelspec": {
   "display_name": "Python 3",
   "language": "python",
   "name": "python3"
  },
  "language_info": {
   "codemirror_mode": {
    "name": "ipython",
    "version": 3
   },
   "file_extension": ".py",
   "mimetype": "text/x-python",
   "name": "python",
   "nbconvert_exporter": "python",
   "pygments_lexer": "ipython3",
   "version": "3.6.8"
  }
 },
 "nbformat": 4,
 "nbformat_minor": 2
}
