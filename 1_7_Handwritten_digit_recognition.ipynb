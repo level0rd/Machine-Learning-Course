{
 "cells": [
  {
   "cell_type": "markdown",
   "metadata": {},
   "source": [
    "## Отчет по лабораторной работе № 7 по теме: \"Распознавание рукописных цифр\"\n",
    "    Цель: решение задачи классификации рукописных цифр с помощью многослойного перцептрона.\n",
    "    Исходные данные: DataSet MNIST, состоящий из 60000 черно-белых изображений с цифрами(от 0 до 9).\n",
    "        \n",
    "```python        \n",
    "fig = plt.figure(figsize=(15,4))\n",
    "\n",
    "for i in range(10):\n",
    "    num=i+1    \n",
    "    ax = fig.add_subplot(2,10,num)\n",
    "    ax.imshow(x_train[i], cmap=plt.get_cmap('gray'))\n",
    "    plt.xticks([])\n",
    "    plt.yticks([])\n",
    "\n",
    "plt.tight_layout()\n",
    "plt.show()\n",
    "```\n",
    "\n",
    "![Initial data](id2.jpg)\n",
    "\n",
    "### Преобразование данных\n",
    "```python  \n",
    "(x_train,y_train),(x_test,y_test)=mnist.load_data()\n",
    "```"
   ]
  },
  {
   "cell_type": "code",
   "execution_count": 163,
   "metadata": {},
   "outputs": [
    {
     "data": {
      "text/plain": [
       "(60000, 28, 28)"
      ]
     },
     "execution_count": 163,
     "metadata": {},
     "output_type": "execute_result"
    }
   ],
   "source": [
    "x_train.shape"
   ]
  },
  {
   "cell_type": "code",
   "execution_count": 162,
   "metadata": {},
   "outputs": [
    {
     "data": {
      "text/plain": [
       "(60000,)"
      ]
     },
     "execution_count": 162,
     "metadata": {},
     "output_type": "execute_result"
    }
   ],
   "source": [
    "y_train.shape"
   ]
  },
  {
   "cell_type": "markdown",
   "metadata": {},
   "source": [
    "\n",
    "```python\n",
    "x_train = x_train.reshape(x_train.shape[0],784)\n",
    "x_train = x_train.astype('float32')\n",
    "x_train /= 255.0\n",
    "y_train = utils.to_categorical(y_train, 10)\n",
    "\n",
    "x_test = x_test.reshape(x_test.shape[0],784)\n",
    "x_test = x_test.astype('float32')\n",
    "x_test /= 255.0\n",
    "y_test = utils.to_categorical(y_test, 10)\n",
    "```"
   ]
  },
  {
   "cell_type": "code",
   "execution_count": 165,
   "metadata": {},
   "outputs": [
    {
     "data": {
      "text/plain": [
       "(60000, 10)"
      ]
     },
     "execution_count": 165,
     "metadata": {},
     "output_type": "execute_result"
    }
   ],
   "source": [
    "y_train.shape"
   ]
  },
  {
   "cell_type": "code",
   "execution_count": 166,
   "metadata": {},
   "outputs": [
    {
     "data": {
      "text/plain": [
       "(60000, 784)"
      ]
     },
     "execution_count": 166,
     "metadata": {},
     "output_type": "execute_result"
    }
   ],
   "source": [
    "x_train.shape"
   ]
  },
  {
   "cell_type": "markdown",
   "metadata": {},
   "source": [
    "### Перцепрон\n",
    "```python\n",
    "model=models.Sequential()\n",
    "model.add(layers.Dense(784,input_shape=(784,),activation='relu'))\n",
    "model.add(layers.Dense(10,activation='softmax'))\n",
    "\n",
    "model.compile(loss='categorical_crossentropy', metrics=['accuracy'], optimizer='adam')\n",
    "```\n",
    "\n",
    "![Arch](model.jpg)\n",
    "\n",
    "### Обучение перцептрона\n",
    "\n",
    "![Arch](acc.jpg)\n",
    "![Arch](loss.jpg)\n",
    "\n",
    "### Тестирование модели\n",
    "\n",
    "```python\n",
    "fig = plt.figure(figsize=(15,4))\n",
    "\n",
    "for i in range(10):\n",
    "    num=i+1  \n",
    "    ax = fig.add_subplot(2,10,num)\n",
    "    ax.imshow(x_test[i], cmap=plt.get_cmap('gray'))\n",
    "    x1 = x_test[i].reshape(1,784)\n",
    "    \n",
    "    y1 = model.predict(x1)\n",
    "    yo = model.predict_classes(x1)\n",
    "    plt.xlabel(yo[0], fontsize = 28)\n",
    "    \n",
    "    plt.xticks([])\n",
    "    plt.yticks([])\n",
    "    \n",
    "plt.show()\n",
    "```\n",
    "\n",
    "![Arch](prd2.jpg)\n",
    "\n",
    "## Вывод:\n",
    "    Перцептрон показал высокую точность. Вряд ли можно улучшить результат.\n",
    "## Список литературы:\n",
    "* The Sequential model: [https://keras.io/guides/sequential_model/](https://keras.io/guides/sequential_model/)\n",
    "* Глубокое обучение для новичков: распознаем рукописные цифры: [https://habr.com/ru/company/wunderfund/blog/314242/](https://habr.com/ru/company/wunderfund/blog/314242/)"
   ]
  },
  {
   "cell_type": "code",
   "execution_count": 1,
   "metadata": {},
   "outputs": [
    {
     "name": "stdout",
     "output_type": "stream",
     "text": [
      "Sat Dec  4 17:11:17 2021       \n",
      "+-----------------------------------------------------------------------------+\n",
      "| NVIDIA-SMI 440.64.00    Driver Version: 440.64.00    CUDA Version: 10.2     |\n",
      "|-------------------------------+----------------------+----------------------+\n",
      "| GPU  Name        Persistence-M| Bus-Id        Disp.A | Volatile Uncorr. ECC |\n",
      "| Fan  Temp  Perf  Pwr:Usage/Cap|         Memory-Usage | GPU-Util  Compute M. |\n",
      "|===============================+======================+======================|\n",
      "|   0  Tesla V100-SXM2...  Off  | 00000000:1A:00.0 Off |                    0 |\n",
      "| N/A   44C    P0    91W / 300W |  32349MiB / 32510MiB |     30%      Default |\n",
      "+-------------------------------+----------------------+----------------------+\n",
      "|   1  Tesla V100-SXM2...  Off  | 00000000:1C:00.0 Off |                    0 |\n",
      "| N/A   35C    P0    57W / 300W |    464MiB / 32510MiB |      0%      Default |\n",
      "+-------------------------------+----------------------+----------------------+\n",
      "|   2  Tesla V100-SXM2...  Off  | 00000000:1D:00.0 Off |                    0 |\n",
      "| N/A   36C    P0    57W / 300W |    464MiB / 32510MiB |      0%      Default |\n",
      "+-------------------------------+----------------------+----------------------+\n",
      "|   3  Tesla V100-SXM2...  Off  | 00000000:1E:00.0 Off |                    0 |\n",
      "| N/A   38C    P0    54W / 300W |    465MiB / 32510MiB |      0%      Default |\n",
      "+-------------------------------+----------------------+----------------------+\n",
      "                                                                               \n",
      "+-----------------------------------------------------------------------------+\n",
      "| Processes:                                                       GPU Memory |\n",
      "|  GPU       PID   Type   Process name                             Usage      |\n",
      "|=============================================================================|\n",
      "|    0     14298      C   /opt/anaconda3/envs/myenv2/bin/python       1199MiB |\n",
      "|    0    255723      C   /opt/anaconda3/envs/myenv2/bin/python      31137MiB |\n",
      "|    1     14298      C   /opt/anaconda3/envs/myenv2/bin/python        453MiB |\n",
      "|    2     14298      C   /opt/anaconda3/envs/myenv2/bin/python        453MiB |\n",
      "|    3     14298      C   /opt/anaconda3/envs/myenv2/bin/python        453MiB |\n",
      "+-----------------------------------------------------------------------------+\n"
     ]
    }
   ],
   "source": [
    "!nvidia-smi"
   ]
  },
  {
   "cell_type": "code",
   "execution_count": 2,
   "metadata": {},
   "outputs": [],
   "source": [
    "#Резервирование видеокарты\n",
    "import os\n",
    "os.environ['CUDA_VISIBLE_DEVICES'] = '2' "
   ]
  },
  {
   "cell_type": "code",
   "execution_count": 161,
   "metadata": {},
   "outputs": [],
   "source": [
    "from tensorflow.keras import models\n",
    "from tensorflow.keras import layers\n",
    "from tensorflow.keras import utils\n",
    "from tensorflow.keras.utils import to_categorical\n",
    "from tensorflow.keras.utils import plot_model\n",
    "from tensorflow.keras.datasets import mnist\n",
    "import matplotlib.pyplot as plt\n",
    "from tensorflow.keras import utils\n",
    "import numpy as np\n",
    "import glob\n",
    "import random\n",
    "from PIL import Image\n",
    "\n",
    "(x_train,y_train),(x_test,y_test)=mnist.load_data()"
   ]
  },
  {
   "cell_type": "code",
   "execution_count": 148,
   "metadata": {},
   "outputs": [
    {
     "data": {
      "text/plain": [
       "<matplotlib.image.AxesImage at 0x7f385d7a7550>"
      ]
     },
     "execution_count": 148,
     "metadata": {},
     "output_type": "execute_result"
    },
    {
     "data": {
      "image/png": "[encoded data removed]",
      "text/plain": [
       "<Figure size 432x288 with 1 Axes>"
      ]
     },
     "metadata": {
      "needs_background": "light"
     },
     "output_type": "display_data"
    }
   ],
   "source": [
    "plt.imshow(x_train[0], cmap = 'binary', interpolation = 'nearest')"
   ]
  },
  {
   "cell_type": "code",
   "execution_count": 149,
   "metadata": {},
   "outputs": [
    {
     "data": {
      "image/png": "[encoded data removed]",
      "text/plain": [
       "<Figure size 1080x288 with 10 Axes>"
      ]
     },
     "metadata": {},
     "output_type": "display_data"
    }
   ],
   "source": [
    "fig = plt.figure(figsize=(15,4))\n",
    "\n",
    "for i in range(10):\n",
    "    num=i+1    \n",
    "    ax = fig.add_subplot(2,10,num)\n",
    "    ax.imshow(x_train[i], cmap=plt.get_cmap('gray'))\n",
    "    plt.xticks([])\n",
    "    plt.yticks([])\n",
    "\n",
    "plt.tight_layout()\n",
    "plt.show()"
   ]
  },
  {
   "cell_type": "markdown",
   "metadata": {},
   "source": [
    "##### Обучение нейросети на тренировочных данных из MNIST."
   ]
  },
  {
   "cell_type": "code",
   "execution_count": 164,
   "metadata": {},
   "outputs": [],
   "source": [
    "x_train = x_train.reshape(x_train.shape[0],784)\n",
    "x_train = x_train.astype('float32')\n",
    "x_train /= 255.0\n",
    "y_train = utils.to_categorical(y_train, 10)\n",
    "\n",
    "x_test = x_test.reshape(x_test.shape[0],784)\n",
    "x_test = x_test.astype('float32')\n",
    "x_test /= 255.0\n",
    "y_test = utils.to_categorical(y_test, 10)"
   ]
  },
  {
   "cell_type": "code",
   "execution_count": 131,
   "metadata": {},
   "outputs": [],
   "source": [
    "model=models.Sequential()\n",
    "model.add(layers.Dense(784,input_shape=(784,),activation='relu'))\n",
    "model.add(layers.Dense(10,activation='softmax'))\n",
    "\n",
    "model.compile(loss='categorical_crossentropy', metrics=['accuracy'], optimizer='adam')"
   ]
  },
  {
   "cell_type": "code",
   "execution_count": 132,
   "metadata": {},
   "outputs": [
    {
     "name": "stdout",
     "output_type": "stream",
     "text": [
      "Model: \"sequential_16\"\n",
      "_________________________________________________________________\n",
      "Layer (type)                 Output Shape              Param #   \n",
      "=================================================================\n",
      "dense_49 (Dense)             (None, 784)               615440    \n",
      "_________________________________________________________________\n",
      "dense_50 (Dense)             (None, 10)                7850      \n",
      "=================================================================\n",
      "Total params: 623,290\n",
      "Trainable params: 623,290\n",
      "Non-trainable params: 0\n",
      "_________________________________________________________________\n"
     ]
    }
   ],
   "source": [
    "# Арихитектура нейронной сети\n",
    "model.summary()"
   ]
  },
  {
   "cell_type": "code",
   "execution_count": 133,
   "metadata": {},
   "outputs": [
    {
     "data": {
      "image/png": "[encoded data removed]",
      "text/plain": [
       "<IPython.core.display.Image object>"
      ]
     },
     "execution_count": 133,
     "metadata": {},
     "output_type": "execute_result"
    }
   ],
   "source": [
    "from IPython.display import SVG\n",
    "from tensorflow.keras.utils import model_to_dot\n",
    "\n",
    "plot_model(model, show_shapes=True)\n",
    "\n",
    "#plot_model(model, 'multi_input_and_output_model.png', show_shapes=True)\n",
    "#plot_model(model, 'multi_input_and_output_model.png', show_shapes=True)"
   ]
  },
  {
   "cell_type": "code",
   "execution_count": 71,
   "metadata": {},
   "outputs": [
    {
     "name": "stdout",
     "output_type": "stream",
     "text": [
      "Epoch 1/30\n",
      "469/469 [==============================] - 1s 2ms/step - loss: 0.2470 - accuracy: 0.9295 - val_loss: 0.1212 - val_accuracy: 0.9636\n",
      "Epoch 2/30\n",
      "469/469 [==============================] - 1s 2ms/step - loss: 0.0960 - accuracy: 0.9716 - val_loss: 0.0815 - val_accuracy: 0.9757\n",
      "Epoch 3/30\n",
      "469/469 [==============================] - 1s 2ms/step - loss: 0.0609 - accuracy: 0.9816 - val_loss: 0.0736 - val_accuracy: 0.9761\n",
      "Epoch 4/30\n",
      "469/469 [==============================] - 1s 2ms/step - loss: 0.0419 - accuracy: 0.9877 - val_loss: 0.0648 - val_accuracy: 0.9786\n",
      "Epoch 5/30\n",
      "469/469 [==============================] - 1s 2ms/step - loss: 0.0304 - accuracy: 0.9913 - val_loss: 0.0793 - val_accuracy: 0.9745\n",
      "Epoch 6/30\n",
      "469/469 [==============================] - 1s 2ms/step - loss: 0.0229 - accuracy: 0.9934 - val_loss: 0.0624 - val_accuracy: 0.9814\n",
      "Epoch 7/30\n",
      "469/469 [==============================] - 1s 2ms/step - loss: 0.0164 - accuracy: 0.9953 - val_loss: 0.0624 - val_accuracy: 0.9808\n",
      "Epoch 8/30\n",
      "469/469 [==============================] - 1s 2ms/step - loss: 0.0126 - accuracy: 0.9966 - val_loss: 0.0632 - val_accuracy: 0.9819\n",
      "Epoch 9/30\n",
      "469/469 [==============================] - 1s 2ms/step - loss: 0.0089 - accuracy: 0.9980 - val_loss: 0.0639 - val_accuracy: 0.9825\n",
      "Epoch 10/30\n",
      "469/469 [==============================] - 1s 2ms/step - loss: 0.0071 - accuracy: 0.9984 - val_loss: 0.0643 - val_accuracy: 0.9806\n",
      "Epoch 11/30\n",
      "469/469 [==============================] - 1s 2ms/step - loss: 0.0076 - accuracy: 0.9979 - val_loss: 0.0738 - val_accuracy: 0.9790\n",
      "Epoch 12/30\n",
      "469/469 [==============================] - 1s 2ms/step - loss: 0.0102 - accuracy: 0.9970 - val_loss: 0.0727 - val_accuracy: 0.9807\n",
      "Epoch 13/30\n",
      "469/469 [==============================] - 1s 2ms/step - loss: 0.0070 - accuracy: 0.9979 - val_loss: 0.0706 - val_accuracy: 0.9804\n",
      "Epoch 14/30\n",
      "469/469 [==============================] - 1s 2ms/step - loss: 0.0037 - accuracy: 0.9992 - val_loss: 0.0724 - val_accuracy: 0.9815\n",
      "Epoch 15/30\n",
      "469/469 [==============================] - 1s 2ms/step - loss: 0.0063 - accuracy: 0.9981 - val_loss: 0.0794 - val_accuracy: 0.9808\n",
      "Epoch 16/30\n",
      "469/469 [==============================] - 1s 2ms/step - loss: 0.0027 - accuracy: 0.9994 - val_loss: 0.0687 - val_accuracy: 0.9832\n",
      "Epoch 17/30\n",
      "469/469 [==============================] - 1s 2ms/step - loss: 0.0011 - accuracy: 0.9998 - val_loss: 0.0682 - val_accuracy: 0.9838\n",
      "Epoch 18/30\n",
      "469/469 [==============================] - 1s 2ms/step - loss: 0.0114 - accuracy: 0.9966 - val_loss: 0.0826 - val_accuracy: 0.9809\n",
      "Epoch 19/30\n",
      "469/469 [==============================] - 1s 2ms/step - loss: 0.0046 - accuracy: 0.9988 - val_loss: 0.0707 - val_accuracy: 0.9825\n",
      "Epoch 20/30\n",
      "469/469 [==============================] - 1s 2ms/step - loss: 0.0015 - accuracy: 0.9997 - val_loss: 0.0693 - val_accuracy: 0.9844\n",
      "Epoch 21/30\n",
      "469/469 [==============================] - 1s 2ms/step - loss: 0.0014 - accuracy: 0.9996 - val_loss: 0.0918 - val_accuracy: 0.9802\n",
      "Epoch 22/30\n",
      "469/469 [==============================] - 1s 2ms/step - loss: 0.0063 - accuracy: 0.9983 - val_loss: 0.1008 - val_accuracy: 0.9789\n",
      "Epoch 23/30\n",
      "469/469 [==============================] - 1s 2ms/step - loss: 0.0085 - accuracy: 0.9974 - val_loss: 0.0855 - val_accuracy: 0.9804\n",
      "Epoch 24/30\n",
      "469/469 [==============================] - 1s 2ms/step - loss: 0.0031 - accuracy: 0.9991 - val_loss: 0.0830 - val_accuracy: 0.9816\n",
      "Epoch 25/30\n",
      "469/469 [==============================] - 1s 2ms/step - loss: 9.6573e-04 - accuracy: 0.9998 - val_loss: 0.0812 - val_accuracy: 0.9841\n",
      "Epoch 26/30\n",
      "469/469 [==============================] - 1s 2ms/step - loss: 4.6390e-04 - accuracy: 0.9999 - val_loss: 0.0815 - val_accuracy: 0.9830\n",
      "Epoch 27/30\n",
      "469/469 [==============================] - 1s 2ms/step - loss: 0.0011 - accuracy: 0.9997 - val_loss: 0.0838 - val_accuracy: 0.9844\n",
      "Epoch 28/30\n",
      "469/469 [==============================] - 1s 2ms/step - loss: 5.9818e-04 - accuracy: 0.9999 - val_loss: 0.0797 - val_accuracy: 0.9836\n",
      "Epoch 29/30\n",
      "469/469 [==============================] - 1s 2ms/step - loss: 1.1176e-04 - accuracy: 1.0000 - val_loss: 0.0790 - val_accuracy: 0.9843\n",
      "Epoch 30/30\n",
      "469/469 [==============================] - 1s 2ms/step - loss: 5.5008e-05 - accuracy: 1.0000 - val_loss: 0.0809 - val_accuracy: 0.9838\n"
     ]
    }
   ],
   "source": [
    "history = model.fit(x_train, y_train,batch_size=128, epochs=30,validation_data=(x_test, y_test))"
   ]
  },
  {
   "cell_type": "code",
   "execution_count": 120,
   "metadata": {},
   "outputs": [
    {
     "data": {
      "image/png": "[encoded data removed]",
      "text/plain": [
       "<Figure size 1080x288 with 10 Axes>"
      ]
     },
     "metadata": {},
     "output_type": "display_data"
    }
   ],
   "source": [
    "fig = plt.figure(figsize=(15,4))\n",
    "\n",
    "for i in range(10):\n",
    "    num=i+1  \n",
    "    ax = fig.add_subplot(2,10,num)\n",
    "    ax.imshow(x_test[i], cmap=plt.get_cmap('gray'))\n",
    "    x1 = x_test[i].reshape(1,28*28)\n",
    "    \n",
    "    y1 = model.predict(x1)\n",
    "    yo = model.predict_classes(x1)\n",
    "    plt.xlabel(yo[0], fontsize = 28)\n",
    "    \n",
    "    plt.xticks([])\n",
    "    plt.yticks([])\n",
    "    \n",
    "plt.show()"
   ]
  },
  {
   "cell_type": "code",
   "execution_count": 111,
   "metadata": {},
   "outputs": [
    {
     "name": "stdout",
     "output_type": "stream",
     "text": [
      "[7]\n",
      "[2]\n",
      "[1]\n",
      "[0]\n",
      "[4]\n",
      "[1]\n",
      "[4]\n",
      "[9]\n",
      "[5]\n",
      "[9]\n"
     ]
    }
   ],
   "source": [
    "for i in range(10):\n",
    "    x1 = x_test[i].reshape(1,28*28)\n",
    "    y1 = model.predict(x1)\n",
    "    yo = model.predict_classes(x1)\n",
    "    print(yo)"
   ]
  },
  {
   "cell_type": "markdown",
   "metadata": {},
   "source": [
    "##### Полученные графики точности и потерь."
   ]
  },
  {
   "cell_type": "code",
   "execution_count": 122,
   "metadata": {},
   "outputs": [
    {
     "name": "stdout",
     "output_type": "stream",
     "text": [
      "dict_keys(['loss', 'accuracy', 'val_loss', 'val_accuracy'])\n"
     ]
    },
    {
     "data": {
      "image/png": "[encoded data removed]",
      "text/plain": [
       "<Figure size 432x288 with 1 Axes>"
      ]
     },
     "metadata": {
      "needs_background": "light"
     },
     "output_type": "display_data"
    },
    {
     "data": {
      "image/png": "[encoded data removed]",
      "text/plain": [
       "<Figure size 432x288 with 1 Axes>"
      ]
     },
     "metadata": {
      "needs_background": "light"
     },
     "output_type": "display_data"
    }
   ],
   "source": [
    "print(history.history.keys())\n",
    "\n",
    "import matplotlib.pyplot as plt\n",
    "import numpy as np\n",
    "\n",
    "plt.plot(history.history['accuracy'])\n",
    "plt.plot(history.history['val_accuracy'])\n",
    "plt.title('Perceptron accuracy')\n",
    "plt.ylabel('accuracy')\n",
    "plt.xlabel('epoch')\n",
    "plt.legend(['train', 'test'], loc='upper left')\n",
    "plt.show()\n",
    "\n",
    "plt.plot(history.history['loss'])\n",
    "plt.plot(history.history['val_loss'])\n",
    "plt.title('Perceptron  loss')\n",
    "plt.ylabel('loss')\n",
    "plt.xlabel('epoch')\n",
    "plt.legend(['train', 'test'], loc='upper left')\n",
    "plt.show()"
   ]
  },
  {
   "cell_type": "code",
   "execution_count": 21,
   "metadata": {},
   "outputs": [
    {
     "name": "stdout",
     "output_type": "stream",
     "text": [
      "{'loss': [1.8262230157852173, 1.18706214427948, 0.8375415205955505, 0.6484990119934082, 0.5431463718414307, 0.47873562574386597, 0.42592206597328186, 0.3734135925769806, 0.3284459114074707, 0.2974799871444702, 0.2755543291568756, 0.25916793942451477, 0.2460382878780365, 0.23607981204986572, 0.22855067253112793, 0.22127778828144073, 0.2145891934633255, 0.20963363349437714, 0.20421816408634186, 0.19977006316184998, 0.1950213611125946, 0.19187726080417633, 0.1879294216632843, 0.1845497041940689, 0.18174606561660767, 0.17878925800323486, 0.1763472557067871, 0.17376264929771423, 0.1717027872800827, 0.16978834569454193], 'accuracy': [0.7390499711036682, 0.8292666673660278, 0.856333315372467, 0.8630666732788086, 0.8672333359718323, 0.8728333115577698, 0.895633339881897, 0.9235333204269409, 0.9299333095550537, 0.9342833161354065, 0.9369833469390869, 0.9390166401863098, 0.9410333037376404, 0.9426666498184204, 0.9444000124931335, 0.9465000033378601, 0.9478999972343445, 0.9485166668891907, 0.9488666653633118, 0.9506000280380249, 0.9516333341598511, 0.9520666599273682, 0.9527000188827515, 0.9535666704177856, 0.9539333581924438, 0.9551833271980286, 0.9556000232696533, 0.9556833505630493, 0.9559166431427002, 0.9564499855041504], 'val_loss': [1.4233838319778442, 0.9714239239692688, 0.7186543345451355, 0.5847985744476318, 0.5074740052223206, 0.4529889225959778, 0.4069260358810425, 0.35979264974594116, 0.3268902003765106, 0.3018867075443268, 0.28523144125938416, 0.2812168002128601, 0.2685028314590454, 0.2604299485683441, 0.25785428285598755, 0.2556600272655487, 0.2504335045814514, 0.24948513507843018, 0.2476203441619873, 0.24581457674503326, 0.24437634646892548, 0.2447865754365921, 0.24469028413295746, 0.2418765127658844, 0.23944972455501556, 0.237191841006279, 0.2350722700357437, 0.23095153272151947, 0.2327502965927124, 0.2309039980173111], 'val_accuracy': [0.8102999925613403, 0.854200005531311, 0.8603000044822693, 0.8636000156402588, 0.8682000041007996, 0.8755999803543091, 0.9132999777793884, 0.9229999780654907, 0.9246000051498413, 0.9284999966621399, 0.930400013923645, 0.9297000169754028, 0.9325000047683716, 0.9341999888420105, 0.933899998664856, 0.9348999857902527, 0.9369000196456909, 0.9355000257492065, 0.9359999895095825, 0.9380999803543091, 0.9366999864578247, 0.9369999766349792, 0.9359999895095825, 0.9365000128746033, 0.9369000196456909, 0.9373999834060669, 0.9390000104904175, 0.9397000074386597, 0.9404000043869019, 0.9391999840736389]}\n"
     ]
    }
   ],
   "source": [
    "print(history.history)"
   ]
  },
  {
   "cell_type": "code",
   "execution_count": 22,
   "metadata": {},
   "outputs": [
    {
     "name": "stdout",
     "output_type": "stream",
     "text": [
      "{'verbose': 1, 'epochs': 30, 'steps': 469}\n"
     ]
    }
   ],
   "source": [
    "print(history.params)"
   ]
  },
  {
   "cell_type": "code",
   "execution_count": null,
   "metadata": {},
   "outputs": [],
   "source": []
  }
 ],
 "metadata": {
  "kernelspec": {
   "display_name": "Python 3",
   "language": "python",
   "name": "python3"
  },
  "language_info": {
   "codemirror_mode": {
    "name": "ipython",
    "version": 3
   },
   "file_extension": ".py",
   "mimetype": "text/x-python",
   "name": "python",
   "nbconvert_exporter": "python",
   "pygments_lexer": "ipython3",
   "version": "3.8.8"
  },
  "toc": {
   "base_numbering": 1,
   "nav_menu": {},
   "number_sections": false,
   "sideBar": false,
   "skip_h1_title": false,
   "title_cell": "Table of Contents",
   "title_sidebar": "Contents",
   "toc_cell": false,
   "toc_position": {},
   "toc_section_display": false,
   "toc_window_display": false
  }
 },
 "nbformat": 4,
 "nbformat_minor": 4
}
