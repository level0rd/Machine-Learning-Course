{
  "nbformat": 4,
  "nbformat_minor": 0,
  "metadata": {
    "colab": {
      "provenance": []
    },
    "kernelspec": {
      "name": "python3",
      "display_name": "Python 3"
    },
    "language_info": {
      "name": "python"
    }
  },
  "cells": [
    {
      "cell_type": "markdown",
      "source": [
        "## 0. Перепишите этот код через map.\n"
      ],
      "metadata": {
        "id": "gFAZd-DqEuFb"
      }
    },
    {
      "cell_type": "code",
      "source": [
        "names = ['Маша', 'Ира', 'Илларион']\n",
        "\n",
        "for i in range(len(names)):\n",
        "  names[i] = hash(names[i])\n",
        "\n",
        "print(names)"
      ],
      "metadata": {
        "colab": {
          "base_uri": "https://localhost:8080/"
        },
        "id": "_3-uApXgE0iQ",
        "outputId": "58a49184-0e3b-4d08-e24a-ee1b971daeb9"
      },
      "execution_count": 11,
      "outputs": [
        {
          "output_type": "stream",
          "name": "stdout",
          "text": [
            "[-3325613471009075826, 7438922308344210745, -7659854484404466580]\n"
          ]
        }
      ]
    },
    {
      "cell_type": "code",
      "source": [
        "names = ['Маша', 'Ира', 'Илларион']\n",
        "\n",
        "names = list(map(lambda x: hash(x), names))\n",
        "\n",
        "print(names)"
      ],
      "metadata": {
        "colab": {
          "base_uri": "https://localhost:8080/"
        },
        "id": "bz1-TCUNFLAW",
        "outputId": "d7c27a15-c1e1-4721-a8b5-6597851506c5"
      },
      "execution_count": 12,
      "outputs": [
        {
          "output_type": "stream",
          "name": "stdout",
          "text": [
            "[-3325613471009075826, 7438922308344210745, -7659854484404466580]\n"
          ]
        }
      ]
    },
    {
      "cell_type": "markdown",
      "source": [
        "## 1. Напишите \"наивную\" рекуррентную функцию вычисления n-го числа Фибоначчи."
      ],
      "metadata": {
        "id": "oxrSWcpBFhJV"
      }
    },
    {
      "cell_type": "code",
      "source": [
        "%%time\n",
        "\n",
        "def fib(n):\n",
        "    if n <= 1:\n",
        "        return n\n",
        "    else:\n",
        "        return fib(n-1) + fib(n-2)\n",
        "fib(35)"
      ],
      "metadata": {
        "colab": {
          "base_uri": "https://localhost:8080/"
        },
        "id": "zZKM4KLDFmqS",
        "outputId": "976abf51-4d8f-407e-b853-f0fb6a2c9b14"
      },
      "execution_count": 69,
      "outputs": [
        {
          "output_type": "stream",
          "name": "stdout",
          "text": [
            "CPU times: user 3.23 s, sys: 9.95 ms, total: 3.24 s\n",
            "Wall time: 3.26 s\n"
          ]
        },
        {
          "output_type": "execute_result",
          "data": {
            "text/plain": [
              "9227465"
            ]
          },
          "metadata": {},
          "execution_count": 69
        }
      ]
    },
    {
      "cell_type": "code",
      "source": [
        "%%time\n",
        "import functools\n",
        "\n",
        "@functools.lru_cache()\n",
        "def fib(n): \n",
        "  if n <= 1:  # одно и то же условие проверяет и граничный, и рекурсивный случаи сразу\n",
        "    return n\n",
        "  return fib(n-1) + fib(n-2)\n",
        "\n",
        "fib(35)"
      ],
      "metadata": {
        "colab": {
          "base_uri": "https://localhost:8080/"
        },
        "id": "UF_LhvmiJhVY",
        "outputId": "47790ca6-ff14-4e56-be7f-e54d78e1723f"
      },
      "execution_count": 40,
      "outputs": [
        {
          "output_type": "stream",
          "name": "stdout",
          "text": [
            "CPU times: user 138 µs, sys: 0 ns, total: 138 µs\n",
            "Wall time: 146 µs\n"
          ]
        },
        {
          "output_type": "execute_result",
          "data": {
            "text/plain": [
              "9227465"
            ]
          },
          "metadata": {},
          "execution_count": 40
        }
      ]
    },
    {
      "cell_type": "markdown",
      "source": [
        "## 2. Напишите рекуррентную функцию вычисления списка чисел Фибоначчи (от 0-го до n-го) по данному n"
      ],
      "metadata": {
        "id": "-lJxhzu1K4Xe"
      }
    },
    {
      "cell_type": "code",
      "source": [
        "%%time\n",
        "\n",
        "def fib_list(n):\n",
        "    if n == 0:\n",
        "        return [0]\n",
        "    if n == 1:\n",
        "        return [0, 1]\n",
        "    result = fib_list(n - 1)\n",
        "    return fib_list(n - 1) + [result[-2] + result[-1]]\n",
        "    \n",
        "n = 25\n",
        "fib_list(n)"
      ],
      "metadata": {
        "colab": {
          "base_uri": "https://localhost:8080/"
        },
        "id": "EoXFPjLYO9bv",
        "outputId": "b107bdbb-52b8-4763-d0f0-b54994fbf4ab"
      },
      "execution_count": 60,
      "outputs": [
        {
          "output_type": "stream",
          "name": "stdout",
          "text": [
            "CPU times: user 7.82 s, sys: 28.9 ms, total: 7.85 s\n",
            "Wall time: 7.94 s\n"
          ]
        },
        {
          "output_type": "execute_result",
          "data": {
            "text/plain": [
              "[0,\n",
              " 1,\n",
              " 1,\n",
              " 2,\n",
              " 3,\n",
              " 5,\n",
              " 8,\n",
              " 13,\n",
              " 21,\n",
              " 34,\n",
              " 55,\n",
              " 89,\n",
              " 144,\n",
              " 233,\n",
              " 377,\n",
              " 610,\n",
              " 987,\n",
              " 1597,\n",
              " 2584,\n",
              " 4181,\n",
              " 6765,\n",
              " 10946,\n",
              " 17711,\n",
              " 28657,\n",
              " 46368,\n",
              " 75025]"
            ]
          },
          "metadata": {},
          "execution_count": 60
        }
      ]
    },
    {
      "cell_type": "code",
      "source": [
        "%%time\n",
        "\n",
        "@functools.lru_cache()\n",
        "def fib_list(n):\n",
        "    if n == 0:\n",
        "        return [0]\n",
        "    if n == 1:\n",
        "        return [0, 1]\n",
        "    result = fib_list(n - 1)\n",
        "    return fib_list(n - 1) + [result[-2] + result[-1]]\n",
        "\n",
        "fib_list(25)"
      ],
      "metadata": {
        "colab": {
          "base_uri": "https://localhost:8080/"
        },
        "id": "4BovAEQcVcmz",
        "outputId": "b22f9c8a-585b-4c7a-a39d-4f2d6b415266"
      },
      "execution_count": 62,
      "outputs": [
        {
          "output_type": "stream",
          "name": "stdout",
          "text": [
            "CPU times: user 118 µs, sys: 0 ns, total: 118 µs\n",
            "Wall time: 125 µs\n"
          ]
        },
        {
          "output_type": "execute_result",
          "data": {
            "text/plain": [
              "[0,\n",
              " 1,\n",
              " 1,\n",
              " 2,\n",
              " 3,\n",
              " 5,\n",
              " 8,\n",
              " 13,\n",
              " 21,\n",
              " 34,\n",
              " 55,\n",
              " 89,\n",
              " 144,\n",
              " 233,\n",
              " 377,\n",
              " 610,\n",
              " 987,\n",
              " 1597,\n",
              " 2584,\n",
              " 4181,\n",
              " 6765,\n",
              " 10946,\n",
              " 17711,\n",
              " 28657,\n",
              " 46368,\n",
              " 75025]"
            ]
          },
          "metadata": {},
          "execution_count": 62
        }
      ]
    },
    {
      "cell_type": "markdown",
      "source": [
        "## 3. Нарисуйте график роста времени работы этих функций по мере увеличения n."
      ],
      "metadata": {
        "id": "remW697WPVvj"
      }
    },
    {
      "cell_type": "code",
      "source": [
        "import timeit\n",
        "import matplotlib.pyplot as plt\n",
        "\n",
        "\n",
        "def fib(n):\n",
        "    if n <= 1:\n",
        "        return n\n",
        "    else:\n",
        "        return fib(n-1) + fib(n-2)\n",
        "\n",
        "def plot_fib_time():\n",
        "    times = []\n",
        "    for i in range(0, 25):\n",
        "        t = timeit.Timer(lambda: fib(i))\n",
        "        times.append(t.timeit(number=1000))\n",
        "    plt.plot(times)\n",
        "    plt.ylabel('Time (ms)')\n",
        "    plt.xlabel('n')\n",
        "    plt.title(\"Simple fib\")\n",
        "    plt.show()\n",
        "\n",
        "plot_fib_time()"
      ],
      "metadata": {
        "colab": {
          "base_uri": "https://localhost:8080/",
          "height": 472
        },
        "id": "87z0-zRkXw6H",
        "outputId": "a8d571b4-59d9-4c44-fa97-8afd8948cd3f"
      },
      "execution_count": 79,
      "outputs": [
        {
          "output_type": "display_data",
          "data": {
            "text/plain": [
              "<Figure size 640x480 with 1 Axes>"
            ],
            "image/png": "[encoded data removed]"
          },
          "metadata": {}
        }
      ]
    },
    {
      "cell_type": "code",
      "source": [
        "@functools.lru_cache()\n",
        "def fib(n): \n",
        "  if n <= 1:  # одно и то же условие проверяет и граничный, и рекурсивный случаи сразу\n",
        "    return n\n",
        "  return fib(n-1) + fib(n-2)\n",
        "\n",
        "def plot_fib_time():\n",
        "    times = []\n",
        "    for i in range(0, 25):\n",
        "        t = timeit.Timer(lambda: fib(i))\n",
        "        times.append(t.timeit(number=1000))\n",
        "    plt.plot(times)\n",
        "    plt.ylabel('Time (ms)')\n",
        "    plt.xlabel('n')\n",
        "    plt.title(\"Memoization fib\")\n",
        "    plt.show()\n",
        "\n",
        "plot_fib_time()"
      ],
      "metadata": {
        "colab": {
          "base_uri": "https://localhost:8080/",
          "height": 472
        },
        "id": "SFCh__1Bbln4",
        "outputId": "fac8cc79-bf98-42fb-b027-91b2961fe2e9"
      },
      "execution_count": 78,
      "outputs": [
        {
          "output_type": "display_data",
          "data": {
            "text/plain": [
              "<Figure size 640x480 with 1 Axes>"
            ],
            "image/png": "[encoded data removed]"
          },
          "metadata": {}
        }
      ]
    },
    {
      "cell_type": "code",
      "source": [
        "def fib_list(n):\n",
        "    if n == 0:\n",
        "        return [0]\n",
        "    if n == 1:\n",
        "        return [0, 1]\n",
        "    result = fib_list(n - 1)\n",
        "    return fib_list(n - 1) + [result[-2] + result[-1]]\n",
        "\n",
        "def plot_fib_time():\n",
        "    times = []\n",
        "    for i in range(0, 15):\n",
        "        t = timeit.Timer(lambda: fib_list(i))\n",
        "        times.append(t.timeit(number=1000))\n",
        "    plt.plot(times)\n",
        "    plt.ylabel('Time (ms)')\n",
        "    plt.xlabel('n')\n",
        "    plt.title(\"Simple fib_list\")\n",
        "    plt.show()\n",
        "\n",
        "plot_fib_time()"
      ],
      "metadata": {
        "colab": {
          "base_uri": "https://localhost:8080/",
          "height": 472
        },
        "id": "qJhPSJNhZprw",
        "outputId": "586cb85e-40ad-4d6c-f716-e9fcb8760a54"
      },
      "execution_count": 77,
      "outputs": [
        {
          "output_type": "display_data",
          "data": {
            "text/plain": [
              "<Figure size 640x480 with 1 Axes>"
            ],
            "image/png": "[encoded data removed]"
          },
          "metadata": {}
        }
      ]
    },
    {
      "cell_type": "code",
      "source": [
        "@functools.lru_cache()\n",
        "def fib_list(n):\n",
        "    if n == 0:\n",
        "        return [0]\n",
        "    if n == 1:\n",
        "        return [0, 1]\n",
        "    result = fib_list(n - 1)\n",
        "    return fib_list(n - 1) + [result[-2] + result[-1]]\n",
        "\n",
        "def plot_fib_time():\n",
        "    times = []\n",
        "    for i in range(0, 15):\n",
        "        t = timeit.Timer(lambda: fib_list(i))\n",
        "        times.append(t.timeit(number=1000))\n",
        "    plt.plot(times)\n",
        "    plt.ylabel('Time (ms)')\n",
        "    plt.xlabel('n')\n",
        "    plt.title(\"Memoization fib_list\")\n",
        "    plt.show()\n",
        "\n",
        "plot_fib_time()"
      ],
      "metadata": {
        "colab": {
          "base_uri": "https://localhost:8080/",
          "height": 472
        },
        "id": "LRCv6S3ocQT8",
        "outputId": "e60314cf-1329-42ac-f59f-254c569fab59"
      },
      "execution_count": 75,
      "outputs": [
        {
          "output_type": "display_data",
          "data": {
            "text/plain": [
              "<Figure size 640x480 with 1 Axes>"
            ],
            "image/png": "[encoded data removed]"
          },
          "metadata": {}
        }
      ]
    },
    {
      "cell_type": "markdown",
      "source": [
        "## 4.Напишите декоратор: функцию высшего порядка my_timeit(func), результат которой - функция подсчёта времени работы func для разных входных значений, и который можно применить к plot_discrete"
      ],
      "metadata": {
        "id": "IQogNCg1dX1y"
      }
    },
    {
      "cell_type": "code",
      "source": [
        "import time\n",
        "\n",
        "def my_timeit(func):\n",
        "    def wrapper(*args, **kwargs):\n",
        "        start = time.time()\n",
        "        result = func(*args, **kwargs)\n",
        "        end = time.time()\n",
        "        print(f\"Время выполнения функции {func.__name__}: {end - start} секунд\")\n",
        "        return result\n",
        "    return wrapper\n",
        "\n",
        "@my_timeit\n",
        "def plot_discrete(n):\n",
        "  time.sleep(n)\n",
        "  return 0\n",
        "\n",
        "plot_discrete(5)"
      ],
      "metadata": {
        "colab": {
          "base_uri": "https://localhost:8080/"
        },
        "id": "DQda4mgLdbqU",
        "outputId": "d851e205-828c-469e-d68f-0dafb119cd58"
      },
      "execution_count": 95,
      "outputs": [
        {
          "output_type": "stream",
          "name": "stdout",
          "text": [
            "Время выполнения функции plot_discrete: 5.005102634429932 секунд\n"
          ]
        },
        {
          "output_type": "execute_result",
          "data": {
            "text/plain": [
              "0"
            ]
          },
          "metadata": {},
          "execution_count": 95
        }
      ]
    },
    {
      "cell_type": "markdown",
      "source": [
        "## 5. Перепишите код, используя map:"
      ],
      "metadata": {
        "id": "c2mh6nC-QLDD"
      }
    },
    {
      "cell_type": "code",
      "source": [
        "persons = ['alfred', 'tabitha', 'william', 'arla']\n",
        "uppered_persons = []\n",
        "for person in persons:\n",
        " persons_ = person.upper()\n",
        " uppered_persons.append(persons_)    \n",
        "print(uppered_persons)"
      ],
      "metadata": {
        "colab": {
          "base_uri": "https://localhost:8080/"
        },
        "id": "k_NBQiEZQPB-",
        "outputId": "c27055a6-8e19-4964-d58f-074d04eb7308"
      },
      "execution_count": 91,
      "outputs": [
        {
          "output_type": "stream",
          "name": "stdout",
          "text": [
            "['ALFRED', 'TABITHA', 'WILLIAM', 'ARLA']\n"
          ]
        }
      ]
    },
    {
      "cell_type": "code",
      "source": [
        "persons = ['alfred', 'tabitha', 'william', 'arla']\n",
        "\n",
        "uppered_persons = list(map(lambda x: x.upper(), persons))\n",
        "\n",
        "list(uppered_persons)"
      ],
      "metadata": {
        "colab": {
          "base_uri": "https://localhost:8080/"
        },
        "id": "_EfoN653QQnb",
        "outputId": "6ae8e137-9f21-4549-b14a-4a067f64ea10"
      },
      "execution_count": 92,
      "outputs": [
        {
          "output_type": "execute_result",
          "data": {
            "text/plain": [
              "['ALFRED', 'TABITHA', 'WILLIAM', 'ARLA']"
            ]
          },
          "metadata": {},
          "execution_count": 92
        }
      ]
    },
    {
      "cell_type": "markdown",
      "source": [
        "## 6.Выведите все элементы, которые меньше 5, используя filter (filter принимает функцию и коллекцию, возвращает коллекцию элементов, для которых функция возвращает True)."
      ],
      "metadata": {
        "id": "RPN9JU2JgrnZ"
      }
    },
    {
      "cell_type": "code",
      "source": [
        "a = [1, 1, 2, 3, 5, 8, 13, 21, 34, 55, 89]\n",
        "\n",
        "result = filter(lambda x: x < 5, a)\n",
        "\n",
        "list(result)"
      ],
      "metadata": {
        "colab": {
          "base_uri": "https://localhost:8080/"
        },
        "id": "P8fNxxA9g9m3",
        "outputId": "186942c1-b382-4a45-9312-34422e4e847d"
      },
      "execution_count": 89,
      "outputs": [
        {
          "output_type": "execute_result",
          "data": {
            "text/plain": [
              "[1, 1, 2, 3]"
            ]
          },
          "metadata": {},
          "execution_count": 89
        }
      ]
    },
    {
      "cell_type": "markdown",
      "source": [
        "## 7.map + filter + reduce:\n",
        "С помощью анонимной функции извлеките из рандомного списка числа, делимые на 15, и сложите их."
      ],
      "metadata": {
        "id": "bfr1_oeGhIGx"
      }
    },
    {
      "cell_type": "code",
      "source": [
        "import random\n",
        "from functools import reduce\n",
        "\n",
        "random_list = [random.randint(1, 250) for _ in range(20)]\n",
        "\n",
        "result = reduce(lambda x, y: x + y, list(filter(lambda x: x % 15 == 0, map(lambda x: x * 2, random_list))))\n",
        "\n",
        "print(random_list)\n",
        "print(list(filter(lambda x: x % 15 == 0, map(lambda x: x * 2, random_list))))\n",
        "result"
      ],
      "metadata": {
        "colab": {
          "base_uri": "https://localhost:8080/"
        },
        "id": "vBlg4g0LhQNH",
        "outputId": "d3f2d76b-6fae-4378-e45a-ec8d7ddacb06"
      },
      "execution_count": 135,
      "outputs": [
        {
          "output_type": "stream",
          "name": "stdout",
          "text": [
            "[88, 82, 99, 214, 119, 89, 82, 26, 52, 240, 186, 45, 150, 204, 54, 136, 228, 148, 61, 157]\n",
            "[480, 90, 300]\n"
          ]
        },
        {
          "output_type": "execute_result",
          "data": {
            "text/plain": [
              "870"
            ]
          },
          "metadata": {},
          "execution_count": 135
        }
      ]
    }
  ]
}